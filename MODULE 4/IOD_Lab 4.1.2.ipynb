{
 "cells": [
  {
   "cell_type": "markdown",
   "metadata": {
    "colab_type": "text",
    "id": "fpsJ8d42XWua"
   },
   "source": [
    "<div>\n",
    "<img src=https://www.institutedata.com/wp-content/uploads/2019/10/iod_h_tp_primary_c.svg width=\"300\">\n",
    "</div>"
   ]
  },
  {
   "cell_type": "markdown",
   "metadata": {
    "colab_type": "text",
    "id": "CSHa05-1XWub"
   },
   "source": [
    "# Lab 4.1.2 Linear Regression"
   ]
  },
  {
   "cell_type": "markdown",
   "metadata": {
    "colab_type": "text",
    "id": "lZ0RQEDgXWuc"
   },
   "source": [
    "## Prediction of House Price Using Linear Regression"
   ]
  },
  {
   "cell_type": "markdown",
   "metadata": {
    "colab_type": "text",
    "id": "96_GqGXCXWud"
   },
   "source": [
    "### Data\n",
    "\n",
    "The Sacramento real estate transactions file is a list of 985 real estate transactions in the Sacramento area reported over a five-day period, as reported by the Sacramento Bee."
   ]
  },
  {
   "cell_type": "code",
   "execution_count": 21,
   "metadata": {
    "colab": {},
    "colab_type": "code",
    "id": "l1leeqkAXWug"
   },
   "outputs": [],
   "source": [
    "import pandas as pd\n",
    "import numpy as np\n",
    "import pandas as pd\n",
    "import matplotlib\n",
    "import matplotlib.pyplot as plt\n",
    "import matplotlib.pylab as pylab\n",
    "import seaborn as sns\n",
    "\n",
    "%matplotlib inline"
   ]
  },
  {
   "cell_type": "markdown",
   "metadata": {
    "colab_type": "text",
    "id": "S0zFU75NXWuj"
   },
   "source": [
    "### 1. Explore Data"
   ]
  },
  {
   "cell_type": "markdown",
   "metadata": {
    "colab_type": "text",
    "id": "kaShnXBCXWuk"
   },
   "source": [
    "Perform EDA on this dataset. Find Dependent and Independent Variables to predict house price."
   ]
  },
  {
   "cell_type": "code",
   "execution_count": 6,
   "metadata": {},
   "outputs": [],
   "source": [
    "# Read CSV\n",
    "house_csv = \"Sacramento_realestate_transactions.csv\"\n",
    "house = pd.read_csv(\"C:/Users/Monica/Desktop/IoD-Folders/MODULE 4/Labs/Sacramento_realestate_transactions.csv\")"
   ]
  },
  {
   "cell_type": "code",
   "execution_count": 52,
   "metadata": {
    "colab": {},
    "colab_type": "code",
    "id": "-OVOh_n0X2NR",
    "outputId": "8c1f72fc-6e62-495a-8383-8453ff8bd0f4"
   },
   "outputs": [
    {
     "data": {
      "text/plain": [
       "(985, 12)"
      ]
     },
     "execution_count": 52,
     "metadata": {},
     "output_type": "execute_result"
    }
   ],
   "source": [
    "house.shape"
   ]
  },
  {
   "cell_type": "code",
   "execution_count": 53,
   "metadata": {},
   "outputs": [
    {
     "data": {
      "text/html": [
       "<div>\n",
       "<style scoped>\n",
       "    .dataframe tbody tr th:only-of-type {\n",
       "        vertical-align: middle;\n",
       "    }\n",
       "\n",
       "    .dataframe tbody tr th {\n",
       "        vertical-align: top;\n",
       "    }\n",
       "\n",
       "    .dataframe thead th {\n",
       "        text-align: right;\n",
       "    }\n",
       "</style>\n",
       "<table border=\"1\" class=\"dataframe\">\n",
       "  <thead>\n",
       "    <tr style=\"text-align: right;\">\n",
       "      <th></th>\n",
       "      <th>street</th>\n",
       "      <th>city</th>\n",
       "      <th>zip</th>\n",
       "      <th>state</th>\n",
       "      <th>beds</th>\n",
       "      <th>baths</th>\n",
       "      <th>sq__ft</th>\n",
       "      <th>type</th>\n",
       "      <th>sale_date</th>\n",
       "      <th>price</th>\n",
       "      <th>latitude</th>\n",
       "      <th>longitude</th>\n",
       "    </tr>\n",
       "  </thead>\n",
       "  <tbody>\n",
       "    <tr>\n",
       "      <th>0</th>\n",
       "      <td>3526 HIGH ST</td>\n",
       "      <td>SACRAMENTO</td>\n",
       "      <td>95838</td>\n",
       "      <td>CA</td>\n",
       "      <td>2</td>\n",
       "      <td>1</td>\n",
       "      <td>836</td>\n",
       "      <td>Residential</td>\n",
       "      <td>Wed May 21 00:00:00 EDT 2008</td>\n",
       "      <td>59222</td>\n",
       "      <td>38.631913</td>\n",
       "      <td>-121.434879</td>\n",
       "    </tr>\n",
       "    <tr>\n",
       "      <th>1</th>\n",
       "      <td>51 OMAHA CT</td>\n",
       "      <td>SACRAMENTO</td>\n",
       "      <td>95823</td>\n",
       "      <td>CA</td>\n",
       "      <td>3</td>\n",
       "      <td>1</td>\n",
       "      <td>1167</td>\n",
       "      <td>Residential</td>\n",
       "      <td>Wed May 21 00:00:00 EDT 2008</td>\n",
       "      <td>68212</td>\n",
       "      <td>38.478902</td>\n",
       "      <td>-121.431028</td>\n",
       "    </tr>\n",
       "    <tr>\n",
       "      <th>2</th>\n",
       "      <td>2796 BRANCH ST</td>\n",
       "      <td>SACRAMENTO</td>\n",
       "      <td>95815</td>\n",
       "      <td>CA</td>\n",
       "      <td>2</td>\n",
       "      <td>1</td>\n",
       "      <td>796</td>\n",
       "      <td>Residential</td>\n",
       "      <td>Wed May 21 00:00:00 EDT 2008</td>\n",
       "      <td>68880</td>\n",
       "      <td>38.618305</td>\n",
       "      <td>-121.443839</td>\n",
       "    </tr>\n",
       "    <tr>\n",
       "      <th>3</th>\n",
       "      <td>2805 JANETTE WAY</td>\n",
       "      <td>SACRAMENTO</td>\n",
       "      <td>95815</td>\n",
       "      <td>CA</td>\n",
       "      <td>2</td>\n",
       "      <td>1</td>\n",
       "      <td>852</td>\n",
       "      <td>Residential</td>\n",
       "      <td>Wed May 21 00:00:00 EDT 2008</td>\n",
       "      <td>69307</td>\n",
       "      <td>38.616835</td>\n",
       "      <td>-121.439146</td>\n",
       "    </tr>\n",
       "    <tr>\n",
       "      <th>4</th>\n",
       "      <td>6001 MCMAHON DR</td>\n",
       "      <td>SACRAMENTO</td>\n",
       "      <td>95824</td>\n",
       "      <td>CA</td>\n",
       "      <td>2</td>\n",
       "      <td>1</td>\n",
       "      <td>797</td>\n",
       "      <td>Residential</td>\n",
       "      <td>Wed May 21 00:00:00 EDT 2008</td>\n",
       "      <td>81900</td>\n",
       "      <td>38.519470</td>\n",
       "      <td>-121.435768</td>\n",
       "    </tr>\n",
       "  </tbody>\n",
       "</table>\n",
       "</div>"
      ],
      "text/plain": [
       "             street        city    zip state  beds  baths  sq__ft  \\\n",
       "0      3526 HIGH ST  SACRAMENTO  95838    CA     2      1     836   \n",
       "1       51 OMAHA CT  SACRAMENTO  95823    CA     3      1    1167   \n",
       "2    2796 BRANCH ST  SACRAMENTO  95815    CA     2      1     796   \n",
       "3  2805 JANETTE WAY  SACRAMENTO  95815    CA     2      1     852   \n",
       "4   6001 MCMAHON DR  SACRAMENTO  95824    CA     2      1     797   \n",
       "\n",
       "          type                     sale_date  price   latitude   longitude  \n",
       "0  Residential  Wed May 21 00:00:00 EDT 2008  59222  38.631913 -121.434879  \n",
       "1  Residential  Wed May 21 00:00:00 EDT 2008  68212  38.478902 -121.431028  \n",
       "2  Residential  Wed May 21 00:00:00 EDT 2008  68880  38.618305 -121.443839  \n",
       "3  Residential  Wed May 21 00:00:00 EDT 2008  69307  38.616835 -121.439146  \n",
       "4  Residential  Wed May 21 00:00:00 EDT 2008  81900  38.519470 -121.435768  "
      ]
     },
     "execution_count": 53,
     "metadata": {},
     "output_type": "execute_result"
    }
   ],
   "source": [
    "house.head()"
   ]
  },
  {
   "cell_type": "code",
   "execution_count": 54,
   "metadata": {
    "colab": {},
    "colab_type": "code",
    "id": "DGDkSkrJX2Nb",
    "outputId": "363fada9-705d-4d76-c16c-a2ac1bdad5a4"
   },
   "outputs": [
    {
     "data": {
      "text/html": [
       "<div>\n",
       "<style scoped>\n",
       "    .dataframe tbody tr th:only-of-type {\n",
       "        vertical-align: middle;\n",
       "    }\n",
       "\n",
       "    .dataframe tbody tr th {\n",
       "        vertical-align: top;\n",
       "    }\n",
       "\n",
       "    .dataframe thead th {\n",
       "        text-align: right;\n",
       "    }\n",
       "</style>\n",
       "<table border=\"1\" class=\"dataframe\">\n",
       "  <thead>\n",
       "    <tr style=\"text-align: right;\">\n",
       "      <th></th>\n",
       "      <th>street</th>\n",
       "      <th>city</th>\n",
       "      <th>zip</th>\n",
       "      <th>state</th>\n",
       "      <th>beds</th>\n",
       "      <th>baths</th>\n",
       "      <th>sq__ft</th>\n",
       "      <th>type</th>\n",
       "      <th>sale_date</th>\n",
       "      <th>price</th>\n",
       "      <th>latitude</th>\n",
       "      <th>longitude</th>\n",
       "    </tr>\n",
       "  </thead>\n",
       "  <tbody>\n",
       "    <tr>\n",
       "      <th>980</th>\n",
       "      <td>9169 GARLINGTON CT</td>\n",
       "      <td>SACRAMENTO</td>\n",
       "      <td>95829</td>\n",
       "      <td>CA</td>\n",
       "      <td>4</td>\n",
       "      <td>3</td>\n",
       "      <td>2280</td>\n",
       "      <td>Residential</td>\n",
       "      <td>Thu May 15 00:00:00 EDT 2008</td>\n",
       "      <td>232425</td>\n",
       "      <td>38.457679</td>\n",
       "      <td>-121.359620</td>\n",
       "    </tr>\n",
       "    <tr>\n",
       "      <th>981</th>\n",
       "      <td>6932 RUSKUT WAY</td>\n",
       "      <td>SACRAMENTO</td>\n",
       "      <td>95823</td>\n",
       "      <td>CA</td>\n",
       "      <td>3</td>\n",
       "      <td>2</td>\n",
       "      <td>1477</td>\n",
       "      <td>Residential</td>\n",
       "      <td>Thu May 15 00:00:00 EDT 2008</td>\n",
       "      <td>234000</td>\n",
       "      <td>38.499893</td>\n",
       "      <td>-121.458890</td>\n",
       "    </tr>\n",
       "    <tr>\n",
       "      <th>982</th>\n",
       "      <td>7933 DAFFODIL WAY</td>\n",
       "      <td>CITRUS HEIGHTS</td>\n",
       "      <td>95610</td>\n",
       "      <td>CA</td>\n",
       "      <td>3</td>\n",
       "      <td>2</td>\n",
       "      <td>1216</td>\n",
       "      <td>Residential</td>\n",
       "      <td>Thu May 15 00:00:00 EDT 2008</td>\n",
       "      <td>235000</td>\n",
       "      <td>38.708824</td>\n",
       "      <td>-121.256803</td>\n",
       "    </tr>\n",
       "    <tr>\n",
       "      <th>983</th>\n",
       "      <td>8304 RED FOX WAY</td>\n",
       "      <td>ELK GROVE</td>\n",
       "      <td>95758</td>\n",
       "      <td>CA</td>\n",
       "      <td>4</td>\n",
       "      <td>2</td>\n",
       "      <td>1685</td>\n",
       "      <td>Residential</td>\n",
       "      <td>Thu May 15 00:00:00 EDT 2008</td>\n",
       "      <td>235301</td>\n",
       "      <td>38.417000</td>\n",
       "      <td>-121.397424</td>\n",
       "    </tr>\n",
       "    <tr>\n",
       "      <th>984</th>\n",
       "      <td>3882 YELLOWSTONE LN</td>\n",
       "      <td>EL DORADO HILLS</td>\n",
       "      <td>95762</td>\n",
       "      <td>CA</td>\n",
       "      <td>3</td>\n",
       "      <td>2</td>\n",
       "      <td>1362</td>\n",
       "      <td>Residential</td>\n",
       "      <td>Thu May 15 00:00:00 EDT 2008</td>\n",
       "      <td>235738</td>\n",
       "      <td>38.655245</td>\n",
       "      <td>-121.075915</td>\n",
       "    </tr>\n",
       "  </tbody>\n",
       "</table>\n",
       "</div>"
      ],
      "text/plain": [
       "                  street             city    zip state  beds  baths  sq__ft  \\\n",
       "980   9169 GARLINGTON CT       SACRAMENTO  95829    CA     4      3    2280   \n",
       "981      6932 RUSKUT WAY       SACRAMENTO  95823    CA     3      2    1477   \n",
       "982    7933 DAFFODIL WAY   CITRUS HEIGHTS  95610    CA     3      2    1216   \n",
       "983     8304 RED FOX WAY        ELK GROVE  95758    CA     4      2    1685   \n",
       "984  3882 YELLOWSTONE LN  EL DORADO HILLS  95762    CA     3      2    1362   \n",
       "\n",
       "            type                     sale_date   price   latitude   longitude  \n",
       "980  Residential  Thu May 15 00:00:00 EDT 2008  232425  38.457679 -121.359620  \n",
       "981  Residential  Thu May 15 00:00:00 EDT 2008  234000  38.499893 -121.458890  \n",
       "982  Residential  Thu May 15 00:00:00 EDT 2008  235000  38.708824 -121.256803  \n",
       "983  Residential  Thu May 15 00:00:00 EDT 2008  235301  38.417000 -121.397424  \n",
       "984  Residential  Thu May 15 00:00:00 EDT 2008  235738  38.655245 -121.075915  "
      ]
     },
     "execution_count": 54,
     "metadata": {},
     "output_type": "execute_result"
    }
   ],
   "source": [
    "# Tail\n",
    "house.tail()"
   ]
  },
  {
   "cell_type": "code",
   "execution_count": 55,
   "metadata": {
    "colab": {},
    "colab_type": "code",
    "id": "yHwNbusCX2Nh",
    "outputId": "01fb4440-3349-4284-afdf-418f06b39faf",
    "scrolled": true
   },
   "outputs": [
    {
     "data": {
      "text/plain": [
       "street       0\n",
       "city         0\n",
       "zip          0\n",
       "state        0\n",
       "beds         0\n",
       "baths        0\n",
       "sq__ft       0\n",
       "type         0\n",
       "sale_date    0\n",
       "price        0\n",
       "latitude     0\n",
       "longitude    0\n",
       "dtype: int64"
      ]
     },
     "execution_count": 55,
     "metadata": {},
     "output_type": "execute_result"
    }
   ],
   "source": [
    "# Check Null Values\n",
    "house.isnull().sum()"
   ]
  },
  {
   "cell_type": "code",
   "execution_count": 56,
   "metadata": {},
   "outputs": [
    {
     "data": {
      "text/plain": [
       "street        object\n",
       "city          object\n",
       "zip            int64\n",
       "state         object\n",
       "beds           int64\n",
       "baths          int64\n",
       "sq__ft         int64\n",
       "type          object\n",
       "sale_date     object\n",
       "price          int64\n",
       "latitude     float64\n",
       "longitude    float64\n",
       "dtype: object"
      ]
     },
     "execution_count": 56,
     "metadata": {},
     "output_type": "execute_result"
    }
   ],
   "source": [
    "house.dtypes"
   ]
  },
  {
   "cell_type": "code",
   "execution_count": 57,
   "metadata": {},
   "outputs": [
    {
     "data": {
      "text/plain": [
       "RangeIndex(start=0, stop=985, step=1)"
      ]
     },
     "execution_count": 57,
     "metadata": {},
     "output_type": "execute_result"
    }
   ],
   "source": [
    "# To know is there is a (row) index for this DataFrame using .index\n",
    "house.index"
   ]
  },
  {
   "cell_type": "code",
   "execution_count": 58,
   "metadata": {},
   "outputs": [
    {
     "name": "stdout",
     "output_type": "stream",
     "text": [
      "<class 'pandas.core.frame.DataFrame'>\n",
      "RangeIndex: 985 entries, 0 to 984\n",
      "Data columns (total 12 columns):\n",
      " #   Column     Non-Null Count  Dtype  \n",
      "---  ------     --------------  -----  \n",
      " 0   street     985 non-null    object \n",
      " 1   city       985 non-null    object \n",
      " 2   zip        985 non-null    int64  \n",
      " 3   state      985 non-null    object \n",
      " 4   beds       985 non-null    int64  \n",
      " 5   baths      985 non-null    int64  \n",
      " 6   sq__ft     985 non-null    int64  \n",
      " 7   type       985 non-null    object \n",
      " 8   sale_date  985 non-null    object \n",
      " 9   price      985 non-null    int64  \n",
      " 10  latitude   985 non-null    float64\n",
      " 11  longitude  985 non-null    float64\n",
      "dtypes: float64(2), int64(5), object(5)\n",
      "memory usage: 92.5+ KB\n"
     ]
    }
   ],
   "source": [
    "# To get a concise summary and quick overview of the dataframe before doing EDA using info() function\n",
    "house.info()"
   ]
  },
  {
   "cell_type": "code",
   "execution_count": 32,
   "metadata": {},
   "outputs": [],
   "source": [
    "# Zip is categorical value, should be string\n",
    "house['zip'] = house['zip'].astype(str)"
   ]
  },
  {
   "cell_type": "code",
   "execution_count": 59,
   "metadata": {},
   "outputs": [
    {
     "data": {
      "text/html": [
       "<div>\n",
       "<style scoped>\n",
       "    .dataframe tbody tr th:only-of-type {\n",
       "        vertical-align: middle;\n",
       "    }\n",
       "\n",
       "    .dataframe tbody tr th {\n",
       "        vertical-align: top;\n",
       "    }\n",
       "\n",
       "    .dataframe thead th {\n",
       "        text-align: right;\n",
       "    }\n",
       "</style>\n",
       "<table border=\"1\" class=\"dataframe\">\n",
       "  <thead>\n",
       "    <tr style=\"text-align: right;\">\n",
       "      <th></th>\n",
       "      <th>count</th>\n",
       "      <th>mean</th>\n",
       "      <th>std</th>\n",
       "      <th>min</th>\n",
       "      <th>25%</th>\n",
       "      <th>50%</th>\n",
       "      <th>75%</th>\n",
       "      <th>max</th>\n",
       "    </tr>\n",
       "  </thead>\n",
       "  <tbody>\n",
       "    <tr>\n",
       "      <th>zip</th>\n",
       "      <td>985.0</td>\n",
       "      <td>95750.697462</td>\n",
       "      <td>85.176072</td>\n",
       "      <td>95603.000000</td>\n",
       "      <td>95660.000000</td>\n",
       "      <td>95762.000000</td>\n",
       "      <td>95828.000000</td>\n",
       "      <td>95864.000000</td>\n",
       "    </tr>\n",
       "    <tr>\n",
       "      <th>beds</th>\n",
       "      <td>985.0</td>\n",
       "      <td>2.911675</td>\n",
       "      <td>1.307932</td>\n",
       "      <td>0.000000</td>\n",
       "      <td>2.000000</td>\n",
       "      <td>3.000000</td>\n",
       "      <td>4.000000</td>\n",
       "      <td>8.000000</td>\n",
       "    </tr>\n",
       "    <tr>\n",
       "      <th>baths</th>\n",
       "      <td>985.0</td>\n",
       "      <td>1.776650</td>\n",
       "      <td>0.895371</td>\n",
       "      <td>0.000000</td>\n",
       "      <td>1.000000</td>\n",
       "      <td>2.000000</td>\n",
       "      <td>2.000000</td>\n",
       "      <td>5.000000</td>\n",
       "    </tr>\n",
       "    <tr>\n",
       "      <th>sq__ft</th>\n",
       "      <td>985.0</td>\n",
       "      <td>1314.916751</td>\n",
       "      <td>853.048243</td>\n",
       "      <td>0.000000</td>\n",
       "      <td>952.000000</td>\n",
       "      <td>1304.000000</td>\n",
       "      <td>1718.000000</td>\n",
       "      <td>5822.000000</td>\n",
       "    </tr>\n",
       "    <tr>\n",
       "      <th>price</th>\n",
       "      <td>985.0</td>\n",
       "      <td>234144.263959</td>\n",
       "      <td>138365.839085</td>\n",
       "      <td>1551.000000</td>\n",
       "      <td>145000.000000</td>\n",
       "      <td>213750.000000</td>\n",
       "      <td>300000.000000</td>\n",
       "      <td>884790.000000</td>\n",
       "    </tr>\n",
       "    <tr>\n",
       "      <th>latitude</th>\n",
       "      <td>985.0</td>\n",
       "      <td>38.607732</td>\n",
       "      <td>0.145433</td>\n",
       "      <td>38.241514</td>\n",
       "      <td>38.482717</td>\n",
       "      <td>38.626582</td>\n",
       "      <td>38.695589</td>\n",
       "      <td>39.020808</td>\n",
       "    </tr>\n",
       "    <tr>\n",
       "      <th>longitude</th>\n",
       "      <td>985.0</td>\n",
       "      <td>-121.355982</td>\n",
       "      <td>0.138278</td>\n",
       "      <td>-121.551704</td>\n",
       "      <td>-121.446127</td>\n",
       "      <td>-121.376220</td>\n",
       "      <td>-121.295778</td>\n",
       "      <td>-120.597599</td>\n",
       "    </tr>\n",
       "  </tbody>\n",
       "</table>\n",
       "</div>"
      ],
      "text/plain": [
       "           count           mean            std           min            25%  \\\n",
       "zip        985.0   95750.697462      85.176072  95603.000000   95660.000000   \n",
       "beds       985.0       2.911675       1.307932      0.000000       2.000000   \n",
       "baths      985.0       1.776650       0.895371      0.000000       1.000000   \n",
       "sq__ft     985.0    1314.916751     853.048243      0.000000     952.000000   \n",
       "price      985.0  234144.263959  138365.839085   1551.000000  145000.000000   \n",
       "latitude   985.0      38.607732       0.145433     38.241514      38.482717   \n",
       "longitude  985.0    -121.355982       0.138278   -121.551704    -121.446127   \n",
       "\n",
       "                     50%            75%            max  \n",
       "zip         95762.000000   95828.000000   95864.000000  \n",
       "beds            3.000000       4.000000       8.000000  \n",
       "baths           2.000000       2.000000       5.000000  \n",
       "sq__ft       1304.000000    1718.000000    5822.000000  \n",
       "price      213750.000000  300000.000000  884790.000000  \n",
       "latitude       38.626582      38.695589      39.020808  \n",
       "longitude    -121.376220    -121.295778    -120.597599  "
      ]
     },
     "execution_count": 59,
     "metadata": {},
     "output_type": "execute_result"
    }
   ],
   "source": [
    "# Describe data\n",
    "house.describe().T"
   ]
  },
  {
   "cell_type": "code",
   "execution_count": 64,
   "metadata": {},
   "outputs": [
    {
     "data": {
      "text/html": [
       "<div>\n",
       "<style scoped>\n",
       "    .dataframe tbody tr th:only-of-type {\n",
       "        vertical-align: middle;\n",
       "    }\n",
       "\n",
       "    .dataframe tbody tr th {\n",
       "        vertical-align: top;\n",
       "    }\n",
       "\n",
       "    .dataframe thead th {\n",
       "        text-align: right;\n",
       "    }\n",
       "</style>\n",
       "<table border=\"1\" class=\"dataframe\">\n",
       "  <thead>\n",
       "    <tr style=\"text-align: right;\">\n",
       "      <th></th>\n",
       "      <th>street</th>\n",
       "      <th>city</th>\n",
       "      <th>zip</th>\n",
       "      <th>state</th>\n",
       "      <th>beds</th>\n",
       "      <th>baths</th>\n",
       "      <th>sq__ft</th>\n",
       "      <th>type</th>\n",
       "      <th>sale_date</th>\n",
       "      <th>price</th>\n",
       "      <th>latitude</th>\n",
       "      <th>longitude</th>\n",
       "    </tr>\n",
       "  </thead>\n",
       "  <tbody>\n",
       "    <tr>\n",
       "      <th>73</th>\n",
       "      <td>17 SERASPI CT</td>\n",
       "      <td>SACRAMENTO</td>\n",
       "      <td>95834</td>\n",
       "      <td>CA</td>\n",
       "      <td>0</td>\n",
       "      <td>0</td>\n",
       "      <td>0</td>\n",
       "      <td>Residential</td>\n",
       "      <td>Wed May 21 00:00:00 EDT 2008</td>\n",
       "      <td>206000</td>\n",
       "      <td>38.631481</td>\n",
       "      <td>-121.501880</td>\n",
       "    </tr>\n",
       "    <tr>\n",
       "      <th>89</th>\n",
       "      <td>2866 KARITSA AVE</td>\n",
       "      <td>SACRAMENTO</td>\n",
       "      <td>95833</td>\n",
       "      <td>CA</td>\n",
       "      <td>0</td>\n",
       "      <td>0</td>\n",
       "      <td>0</td>\n",
       "      <td>Residential</td>\n",
       "      <td>Wed May 21 00:00:00 EDT 2008</td>\n",
       "      <td>244500</td>\n",
       "      <td>38.626671</td>\n",
       "      <td>-121.525970</td>\n",
       "    </tr>\n",
       "    <tr>\n",
       "      <th>100</th>\n",
       "      <td>12209 CONSERVANCY WAY</td>\n",
       "      <td>RANCHO CORDOVA</td>\n",
       "      <td>95742</td>\n",
       "      <td>CA</td>\n",
       "      <td>0</td>\n",
       "      <td>0</td>\n",
       "      <td>0</td>\n",
       "      <td>Residential</td>\n",
       "      <td>Wed May 21 00:00:00 EDT 2008</td>\n",
       "      <td>263500</td>\n",
       "      <td>38.553867</td>\n",
       "      <td>-121.219141</td>\n",
       "    </tr>\n",
       "    <tr>\n",
       "      <th>121</th>\n",
       "      <td>5337 DUSTY ROSE WAY</td>\n",
       "      <td>RANCHO CORDOVA</td>\n",
       "      <td>95742</td>\n",
       "      <td>CA</td>\n",
       "      <td>0</td>\n",
       "      <td>0</td>\n",
       "      <td>0</td>\n",
       "      <td>Residential</td>\n",
       "      <td>Wed May 21 00:00:00 EDT 2008</td>\n",
       "      <td>320000</td>\n",
       "      <td>38.528575</td>\n",
       "      <td>-121.228600</td>\n",
       "    </tr>\n",
       "    <tr>\n",
       "      <th>126</th>\n",
       "      <td>2115 SMOKESTACK WAY</td>\n",
       "      <td>SACRAMENTO</td>\n",
       "      <td>95833</td>\n",
       "      <td>CA</td>\n",
       "      <td>0</td>\n",
       "      <td>0</td>\n",
       "      <td>0</td>\n",
       "      <td>Residential</td>\n",
       "      <td>Wed May 21 00:00:00 EDT 2008</td>\n",
       "      <td>339500</td>\n",
       "      <td>38.602416</td>\n",
       "      <td>-121.542965</td>\n",
       "    </tr>\n",
       "    <tr>\n",
       "      <th>...</th>\n",
       "      <td>...</td>\n",
       "      <td>...</td>\n",
       "      <td>...</td>\n",
       "      <td>...</td>\n",
       "      <td>...</td>\n",
       "      <td>...</td>\n",
       "      <td>...</td>\n",
       "      <td>...</td>\n",
       "      <td>...</td>\n",
       "      <td>...</td>\n",
       "      <td>...</td>\n",
       "      <td>...</td>\n",
       "    </tr>\n",
       "    <tr>\n",
       "      <th>901</th>\n",
       "      <td>1530 TOPANGA LN Unit 204</td>\n",
       "      <td>LINCOLN</td>\n",
       "      <td>95648</td>\n",
       "      <td>CA</td>\n",
       "      <td>0</td>\n",
       "      <td>0</td>\n",
       "      <td>0</td>\n",
       "      <td>Condo</td>\n",
       "      <td>Thu May 15 00:00:00 EDT 2008</td>\n",
       "      <td>138000</td>\n",
       "      <td>38.884150</td>\n",
       "      <td>-121.270277</td>\n",
       "    </tr>\n",
       "    <tr>\n",
       "      <th>917</th>\n",
       "      <td>501 POPLAR AVE</td>\n",
       "      <td>WEST SACRAMENTO</td>\n",
       "      <td>95691</td>\n",
       "      <td>CA</td>\n",
       "      <td>0</td>\n",
       "      <td>0</td>\n",
       "      <td>0</td>\n",
       "      <td>Residential</td>\n",
       "      <td>Thu May 15 00:00:00 EDT 2008</td>\n",
       "      <td>165000</td>\n",
       "      <td>38.584526</td>\n",
       "      <td>-121.534609</td>\n",
       "    </tr>\n",
       "    <tr>\n",
       "      <th>934</th>\n",
       "      <td>1550 TOPANGA LN Unit 207</td>\n",
       "      <td>LINCOLN</td>\n",
       "      <td>95648</td>\n",
       "      <td>CA</td>\n",
       "      <td>0</td>\n",
       "      <td>0</td>\n",
       "      <td>0</td>\n",
       "      <td>Condo</td>\n",
       "      <td>Thu May 15 00:00:00 EDT 2008</td>\n",
       "      <td>188000</td>\n",
       "      <td>38.884170</td>\n",
       "      <td>-121.270222</td>\n",
       "    </tr>\n",
       "    <tr>\n",
       "      <th>947</th>\n",
       "      <td>1525 PENNSYLVANIA AVE</td>\n",
       "      <td>WEST SACRAMENTO</td>\n",
       "      <td>95691</td>\n",
       "      <td>CA</td>\n",
       "      <td>0</td>\n",
       "      <td>0</td>\n",
       "      <td>0</td>\n",
       "      <td>Residential</td>\n",
       "      <td>Thu May 15 00:00:00 EDT 2008</td>\n",
       "      <td>200100</td>\n",
       "      <td>38.569943</td>\n",
       "      <td>-121.527539</td>\n",
       "    </tr>\n",
       "    <tr>\n",
       "      <th>970</th>\n",
       "      <td>3557 SODA WAY</td>\n",
       "      <td>SACRAMENTO</td>\n",
       "      <td>95834</td>\n",
       "      <td>CA</td>\n",
       "      <td>0</td>\n",
       "      <td>0</td>\n",
       "      <td>0</td>\n",
       "      <td>Residential</td>\n",
       "      <td>Thu May 15 00:00:00 EDT 2008</td>\n",
       "      <td>224000</td>\n",
       "      <td>38.631026</td>\n",
       "      <td>-121.501879</td>\n",
       "    </tr>\n",
       "  </tbody>\n",
       "</table>\n",
       "<p>108 rows × 12 columns</p>\n",
       "</div>"
      ],
      "text/plain": [
       "                       street             city    zip state  beds  baths  \\\n",
       "73              17 SERASPI CT       SACRAMENTO  95834    CA     0      0   \n",
       "89           2866 KARITSA AVE       SACRAMENTO  95833    CA     0      0   \n",
       "100     12209 CONSERVANCY WAY   RANCHO CORDOVA  95742    CA     0      0   \n",
       "121       5337 DUSTY ROSE WAY   RANCHO CORDOVA  95742    CA     0      0   \n",
       "126       2115 SMOKESTACK WAY       SACRAMENTO  95833    CA     0      0   \n",
       "..                        ...              ...    ...   ...   ...    ...   \n",
       "901  1530 TOPANGA LN Unit 204          LINCOLN  95648    CA     0      0   \n",
       "917            501 POPLAR AVE  WEST SACRAMENTO  95691    CA     0      0   \n",
       "934  1550 TOPANGA LN Unit 207          LINCOLN  95648    CA     0      0   \n",
       "947     1525 PENNSYLVANIA AVE  WEST SACRAMENTO  95691    CA     0      0   \n",
       "970             3557 SODA WAY       SACRAMENTO  95834    CA     0      0   \n",
       "\n",
       "     sq__ft         type                     sale_date   price   latitude  \\\n",
       "73        0  Residential  Wed May 21 00:00:00 EDT 2008  206000  38.631481   \n",
       "89        0  Residential  Wed May 21 00:00:00 EDT 2008  244500  38.626671   \n",
       "100       0  Residential  Wed May 21 00:00:00 EDT 2008  263500  38.553867   \n",
       "121       0  Residential  Wed May 21 00:00:00 EDT 2008  320000  38.528575   \n",
       "126       0  Residential  Wed May 21 00:00:00 EDT 2008  339500  38.602416   \n",
       "..      ...          ...                           ...     ...        ...   \n",
       "901       0        Condo  Thu May 15 00:00:00 EDT 2008  138000  38.884150   \n",
       "917       0  Residential  Thu May 15 00:00:00 EDT 2008  165000  38.584526   \n",
       "934       0        Condo  Thu May 15 00:00:00 EDT 2008  188000  38.884170   \n",
       "947       0  Residential  Thu May 15 00:00:00 EDT 2008  200100  38.569943   \n",
       "970       0  Residential  Thu May 15 00:00:00 EDT 2008  224000  38.631026   \n",
       "\n",
       "      longitude  \n",
       "73  -121.501880  \n",
       "89  -121.525970  \n",
       "100 -121.219141  \n",
       "121 -121.228600  \n",
       "126 -121.542965  \n",
       "..          ...  \n",
       "901 -121.270277  \n",
       "917 -121.534609  \n",
       "934 -121.270222  \n",
       "947 -121.527539  \n",
       "970 -121.501879  \n",
       "\n",
       "[108 rows x 12 columns]"
      ]
     },
     "execution_count": 64,
     "metadata": {},
     "output_type": "execute_result"
    }
   ],
   "source": [
    "# Got min values 0 for beds, baths, sq__ft which cannot be correct\n",
    "house[house['beds'] == 0]"
   ]
  },
  {
   "cell_type": "code",
   "execution_count": 7,
   "metadata": {},
   "outputs": [],
   "source": [
    "# filtering the dataframe using pd.DataFrame.loc to remove zeros from columns beds, baths and sq__ft that do not make any sense:\n",
    "house1 = house.loc[house['beds'] * house['baths'] * house['sq__ft'] != 0]"
   ]
  },
  {
   "cell_type": "code",
   "execution_count": 67,
   "metadata": {},
   "outputs": [
    {
     "data": {
      "text/plain": [
       "(814, 12)"
      ]
     },
     "execution_count": 67,
     "metadata": {},
     "output_type": "execute_result"
    }
   ],
   "source": [
    "# number of records after dropping zero values that did not make any sense\n",
    "house1.shape"
   ]
  },
  {
   "cell_type": "code",
   "execution_count": 8,
   "metadata": {},
   "outputs": [
    {
     "data": {
      "image/png": "[encoded data removed]",
      "text/plain": [
       "<Figure size 1080x720 with 1 Axes>"
      ]
     },
     "metadata": {
      "needs_background": "light"
     },
     "output_type": "display_data"
    }
   ],
   "source": [
    "# City\n",
    "house1['city'].value_counts().sort_values().plot(kind='barh', figsize=(15,10));"
   ]
  },
  {
   "cell_type": "code",
   "execution_count": 70,
   "metadata": {
    "scrolled": true
   },
   "outputs": [
    {
     "data": {
      "text/plain": [
       "Residential     759\n",
       "Condo            42\n",
       "Multi-Family     13\n",
       "Name: type, dtype: int64"
      ]
     },
     "execution_count": 70,
     "metadata": {},
     "output_type": "execute_result"
    }
   ],
   "source": [
    "house1['type'].value_counts()"
   ]
  },
  {
   "cell_type": "code",
   "execution_count": 63,
   "metadata": {},
   "outputs": [],
   "source": [
    "# To check minimun and maximum value of all columns defining a function\n",
    "def check_min_max(df):\n",
    "    # Check min, max of each column\n",
    "    print(df.describe().T[['min', 'max']])"
   ]
  },
  {
   "cell_type": "code",
   "execution_count": 71,
   "metadata": {},
   "outputs": [
    {
     "name": "stdout",
     "output_type": "stream",
     "text": [
      "                    min            max\n",
      "zip        95603.000000   95864.000000\n",
      "beds           1.000000       8.000000\n",
      "baths          1.000000       5.000000\n",
      "sq__ft       484.000000    5822.000000\n",
      "price       2000.000000  884790.000000\n",
      "latitude      38.241514      39.008159\n",
      "longitude   -121.550527    -120.597599\n"
     ]
    }
   ],
   "source": [
    "check_min_max(house1)"
   ]
  },
  {
   "cell_type": "code",
   "execution_count": 9,
   "metadata": {},
   "outputs": [
    {
     "ename": "NameError",
     "evalue": "name 'generateBaseMap' is not defined",
     "output_type": "error",
     "traceback": [
      "\u001b[1;31m---------------------------------------------------------------------------\u001b[0m",
      "\u001b[1;31mNameError\u001b[0m                                 Traceback (most recent call last)",
      "\u001b[1;32m<ipython-input-9-0ff0075c867a>\u001b[0m in \u001b[0;36m<module>\u001b[1;34m\u001b[0m\n\u001b[0;32m      6\u001b[0m \u001b[1;31m# 37.76, -122.45 is the initital location of SF, USA\u001b[0m\u001b[1;33m\u001b[0m\u001b[1;33m\u001b[0m\u001b[1;33m\u001b[0m\u001b[0m\n\u001b[0;32m      7\u001b[0m \u001b[0msf_location\u001b[0m \u001b[1;33m=\u001b[0m \u001b[1;33m[\u001b[0m\u001b[1;36m37.76\u001b[0m\u001b[1;33m,\u001b[0m \u001b[1;33m-\u001b[0m\u001b[1;36m122.45\u001b[0m\u001b[1;33m]\u001b[0m\u001b[1;33m\u001b[0m\u001b[1;33m\u001b[0m\u001b[0m\n\u001b[1;32m----> 8\u001b[1;33m \u001b[0mm\u001b[0m \u001b[1;33m=\u001b[0m \u001b[0mgenerateBaseMap\u001b[0m\u001b[1;33m(\u001b[0m\u001b[0mdefault_location\u001b[0m\u001b[1;33m=\u001b[0m\u001b[0msf_location\u001b[0m\u001b[1;33m)\u001b[0m\u001b[1;33m\u001b[0m\u001b[1;33m\u001b[0m\u001b[0m\n\u001b[0m\u001b[0;32m      9\u001b[0m \u001b[1;33m\u001b[0m\u001b[0m\n\u001b[0;32m     10\u001b[0m \u001b[1;33m\u001b[0m\u001b[0m\n",
      "\u001b[1;31mNameError\u001b[0m: name 'generateBaseMap' is not defined"
     ]
    }
   ],
   "source": [
    "# import the library\n",
    "import folium\n",
    "import pandas as pd\n",
    "\n",
    "# Make an empty map\n",
    "# 37.76, -122.45 is the initital location of SF, USA\n",
    "sf_location = [37.76, -122.45]\n",
    "m = generateBaseMap(default_location=sf_location)\n",
    "\n",
    "\n",
    "# I can add circle/marker one by one on the map\n",
    "for i in range(0, len(data.head(1000))):\n",
    "    folium.Marker(\n",
    "        location=[data.iloc[i]['latitude'], data.iloc[i]['longitude']]\n",
    "    ).add_to(m)\n",
    "    \n",
    "display(m)"
   ]
  },
  {
   "cell_type": "code",
   "execution_count": null,
   "metadata": {},
   "outputs": [],
   "source": [
    "m = folium.Map(location=[38.575764, -121.478851], tiles=\"Mapbox Bright\", zoom_start=10)"
   ]
  },
  {
   "cell_type": "code",
   "execution_count": null,
   "metadata": {},
   "outputs": [],
   "source": [
    "# ANSWER\n",
    "\n",
    "# Make an empty map\n",
    "sf_location = [37.76, -122.45]\n",
    "m = generateBaseMap(default_location=sf_location)\n",
    "\n",
    "# I can add marker one by one on the map\n",
    "for i in range(0, len(crimedata.head(100))):\n",
    "    folium.Marker(location=[crimedata.iloc[i]['Y'], crimedata.iloc[i]['X']], popup=crimedata.iloc[i]['Category']).add_to(m)\n",
    "\n",
    "# Show the map\n",
    "m"
   ]
  },
  {
   "cell_type": "code",
   "execution_count": null,
   "metadata": {},
   "outputs": [],
   "source": []
  },
  {
   "cell_type": "code",
   "execution_count": null,
   "metadata": {},
   "outputs": [],
   "source": []
  },
  {
   "cell_type": "markdown",
   "metadata": {
    "colab_type": "text",
    "id": "kQ_sd0-VXWuo"
   },
   "source": [
    "### 2. Predict Price"
   ]
  },
  {
   "cell_type": "markdown",
   "metadata": {
    "colab_type": "text",
    "id": "BsxIS3qqXWuq"
   },
   "source": [
    "We are going to predict `price` from available information."
   ]
  },
  {
   "cell_type": "markdown",
   "metadata": {
    "colab_type": "text",
    "id": "l9DkEfzHXWur"
   },
   "source": [
    "#### 2.1 What is the Target Variable? Why?"
   ]
  },
  {
   "cell_type": "code",
   "execution_count": 31,
   "metadata": {
    "colab": {},
    "colab_type": "code",
    "id": "HGONOtfFXWut"
   },
   "outputs": [],
   "source": [
    "# ANSWER\n",
    "# Price is the target or outcome varibale since it is dependent on the features (precitors)."
   ]
  },
  {
   "cell_type": "markdown",
   "metadata": {
    "colab_type": "text",
    "id": "MDAu8eeXXWuz"
   },
   "source": [
    "#### 2.2 List all possible variables which might be Independent/Predictor variable."
   ]
  },
  {
   "cell_type": "code",
   "execution_count": 32,
   "metadata": {
    "colab": {},
    "colab_type": "code",
    "id": "PEDRGP1EXWu1"
   },
   "outputs": [],
   "source": [
    "# ANSWER\n",
    "'beds'\n",
    "'baths'\n",
    "'sq__ft'\n",
    "'type'\n",
    "'zip'"
   ]
  },
  {
   "cell_type": "markdown",
   "metadata": {
    "colab_type": "text",
    "id": "w9x9iKhcXWu4"
   },
   "source": [
    "#### 2.3 Find correlation between variables\n",
    "\n",
    "Find correlation between variables. Which is the best predictor? Why? State your reason."
   ]
  },
  {
   "cell_type": "code",
   "execution_count": 35,
   "metadata": {},
   "outputs": [
    {
     "data": {
      "text/html": [
       "<div>\n",
       "<style scoped>\n",
       "    .dataframe tbody tr th:only-of-type {\n",
       "        vertical-align: middle;\n",
       "    }\n",
       "\n",
       "    .dataframe tbody tr th {\n",
       "        vertical-align: top;\n",
       "    }\n",
       "\n",
       "    .dataframe thead th {\n",
       "        text-align: right;\n",
       "    }\n",
       "</style>\n",
       "<table border=\"1\" class=\"dataframe\">\n",
       "  <thead>\n",
       "    <tr style=\"text-align: right;\">\n",
       "      <th></th>\n",
       "      <th>beds</th>\n",
       "      <th>baths</th>\n",
       "      <th>sq__ft</th>\n",
       "      <th>price</th>\n",
       "      <th>type</th>\n",
       "      <th>zip</th>\n",
       "    </tr>\n",
       "  </thead>\n",
       "  <tbody>\n",
       "    <tr>\n",
       "      <th>0</th>\n",
       "      <td>2</td>\n",
       "      <td>1</td>\n",
       "      <td>836</td>\n",
       "      <td>59222</td>\n",
       "      <td>Residential</td>\n",
       "      <td>95838</td>\n",
       "    </tr>\n",
       "    <tr>\n",
       "      <th>1</th>\n",
       "      <td>3</td>\n",
       "      <td>1</td>\n",
       "      <td>1167</td>\n",
       "      <td>68212</td>\n",
       "      <td>Residential</td>\n",
       "      <td>95823</td>\n",
       "    </tr>\n",
       "    <tr>\n",
       "      <th>2</th>\n",
       "      <td>2</td>\n",
       "      <td>1</td>\n",
       "      <td>796</td>\n",
       "      <td>68880</td>\n",
       "      <td>Residential</td>\n",
       "      <td>95815</td>\n",
       "    </tr>\n",
       "    <tr>\n",
       "      <th>3</th>\n",
       "      <td>2</td>\n",
       "      <td>1</td>\n",
       "      <td>852</td>\n",
       "      <td>69307</td>\n",
       "      <td>Residential</td>\n",
       "      <td>95815</td>\n",
       "    </tr>\n",
       "    <tr>\n",
       "      <th>4</th>\n",
       "      <td>2</td>\n",
       "      <td>1</td>\n",
       "      <td>797</td>\n",
       "      <td>81900</td>\n",
       "      <td>Residential</td>\n",
       "      <td>95824</td>\n",
       "    </tr>\n",
       "    <tr>\n",
       "      <th>...</th>\n",
       "      <td>...</td>\n",
       "      <td>...</td>\n",
       "      <td>...</td>\n",
       "      <td>...</td>\n",
       "      <td>...</td>\n",
       "      <td>...</td>\n",
       "    </tr>\n",
       "    <tr>\n",
       "      <th>980</th>\n",
       "      <td>4</td>\n",
       "      <td>3</td>\n",
       "      <td>2280</td>\n",
       "      <td>232425</td>\n",
       "      <td>Residential</td>\n",
       "      <td>95829</td>\n",
       "    </tr>\n",
       "    <tr>\n",
       "      <th>981</th>\n",
       "      <td>3</td>\n",
       "      <td>2</td>\n",
       "      <td>1477</td>\n",
       "      <td>234000</td>\n",
       "      <td>Residential</td>\n",
       "      <td>95823</td>\n",
       "    </tr>\n",
       "    <tr>\n",
       "      <th>982</th>\n",
       "      <td>3</td>\n",
       "      <td>2</td>\n",
       "      <td>1216</td>\n",
       "      <td>235000</td>\n",
       "      <td>Residential</td>\n",
       "      <td>95610</td>\n",
       "    </tr>\n",
       "    <tr>\n",
       "      <th>983</th>\n",
       "      <td>4</td>\n",
       "      <td>2</td>\n",
       "      <td>1685</td>\n",
       "      <td>235301</td>\n",
       "      <td>Residential</td>\n",
       "      <td>95758</td>\n",
       "    </tr>\n",
       "    <tr>\n",
       "      <th>984</th>\n",
       "      <td>3</td>\n",
       "      <td>2</td>\n",
       "      <td>1362</td>\n",
       "      <td>235738</td>\n",
       "      <td>Residential</td>\n",
       "      <td>95762</td>\n",
       "    </tr>\n",
       "  </tbody>\n",
       "</table>\n",
       "<p>814 rows × 6 columns</p>\n",
       "</div>"
      ],
      "text/plain": [
       "     beds  baths  sq__ft   price         type    zip\n",
       "0       2      1     836   59222  Residential  95838\n",
       "1       3      1    1167   68212  Residential  95823\n",
       "2       2      1     796   68880  Residential  95815\n",
       "3       2      1     852   69307  Residential  95815\n",
       "4       2      1     797   81900  Residential  95824\n",
       "..    ...    ...     ...     ...          ...    ...\n",
       "980     4      3    2280  232425  Residential  95829\n",
       "981     3      2    1477  234000  Residential  95823\n",
       "982     3      2    1216  235000  Residential  95610\n",
       "983     4      2    1685  235301  Residential  95758\n",
       "984     3      2    1362  235738  Residential  95762\n",
       "\n",
       "[814 rows x 6 columns]"
      ]
     },
     "execution_count": 35,
     "metadata": {},
     "output_type": "execute_result"
    }
   ],
   "source": [
    "house2 = house1[['beds', 'baths', 'sq__ft', 'price', 'type','zip']]\n",
    "house2"
   ]
  },
  {
   "cell_type": "code",
   "execution_count": 34,
   "metadata": {},
   "outputs": [
    {
     "data": {
      "text/html": [
       "<div>\n",
       "<style scoped>\n",
       "    .dataframe tbody tr th:only-of-type {\n",
       "        vertical-align: middle;\n",
       "    }\n",
       "\n",
       "    .dataframe tbody tr th {\n",
       "        vertical-align: top;\n",
       "    }\n",
       "\n",
       "    .dataframe thead th {\n",
       "        text-align: right;\n",
       "    }\n",
       "</style>\n",
       "<table border=\"1\" class=\"dataframe\">\n",
       "  <thead>\n",
       "    <tr style=\"text-align: right;\">\n",
       "      <th></th>\n",
       "      <th>beds</th>\n",
       "      <th>baths</th>\n",
       "      <th>sq__ft</th>\n",
       "      <th>price</th>\n",
       "      <th>zip</th>\n",
       "    </tr>\n",
       "  </thead>\n",
       "  <tbody>\n",
       "    <tr>\n",
       "      <th>beds</th>\n",
       "      <td>1.000000</td>\n",
       "      <td>0.654746</td>\n",
       "      <td>0.695710</td>\n",
       "      <td>0.441988</td>\n",
       "      <td>-0.072673</td>\n",
       "    </tr>\n",
       "    <tr>\n",
       "      <th>baths</th>\n",
       "      <td>0.654746</td>\n",
       "      <td>1.000000</td>\n",
       "      <td>0.724631</td>\n",
       "      <td>0.501820</td>\n",
       "      <td>-0.103332</td>\n",
       "    </tr>\n",
       "    <tr>\n",
       "      <th>sq__ft</th>\n",
       "      <td>0.695710</td>\n",
       "      <td>0.724631</td>\n",
       "      <td>1.000000</td>\n",
       "      <td>0.693708</td>\n",
       "      <td>-0.101560</td>\n",
       "    </tr>\n",
       "    <tr>\n",
       "      <th>price</th>\n",
       "      <td>0.441988</td>\n",
       "      <td>0.501820</td>\n",
       "      <td>0.693708</td>\n",
       "      <td>1.000000</td>\n",
       "      <td>-0.219591</td>\n",
       "    </tr>\n",
       "    <tr>\n",
       "      <th>zip</th>\n",
       "      <td>-0.072673</td>\n",
       "      <td>-0.103332</td>\n",
       "      <td>-0.101560</td>\n",
       "      <td>-0.219591</td>\n",
       "      <td>1.000000</td>\n",
       "    </tr>\n",
       "  </tbody>\n",
       "</table>\n",
       "</div>"
      ],
      "text/plain": [
       "            beds     baths    sq__ft     price       zip\n",
       "beds    1.000000  0.654746  0.695710  0.441988 -0.072673\n",
       "baths   0.654746  1.000000  0.724631  0.501820 -0.103332\n",
       "sq__ft  0.695710  0.724631  1.000000  0.693708 -0.101560\n",
       "price   0.441988  0.501820  0.693708  1.000000 -0.219591\n",
       "zip    -0.072673 -0.103332 -0.101560 -0.219591  1.000000"
      ]
     },
     "execution_count": 34,
     "metadata": {},
     "output_type": "execute_result"
    }
   ],
   "source": [
    "# ANSWER\n",
    "house2.corr()"
   ]
  },
  {
   "cell_type": "code",
   "execution_count": 36,
   "metadata": {},
   "outputs": [],
   "source": [
    "### sq__ft is the best predictor, has the highest positive correlation with price (0.6937)\n",
    "### sq__ft got strong positive relationship with beds (+0.6957) and baths (+0.7246)"
   ]
  },
  {
   "cell_type": "code",
   "execution_count": 16,
   "metadata": {},
   "outputs": [],
   "source": [
    "# Target variable\n",
    "Y = house2['price']"
   ]
  },
  {
   "cell_type": "code",
   "execution_count": 18,
   "metadata": {},
   "outputs": [],
   "source": [
    "# Predictor variable\n",
    "X = house2['beds']"
   ]
  },
  {
   "cell_type": "code",
   "execution_count": 19,
   "metadata": {},
   "outputs": [],
   "source": [
    "def draw_scatter_plot (X,Y):\n",
    "    ### Plot the data\n",
    "    # Create a figure\n",
    "    fig = plt.figure(figsize =(15,7))\n",
    "    # get the axis of the figure\n",
    "    ax = plt.gca()\n",
    "    \n",
    "    # plot a scatter plot with house data\n",
    "    ax.scatter(X, Y, c='b')\n",
    "    plt.show();"
   ]
  },
  {
   "cell_type": "code",
   "execution_count": 22,
   "metadata": {},
   "outputs": [
    {
     "data": {
      "image/png": "[encoded data removed]",
      "text/plain": [
       "<Figure size 1080x504 with 1 Axes>"
      ]
     },
     "metadata": {
      "needs_background": "light"
     },
     "output_type": "display_data"
    }
   ],
   "source": [
    "# beds\n",
    "draw_scatter_plot(house2['beds'], house2['price'])"
   ]
  },
  {
   "cell_type": "code",
   "execution_count": 23,
   "metadata": {},
   "outputs": [
    {
     "data": {
      "image/png": "[encoded data removed]",
      "text/plain": [
       "<Figure size 1080x504 with 1 Axes>"
      ]
     },
     "metadata": {
      "needs_background": "light"
     },
     "output_type": "display_data"
    }
   ],
   "source": [
    "# baths\n",
    "draw_scatter_plot(house2['baths'], house2['price'])"
   ]
  },
  {
   "cell_type": "code",
   "execution_count": 24,
   "metadata": {},
   "outputs": [
    {
     "data": {
      "image/png": "[encoded data removed]",
      "text/plain": [
       "<Figure size 1080x504 with 1 Axes>"
      ]
     },
     "metadata": {
      "needs_background": "light"
     },
     "output_type": "display_data"
    }
   ],
   "source": [
    "# sq__ft\n",
    "draw_scatter_plot(house2['sq__ft'], house2['price'])"
   ]
  },
  {
   "cell_type": "code",
   "execution_count": 25,
   "metadata": {},
   "outputs": [
    {
     "data": {
      "image/png": "[encoded data removed]",
      "text/plain": [
       "<Figure size 1080x504 with 1 Axes>"
      ]
     },
     "metadata": {
      "needs_background": "light"
     },
     "output_type": "display_data"
    }
   ],
   "source": [
    "# type\n",
    "draw_scatter_plot(house2['type'], house2['price'])"
   ]
  },
  {
   "cell_type": "code",
   "execution_count": 29,
   "metadata": {},
   "outputs": [
    {
     "data": {
      "image/png": "[encoded data removed]",
      "text/plain": [
       "<Figure size 1080x504 with 1 Axes>"
      ]
     },
     "metadata": {
      "needs_background": "light"
     },
     "output_type": "display_data"
    }
   ],
   "source": [
    "# zip\n",
    "draw_scatter_plot(house2['zip'], house2['price'])"
   ]
  },
  {
   "cell_type": "code",
   "execution_count": 67,
   "metadata": {},
   "outputs": [
    {
     "data": {
      "text/plain": [
       "(array([1., 2., 3., 4., 5., 6., 7., 8.]),\n",
       " [Text(1.0, 0, '1'),\n",
       "  Text(2.0, 0, '2'),\n",
       "  Text(3.0, 0, '3'),\n",
       "  Text(4.0, 0, '4'),\n",
       "  Text(5.0, 0, '5'),\n",
       "  Text(6.0, 0, '6'),\n",
       "  Text(7.0, 0, '7'),\n",
       "  Text(8.0, 0, '8')])"
      ]
     },
     "execution_count": 67,
     "metadata": {},
     "output_type": "execute_result"
    },
    {
     "data": {
      "image/png": "[encoded data removed]",
      "text/plain": [
       "<Figure size 360x360 with 1 Axes>"
      ]
     },
     "metadata": {
      "needs_background": "light"
     },
     "output_type": "display_data"
    }
   ],
   "source": [
    "#Scatter plot using seaborn and lmplot(). fit_reg = False\n",
    "sns.lmplot(x='beds', y= 'price', data= house2, fit_reg = True)\n",
    "plt.xticks(rotation=90, fontsize=\"10\")"
   ]
  },
  {
   "cell_type": "code",
   "execution_count": 68,
   "metadata": {},
   "outputs": [
    {
     "data": {
      "text/plain": [
       "(array([1. , 1.5, 2. , 2.5, 3. , 3.5, 4. , 4.5, 5. ]),\n",
       " [Text(1.0, 0, '1.0'),\n",
       "  Text(1.5, 0, '1.5'),\n",
       "  Text(2.0, 0, '2.0'),\n",
       "  Text(2.5, 0, '2.5'),\n",
       "  Text(3.0, 0, '3.0'),\n",
       "  Text(3.5, 0, '3.5'),\n",
       "  Text(4.0, 0, '4.0'),\n",
       "  Text(4.5, 0, '4.5'),\n",
       "  Text(5.0, 0, '5.0')])"
      ]
     },
     "execution_count": 68,
     "metadata": {},
     "output_type": "execute_result"
    },
    {
     "data": {
      "image/png": "[encoded data removed]",
      "text/plain": [
       "<Figure size 360x360 with 1 Axes>"
      ]
     },
     "metadata": {
      "needs_background": "light"
     },
     "output_type": "display_data"
    }
   ],
   "source": [
    "#Scatter plot using seaborn and lmplot(). fit_reg = False\n",
    "sns.lmplot(x='baths', y= 'price', data= house2, fit_reg = True)\n",
    "plt.xticks(rotation=90, fontsize=\"10\")"
   ]
  },
  {
   "cell_type": "markdown",
   "metadata": {
    "colab_type": "text",
    "id": "tgWfh5snXWu8"
   },
   "source": [
    "#### 2.4 Find Coefficient and Intercept using Linear Regression\n",
    "\n",
    "Using LinearRegression of sklearn.linear_model package find Coefficient and Intercept.\n",
    "\n",
    "Create an instance of LinearRegression.\n",
    "\n",
    "Explore following methods:\n",
    "\n",
    "- fit\n",
    "- predict\n",
    "- score"
   ]
  },
  {
   "cell_type": "code",
   "execution_count": 37,
   "metadata": {
    "colab": {},
    "colab_type": "code",
    "id": "SbiQavKvXWu9"
   },
   "outputs": [],
   "source": [
    "from sklearn.linear_model import LinearRegression"
   ]
  },
  {
   "cell_type": "code",
   "execution_count": 39,
   "metadata": {},
   "outputs": [
    {
     "name": "stdout",
     "output_type": "stream",
     "text": [
      "[125.21648668] 30210.633866919146\n"
     ]
    }
   ],
   "source": [
    "# Linear regression for sq__ft\n",
    "X = house2['sq__ft'].values.reshape(-1,1)\n",
    "Y = house2['price']\n",
    "\n",
    "linreg = LinearRegression()\n",
    "linreg.fit(X, Y)\n",
    "\n",
    "print(linreg.coef_, linreg.intercept_)"
   ]
  },
  {
   "cell_type": "code",
   "execution_count": null,
   "metadata": {},
   "outputs": [],
   "source": [
    "# The linreg.coef (beta1) is the slope = how much the dependent variable (price) is expected to increase (if the coefficient is positive) or decrease (if the coefficient is negative) when the independent variable (sq__ft) increases by one.\n",
    "\n",
    "# The linreg.intercept (beta0) corresponds to the value where the regression line cuts the y-axis= (constant, refer to a value of Y when X=0) is the expected vakue of Y (price) when all X (sq__ft) are equal to zero. \n",
    "# The intercept is the expected mean value of Y at that value\n"
   ]
  },
  {
   "cell_type": "code",
   "execution_count": 65,
   "metadata": {},
   "outputs": [
    {
     "data": {
      "text/plain": [
       "(array([   0., 1000., 2000., 3000., 4000., 5000., 6000.]),\n",
       " [Text(0.0, 0, '0'),\n",
       "  Text(1000.0, 0, '1000'),\n",
       "  Text(2000.0, 0, '2000'),\n",
       "  Text(3000.0, 0, '3000'),\n",
       "  Text(4000.0, 0, '4000'),\n",
       "  Text(5000.0, 0, '5000'),\n",
       "  Text(6000.0, 0, '6000')])"
      ]
     },
     "execution_count": 65,
     "metadata": {},
     "output_type": "execute_result"
    },
    {
     "data": {
      "image/png": "[encoded data removed]",
      "text/plain": [
       "<Figure size 360x360 with 1 Axes>"
      ]
     },
     "metadata": {
      "needs_background": "light"
     },
     "output_type": "display_data"
    }
   ],
   "source": [
    "#Scatter plot using seaborn and lmplot(). fit_reg = False\n",
    "sns.lmplot(x='sq__ft', y= 'price', data= house2, fit_reg = True)\n",
    "plt.xticks(rotation=90, fontsize=\"10\")"
   ]
  },
  {
   "cell_type": "markdown",
   "metadata": {
    "colab_type": "text",
    "id": "lVWhSV7BXWu_"
   },
   "source": [
    "##### 2.4.1 Fit predictor and target variables using linear regression "
   ]
  },
  {
   "cell_type": "markdown",
   "metadata": {
    "colab_type": "text",
    "id": "0Qv0pyZNXWvC"
   },
   "source": [
    "##### 2.4.2 Find R Score"
   ]
  },
  {
   "cell_type": "markdown",
   "metadata": {
    "colab_type": "text",
    "id": "j5Lix6tlXWvD"
   },
   "source": [
    "Find $R^2$ Using ```score``` method of Linear Regression."
   ]
  },
  {
   "cell_type": "code",
   "execution_count": 69,
   "metadata": {
    "colab": {},
    "colab_type": "code",
    "id": "JrJDTlJrXWvF"
   },
   "outputs": [
    {
     "data": {
      "text/plain": [
       "0.2504706292296305"
      ]
     },
     "execution_count": 69,
     "metadata": {},
     "output_type": "execute_result"
    }
   ],
   "source": [
    "# R=squared: how well the regression model fits the observed data. Generally, a higher r-squared indicates a better fit for the model.\n",
    "# In this example, an r-squared of 25% reveals that 25% of the data fit the regression model. \n",
    "linreg.score(X, Y)"
   ]
  },
  {
   "cell_type": "markdown",
   "metadata": {
    "colab_type": "text",
    "id": "BiVDrqFhXWvN"
   },
   "source": [
    "### 3. Splitting Data"
   ]
  },
  {
   "cell_type": "code",
   "execution_count": 52,
   "metadata": {
    "colab": {},
    "colab_type": "code",
    "id": "I4tgG88GXWvQ"
   },
   "outputs": [],
   "source": [
    "from sklearn.model_selection import train_test_split"
   ]
  },
  {
   "cell_type": "markdown",
   "metadata": {
    "colab_type": "text",
    "id": "hTgSdUpwXWvW"
   },
   "source": [
    "#### 3.1 Create training and testing subsets\n",
    "\n",
    "Hint: Using `train_test_split` Library.\n",
    "\n",
    "```\n",
    "X_train, X_test, y_train, y_test = train_test_split(X, y, test_size=0.33, random_state=42)\n",
    "```"
   ]
  },
  {
   "cell_type": "code",
   "execution_count": 70,
   "metadata": {
    "colab": {},
    "colab_type": "code",
    "id": "iYSlAV_gXWvX"
   },
   "outputs": [],
   "source": [
    "# ANSWER\n",
    "## Create training and testing subsets## Create training and testing subsets\n",
    "\n",
    "X_train, X_test, y_train, y_test = train_test_split(X, Y, test_size = 0.33, random_state=42)"
   ]
  },
  {
   "cell_type": "markdown",
   "metadata": {
    "colab_type": "text",
    "id": "P62hTi0IXWva"
   },
   "source": [
    "#### 3.2 Check Shape, Sample of Test Train Data"
   ]
  },
  {
   "cell_type": "code",
   "execution_count": 71,
   "metadata": {
    "colab": {},
    "colab_type": "code",
    "id": "larfqlLQXWvb"
   },
   "outputs": [
    {
     "name": "stdout",
     "output_type": "stream",
     "text": [
      "X_train is a <class 'numpy.ndarray'>\n",
      "X_train has %d rows 545\n",
      "\n",
      "Sample of X_train__________________________________________________\n",
      "[[3]\n",
      " [2]\n",
      " [1]\n",
      " [2]\n",
      " [1]\n",
      " [3]\n",
      " [2]\n",
      " [2]\n",
      " [1]\n",
      " [3]]\n",
      "\n",
      "y_train is a <class 'pandas.core.series.Series'>\n",
      "y_train has %d rows (545,)\n",
      "\n",
      "Sample of y_train__________________________________________________\n",
      "779    300000\n",
      "333    699000\n",
      "18     120000\n",
      "710    220000\n",
      "916    165000\n",
      "84     236685\n",
      "61     182750\n",
      "523    400000\n",
      "339     65000\n",
      "729    240000\n",
      "Name: price, dtype: int64\n"
     ]
    }
   ],
   "source": [
    "# ANSWER\n",
    "## Check training data\n",
    "print('X_train is a %s' % type(X_train))\n",
    "print('X_train has %d rows', X_train.shape[0])\n",
    "print('')\n",
    "print('Sample of X_train%s' % ('_'*50))\n",
    "print(X_train[:10])\n",
    "\n",
    "print('')\n",
    "print('y_train is a %s' % type(y_train))\n",
    "print('y_train has %d rows', y_train.shape)\n",
    "print('')\n",
    "print('Sample of y_train%s' % ('_'*50))\n",
    "print(y_train[:10])"
   ]
  },
  {
   "cell_type": "code",
   "execution_count": 72,
   "metadata": {},
   "outputs": [
    {
     "name": "stdout",
     "output_type": "stream",
     "text": [
      "X_train is a <class 'numpy.ndarray'>\n",
      "X_train has %d rows (269, 1)\n",
      "\n",
      "Sample of X_train__________________________________________________\n",
      "[[2]\n",
      " [1]\n",
      " [1]\n",
      " [4]\n",
      " [2]\n",
      " [2]\n",
      " [2]\n",
      " [1]\n",
      " [2]\n",
      " [2]]\n",
      "\n",
      "y_train is a <class 'pandas.core.series.Series'>\n",
      "y_train has %d rows (269,)\n",
      "\n",
      "Sample of y_train__________________________________________________\n",
      "273    292000\n",
      "708    215000\n",
      "247    236250\n",
      "334    839000\n",
      "654    165000\n",
      "969    223000\n",
      "212    176250\n",
      "337     61500\n",
      "491    299940\n",
      "467    258000\n",
      "Name: price, dtype: int64\n"
     ]
    }
   ],
   "source": [
    "## Check training/test data\n",
    "\n",
    "# About test\n",
    "print('X_train is a %s' % type(X_test))\n",
    "print('X_train has %d rows', X_test.shape)\n",
    "print('')\n",
    "print('Sample of X_train%s' % ('_'*50))\n",
    "print(X_test[:10])\n",
    "\n",
    "print('')\n",
    "print('y_train is a %s' % type(y_test))\n",
    "print('y_train has %d rows', y_test.shape)\n",
    "print('')\n",
    "print('Sample of y_train%s' % ('_'*50))\n",
    "print(y_test[:10])"
   ]
  },
  {
   "cell_type": "markdown",
   "metadata": {
    "colab_type": "text",
    "id": "FhemsdjyXWvd"
   },
   "source": [
    "#### 3.3 Using Linear Regression Find The Score\n",
    "\n",
    "1. Fit model using X_train, y_train\n",
    "2. Find score using X_test, y_test"
   ]
  },
  {
   "cell_type": "code",
   "execution_count": 76,
   "metadata": {},
   "outputs": [
    {
     "name": "stdout",
     "output_type": "stream",
     "text": [
      "[90751.78922274] 55867.401164530864\n"
     ]
    }
   ],
   "source": [
    "regressor = LinearRegression()\n",
    "regressor.fit(X_train, y_train) \n",
    "\n",
    "linreg = LinearRegression()\n",
    "linreg.fit(X_train, y_train)\n",
    "\n",
    "print(linreg.coef_, linreg.intercept_)"
   ]
  },
  {
   "cell_type": "code",
   "execution_count": 77,
   "metadata": {},
   "outputs": [
    {
     "data": {
      "text/plain": [
       "0.23464000403417995"
      ]
     },
     "execution_count": 77,
     "metadata": {},
     "output_type": "execute_result"
    }
   ],
   "source": [
    "linreg.score(X_test, y_test)"
   ]
  },
  {
   "cell_type": "markdown",
   "metadata": {
    "colab_type": "text",
    "id": "wSAtgNXXXWvk"
   },
   "source": [
    "### 4. Predict House Price\n",
    "\n",
    "Let's assume we have information of following house:\n",
    "\n",
    "- street:\t1140 EDMONTON DR\n",
    "- city:\tSACRAMENTO\n",
    "- zip:\t95833\n",
    "- state:\tCA\n",
    "- beds:\t3\n",
    "- baths:\t2\n",
    "- sq__ft:\t1204\n",
    "- type:\tResidential\n",
    "\n",
    "**Predict the price of this house using linear regression model.**"
   ]
  },
  {
   "cell_type": "code",
   "execution_count": null,
   "metadata": {},
   "outputs": [],
   "source": [
    "beds =3\n",
    "baths = 2\n",
    "sq__ft = 1204"
   ]
  },
  {
   "cell_type": "code",
   "execution_count": 79,
   "metadata": {
    "colab": {},
    "colab_type": "code",
    "id": "zwMk_GoVXWvk"
   },
   "outputs": [
    {
     "data": {
      "text/plain": [
       "(55867.401164530864, array([90751.78922274]))"
      ]
     },
     "execution_count": 79,
     "metadata": {},
     "output_type": "execute_result"
    }
   ],
   "source": [
    "# ANSWER\n",
    "linreg.intercept_, linreg.coef_"
   ]
  },
  {
   "cell_type": "code",
   "execution_count": 80,
   "metadata": {},
   "outputs": [
    {
     "name": "stdout",
     "output_type": "stream",
     "text": [
      "Predicted house price:  109321021.62534751\n"
     ]
    }
   ],
   "source": [
    "beta0 = linreg.intercept_\n",
    "beta1 = linreg.coef_\n",
    "x = 1204\n",
    "\n",
    "Ypred = beta1 * x + beta0\n",
    "print('Predicted house price: ', Ypred[0])"
   ]
  },
  {
   "cell_type": "code",
   "execution_count": 81,
   "metadata": {},
   "outputs": [
    {
     "name": "stdout",
     "output_type": "stream",
     "text": [
      "Predicted house price:  109321021.62534751\n"
     ]
    }
   ],
   "source": [
    "# ANSWER\n",
    "x = [[1204]]\n",
    "Ypred = linreg.predict(x)\n",
    "print('Predicted house price: ', Ypred[0])"
   ]
  },
  {
   "cell_type": "code",
   "execution_count": null,
   "metadata": {},
   "outputs": [],
   "source": []
  },
  {
   "cell_type": "code",
   "execution_count": null,
   "metadata": {},
   "outputs": [],
   "source": []
  },
  {
   "cell_type": "code",
   "execution_count": null,
   "metadata": {},
   "outputs": [],
   "source": []
  },
  {
   "cell_type": "markdown",
   "metadata": {},
   "source": [
    "#### Find the error"
   ]
  },
  {
   "cell_type": "code",
   "execution_count": null,
   "metadata": {},
   "outputs": [],
   "source": [
    "# Predict price from X_test"
   ]
  },
  {
   "cell_type": "code",
   "execution_count": 82,
   "metadata": {},
   "outputs": [
    {
     "data": {
      "text/plain": [
       "array([237370.97961002, 146619.19038727, 146619.19038727, 418874.5580555 ,\n",
       "       237370.97961002, 237370.97961002, 237370.97961002, 146619.19038727,\n",
       "       237370.97961002, 237370.97961002])"
      ]
     },
     "execution_count": 82,
     "metadata": {},
     "output_type": "execute_result"
    }
   ],
   "source": [
    "y_preds = linreg.predict(X_test)\n",
    "\n",
    "y_preds[:10]"
   ]
  },
  {
   "cell_type": "code",
   "execution_count": 83,
   "metadata": {},
   "outputs": [
    {
     "data": {
      "text/plain": [
       "9550572451.666948"
      ]
     },
     "execution_count": 83,
     "metadata": {},
     "output_type": "execute_result"
    }
   ],
   "source": [
    "from sklearn.metrics import mean_squared_error\n",
    "\n",
    "mean_squared_error(y_test, y_preds, squared=True)"
   ]
  },
  {
   "cell_type": "markdown",
   "metadata": {
    "colab_type": "text",
    "id": "fRx7LEfql5pu"
   },
   "source": [
    "\n",
    "\n",
    "---\n",
    "\n",
    "\n",
    "\n",
    "---\n",
    "\n",
    "\n",
    "\n",
    "> > > > > > > > > © 2019 Institute of Data\n",
    "\n",
    "\n",
    "---\n",
    "\n",
    "\n",
    "\n",
    "---\n",
    "\n",
    "\n",
    "\n"
   ]
  }
 ],
 "metadata": {
  "colab": {
   "collapsed_sections": [],
   "name": "DSIA Lab 4.1.2.ipynb",
   "provenance": []
  },
  "kernelspec": {
   "display_name": "Python 3",
   "language": "python",
   "name": "python3"
  },
  "language_info": {
   "codemirror_mode": {
    "name": "ipython",
    "version": 3
   },
   "file_extension": ".py",
   "mimetype": "text/x-python",
   "name": "python",
   "nbconvert_exporter": "python",
   "pygments_lexer": "ipython3",
   "version": "3.8.5"
  }
 },
 "nbformat": 4,
 "nbformat_minor": 1
}
