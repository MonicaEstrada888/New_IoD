{
 "cells": [
  {
   "cell_type": "markdown",
   "metadata": {
    "colab_type": "text",
    "id": "jZSSKjAWXd3j"
   },
   "source": [
    "<div>\n",
    "<img src=https://www.institutedata.com/wp-content/uploads/2019/10/iod_h_tp_primary_c.svg width=\"300\">\n",
    "</div>"
   ]
  },
  {
   "cell_type": "markdown",
   "metadata": {
    "colab_type": "text",
    "id": "2Ms9riXMXd3k"
   },
   "source": [
    "# Lab 4.1.1 Linear Regression"
   ]
  },
  {
   "cell_type": "markdown",
   "metadata": {
    "colab_type": "text",
    "id": "twocr7v8Xd3l"
   },
   "source": [
    "## Prediction of House Price Using Linear Regression"
   ]
  },
  {
   "cell_type": "markdown",
   "metadata": {
    "colab_type": "text",
    "id": "0j3ZiTCPXd3m"
   },
   "source": [
    "### Data\n",
    "\n",
    "The Sacramento real estate transactions file is a list of 985 real estate transactions in the Sacramento area reported over a five-day period, as reported by the Sacramento Bee."
   ]
  },
  {
   "cell_type": "markdown",
   "metadata": {},
   "source": [
    "# Importing packages and displaying version numbers"
   ]
  },
  {
   "cell_type": "code",
   "execution_count": 8,
   "metadata": {
    "colab": {},
    "colab_type": "code",
    "id": "hejYh49cXd3n"
   },
   "outputs": [],
   "source": [
    "import pandas as pd\n",
    "import numpy as np\n",
    "import pandas as pd\n",
    "import matplotlib\n",
    "import matplotlib.pyplot as plt\n",
    "import matplotlib.pylab as pylab\n",
    "import seaborn as sns\n",
    "\n",
    "import math\n",
    "import statistics\n",
    "\n",
    "from scipy import stats\n",
    "\n",
    "from sklearn import datasets\n",
    "from sklearn.linear_model import LinearRegression\n",
    "from sklearn.metrics import accuracy_score\n",
    "\n",
    "%matplotlib inline"
   ]
  },
  {
   "cell_type": "code",
   "execution_count": 3,
   "metadata": {},
   "outputs": [
    {
     "name": "stdout",
     "output_type": "stream",
     "text": [
      "Numpy:  1.19.2\n",
      "Pandas:  1.1.3\n",
      "Seaborn: 0.11.0\n",
      "Matplotlib: 3.3.2\n"
     ]
    }
   ],
   "source": [
    "# As a good practice, displaying the library version numbers for future reference:\n",
    "print('Numpy: ', np.__version__)\n",
    "print('Pandas: ', pd.__version__)\n",
    "print('Seaborn:', sns.__version__)\n",
    "print('Matplotlib:' , matplotlib.__version__)"
   ]
  },
  {
   "cell_type": "markdown",
   "metadata": {
    "colab_type": "text",
    "id": "BlumKNPDXd3q"
   },
   "source": [
    "# 1. Explore Data"
   ]
  },
  {
   "cell_type": "markdown",
   "metadata": {
    "colab_type": "text",
    "id": "h1FUHCAnXd3r"
   },
   "source": [
    "Perform EDA on this dataset. Use what you have learned so far. Be creative. List all your findings."
   ]
  },
  {
   "cell_type": "code",
   "execution_count": 9,
   "metadata": {},
   "outputs": [],
   "source": [
    "# Read CSV\n",
    "house_csv = \"C:/Users/Monica/Desktop/IoD-Folders/MODULE 4/Labs/Sacramento_realestate_transactions.csv\"\n",
    "\n",
    "house = pd.read_csv(\"C:/Users/Monica/Desktop/IoD-Folders/MODULE 4/Labs/Sacramento_realestate_transactions.csv\")"
   ]
  },
  {
   "cell_type": "code",
   "execution_count": 5,
   "metadata": {},
   "outputs": [
    {
     "data": {
      "text/plain": [
       "(985, 12)"
      ]
     },
     "execution_count": 5,
     "metadata": {},
     "output_type": "execute_result"
    }
   ],
   "source": [
    "house.shape"
   ]
  },
  {
   "cell_type": "code",
   "execution_count": 6,
   "metadata": {
    "colab": {},
    "colab_type": "code",
    "id": "C8BX-oTKXd3s"
   },
   "outputs": [
    {
     "data": {
      "text/html": [
       "<div>\n",
       "<style scoped>\n",
       "    .dataframe tbody tr th:only-of-type {\n",
       "        vertical-align: middle;\n",
       "    }\n",
       "\n",
       "    .dataframe tbody tr th {\n",
       "        vertical-align: top;\n",
       "    }\n",
       "\n",
       "    .dataframe thead th {\n",
       "        text-align: right;\n",
       "    }\n",
       "</style>\n",
       "<table border=\"1\" class=\"dataframe\">\n",
       "  <thead>\n",
       "    <tr style=\"text-align: right;\">\n",
       "      <th></th>\n",
       "      <th>street</th>\n",
       "      <th>city</th>\n",
       "      <th>zip</th>\n",
       "      <th>state</th>\n",
       "      <th>beds</th>\n",
       "      <th>baths</th>\n",
       "      <th>sq__ft</th>\n",
       "      <th>type</th>\n",
       "      <th>sale_date</th>\n",
       "      <th>price</th>\n",
       "      <th>latitude</th>\n",
       "      <th>longitude</th>\n",
       "    </tr>\n",
       "  </thead>\n",
       "  <tbody>\n",
       "    <tr>\n",
       "      <th>0</th>\n",
       "      <td>3526 HIGH ST</td>\n",
       "      <td>SACRAMENTO</td>\n",
       "      <td>95838</td>\n",
       "      <td>CA</td>\n",
       "      <td>2</td>\n",
       "      <td>1</td>\n",
       "      <td>836</td>\n",
       "      <td>Residential</td>\n",
       "      <td>Wed May 21 00:00:00 EDT 2008</td>\n",
       "      <td>59222</td>\n",
       "      <td>38.631913</td>\n",
       "      <td>-121.434879</td>\n",
       "    </tr>\n",
       "    <tr>\n",
       "      <th>1</th>\n",
       "      <td>51 OMAHA CT</td>\n",
       "      <td>SACRAMENTO</td>\n",
       "      <td>95823</td>\n",
       "      <td>CA</td>\n",
       "      <td>3</td>\n",
       "      <td>1</td>\n",
       "      <td>1167</td>\n",
       "      <td>Residential</td>\n",
       "      <td>Wed May 21 00:00:00 EDT 2008</td>\n",
       "      <td>68212</td>\n",
       "      <td>38.478902</td>\n",
       "      <td>-121.431028</td>\n",
       "    </tr>\n",
       "    <tr>\n",
       "      <th>2</th>\n",
       "      <td>2796 BRANCH ST</td>\n",
       "      <td>SACRAMENTO</td>\n",
       "      <td>95815</td>\n",
       "      <td>CA</td>\n",
       "      <td>2</td>\n",
       "      <td>1</td>\n",
       "      <td>796</td>\n",
       "      <td>Residential</td>\n",
       "      <td>Wed May 21 00:00:00 EDT 2008</td>\n",
       "      <td>68880</td>\n",
       "      <td>38.618305</td>\n",
       "      <td>-121.443839</td>\n",
       "    </tr>\n",
       "    <tr>\n",
       "      <th>3</th>\n",
       "      <td>2805 JANETTE WAY</td>\n",
       "      <td>SACRAMENTO</td>\n",
       "      <td>95815</td>\n",
       "      <td>CA</td>\n",
       "      <td>2</td>\n",
       "      <td>1</td>\n",
       "      <td>852</td>\n",
       "      <td>Residential</td>\n",
       "      <td>Wed May 21 00:00:00 EDT 2008</td>\n",
       "      <td>69307</td>\n",
       "      <td>38.616835</td>\n",
       "      <td>-121.439146</td>\n",
       "    </tr>\n",
       "    <tr>\n",
       "      <th>4</th>\n",
       "      <td>6001 MCMAHON DR</td>\n",
       "      <td>SACRAMENTO</td>\n",
       "      <td>95824</td>\n",
       "      <td>CA</td>\n",
       "      <td>2</td>\n",
       "      <td>1</td>\n",
       "      <td>797</td>\n",
       "      <td>Residential</td>\n",
       "      <td>Wed May 21 00:00:00 EDT 2008</td>\n",
       "      <td>81900</td>\n",
       "      <td>38.519470</td>\n",
       "      <td>-121.435768</td>\n",
       "    </tr>\n",
       "  </tbody>\n",
       "</table>\n",
       "</div>"
      ],
      "text/plain": [
       "             street        city    zip state  beds  baths  sq__ft  \\\n",
       "0      3526 HIGH ST  SACRAMENTO  95838    CA     2      1     836   \n",
       "1       51 OMAHA CT  SACRAMENTO  95823    CA     3      1    1167   \n",
       "2    2796 BRANCH ST  SACRAMENTO  95815    CA     2      1     796   \n",
       "3  2805 JANETTE WAY  SACRAMENTO  95815    CA     2      1     852   \n",
       "4   6001 MCMAHON DR  SACRAMENTO  95824    CA     2      1     797   \n",
       "\n",
       "          type                     sale_date  price   latitude   longitude  \n",
       "0  Residential  Wed May 21 00:00:00 EDT 2008  59222  38.631913 -121.434879  \n",
       "1  Residential  Wed May 21 00:00:00 EDT 2008  68212  38.478902 -121.431028  \n",
       "2  Residential  Wed May 21 00:00:00 EDT 2008  68880  38.618305 -121.443839  \n",
       "3  Residential  Wed May 21 00:00:00 EDT 2008  69307  38.616835 -121.439146  \n",
       "4  Residential  Wed May 21 00:00:00 EDT 2008  81900  38.519470 -121.435768  "
      ]
     },
     "execution_count": 6,
     "metadata": {},
     "output_type": "execute_result"
    }
   ],
   "source": [
    "house.head()"
   ]
  },
  {
   "cell_type": "code",
   "execution_count": 7,
   "metadata": {},
   "outputs": [
    {
     "data": {
      "text/html": [
       "<div>\n",
       "<style scoped>\n",
       "    .dataframe tbody tr th:only-of-type {\n",
       "        vertical-align: middle;\n",
       "    }\n",
       "\n",
       "    .dataframe tbody tr th {\n",
       "        vertical-align: top;\n",
       "    }\n",
       "\n",
       "    .dataframe thead th {\n",
       "        text-align: right;\n",
       "    }\n",
       "</style>\n",
       "<table border=\"1\" class=\"dataframe\">\n",
       "  <thead>\n",
       "    <tr style=\"text-align: right;\">\n",
       "      <th></th>\n",
       "      <th>street</th>\n",
       "      <th>city</th>\n",
       "      <th>zip</th>\n",
       "      <th>state</th>\n",
       "      <th>beds</th>\n",
       "      <th>baths</th>\n",
       "      <th>sq__ft</th>\n",
       "      <th>type</th>\n",
       "      <th>sale_date</th>\n",
       "      <th>price</th>\n",
       "      <th>latitude</th>\n",
       "      <th>longitude</th>\n",
       "    </tr>\n",
       "  </thead>\n",
       "  <tbody>\n",
       "    <tr>\n",
       "      <th>980</th>\n",
       "      <td>9169 GARLINGTON CT</td>\n",
       "      <td>SACRAMENTO</td>\n",
       "      <td>95829</td>\n",
       "      <td>CA</td>\n",
       "      <td>4</td>\n",
       "      <td>3</td>\n",
       "      <td>2280</td>\n",
       "      <td>Residential</td>\n",
       "      <td>Thu May 15 00:00:00 EDT 2008</td>\n",
       "      <td>232425</td>\n",
       "      <td>38.457679</td>\n",
       "      <td>-121.359620</td>\n",
       "    </tr>\n",
       "    <tr>\n",
       "      <th>981</th>\n",
       "      <td>6932 RUSKUT WAY</td>\n",
       "      <td>SACRAMENTO</td>\n",
       "      <td>95823</td>\n",
       "      <td>CA</td>\n",
       "      <td>3</td>\n",
       "      <td>2</td>\n",
       "      <td>1477</td>\n",
       "      <td>Residential</td>\n",
       "      <td>Thu May 15 00:00:00 EDT 2008</td>\n",
       "      <td>234000</td>\n",
       "      <td>38.499893</td>\n",
       "      <td>-121.458890</td>\n",
       "    </tr>\n",
       "    <tr>\n",
       "      <th>982</th>\n",
       "      <td>7933 DAFFODIL WAY</td>\n",
       "      <td>CITRUS HEIGHTS</td>\n",
       "      <td>95610</td>\n",
       "      <td>CA</td>\n",
       "      <td>3</td>\n",
       "      <td>2</td>\n",
       "      <td>1216</td>\n",
       "      <td>Residential</td>\n",
       "      <td>Thu May 15 00:00:00 EDT 2008</td>\n",
       "      <td>235000</td>\n",
       "      <td>38.708824</td>\n",
       "      <td>-121.256803</td>\n",
       "    </tr>\n",
       "    <tr>\n",
       "      <th>983</th>\n",
       "      <td>8304 RED FOX WAY</td>\n",
       "      <td>ELK GROVE</td>\n",
       "      <td>95758</td>\n",
       "      <td>CA</td>\n",
       "      <td>4</td>\n",
       "      <td>2</td>\n",
       "      <td>1685</td>\n",
       "      <td>Residential</td>\n",
       "      <td>Thu May 15 00:00:00 EDT 2008</td>\n",
       "      <td>235301</td>\n",
       "      <td>38.417000</td>\n",
       "      <td>-121.397424</td>\n",
       "    </tr>\n",
       "    <tr>\n",
       "      <th>984</th>\n",
       "      <td>3882 YELLOWSTONE LN</td>\n",
       "      <td>EL DORADO HILLS</td>\n",
       "      <td>95762</td>\n",
       "      <td>CA</td>\n",
       "      <td>3</td>\n",
       "      <td>2</td>\n",
       "      <td>1362</td>\n",
       "      <td>Residential</td>\n",
       "      <td>Thu May 15 00:00:00 EDT 2008</td>\n",
       "      <td>235738</td>\n",
       "      <td>38.655245</td>\n",
       "      <td>-121.075915</td>\n",
       "    </tr>\n",
       "  </tbody>\n",
       "</table>\n",
       "</div>"
      ],
      "text/plain": [
       "                  street             city    zip state  beds  baths  sq__ft  \\\n",
       "980   9169 GARLINGTON CT       SACRAMENTO  95829    CA     4      3    2280   \n",
       "981      6932 RUSKUT WAY       SACRAMENTO  95823    CA     3      2    1477   \n",
       "982    7933 DAFFODIL WAY   CITRUS HEIGHTS  95610    CA     3      2    1216   \n",
       "983     8304 RED FOX WAY        ELK GROVE  95758    CA     4      2    1685   \n",
       "984  3882 YELLOWSTONE LN  EL DORADO HILLS  95762    CA     3      2    1362   \n",
       "\n",
       "            type                     sale_date   price   latitude   longitude  \n",
       "980  Residential  Thu May 15 00:00:00 EDT 2008  232425  38.457679 -121.359620  \n",
       "981  Residential  Thu May 15 00:00:00 EDT 2008  234000  38.499893 -121.458890  \n",
       "982  Residential  Thu May 15 00:00:00 EDT 2008  235000  38.708824 -121.256803  \n",
       "983  Residential  Thu May 15 00:00:00 EDT 2008  235301  38.417000 -121.397424  \n",
       "984  Residential  Thu May 15 00:00:00 EDT 2008  235738  38.655245 -121.075915  "
      ]
     },
     "execution_count": 7,
     "metadata": {},
     "output_type": "execute_result"
    }
   ],
   "source": [
    "house.tail()"
   ]
  },
  {
   "cell_type": "code",
   "execution_count": 8,
   "metadata": {},
   "outputs": [
    {
     "data": {
      "text/plain": [
       "street        object\n",
       "city          object\n",
       "zip            int64\n",
       "state         object\n",
       "beds           int64\n",
       "baths          int64\n",
       "sq__ft         int64\n",
       "type          object\n",
       "sale_date     object\n",
       "price          int64\n",
       "latitude     float64\n",
       "longitude    float64\n",
       "dtype: object"
      ]
     },
     "execution_count": 8,
     "metadata": {},
     "output_type": "execute_result"
    }
   ],
   "source": [
    "house.dtypes"
   ]
  },
  {
   "cell_type": "code",
   "execution_count": 9,
   "metadata": {},
   "outputs": [
    {
     "data": {
      "text/plain": [
       "RangeIndex(start=0, stop=985, step=1)"
      ]
     },
     "execution_count": 9,
     "metadata": {},
     "output_type": "execute_result"
    }
   ],
   "source": [
    "# To know is there is a (row) index for this DataFrame using .index\n",
    "house.index"
   ]
  },
  {
   "cell_type": "code",
   "execution_count": 10,
   "metadata": {},
   "outputs": [
    {
     "name": "stdout",
     "output_type": "stream",
     "text": [
      "<class 'pandas.core.frame.DataFrame'>\n",
      "RangeIndex: 985 entries, 0 to 984\n",
      "Data columns (total 12 columns):\n",
      " #   Column     Non-Null Count  Dtype  \n",
      "---  ------     --------------  -----  \n",
      " 0   street     985 non-null    object \n",
      " 1   city       985 non-null    object \n",
      " 2   zip        985 non-null    int64  \n",
      " 3   state      985 non-null    object \n",
      " 4   beds       985 non-null    int64  \n",
      " 5   baths      985 non-null    int64  \n",
      " 6   sq__ft     985 non-null    int64  \n",
      " 7   type       985 non-null    object \n",
      " 8   sale_date  985 non-null    object \n",
      " 9   price      985 non-null    int64  \n",
      " 10  latitude   985 non-null    float64\n",
      " 11  longitude  985 non-null    float64\n",
      "dtypes: float64(2), int64(5), object(5)\n",
      "memory usage: 92.5+ KB\n"
     ]
    }
   ],
   "source": [
    "# To get a concise summary and quick overview of the dataframe before doing EDA using info() function\n",
    "house.info()"
   ]
  },
  {
   "cell_type": "code",
   "execution_count": 11,
   "metadata": {},
   "outputs": [],
   "source": [
    "# Zip is categorical value, should be string\n",
    "house['zip'] = house['zip'].astype(str)"
   ]
  },
  {
   "cell_type": "code",
   "execution_count": 12,
   "metadata": {},
   "outputs": [
    {
     "data": {
      "text/html": [
       "<div>\n",
       "<style scoped>\n",
       "    .dataframe tbody tr th:only-of-type {\n",
       "        vertical-align: middle;\n",
       "    }\n",
       "\n",
       "    .dataframe tbody tr th {\n",
       "        vertical-align: top;\n",
       "    }\n",
       "\n",
       "    .dataframe thead th {\n",
       "        text-align: right;\n",
       "    }\n",
       "</style>\n",
       "<table border=\"1\" class=\"dataframe\">\n",
       "  <thead>\n",
       "    <tr style=\"text-align: right;\">\n",
       "      <th></th>\n",
       "      <th>count</th>\n",
       "      <th>mean</th>\n",
       "      <th>std</th>\n",
       "      <th>min</th>\n",
       "      <th>25%</th>\n",
       "      <th>50%</th>\n",
       "      <th>75%</th>\n",
       "      <th>max</th>\n",
       "    </tr>\n",
       "  </thead>\n",
       "  <tbody>\n",
       "    <tr>\n",
       "      <th>beds</th>\n",
       "      <td>985.0</td>\n",
       "      <td>2.911675</td>\n",
       "      <td>1.307932</td>\n",
       "      <td>0.000000</td>\n",
       "      <td>2.000000</td>\n",
       "      <td>3.000000</td>\n",
       "      <td>4.000000</td>\n",
       "      <td>8.000000</td>\n",
       "    </tr>\n",
       "    <tr>\n",
       "      <th>baths</th>\n",
       "      <td>985.0</td>\n",
       "      <td>1.776650</td>\n",
       "      <td>0.895371</td>\n",
       "      <td>0.000000</td>\n",
       "      <td>1.000000</td>\n",
       "      <td>2.000000</td>\n",
       "      <td>2.000000</td>\n",
       "      <td>5.000000</td>\n",
       "    </tr>\n",
       "    <tr>\n",
       "      <th>sq__ft</th>\n",
       "      <td>985.0</td>\n",
       "      <td>1314.916751</td>\n",
       "      <td>853.048243</td>\n",
       "      <td>0.000000</td>\n",
       "      <td>952.000000</td>\n",
       "      <td>1304.000000</td>\n",
       "      <td>1718.000000</td>\n",
       "      <td>5822.000000</td>\n",
       "    </tr>\n",
       "    <tr>\n",
       "      <th>price</th>\n",
       "      <td>985.0</td>\n",
       "      <td>234144.263959</td>\n",
       "      <td>138365.839085</td>\n",
       "      <td>1551.000000</td>\n",
       "      <td>145000.000000</td>\n",
       "      <td>213750.000000</td>\n",
       "      <td>300000.000000</td>\n",
       "      <td>884790.000000</td>\n",
       "    </tr>\n",
       "    <tr>\n",
       "      <th>latitude</th>\n",
       "      <td>985.0</td>\n",
       "      <td>38.607732</td>\n",
       "      <td>0.145433</td>\n",
       "      <td>38.241514</td>\n",
       "      <td>38.482717</td>\n",
       "      <td>38.626582</td>\n",
       "      <td>38.695589</td>\n",
       "      <td>39.020808</td>\n",
       "    </tr>\n",
       "    <tr>\n",
       "      <th>longitude</th>\n",
       "      <td>985.0</td>\n",
       "      <td>-121.355982</td>\n",
       "      <td>0.138278</td>\n",
       "      <td>-121.551704</td>\n",
       "      <td>-121.446127</td>\n",
       "      <td>-121.376220</td>\n",
       "      <td>-121.295778</td>\n",
       "      <td>-120.597599</td>\n",
       "    </tr>\n",
       "  </tbody>\n",
       "</table>\n",
       "</div>"
      ],
      "text/plain": [
       "           count           mean            std          min            25%  \\\n",
       "beds       985.0       2.911675       1.307932     0.000000       2.000000   \n",
       "baths      985.0       1.776650       0.895371     0.000000       1.000000   \n",
       "sq__ft     985.0    1314.916751     853.048243     0.000000     952.000000   \n",
       "price      985.0  234144.263959  138365.839085  1551.000000  145000.000000   \n",
       "latitude   985.0      38.607732       0.145433    38.241514      38.482717   \n",
       "longitude  985.0    -121.355982       0.138278  -121.551704    -121.446127   \n",
       "\n",
       "                     50%            75%            max  \n",
       "beds            3.000000       4.000000       8.000000  \n",
       "baths           2.000000       2.000000       5.000000  \n",
       "sq__ft       1304.000000    1718.000000    5822.000000  \n",
       "price      213750.000000  300000.000000  884790.000000  \n",
       "latitude       38.626582      38.695589      39.020808  \n",
       "longitude    -121.376220    -121.295778    -120.597599  "
      ]
     },
     "execution_count": 12,
     "metadata": {},
     "output_type": "execute_result"
    }
   ],
   "source": [
    "# Describe data\n",
    "house.describe().T"
   ]
  },
  {
   "cell_type": "code",
   "execution_count": 13,
   "metadata": {},
   "outputs": [
    {
     "data": {
      "text/html": [
       "<div>\n",
       "<style scoped>\n",
       "    .dataframe tbody tr th:only-of-type {\n",
       "        vertical-align: middle;\n",
       "    }\n",
       "\n",
       "    .dataframe tbody tr th {\n",
       "        vertical-align: top;\n",
       "    }\n",
       "\n",
       "    .dataframe thead th {\n",
       "        text-align: right;\n",
       "    }\n",
       "</style>\n",
       "<table border=\"1\" class=\"dataframe\">\n",
       "  <thead>\n",
       "    <tr style=\"text-align: right;\">\n",
       "      <th></th>\n",
       "      <th>street</th>\n",
       "      <th>city</th>\n",
       "      <th>zip</th>\n",
       "      <th>state</th>\n",
       "      <th>beds</th>\n",
       "      <th>baths</th>\n",
       "      <th>sq__ft</th>\n",
       "      <th>type</th>\n",
       "      <th>sale_date</th>\n",
       "      <th>price</th>\n",
       "      <th>latitude</th>\n",
       "      <th>longitude</th>\n",
       "    </tr>\n",
       "  </thead>\n",
       "  <tbody>\n",
       "    <tr>\n",
       "      <th>73</th>\n",
       "      <td>17 SERASPI CT</td>\n",
       "      <td>SACRAMENTO</td>\n",
       "      <td>95834</td>\n",
       "      <td>CA</td>\n",
       "      <td>0</td>\n",
       "      <td>0</td>\n",
       "      <td>0</td>\n",
       "      <td>Residential</td>\n",
       "      <td>Wed May 21 00:00:00 EDT 2008</td>\n",
       "      <td>206000</td>\n",
       "      <td>38.631481</td>\n",
       "      <td>-121.501880</td>\n",
       "    </tr>\n",
       "    <tr>\n",
       "      <th>89</th>\n",
       "      <td>2866 KARITSA AVE</td>\n",
       "      <td>SACRAMENTO</td>\n",
       "      <td>95833</td>\n",
       "      <td>CA</td>\n",
       "      <td>0</td>\n",
       "      <td>0</td>\n",
       "      <td>0</td>\n",
       "      <td>Residential</td>\n",
       "      <td>Wed May 21 00:00:00 EDT 2008</td>\n",
       "      <td>244500</td>\n",
       "      <td>38.626671</td>\n",
       "      <td>-121.525970</td>\n",
       "    </tr>\n",
       "    <tr>\n",
       "      <th>100</th>\n",
       "      <td>12209 CONSERVANCY WAY</td>\n",
       "      <td>RANCHO CORDOVA</td>\n",
       "      <td>95742</td>\n",
       "      <td>CA</td>\n",
       "      <td>0</td>\n",
       "      <td>0</td>\n",
       "      <td>0</td>\n",
       "      <td>Residential</td>\n",
       "      <td>Wed May 21 00:00:00 EDT 2008</td>\n",
       "      <td>263500</td>\n",
       "      <td>38.553867</td>\n",
       "      <td>-121.219141</td>\n",
       "    </tr>\n",
       "    <tr>\n",
       "      <th>121</th>\n",
       "      <td>5337 DUSTY ROSE WAY</td>\n",
       "      <td>RANCHO CORDOVA</td>\n",
       "      <td>95742</td>\n",
       "      <td>CA</td>\n",
       "      <td>0</td>\n",
       "      <td>0</td>\n",
       "      <td>0</td>\n",
       "      <td>Residential</td>\n",
       "      <td>Wed May 21 00:00:00 EDT 2008</td>\n",
       "      <td>320000</td>\n",
       "      <td>38.528575</td>\n",
       "      <td>-121.228600</td>\n",
       "    </tr>\n",
       "    <tr>\n",
       "      <th>126</th>\n",
       "      <td>2115 SMOKESTACK WAY</td>\n",
       "      <td>SACRAMENTO</td>\n",
       "      <td>95833</td>\n",
       "      <td>CA</td>\n",
       "      <td>0</td>\n",
       "      <td>0</td>\n",
       "      <td>0</td>\n",
       "      <td>Residential</td>\n",
       "      <td>Wed May 21 00:00:00 EDT 2008</td>\n",
       "      <td>339500</td>\n",
       "      <td>38.602416</td>\n",
       "      <td>-121.542965</td>\n",
       "    </tr>\n",
       "    <tr>\n",
       "      <th>...</th>\n",
       "      <td>...</td>\n",
       "      <td>...</td>\n",
       "      <td>...</td>\n",
       "      <td>...</td>\n",
       "      <td>...</td>\n",
       "      <td>...</td>\n",
       "      <td>...</td>\n",
       "      <td>...</td>\n",
       "      <td>...</td>\n",
       "      <td>...</td>\n",
       "      <td>...</td>\n",
       "      <td>...</td>\n",
       "    </tr>\n",
       "    <tr>\n",
       "      <th>901</th>\n",
       "      <td>1530 TOPANGA LN Unit 204</td>\n",
       "      <td>LINCOLN</td>\n",
       "      <td>95648</td>\n",
       "      <td>CA</td>\n",
       "      <td>0</td>\n",
       "      <td>0</td>\n",
       "      <td>0</td>\n",
       "      <td>Condo</td>\n",
       "      <td>Thu May 15 00:00:00 EDT 2008</td>\n",
       "      <td>138000</td>\n",
       "      <td>38.884150</td>\n",
       "      <td>-121.270277</td>\n",
       "    </tr>\n",
       "    <tr>\n",
       "      <th>917</th>\n",
       "      <td>501 POPLAR AVE</td>\n",
       "      <td>WEST SACRAMENTO</td>\n",
       "      <td>95691</td>\n",
       "      <td>CA</td>\n",
       "      <td>0</td>\n",
       "      <td>0</td>\n",
       "      <td>0</td>\n",
       "      <td>Residential</td>\n",
       "      <td>Thu May 15 00:00:00 EDT 2008</td>\n",
       "      <td>165000</td>\n",
       "      <td>38.584526</td>\n",
       "      <td>-121.534609</td>\n",
       "    </tr>\n",
       "    <tr>\n",
       "      <th>934</th>\n",
       "      <td>1550 TOPANGA LN Unit 207</td>\n",
       "      <td>LINCOLN</td>\n",
       "      <td>95648</td>\n",
       "      <td>CA</td>\n",
       "      <td>0</td>\n",
       "      <td>0</td>\n",
       "      <td>0</td>\n",
       "      <td>Condo</td>\n",
       "      <td>Thu May 15 00:00:00 EDT 2008</td>\n",
       "      <td>188000</td>\n",
       "      <td>38.884170</td>\n",
       "      <td>-121.270222</td>\n",
       "    </tr>\n",
       "    <tr>\n",
       "      <th>947</th>\n",
       "      <td>1525 PENNSYLVANIA AVE</td>\n",
       "      <td>WEST SACRAMENTO</td>\n",
       "      <td>95691</td>\n",
       "      <td>CA</td>\n",
       "      <td>0</td>\n",
       "      <td>0</td>\n",
       "      <td>0</td>\n",
       "      <td>Residential</td>\n",
       "      <td>Thu May 15 00:00:00 EDT 2008</td>\n",
       "      <td>200100</td>\n",
       "      <td>38.569943</td>\n",
       "      <td>-121.527539</td>\n",
       "    </tr>\n",
       "    <tr>\n",
       "      <th>970</th>\n",
       "      <td>3557 SODA WAY</td>\n",
       "      <td>SACRAMENTO</td>\n",
       "      <td>95834</td>\n",
       "      <td>CA</td>\n",
       "      <td>0</td>\n",
       "      <td>0</td>\n",
       "      <td>0</td>\n",
       "      <td>Residential</td>\n",
       "      <td>Thu May 15 00:00:00 EDT 2008</td>\n",
       "      <td>224000</td>\n",
       "      <td>38.631026</td>\n",
       "      <td>-121.501879</td>\n",
       "    </tr>\n",
       "  </tbody>\n",
       "</table>\n",
       "<p>108 rows × 12 columns</p>\n",
       "</div>"
      ],
      "text/plain": [
       "                       street             city    zip state  beds  baths  \\\n",
       "73              17 SERASPI CT       SACRAMENTO  95834    CA     0      0   \n",
       "89           2866 KARITSA AVE       SACRAMENTO  95833    CA     0      0   \n",
       "100     12209 CONSERVANCY WAY   RANCHO CORDOVA  95742    CA     0      0   \n",
       "121       5337 DUSTY ROSE WAY   RANCHO CORDOVA  95742    CA     0      0   \n",
       "126       2115 SMOKESTACK WAY       SACRAMENTO  95833    CA     0      0   \n",
       "..                        ...              ...    ...   ...   ...    ...   \n",
       "901  1530 TOPANGA LN Unit 204          LINCOLN  95648    CA     0      0   \n",
       "917            501 POPLAR AVE  WEST SACRAMENTO  95691    CA     0      0   \n",
       "934  1550 TOPANGA LN Unit 207          LINCOLN  95648    CA     0      0   \n",
       "947     1525 PENNSYLVANIA AVE  WEST SACRAMENTO  95691    CA     0      0   \n",
       "970             3557 SODA WAY       SACRAMENTO  95834    CA     0      0   \n",
       "\n",
       "     sq__ft         type                     sale_date   price   latitude  \\\n",
       "73        0  Residential  Wed May 21 00:00:00 EDT 2008  206000  38.631481   \n",
       "89        0  Residential  Wed May 21 00:00:00 EDT 2008  244500  38.626671   \n",
       "100       0  Residential  Wed May 21 00:00:00 EDT 2008  263500  38.553867   \n",
       "121       0  Residential  Wed May 21 00:00:00 EDT 2008  320000  38.528575   \n",
       "126       0  Residential  Wed May 21 00:00:00 EDT 2008  339500  38.602416   \n",
       "..      ...          ...                           ...     ...        ...   \n",
       "901       0        Condo  Thu May 15 00:00:00 EDT 2008  138000  38.884150   \n",
       "917       0  Residential  Thu May 15 00:00:00 EDT 2008  165000  38.584526   \n",
       "934       0        Condo  Thu May 15 00:00:00 EDT 2008  188000  38.884170   \n",
       "947       0  Residential  Thu May 15 00:00:00 EDT 2008  200100  38.569943   \n",
       "970       0  Residential  Thu May 15 00:00:00 EDT 2008  224000  38.631026   \n",
       "\n",
       "      longitude  \n",
       "73  -121.501880  \n",
       "89  -121.525970  \n",
       "100 -121.219141  \n",
       "121 -121.228600  \n",
       "126 -121.542965  \n",
       "..          ...  \n",
       "901 -121.270277  \n",
       "917 -121.534609  \n",
       "934 -121.270222  \n",
       "947 -121.527539  \n",
       "970 -121.501879  \n",
       "\n",
       "[108 rows x 12 columns]"
      ]
     },
     "execution_count": 13,
     "metadata": {},
     "output_type": "execute_result"
    }
   ],
   "source": [
    "# Got min values 0 for beds, baths, sq__ft which cannot be correct\n",
    "house[house['beds'] == 0]"
   ]
  },
  {
   "cell_type": "code",
   "execution_count": 14,
   "metadata": {},
   "outputs": [],
   "source": [
    "# filtering the dataframe using pd.DataFrame.loc to remove zeros from columns beds, baths and sq__ft that do not make any sense:\n",
    "house = house.loc[house['beds'] * house['baths'] * house['sq__ft'] != 0]"
   ]
  },
  {
   "cell_type": "code",
   "execution_count": 15,
   "metadata": {},
   "outputs": [
    {
     "data": {
      "text/plain": [
       "array([2, 3, 2, 2, 2, 3, 3, 3, 2, 3, 3, 3, 1, 3, 2, 2, 2, 2, 2, 3, 3, 4,\n",
       "       4, 3, 3, 3, 3, 3, 4, 3, 2, 3, 3, 3, 2, 3, 3, 4, 4, 1, 2, 3, 3, 2,\n",
       "       4, 4, 4, 4, 4, 3, 3, 4, 3, 4, 3, 3, 4, 3, 3, 4, 3, 3, 4, 3, 3, 3,\n",
       "       3, 3, 4, 3, 4, 3, 3, 3, 4, 4, 2, 5, 4, 3, 3, 4, 4, 4, 3, 3, 3, 3,\n",
       "       3, 5, 3, 4, 2, 3, 4, 5, 3, 3, 3, 3, 3, 4, 3, 2, 4, 8, 4, 4, 3, 2,\n",
       "       4, 5, 3, 2, 5, 4, 5, 5, 4, 2, 3, 4, 3, 4, 3, 4, 4, 4, 3, 5, 5, 4,\n",
       "       4, 3, 4, 3, 4, 3, 5, 5, 5, 4, 4, 5, 4, 3, 2, 4, 2, 2, 2, 3, 4, 3,\n",
       "       2, 3, 2, 2, 1, 3, 1, 3, 3, 3, 2, 3, 3, 3, 3, 3, 3, 3, 2, 3, 3, 3,\n",
       "       3, 2, 3, 2, 4, 3, 4, 3, 3, 3, 4, 2, 3, 2, 2, 2, 3, 2, 3, 3, 3, 3,\n",
       "       3, 3, 2, 3, 4, 4, 3, 4, 3, 3, 3, 3, 4, 4, 2, 2, 4, 3, 3, 3, 4, 3,\n",
       "       4, 4, 3, 2, 3, 3, 3, 3, 3, 4, 2, 3, 4, 3, 3, 5, 3, 4, 3, 4, 4, 4,\n",
       "       3, 4, 4, 4, 3, 4, 3, 3, 3, 3, 3, 4, 3, 4, 3, 4, 2, 3, 3, 2, 4, 3,\n",
       "       4, 4, 4, 3, 4, 4, 5, 5, 3, 4, 4, 5, 4, 2, 4, 3, 4, 4, 5, 2, 4, 4,\n",
       "       5, 4, 4, 5, 5, 4, 2, 1, 3, 2, 2, 2, 2, 2, 2, 2, 3, 2, 3, 3, 2, 2,\n",
       "       3, 2, 4, 1, 2, 4, 3, 3, 4, 3, 2, 2, 2, 3, 3, 4, 2, 2, 3, 2, 3, 3,\n",
       "       3, 2, 4, 4, 2, 2, 4, 3, 2, 2, 3, 3, 3, 3, 4, 3, 5, 3, 3, 3, 3, 4,\n",
       "       3, 3, 2, 2, 3, 2, 3, 4, 4, 3, 3, 4, 3, 3, 3, 3, 3, 4, 2, 3, 3, 3,\n",
       "       3, 3, 3, 3, 3, 2, 4, 4, 4, 3, 4, 2, 4, 4, 3, 3, 3, 2, 4, 3, 3, 4,\n",
       "       3, 4, 3, 2, 4, 3, 2, 3, 3, 2, 4, 5, 3, 3, 4, 4, 4, 5, 4, 3, 4, 4,\n",
       "       4, 3, 3, 4, 3, 4, 2, 4, 4, 4, 4, 3, 3, 4, 3, 4, 4, 3, 3, 3, 2, 4,\n",
       "       3, 5, 4, 4, 3, 4, 4, 4, 3, 3, 5, 5, 5, 4, 3, 4, 3, 4, 4, 4, 4, 3,\n",
       "       3, 2, 3, 3, 5, 3, 4, 4, 4, 2, 3, 4, 4, 5, 3, 4, 3, 3, 3, 4, 5, 4,\n",
       "       4, 5, 3, 5, 5, 3, 2, 2, 2, 2, 2, 2, 2, 2, 2, 2, 3, 2, 2, 4, 2, 4,\n",
       "       2, 1, 3, 3, 3, 3, 3, 4, 3, 4, 3, 4, 3, 2, 4, 3, 3, 3, 3, 2, 3, 3,\n",
       "       4, 3, 3, 3, 4, 6, 3, 3, 4, 3, 4, 3, 3, 5, 4, 3, 3, 3, 3, 3, 3, 3,\n",
       "       3, 3, 4, 3, 3, 3, 3, 3, 3, 4, 3, 4, 3, 3, 3, 3, 4, 2, 3, 3, 3, 4,\n",
       "       4, 3, 3, 3, 3, 3, 4, 3, 2, 3, 4, 4, 3, 3, 1, 4, 3, 4, 3, 4, 2, 2,\n",
       "       4, 3, 2, 4, 3, 5, 3, 4, 4, 3, 3, 5, 3, 4, 3, 4, 4, 3, 2, 3, 4, 3,\n",
       "       4, 3, 3, 4, 3, 3, 4, 3, 3, 3, 4, 3, 3, 3, 3, 3, 5, 3, 4, 5, 3, 4,\n",
       "       3, 3, 4, 3, 4, 4, 4, 4, 4, 2, 2, 3, 6, 3, 5, 3, 3, 3, 4, 4, 5, 4,\n",
       "       4, 5, 3, 3, 4, 4, 3, 4, 4, 4, 3, 3, 4, 5, 5, 3, 3, 3, 3, 4, 4, 3,\n",
       "       3, 3, 3, 5, 4, 2, 3, 4, 3, 5, 5, 4, 4, 4, 3, 3, 2, 4, 5, 4, 5, 4,\n",
       "       3, 4, 1, 2, 2, 2, 2, 4, 3, 2, 2, 3, 3, 3, 3, 1, 3, 3, 3, 3, 3, 3,\n",
       "       4, 3, 2, 4, 3, 3, 3, 3, 4, 2, 3, 3, 3, 3, 3, 2, 3, 4, 2, 3, 3, 3,\n",
       "       3, 3, 4, 3, 2, 4, 3, 3, 3, 4, 3, 3, 2, 3, 2, 3, 3, 4, 4, 3, 3, 3,\n",
       "       3, 4, 4, 3, 3, 3, 3, 3, 3, 3, 3, 4, 4, 2, 3, 2, 2, 3, 3, 3, 4, 3,\n",
       "       3, 3, 3, 3, 3, 3, 4, 4, 4, 3, 3, 3, 3, 3, 4, 4, 3, 4, 3, 3, 4, 3],\n",
       "      dtype=int64)"
      ]
     },
     "execution_count": 15,
     "metadata": {},
     "output_type": "execute_result"
    }
   ],
   "source": [
    "house['beds'].values"
   ]
  },
  {
   "cell_type": "code",
   "execution_count": 16,
   "metadata": {},
   "outputs": [
    {
     "data": {
      "text/plain": [
       "array([1, 1, 1, 1, 1, 1, 2, 1, 2, 2, 2, 2, 1, 1, 2, 2, 1, 1, 1, 2, 2, 2,\n",
       "       2, 2, 2, 2, 1, 2, 2, 2, 2, 2, 2, 2, 2, 2, 2, 2, 2, 1, 2, 2, 2, 2,\n",
       "       2, 1, 2, 1, 2, 2, 2, 2, 2, 2, 2, 2, 2, 2, 1, 3, 2, 2, 2, 1, 2, 2,\n",
       "       2, 2, 4, 2, 2, 2, 1, 2, 2, 2, 2, 3, 2, 2, 2, 2, 2, 3, 2, 2, 2, 2,\n",
       "       1, 3, 2, 2, 2, 2, 2, 3, 2, 1, 2, 2, 1, 3, 2, 2, 3, 4, 2, 2, 2, 1,\n",
       "       4, 3, 2, 2, 3, 2, 3, 4, 3, 1, 3, 3, 2, 2, 3, 2, 3, 3, 2, 3, 3, 2,\n",
       "       2, 3, 3, 2, 3, 3, 3, 3, 3, 3, 3, 4, 2, 3, 1, 2, 1, 1, 1, 1, 2, 1,\n",
       "       1, 1, 1, 1, 1, 1, 1, 1, 1, 1, 2, 1, 1, 2, 1, 2, 2, 1, 1, 2, 2, 1,\n",
       "       2, 2, 2, 1, 2, 2, 2, 1, 2, 2, 2, 2, 2, 1, 2, 1, 2, 1, 2, 2, 2, 2,\n",
       "       2, 2, 2, 2, 2, 2, 2, 2, 2, 1, 2, 2, 2, 3, 1, 1, 2, 2, 1, 2, 2, 2,\n",
       "       2, 2, 1, 2, 2, 2, 2, 1, 2, 3, 1, 2, 2, 2, 2, 4, 2, 2, 2, 2, 3, 3,\n",
       "       2, 3, 2, 3, 2, 2, 2, 2, 2, 2, 1, 3, 2, 2, 2, 2, 2, 2, 2, 1, 3, 1,\n",
       "       2, 2, 3, 2, 2, 2, 3, 4, 2, 2, 3, 4, 2, 1, 2, 1, 3, 4, 3, 2, 3, 3,\n",
       "       3, 2, 3, 5, 2, 4, 1, 1, 1, 1, 1, 1, 1, 1, 1, 1, 1, 1, 1, 1, 1, 2,\n",
       "       1, 1, 2, 1, 1, 2, 1, 1, 2, 1, 1, 2, 2, 1, 2, 4, 1, 2, 2, 2, 1, 2,\n",
       "       2, 1, 2, 2, 1, 1, 2, 2, 1, 2, 2, 2, 2, 2, 2, 2, 2, 2, 2, 2, 2, 2,\n",
       "       2, 2, 1, 2, 2, 2, 2, 2, 2, 1, 2, 2, 2, 2, 2, 2, 2, 2, 2, 1, 2, 2,\n",
       "       2, 1, 2, 1, 2, 1, 2, 3, 2, 1, 2, 2, 2, 3, 1, 2, 2, 1, 3, 2, 1, 2,\n",
       "       2, 2, 2, 1, 3, 2, 2, 1, 2, 2, 3, 4, 2, 2, 2, 3, 2, 3, 2, 2, 3, 2,\n",
       "       2, 1, 2, 2, 2, 2, 2, 3, 2, 2, 2, 1, 2, 3, 2, 3, 2, 3, 2, 2, 2, 2,\n",
       "       2, 3, 2, 2, 2, 2, 3, 2, 2, 2, 3, 3, 3, 2, 3, 2, 2, 2, 2, 2, 2, 2,\n",
       "       1, 2, 2, 1, 3, 2, 3, 2, 3, 3, 2, 2, 4, 3, 2, 4, 3, 2, 2, 2, 2, 3,\n",
       "       3, 3, 2, 3, 3, 2, 1, 1, 1, 1, 1, 2, 1, 1, 1, 1, 2, 1, 1, 2, 1, 2,\n",
       "       1, 1, 2, 2, 2, 2, 2, 2, 2, 2, 2, 2, 2, 2, 3, 2, 2, 1, 1, 2, 2, 2,\n",
       "       2, 2, 2, 2, 2, 4, 2, 2, 2, 2, 2, 2, 2, 2, 2, 2, 1, 1, 2, 2, 1, 2,\n",
       "       2, 2, 2, 2, 2, 2, 2, 2, 2, 2, 2, 2, 2, 2, 2, 1, 2, 1, 2, 2, 2, 2,\n",
       "       3, 1, 1, 2, 1, 1, 2, 2, 1, 2, 2, 2, 2, 2, 1, 2, 2, 1, 2, 2, 1, 1,\n",
       "       2, 2, 2, 2, 2, 2, 2, 2, 3, 2, 2, 3, 2, 2, 2, 3, 2, 2, 2, 2, 2, 2,\n",
       "       2, 2, 2, 3, 2, 2, 2, 2, 1, 2, 2, 2, 2, 2, 2, 2, 3, 2, 3, 3, 2, 2,\n",
       "       2, 2, 3, 2, 2, 2, 2, 2, 2, 1, 2, 2, 3, 2, 3, 2, 2, 2, 3, 2, 3, 2,\n",
       "       3, 3, 2, 2, 3, 2, 2, 3, 2, 3, 3, 2, 2, 3, 3, 2, 2, 2, 2, 2, 3, 1,\n",
       "       2, 2, 2, 3, 2, 1, 2, 3, 1, 3, 3, 3, 2, 3, 2, 1, 1, 3, 4, 3, 3, 3,\n",
       "       4, 2, 1, 1, 1, 1, 1, 2, 2, 1, 2, 1, 2, 2, 1, 1, 1, 1, 1, 2, 2, 1,\n",
       "       2, 2, 2, 2, 2, 1, 2, 2, 2, 1, 2, 1, 2, 1, 2, 1, 1, 2, 1, 2, 2, 2,\n",
       "       2, 2, 2, 2, 1, 2, 1, 2, 2, 2, 2, 1, 2, 2, 2, 2, 2, 2, 2, 1, 2, 1,\n",
       "       1, 3, 2, 2, 2, 2, 1, 2, 2, 2, 2, 2, 3, 2, 2, 2, 1, 2, 1, 2, 2, 2,\n",
       "       2, 2, 1, 2, 2, 2, 2, 2, 2, 1, 1, 1, 2, 2, 2, 2, 2, 3, 2, 2, 2, 2],\n",
       "      dtype=int64)"
      ]
     },
     "execution_count": 16,
     "metadata": {},
     "output_type": "execute_result"
    }
   ],
   "source": [
    "house['baths'].values"
   ]
  },
  {
   "cell_type": "code",
   "execution_count": 17,
   "metadata": {},
   "outputs": [
    {
     "data": {
      "text/plain": [
       "array([ 836, 1167,  796,  852,  797, 1122, 1104, 1177,  941, 1146,  909,\n",
       "       1289,  871, 1020, 1022, 1134,  844,  795,  588, 1356, 1118, 1329,\n",
       "       1240, 1601,  901, 1088,  963, 1119, 1380, 1248, 1039, 1152, 1380,\n",
       "       1116, 1039, 1418, 1082, 1472, 1146,  760, 1304, 1207, 1056, 1043,\n",
       "       1587, 1120, 1580, 1955, 1656, 1477, 1188, 1590, 1463, 1714, 1185,\n",
       "       1406, 1943, 1172, 1152, 1851, 1215, 1130, 1603, 1479, 1420, 1280,\n",
       "       1586, 1362, 2162, 1266, 1715, 1820,  936, 1511, 1590, 1596, 1341,\n",
       "       2136, 1616, 1478, 1287, 1277, 1448, 2235, 2093, 1193, 2163, 1269,\n",
       "        958, 2508, 1305, 1591, 1326, 1843, 1921, 2790, 1541, 1018, 1672,\n",
       "       1380,  975, 2372, 1446, 1284, 3009, 3612, 2056, 1993, 1857, 1126,\n",
       "       2213, 2494, 1843, 1520, 2800, 2309, 2367, 3516, 1914, 1690, 2725,\n",
       "       2354, 2185, 1801, 1961, 3134, 1915, 2734, 2110, 3164, 3599, 2054,\n",
       "       1830, 1627, 3440, 2846, 2359, 2052, 3433, 3615, 2687, 2724, 3440,\n",
       "       3508, 2462, 2325,  795, 1099,  840,  800,  746, 1067, 1316, 1337,\n",
       "        868,  924,  610, 1220,  722, 1643,  722, 1080, 1039, 1051,  967,\n",
       "       1098, 1050, 1110,  888, 1120, 1080,  957,  952, 1211, 1264, 1080,\n",
       "       1266,  994, 1202,  722, 1448, 1188, 1183, 1320, 1117, 1364, 1310,\n",
       "       1006, 1104,  810, 1123,  904, 1156, 1321, 1392, 1439, 1159, 1671,\n",
       "       1740, 1265, 1007, 1716, 1685, 1829, 1555, 1120, 1137, 1174, 1393,\n",
       "       1289, 1799, 1953,  723,  948, 1578, 1317, 1360, 1522, 1751, 1465,\n",
       "       1605, 1475, 1216, 1315, 1567, 1776, 2187, 1291, 1503, 2491, 1269,\n",
       "       1176, 1456, 1498, 1574, 2085, 2170, 1595, 1567, 1253, 1768, 2030,\n",
       "       1531, 1653, 2056, 2494, 1450, 2169, 1440, 1527, 1401, 1411, 1284,\n",
       "       2307, 1329, 1910, 1981, 2205, 1449, 1258, 2575,  539, 2208, 1108,\n",
       "       1595, 2159, 2295, 1838, 1900, 1718, 3389, 3260, 2016, 2607, 2724,\n",
       "       3746, 3192, 1247, 2581, 2068, 3992, 3397, 3881, 1598, 1929, 3070,\n",
       "       3984, 2222, 3838, 2846, 2484, 1624,  840,  484,  970,  623,  932,\n",
       "        796,  834,  834,  924,  795, 1250,  984, 1013, 1012,  795,  918,\n",
       "       1082,  964, 1404,  625,  888, 1120, 1331, 1014, 1448,  966,  779,\n",
       "        836, 1100, 1174, 1207, 1995,  804,  958, 1366,  901,  696, 1080,\n",
       "       1104,  972, 1390, 1354,  795,  780, 1587, 1209, 1139, 1690, 1245,\n",
       "       1416, 1300, 1120, 1590, 1407, 1516, 1646, 1676, 1370, 1370, 1351,\n",
       "       1152, 1452,  990, 1162, 1182, 1112, 1100, 1280, 1280, 1039, 1159,\n",
       "       1917, 1520, 1204, 1120, 1436, 1451, 1638, 1000, 1152, 1154, 1353,\n",
       "       1329, 1356, 1505, 1009, 1144,  930, 1766, 1940, 1776, 1258, 1872,\n",
       "       1112, 1856, 1939,  998, 1758, 2142,  950, 1739, 1516,  988, 1555,\n",
       "       1212, 1871, 1302,  756, 2026, 1375, 1250, 1058, 1187, 1324, 1936,\n",
       "       2382, 1427, 1678, 1798, 2652, 1816, 3076, 1844, 1306, 2447, 1176,\n",
       "       1182, 1160, 1424, 1574, 1830, 1724, 1255, 2175, 1904, 1808, 2711,\n",
       "       1713, 1457, 2724, 1468, 2550, 1928, 1922, 1343, 1510,  960, 1559,\n",
       "       1624, 2992, 2109, 1524, 1248, 1876, 1851, 2218, 1394, 1410, 3468,\n",
       "       2346, 2347, 1659, 2442, 2155, 1810, 2789, 1606, 2166, 1871, 1800,\n",
       "       1683, 1596, 1179, 1639, 3281, 1697, 2085, 1744, 1939, 1788, 1691,\n",
       "       2002, 4303, 4246, 2274, 3056, 2503, 1905, 1320, 3037, 3741, 2660,\n",
       "       3357, 2896, 2025, 3788, 3670, 1166,  838,  904, 1032,  904, 1080,\n",
       "        990,  900,  861,  906, 1011, 1089,  832,  800, 1292,  810, 1064,\n",
       "        911,  846, 1320, 1410, 1115, 1169, 1164, 1341, 1219, 1127, 1272,\n",
       "       1253, 1120, 1118, 1890, 1260, 1400, 1264, 1060, 1132, 1466, 1092,\n",
       "       1628,  960, 1075, 1428, 1358, 2475, 1410, 1711, 1483, 1140, 1549,\n",
       "       1410, 1240, 1712, 1580, 1669, 1029, 1103, 2161, 1650, 1320, 1200,\n",
       "       1170, 1199, 1695, 1157, 1410, 1174, 1593, 1093, 1770, 1436, 1124,\n",
       "       1139, 1638, 1328, 1273, 1082, 1578,  796, 1386, 1452, 1513, 1578,\n",
       "       1736, 1473, 1150, 1127, 1144,  972, 2306, 1479, 1040, 1430, 1800,\n",
       "       1953, 1120, 1232,  984, 2329, 1351, 1376, 1300, 1566, 1115, 1032,\n",
       "       1419, 1261, 1637, 1776, 1338, 2254, 1441, 1991, 2126, 1094, 1462,\n",
       "       2258, 1074, 2111, 1686, 1915, 2367, 1962, 1406, 1789, 1876, 1235,\n",
       "       2504, 1676, 1367, 1899, 1636, 1828, 1438, 1451, 1520, 1506, 2605,\n",
       "       1196, 1621, 1811, 1540, 1543, 2494, 1650, 2214, 2280, 1443, 1582,\n",
       "       1857, 1735, 2096, 1720, 2160, 1382, 1721, 1328, 1982, 1144, 1623,\n",
       "       1457, 2555, 1577, 2592, 1401, 1502, 1327, 1800, 2169, 2457, 2004,\n",
       "       2212, 3134, 1360, 1276, 2962, 1888, 1548, 2109, 2484, 2258, 2212,\n",
       "       1616, 2372, 2606, 2877, 2960, 2172, 2100, 1795, 2295, 2577, 1727,\n",
       "       1485, 1655, 2049, 2875, 2199, 1304, 2334, 2278, 1493, 2787, 2824,\n",
       "       3261, 2053, 2379, 3173, 1348, 1252, 3229, 3863, 2356, 3579, 4400,\n",
       "       5822, 1512,  611,  876,  933,  864, 1011, 1158, 1092,  956, 1139,\n",
       "       1058, 1040, 1354, 1051,  682, 1161, 1004, 1229, 1249, 1161, 1010,\n",
       "       1462, 1269, 1188, 1570, 1093,  962, 1089, 1127, 1309,  970, 1144,\n",
       "       1000, 1206, 1285, 1543,  884, 1019, 1392,  924, 1217, 1670, 1302,\n",
       "       1488, 1373, 1381, 1265,  881, 1608, 1344, 1202, 1104, 1859, 1232,\n",
       "       1638, 1177, 1582,  904, 1340, 1204, 1477, 1497,  960, 1428, 1039,\n",
       "       1529, 1892, 1887, 1294, 1638, 1677, 1073, 1231, 1175, 1416, 1358,\n",
       "       1609, 1968, 1089, 1296, 1189,  795, 1371, 1310, 1262, 1740, 1517,\n",
       "       1450, 1416,  888, 1882, 1302, 1418, 1319, 1770, 1627, 1040,  960,\n",
       "       1456, 1450, 1358, 1329, 1715, 1262, 2280, 1477, 1216, 1685, 1362],\n",
       "      dtype=int64)"
      ]
     },
     "execution_count": 17,
     "metadata": {},
     "output_type": "execute_result"
    }
   ],
   "source": [
    "house['sq__ft'].values"
   ]
  },
  {
   "cell_type": "code",
   "execution_count": 18,
   "metadata": {},
   "outputs": [
    {
     "data": {
      "text/plain": [
       "(814, 12)"
      ]
     },
     "execution_count": 18,
     "metadata": {},
     "output_type": "execute_result"
    }
   ],
   "source": [
    "# number of records after dropping zero values that did not make any sense\n",
    "house.shape"
   ]
  },
  {
   "cell_type": "code",
   "execution_count": 19,
   "metadata": {},
   "outputs": [
    {
     "data": {
      "text/html": [
       "<div>\n",
       "<style scoped>\n",
       "    .dataframe tbody tr th:only-of-type {\n",
       "        vertical-align: middle;\n",
       "    }\n",
       "\n",
       "    .dataframe tbody tr th {\n",
       "        vertical-align: top;\n",
       "    }\n",
       "\n",
       "    .dataframe thead th {\n",
       "        text-align: right;\n",
       "    }\n",
       "</style>\n",
       "<table border=\"1\" class=\"dataframe\">\n",
       "  <thead>\n",
       "    <tr style=\"text-align: right;\">\n",
       "      <th></th>\n",
       "      <th>street</th>\n",
       "      <th>city</th>\n",
       "      <th>zip</th>\n",
       "      <th>state</th>\n",
       "      <th>beds</th>\n",
       "      <th>baths</th>\n",
       "      <th>sq__ft</th>\n",
       "      <th>type</th>\n",
       "      <th>sale_date</th>\n",
       "      <th>price</th>\n",
       "      <th>latitude</th>\n",
       "      <th>longitude</th>\n",
       "    </tr>\n",
       "  </thead>\n",
       "  <tbody>\n",
       "    <tr>\n",
       "      <th>0</th>\n",
       "      <td>False</td>\n",
       "      <td>False</td>\n",
       "      <td>False</td>\n",
       "      <td>False</td>\n",
       "      <td>False</td>\n",
       "      <td>False</td>\n",
       "      <td>False</td>\n",
       "      <td>False</td>\n",
       "      <td>False</td>\n",
       "      <td>False</td>\n",
       "      <td>False</td>\n",
       "      <td>False</td>\n",
       "    </tr>\n",
       "    <tr>\n",
       "      <th>1</th>\n",
       "      <td>False</td>\n",
       "      <td>False</td>\n",
       "      <td>False</td>\n",
       "      <td>False</td>\n",
       "      <td>False</td>\n",
       "      <td>False</td>\n",
       "      <td>False</td>\n",
       "      <td>False</td>\n",
       "      <td>False</td>\n",
       "      <td>False</td>\n",
       "      <td>False</td>\n",
       "      <td>False</td>\n",
       "    </tr>\n",
       "    <tr>\n",
       "      <th>2</th>\n",
       "      <td>False</td>\n",
       "      <td>False</td>\n",
       "      <td>False</td>\n",
       "      <td>False</td>\n",
       "      <td>False</td>\n",
       "      <td>False</td>\n",
       "      <td>False</td>\n",
       "      <td>False</td>\n",
       "      <td>False</td>\n",
       "      <td>False</td>\n",
       "      <td>False</td>\n",
       "      <td>False</td>\n",
       "    </tr>\n",
       "    <tr>\n",
       "      <th>3</th>\n",
       "      <td>False</td>\n",
       "      <td>False</td>\n",
       "      <td>False</td>\n",
       "      <td>False</td>\n",
       "      <td>False</td>\n",
       "      <td>False</td>\n",
       "      <td>False</td>\n",
       "      <td>False</td>\n",
       "      <td>False</td>\n",
       "      <td>False</td>\n",
       "      <td>False</td>\n",
       "      <td>False</td>\n",
       "    </tr>\n",
       "    <tr>\n",
       "      <th>4</th>\n",
       "      <td>False</td>\n",
       "      <td>False</td>\n",
       "      <td>False</td>\n",
       "      <td>False</td>\n",
       "      <td>False</td>\n",
       "      <td>False</td>\n",
       "      <td>False</td>\n",
       "      <td>False</td>\n",
       "      <td>False</td>\n",
       "      <td>False</td>\n",
       "      <td>False</td>\n",
       "      <td>False</td>\n",
       "    </tr>\n",
       "    <tr>\n",
       "      <th>...</th>\n",
       "      <td>...</td>\n",
       "      <td>...</td>\n",
       "      <td>...</td>\n",
       "      <td>...</td>\n",
       "      <td>...</td>\n",
       "      <td>...</td>\n",
       "      <td>...</td>\n",
       "      <td>...</td>\n",
       "      <td>...</td>\n",
       "      <td>...</td>\n",
       "      <td>...</td>\n",
       "      <td>...</td>\n",
       "    </tr>\n",
       "    <tr>\n",
       "      <th>980</th>\n",
       "      <td>False</td>\n",
       "      <td>False</td>\n",
       "      <td>False</td>\n",
       "      <td>False</td>\n",
       "      <td>False</td>\n",
       "      <td>False</td>\n",
       "      <td>False</td>\n",
       "      <td>False</td>\n",
       "      <td>False</td>\n",
       "      <td>False</td>\n",
       "      <td>False</td>\n",
       "      <td>False</td>\n",
       "    </tr>\n",
       "    <tr>\n",
       "      <th>981</th>\n",
       "      <td>False</td>\n",
       "      <td>False</td>\n",
       "      <td>False</td>\n",
       "      <td>False</td>\n",
       "      <td>False</td>\n",
       "      <td>False</td>\n",
       "      <td>False</td>\n",
       "      <td>False</td>\n",
       "      <td>False</td>\n",
       "      <td>False</td>\n",
       "      <td>False</td>\n",
       "      <td>False</td>\n",
       "    </tr>\n",
       "    <tr>\n",
       "      <th>982</th>\n",
       "      <td>False</td>\n",
       "      <td>False</td>\n",
       "      <td>False</td>\n",
       "      <td>False</td>\n",
       "      <td>False</td>\n",
       "      <td>False</td>\n",
       "      <td>False</td>\n",
       "      <td>False</td>\n",
       "      <td>False</td>\n",
       "      <td>False</td>\n",
       "      <td>False</td>\n",
       "      <td>False</td>\n",
       "    </tr>\n",
       "    <tr>\n",
       "      <th>983</th>\n",
       "      <td>False</td>\n",
       "      <td>False</td>\n",
       "      <td>False</td>\n",
       "      <td>False</td>\n",
       "      <td>False</td>\n",
       "      <td>False</td>\n",
       "      <td>False</td>\n",
       "      <td>False</td>\n",
       "      <td>False</td>\n",
       "      <td>False</td>\n",
       "      <td>False</td>\n",
       "      <td>False</td>\n",
       "    </tr>\n",
       "    <tr>\n",
       "      <th>984</th>\n",
       "      <td>False</td>\n",
       "      <td>False</td>\n",
       "      <td>False</td>\n",
       "      <td>False</td>\n",
       "      <td>False</td>\n",
       "      <td>False</td>\n",
       "      <td>False</td>\n",
       "      <td>False</td>\n",
       "      <td>False</td>\n",
       "      <td>False</td>\n",
       "      <td>False</td>\n",
       "      <td>False</td>\n",
       "    </tr>\n",
       "  </tbody>\n",
       "</table>\n",
       "<p>814 rows × 12 columns</p>\n",
       "</div>"
      ],
      "text/plain": [
       "     street   city    zip  state   beds  baths  sq__ft   type  sale_date  \\\n",
       "0     False  False  False  False  False  False   False  False      False   \n",
       "1     False  False  False  False  False  False   False  False      False   \n",
       "2     False  False  False  False  False  False   False  False      False   \n",
       "3     False  False  False  False  False  False   False  False      False   \n",
       "4     False  False  False  False  False  False   False  False      False   \n",
       "..      ...    ...    ...    ...    ...    ...     ...    ...        ...   \n",
       "980   False  False  False  False  False  False   False  False      False   \n",
       "981   False  False  False  False  False  False   False  False      False   \n",
       "982   False  False  False  False  False  False   False  False      False   \n",
       "983   False  False  False  False  False  False   False  False      False   \n",
       "984   False  False  False  False  False  False   False  False      False   \n",
       "\n",
       "     price  latitude  longitude  \n",
       "0    False     False      False  \n",
       "1    False     False      False  \n",
       "2    False     False      False  \n",
       "3    False     False      False  \n",
       "4    False     False      False  \n",
       "..     ...       ...        ...  \n",
       "980  False     False      False  \n",
       "981  False     False      False  \n",
       "982  False     False      False  \n",
       "983  False     False      False  \n",
       "984  False     False      False  \n",
       "\n",
       "[814 rows x 12 columns]"
      ]
     },
     "execution_count": 19,
     "metadata": {},
     "output_type": "execute_result"
    }
   ],
   "source": [
    "# Detecting if the dataset has missing values using isnull() function\n",
    "house.isnull()"
   ]
  },
  {
   "cell_type": "code",
   "execution_count": 20,
   "metadata": {},
   "outputs": [
    {
     "data": {
      "text/plain": [
       "street       0\n",
       "city         0\n",
       "zip          0\n",
       "state        0\n",
       "beds         0\n",
       "baths        0\n",
       "sq__ft       0\n",
       "type         0\n",
       "sale_date    0\n",
       "price        0\n",
       "latitude     0\n",
       "longitude    0\n",
       "dtype: int64"
      ]
     },
     "execution_count": 20,
     "metadata": {},
     "output_type": "execute_result"
    }
   ],
   "source": [
    "# If there are missing values, they can be count using isnull() in combination with .sum() function\n",
    "# It is clear that there are not missing values for any of the 12 variables.\n",
    "house.isnull().sum()"
   ]
  },
  {
   "cell_type": "code",
   "execution_count": 21,
   "metadata": {},
   "outputs": [
    {
     "data": {
      "text/plain": [
       "SACRAMENTO         424\n",
       "ELK GROVE          107\n",
       "CITRUS HEIGHTS      35\n",
       "ANTELOPE            33\n",
       "ROSEVILLE           28\n",
       "NORTH HIGHLANDS     21\n",
       "RANCHO CORDOVA      21\n",
       "CARMICHAEL          20\n",
       "GALT                20\n",
       "FOLSOM              15\n",
       "RIO LINDA           12\n",
       "ORANGEVALE          11\n",
       "FAIR OAKS            9\n",
       "ROCKLIN              8\n",
       "LINCOLN              6\n",
       "PLACERVILLE          5\n",
       "ELVERTA              4\n",
       "WILTON               4\n",
       "EL DORADO HILLS      3\n",
       "GOLD RIVER           3\n",
       "AUBURN               3\n",
       "GRANITE BAY          3\n",
       "POLLOCK PINES        3\n",
       "LOOMIS               2\n",
       "RANCHO MURIETA       2\n",
       "EL DORADO            2\n",
       "SLOUGHHOUSE          1\n",
       "CAMERON PARK         1\n",
       "MEADOW VISTA         1\n",
       "COOL                 1\n",
       "WALNUT GROVE         1\n",
       "GREENWOOD            1\n",
       "DIAMOND SPRINGS      1\n",
       "WEST SACRAMENTO      1\n",
       "PENRYN               1\n",
       "MATHER               1\n",
       "Name: city, dtype: int64"
      ]
     },
     "execution_count": 21,
     "metadata": {},
     "output_type": "execute_result"
    }
   ],
   "source": [
    "# If there are categorical variables in the dataset, it is good to know how many possible values there are in each column. \n",
    "# In this case the variable quality could be also understood as an ordinal variable, what is the range of the wine quality dataset?\n",
    "house['city'].value_counts()"
   ]
  },
  {
   "cell_type": "code",
   "execution_count": 22,
   "metadata": {},
   "outputs": [
    {
     "data": {
      "text/plain": [
       "Residential     759\n",
       "Condo            42\n",
       "Multi-Family     13\n",
       "Name: type, dtype: int64"
      ]
     },
     "execution_count": 22,
     "metadata": {},
     "output_type": "execute_result"
    }
   ],
   "source": [
    "house['type'].value_counts()"
   ]
  },
  {
   "cell_type": "code",
   "execution_count": 23,
   "metadata": {},
   "outputs": [],
   "source": [
    "# To check minimun and maximum value of all columns defining a function\n",
    "def check_min_max(df):\n",
    "    # Check min, max of each column\n",
    "    print(df.describe().T[['min', 'max']])"
   ]
  },
  {
   "cell_type": "code",
   "execution_count": 24,
   "metadata": {},
   "outputs": [
    {
     "name": "stdout",
     "output_type": "stream",
     "text": [
      "                   min            max\n",
      "beds          1.000000       8.000000\n",
      "baths         1.000000       5.000000\n",
      "sq__ft      484.000000    5822.000000\n",
      "price      2000.000000  884790.000000\n",
      "latitude     38.241514      39.008159\n",
      "longitude  -121.550527    -120.597599\n"
     ]
    }
   ],
   "source": [
    "check_min_max(house)"
   ]
  },
  {
   "cell_type": "code",
   "execution_count": 25,
   "metadata": {},
   "outputs": [],
   "source": [
    "# Loading the dataset using pd.read_csv\n",
    "house = pd.read_csv(\"C:/Users/Monica/Desktop/IoD-Folders/MODULE 4/Labs/Sacramento_realestate_transactions.csv\")"
   ]
  },
  {
   "cell_type": "code",
   "execution_count": 26,
   "metadata": {},
   "outputs": [
    {
     "data": {
      "text/plain": [
       "<Figure size 1080x504 with 0 Axes>"
      ]
     },
     "metadata": {},
     "output_type": "display_data"
    },
    {
     "data": {
      "image/png": "[encoded data removed]",
      "text/plain": [
       "<Figure size 360x360 with 1 Axes>"
      ]
     },
     "metadata": {
      "needs_background": "light"
     },
     "output_type": "display_data"
    }
   ],
   "source": [
    "# Plotting univariate histograms for the most representative features\n",
    "plt.figure(figsize=(15,7))\n",
    "ax = sns.displot(house, x='beds', discrete=True, kde=True)"
   ]
  },
  {
   "cell_type": "code",
   "execution_count": 27,
   "metadata": {},
   "outputs": [
    {
     "data": {
      "text/plain": [
       "<seaborn.axisgrid.FacetGrid at 0x2489d2a7a90>"
      ]
     },
     "execution_count": 27,
     "metadata": {},
     "output_type": "execute_result"
    },
    {
     "data": {
      "text/plain": [
       "<Figure size 1080x504 with 0 Axes>"
      ]
     },
     "metadata": {},
     "output_type": "display_data"
    },
    {
     "data": {
      "image/png": "[encoded data removed]",
      "text/plain": [
       "<Figure size 360x360 with 1 Axes>"
      ]
     },
     "metadata": {
      "needs_background": "light"
     },
     "output_type": "display_data"
    }
   ],
   "source": [
    "plt.figure(figsize=(15,7))\n",
    "sns.displot(house, x='baths', discrete=True, kde=True)"
   ]
  },
  {
   "cell_type": "code",
   "execution_count": 28,
   "metadata": {},
   "outputs": [
    {
     "data": {
      "text/plain": [
       "<seaborn.axisgrid.FacetGrid at 0x2489d323af0>"
      ]
     },
     "execution_count": 28,
     "metadata": {},
     "output_type": "execute_result"
    },
    {
     "data": {
      "text/plain": [
       "<Figure size 1080x504 with 0 Axes>"
      ]
     },
     "metadata": {},
     "output_type": "display_data"
    },
    {
     "data": {
      "image/png": "[encoded data removed]",
      "text/plain": [
       "<Figure size 360x360 with 1 Axes>"
      ]
     },
     "metadata": {
      "needs_background": "light"
     },
     "output_type": "display_data"
    }
   ],
   "source": [
    "plt.figure(figsize=(15,7))\n",
    "sns.displot(house, x='sq__ft', kde=True)"
   ]
  },
  {
   "cell_type": "code",
   "execution_count": 29,
   "metadata": {},
   "outputs": [
    {
     "data": {
      "text/plain": [
       "<seaborn.axisgrid.FacetGrid at 0x2489d3d39d0>"
      ]
     },
     "execution_count": 29,
     "metadata": {},
     "output_type": "execute_result"
    },
    {
     "data": {
      "text/plain": [
       "<Figure size 1080x504 with 0 Axes>"
      ]
     },
     "metadata": {},
     "output_type": "display_data"
    },
    {
     "data": {
      "image/png": "[encoded data removed]",
      "text/plain": [
       "<Figure size 360x360 with 1 Axes>"
      ]
     },
     "metadata": {
      "needs_background": "light"
     },
     "output_type": "display_data"
    }
   ],
   "source": [
    "plt.figure(figsize=(15,7))\n",
    "sns.displot(house, x='price', kde=True)"
   ]
  },
  {
   "cell_type": "code",
   "execution_count": 30,
   "metadata": {},
   "outputs": [
    {
     "data": {
      "image/png": "[encoded data removed]",
      "text/plain": [
       "<Figure size 576x288 with 1 Axes>"
      ]
     },
     "metadata": {
      "needs_background": "light"
     },
     "output_type": "display_data"
    }
   ],
   "source": [
    "# Plotting to know how continuous variables are distributed against price\n",
    "fig = plt.figure(figsize = (8,4))\n",
    "ax = sns.barplot(x = 'beds', y = 'price', data = house)"
   ]
  },
  {
   "cell_type": "code",
   "execution_count": 31,
   "metadata": {},
   "outputs": [
    {
     "data": {
      "image/png": "[encoded data removed]",
      "text/plain": [
       "<Figure size 576x288 with 1 Axes>"
      ]
     },
     "metadata": {
      "needs_background": "light"
     },
     "output_type": "display_data"
    }
   ],
   "source": [
    "fig = plt.figure(figsize = (8,4))\n",
    "ax = sns.barplot(x = 'baths', y = 'price', data = house)"
   ]
  },
  {
   "cell_type": "code",
   "execution_count": 32,
   "metadata": {},
   "outputs": [
    {
     "data": {
      "image/png": "[encoded data removed]",
      "text/plain": [
       "<Figure size 576x288 with 1 Axes>"
      ]
     },
     "metadata": {
      "needs_background": "light"
     },
     "output_type": "display_data"
    }
   ],
   "source": [
    "fig = plt.figure(figsize = (8,4))\n",
    "ax = sns.barplot(x = 'sq__ft', y = 'price', data = house)"
   ]
  },
  {
   "cell_type": "code",
   "execution_count": 10,
   "metadata": {},
   "outputs": [
    {
     "data": {
      "text/html": [
       "<div>\n",
       "<style scoped>\n",
       "    .dataframe tbody tr th:only-of-type {\n",
       "        vertical-align: middle;\n",
       "    }\n",
       "\n",
       "    .dataframe tbody tr th {\n",
       "        vertical-align: top;\n",
       "    }\n",
       "\n",
       "    .dataframe thead th {\n",
       "        text-align: right;\n",
       "    }\n",
       "</style>\n",
       "<table border=\"1\" class=\"dataframe\">\n",
       "  <thead>\n",
       "    <tr style=\"text-align: right;\">\n",
       "      <th></th>\n",
       "      <th>beds</th>\n",
       "      <th>baths</th>\n",
       "      <th>sq__ft</th>\n",
       "      <th>price</th>\n",
       "    </tr>\n",
       "  </thead>\n",
       "  <tbody>\n",
       "    <tr>\n",
       "      <th>0</th>\n",
       "      <td>2</td>\n",
       "      <td>1</td>\n",
       "      <td>836</td>\n",
       "      <td>59222</td>\n",
       "    </tr>\n",
       "    <tr>\n",
       "      <th>1</th>\n",
       "      <td>3</td>\n",
       "      <td>1</td>\n",
       "      <td>1167</td>\n",
       "      <td>68212</td>\n",
       "    </tr>\n",
       "    <tr>\n",
       "      <th>2</th>\n",
       "      <td>2</td>\n",
       "      <td>1</td>\n",
       "      <td>796</td>\n",
       "      <td>68880</td>\n",
       "    </tr>\n",
       "    <tr>\n",
       "      <th>3</th>\n",
       "      <td>2</td>\n",
       "      <td>1</td>\n",
       "      <td>852</td>\n",
       "      <td>69307</td>\n",
       "    </tr>\n",
       "    <tr>\n",
       "      <th>4</th>\n",
       "      <td>2</td>\n",
       "      <td>1</td>\n",
       "      <td>797</td>\n",
       "      <td>81900</td>\n",
       "    </tr>\n",
       "    <tr>\n",
       "      <th>...</th>\n",
       "      <td>...</td>\n",
       "      <td>...</td>\n",
       "      <td>...</td>\n",
       "      <td>...</td>\n",
       "    </tr>\n",
       "    <tr>\n",
       "      <th>980</th>\n",
       "      <td>4</td>\n",
       "      <td>3</td>\n",
       "      <td>2280</td>\n",
       "      <td>232425</td>\n",
       "    </tr>\n",
       "    <tr>\n",
       "      <th>981</th>\n",
       "      <td>3</td>\n",
       "      <td>2</td>\n",
       "      <td>1477</td>\n",
       "      <td>234000</td>\n",
       "    </tr>\n",
       "    <tr>\n",
       "      <th>982</th>\n",
       "      <td>3</td>\n",
       "      <td>2</td>\n",
       "      <td>1216</td>\n",
       "      <td>235000</td>\n",
       "    </tr>\n",
       "    <tr>\n",
       "      <th>983</th>\n",
       "      <td>4</td>\n",
       "      <td>2</td>\n",
       "      <td>1685</td>\n",
       "      <td>235301</td>\n",
       "    </tr>\n",
       "    <tr>\n",
       "      <th>984</th>\n",
       "      <td>3</td>\n",
       "      <td>2</td>\n",
       "      <td>1362</td>\n",
       "      <td>235738</td>\n",
       "    </tr>\n",
       "  </tbody>\n",
       "</table>\n",
       "<p>985 rows × 4 columns</p>\n",
       "</div>"
      ],
      "text/plain": [
       "     beds  baths  sq__ft   price\n",
       "0       2      1     836   59222\n",
       "1       3      1    1167   68212\n",
       "2       2      1     796   68880\n",
       "3       2      1     852   69307\n",
       "4       2      1     797   81900\n",
       "..    ...    ...     ...     ...\n",
       "980     4      3    2280  232425\n",
       "981     3      2    1477  234000\n",
       "982     3      2    1216  235000\n",
       "983     4      2    1685  235301\n",
       "984     3      2    1362  235738\n",
       "\n",
       "[985 rows x 4 columns]"
      ]
     },
     "execution_count": 10,
     "metadata": {},
     "output_type": "execute_result"
    }
   ],
   "source": [
    "house1 = house[['beds', 'baths', 'sq__ft', 'price']]\n",
    "house1"
   ]
  },
  {
   "cell_type": "code",
   "execution_count": 34,
   "metadata": {},
   "outputs": [
    {
     "data": {
      "image/png": "[encoded data removed]",
      "text/plain": [
       "<Figure size 792x648 with 2 Axes>"
      ]
     },
     "metadata": {
      "needs_background": "light"
     },
     "output_type": "display_data"
    }
   ],
   "source": [
    "# Scattering plots of pair of variables with high Pearson's correlation\n",
    "corr = house1.corr()\n",
    "plt.figure(figsize=(11,9))\n",
    "dropSelf = np.zeros_like(corr)\n",
    "dropSelf[np.triu_indices_from(dropSelf)] = True\n",
    "\n",
    "sns.heatmap(corr, cmap=sns.diverging_palette(220, 10, as_cmap=True), annot=True, fmt=\".2f\", mask=dropSelf, annot_kws={\"size\":14})\n",
    "\n",
    "sns.set(font_scale=0.6)\n",
    "\n",
    "#Apply xticks\n",
    "plt.xticks(range(len(corr.columns)), corr.columns, fontsize=18);\n",
    "#Apply yticks\n",
    "plt.yticks(range(len(corr.columns)), corr.columns, fontsize=18)\n",
    "#show plot\n",
    "plt.show()"
   ]
  },
  {
   "cell_type": "code",
   "execution_count": 35,
   "metadata": {},
   "outputs": [
    {
     "name": "stderr",
     "output_type": "stream",
     "text": [
      "C:\\Users\\Monica\\anaconda3\\lib\\site-packages\\seaborn\\_decorators.py:36: FutureWarning: Pass the following variables as keyword args: x, y. From version 0.12, the only valid positional argument will be `data`, and passing other arguments without an explicit keyword will result in an error or misinterpretation.\n",
      "  warnings.warn(\n"
     ]
    },
    {
     "data": {
      "text/plain": [
       "<AxesSubplot:xlabel='beds', ylabel='price'>"
      ]
     },
     "execution_count": 35,
     "metadata": {},
     "output_type": "execute_result"
    },
    {
     "data": {
      "image/png": "[encoded data removed]",
      "text/plain": [
       "<Figure size 432x288 with 1 Axes>"
      ]
     },
     "metadata": {},
     "output_type": "display_data"
    }
   ],
   "source": [
    "sns.boxplot('beds', 'price', data = house1)"
   ]
  },
  {
   "cell_type": "code",
   "execution_count": 36,
   "metadata": {},
   "outputs": [
    {
     "name": "stderr",
     "output_type": "stream",
     "text": [
      "C:\\Users\\Monica\\anaconda3\\lib\\site-packages\\seaborn\\_decorators.py:36: FutureWarning: Pass the following variables as keyword args: x, y. From version 0.12, the only valid positional argument will be `data`, and passing other arguments without an explicit keyword will result in an error or misinterpretation.\n",
      "  warnings.warn(\n"
     ]
    },
    {
     "data": {
      "text/plain": [
       "<AxesSubplot:xlabel='baths', ylabel='price'>"
      ]
     },
     "execution_count": 36,
     "metadata": {},
     "output_type": "execute_result"
    },
    {
     "data": {
      "image/png": "[encoded data removed]",
      "text/plain": [
       "<Figure size 432x288 with 1 Axes>"
      ]
     },
     "metadata": {},
     "output_type": "display_data"
    }
   ],
   "source": [
    "sns.boxplot('baths', 'price', data = house1)"
   ]
  },
  {
   "cell_type": "code",
   "execution_count": 37,
   "metadata": {},
   "outputs": [
    {
     "name": "stderr",
     "output_type": "stream",
     "text": [
      "C:\\Users\\Monica\\anaconda3\\lib\\site-packages\\seaborn\\_decorators.py:36: FutureWarning: Pass the following variables as keyword args: x, y. From version 0.12, the only valid positional argument will be `data`, and passing other arguments without an explicit keyword will result in an error or misinterpretation.\n",
      "  warnings.warn(\n"
     ]
    },
    {
     "data": {
      "text/plain": [
       "<AxesSubplot:xlabel='sq__ft', ylabel='price'>"
      ]
     },
     "execution_count": 37,
     "metadata": {},
     "output_type": "execute_result"
    },
    {
     "data": {
      "image/png": "[encoded data removed]",
      "text/plain": [
       "<Figure size 432x288 with 1 Axes>"
      ]
     },
     "metadata": {},
     "output_type": "display_data"
    }
   ],
   "source": [
    "sns.boxplot('sq__ft', 'price', data = house1)"
   ]
  },
  {
   "cell_type": "code",
   "execution_count": 86,
   "metadata": {},
   "outputs": [
    {
     "data": {
      "text/plain": [
       "<seaborn.axisgrid.FacetGrid at 0x248a4d5c880>"
      ]
     },
     "execution_count": 86,
     "metadata": {},
     "output_type": "execute_result"
    },
    {
     "data": {
      "image/png": "[encoded data removed]",
      "text/plain": [
       "<Figure size 360x360 with 1 Axes>"
      ]
     },
     "metadata": {},
     "output_type": "display_data"
    }
   ],
   "source": [
    "#Scatter plot using seaborn and lmplot(). fit_reg = False\n",
    "sns.lmplot(x='price', y= 'beds', data= house1, fit_reg = True)"
   ]
  },
  {
   "cell_type": "code",
   "execution_count": 87,
   "metadata": {},
   "outputs": [
    {
     "data": {
      "text/plain": [
       "<seaborn.axisgrid.FacetGrid at 0x248a4d64a30>"
      ]
     },
     "execution_count": 87,
     "metadata": {},
     "output_type": "execute_result"
    },
    {
     "data": {
      "image/png": "[encoded data removed]",
      "text/plain": [
       "<Figure size 360x360 with 1 Axes>"
      ]
     },
     "metadata": {},
     "output_type": "display_data"
    }
   ],
   "source": [
    "#Scatter plot using seaborn and lmplot(). fit_reg = False\n",
    "sns.lmplot(x='price', y= 'baths', data= house1, fit_reg = True)"
   ]
  },
  {
   "cell_type": "code",
   "execution_count": 88,
   "metadata": {},
   "outputs": [
    {
     "data": {
      "text/plain": [
       "<seaborn.axisgrid.FacetGrid at 0x248a4e4afa0>"
      ]
     },
     "execution_count": 88,
     "metadata": {},
     "output_type": "execute_result"
    },
    {
     "data": {
      "image/png": "[encoded data removed]",
      "text/plain": [
       "<Figure size 360x360 with 1 Axes>"
      ]
     },
     "metadata": {},
     "output_type": "display_data"
    }
   ],
   "source": [
    "#Scatter plot using seaborn and lmplot(). fit_reg = False\n",
    "sns.lmplot(x='price', y= 'sq__ft', data= house1, fit_reg = True)"
   ]
  },
  {
   "cell_type": "markdown",
   "metadata": {
    "colab_type": "text",
    "id": "sIztKXN7Xd3u"
   },
   "source": [
    "### 2. Predict Price"
   ]
  },
  {
   "cell_type": "markdown",
   "metadata": {
    "colab_type": "text",
    "id": "hzXJOP2_Xd3v"
   },
   "source": [
    "We are going to predict `price` from available information."
   ]
  },
  {
   "cell_type": "markdown",
   "metadata": {
    "colab_type": "text",
    "id": "1CMJdXc3Xd3w"
   },
   "source": [
    "#### 2.1 What is the Target Variable? Why?"
   ]
  },
  {
   "cell_type": "code",
   "execution_count": 103,
   "metadata": {
    "colab": {},
    "colab_type": "code",
    "id": "56yN89q2Xd3w"
   },
   "outputs": [],
   "source": [
    "# ANSWER\n",
    "## Price is the target variable. Based on other predictor variables we can predict house price (response)"
   ]
  },
  {
   "cell_type": "markdown",
   "metadata": {
    "colab_type": "text",
    "id": "7qy-ZmGEXd3z"
   },
   "source": [
    "#### 2.2 List all possible variables which might be Predictor variable."
   ]
  },
  {
   "cell_type": "code",
   "execution_count": 104,
   "metadata": {
    "colab": {},
    "colab_type": "code",
    "id": "nfAq28P_Xd30"
   },
   "outputs": [],
   "source": [
    "# ANSWER\n",
    "\n",
    "## beds\n",
    "## baths\n",
    "## sq__ft\n",
    "## Type"
   ]
  },
  {
   "cell_type": "code",
   "execution_count": 12,
   "metadata": {},
   "outputs": [],
   "source": [
    "# Target variable\n",
    "Y = house1['price']"
   ]
  },
  {
   "cell_type": "code",
   "execution_count": 13,
   "metadata": {},
   "outputs": [],
   "source": [
    "# Predictor variable\n",
    "X = house1['beds']"
   ]
  },
  {
   "cell_type": "code",
   "execution_count": 14,
   "metadata": {},
   "outputs": [],
   "source": [
    "def draw_scatter_plot (X,Y):\n",
    "    ### Plot the data\n",
    "    # Create a figure\n",
    "    fig = plt.figure(figsize =(15,7))\n",
    "    # get the axis of the figure\n",
    "    ax = plt.gca()\n",
    "    \n",
    "    # plot a scatter plot with house data\n",
    "    ax.scatter(X, Y, c='b')\n",
    "    plt.show();"
   ]
  },
  {
   "cell_type": "code",
   "execution_count": 107,
   "metadata": {},
   "outputs": [
    {
     "data": {
      "image/png": "[encoded data removed]",
      "text/plain": [
       "<Figure size 1080x504 with 1 Axes>"
      ]
     },
     "metadata": {},
     "output_type": "display_data"
    }
   ],
   "source": [
    "# beds\n",
    "draw_scatter_plot(house1['beds'], house1['price'])"
   ]
  },
  {
   "cell_type": "code",
   "execution_count": 108,
   "metadata": {},
   "outputs": [
    {
     "data": {
      "image/png": "[encoded data removed]",
      "text/plain": [
       "<Figure size 1080x504 with 1 Axes>"
      ]
     },
     "metadata": {},
     "output_type": "display_data"
    }
   ],
   "source": [
    "# sq__ft\n",
    "draw_scatter_plot(house1['sq__ft'], house1['price'])"
   ]
  },
  {
   "cell_type": "markdown",
   "metadata": {
    "colab_type": "text",
    "id": "yFZkIpXhXd32"
   },
   "source": [
    "#### 2.3 Find correlation between variables\n",
    "\n",
    "Find correlation between variables. Which is the best predictor? Why? State your reason."
   ]
  },
  {
   "cell_type": "code",
   "execution_count": 18,
   "metadata": {
    "colab": {},
    "colab_type": "code",
    "id": "Nc8FHVnjXd32"
   },
   "outputs": [
    {
     "data": {
      "text/html": [
       "<div>\n",
       "<style scoped>\n",
       "    .dataframe tbody tr th:only-of-type {\n",
       "        vertical-align: middle;\n",
       "    }\n",
       "\n",
       "    .dataframe tbody tr th {\n",
       "        vertical-align: top;\n",
       "    }\n",
       "\n",
       "    .dataframe thead th {\n",
       "        text-align: right;\n",
       "    }\n",
       "</style>\n",
       "<table border=\"1\" class=\"dataframe\">\n",
       "  <thead>\n",
       "    <tr style=\"text-align: right;\">\n",
       "      <th></th>\n",
       "      <th>beds</th>\n",
       "      <th>baths</th>\n",
       "      <th>sq__ft</th>\n",
       "      <th>price</th>\n",
       "    </tr>\n",
       "  </thead>\n",
       "  <tbody>\n",
       "    <tr>\n",
       "      <th>beds</th>\n",
       "      <td>1.000000</td>\n",
       "      <td>0.839650</td>\n",
       "      <td>0.684041</td>\n",
       "      <td>0.342024</td>\n",
       "    </tr>\n",
       "    <tr>\n",
       "      <th>baths</th>\n",
       "      <td>0.839650</td>\n",
       "      <td>1.000000</td>\n",
       "      <td>0.665690</td>\n",
       "      <td>0.416208</td>\n",
       "    </tr>\n",
       "    <tr>\n",
       "      <th>sq__ft</th>\n",
       "      <td>0.684041</td>\n",
       "      <td>0.665690</td>\n",
       "      <td>1.000000</td>\n",
       "      <td>0.333897</td>\n",
       "    </tr>\n",
       "    <tr>\n",
       "      <th>price</th>\n",
       "      <td>0.342024</td>\n",
       "      <td>0.416208</td>\n",
       "      <td>0.333897</td>\n",
       "      <td>1.000000</td>\n",
       "    </tr>\n",
       "  </tbody>\n",
       "</table>\n",
       "</div>"
      ],
      "text/plain": [
       "            beds     baths    sq__ft     price\n",
       "beds    1.000000  0.839650  0.684041  0.342024\n",
       "baths   0.839650  1.000000  0.665690  0.416208\n",
       "sq__ft  0.684041  0.665690  1.000000  0.333897\n",
       "price   0.342024  0.416208  0.333897  1.000000"
      ]
     },
     "execution_count": 18,
     "metadata": {},
     "output_type": "execute_result"
    }
   ],
   "source": [
    "# ANSWER\n",
    "house1.corr()"
   ]
  },
  {
   "cell_type": "code",
   "execution_count": 110,
   "metadata": {},
   "outputs": [],
   "source": [
    "### sq__ft is the best predictor\n",
    "### sq__ft got strong relationship with beds (+0.68) and baths (+0.66)"
   ]
  },
  {
   "cell_type": "markdown",
   "metadata": {
    "colab_type": "text",
    "id": "1vop_P66Xd35"
   },
   "source": [
    "#### 2.4 What is the simplest way to predict price\n",
    "\n",
    "So we have information for 985 houses. What is the easiest way to predict price of a house?"
   ]
  },
  {
   "cell_type": "code",
   "execution_count": 19,
   "metadata": {},
   "outputs": [
    {
     "data": {
      "text/plain": [
       "234144.26395939087"
      ]
     },
     "execution_count": 19,
     "metadata": {},
     "output_type": "execute_result"
    }
   ],
   "source": [
    "house1.price.mean()"
   ]
  },
  {
   "cell_type": "code",
   "execution_count": 20,
   "metadata": {
    "colab": {},
    "colab_type": "code",
    "id": "p0xBzE9iXd35"
   },
   "outputs": [
    {
     "name": "stderr",
     "output_type": "stream",
     "text": [
      "<ipython-input-20-e16eec76a74c>:4: SettingWithCopyWarning: \n",
      "A value is trying to be set on a copy of a slice from a DataFrame.\n",
      "Try using .loc[row_indexer,col_indexer] = value instead\n",
      "\n",
      "See the caveats in the documentation: https://pandas.pydata.org/pandas-docs/stable/user_guide/indexing.html#returning-a-view-versus-a-copy\n",
      "  house1['y_hat'] = house1['price'].mean()\n"
     ]
    }
   ],
   "source": [
    "# ANSWER\n",
    "\n",
    "# Mean of price\n",
    "house1['y_hat'] = house1['price'].mean()"
   ]
  },
  {
   "cell_type": "code",
   "execution_count": 16,
   "metadata": {},
   "outputs": [
    {
     "data": {
      "text/html": [
       "<div>\n",
       "<style scoped>\n",
       "    .dataframe tbody tr th:only-of-type {\n",
       "        vertical-align: middle;\n",
       "    }\n",
       "\n",
       "    .dataframe tbody tr th {\n",
       "        vertical-align: top;\n",
       "    }\n",
       "\n",
       "    .dataframe thead th {\n",
       "        text-align: right;\n",
       "    }\n",
       "</style>\n",
       "<table border=\"1\" class=\"dataframe\">\n",
       "  <thead>\n",
       "    <tr style=\"text-align: right;\">\n",
       "      <th></th>\n",
       "      <th>beds</th>\n",
       "      <th>baths</th>\n",
       "      <th>sq__ft</th>\n",
       "      <th>price</th>\n",
       "    </tr>\n",
       "  </thead>\n",
       "  <tbody>\n",
       "    <tr>\n",
       "      <th>0</th>\n",
       "      <td>2</td>\n",
       "      <td>1</td>\n",
       "      <td>836</td>\n",
       "      <td>59222</td>\n",
       "    </tr>\n",
       "    <tr>\n",
       "      <th>1</th>\n",
       "      <td>3</td>\n",
       "      <td>1</td>\n",
       "      <td>1167</td>\n",
       "      <td>68212</td>\n",
       "    </tr>\n",
       "    <tr>\n",
       "      <th>2</th>\n",
       "      <td>2</td>\n",
       "      <td>1</td>\n",
       "      <td>796</td>\n",
       "      <td>68880</td>\n",
       "    </tr>\n",
       "    <tr>\n",
       "      <th>3</th>\n",
       "      <td>2</td>\n",
       "      <td>1</td>\n",
       "      <td>852</td>\n",
       "      <td>69307</td>\n",
       "    </tr>\n",
       "    <tr>\n",
       "      <th>4</th>\n",
       "      <td>2</td>\n",
       "      <td>1</td>\n",
       "      <td>797</td>\n",
       "      <td>81900</td>\n",
       "    </tr>\n",
       "  </tbody>\n",
       "</table>\n",
       "</div>"
      ],
      "text/plain": [
       "   beds  baths  sq__ft  price\n",
       "0     2      1     836  59222\n",
       "1     3      1    1167  68212\n",
       "2     2      1     796  68880\n",
       "3     2      1     852  69307\n",
       "4     2      1     797  81900"
      ]
     },
     "execution_count": 16,
     "metadata": {},
     "output_type": "execute_result"
    }
   ],
   "source": [
    "house1.head()"
   ]
  },
  {
   "cell_type": "code",
   "execution_count": 21,
   "metadata": {},
   "outputs": [],
   "source": [
    "X = house1['sq__ft']\n",
    "Y = house1['price']\n",
    "yhat = house1['y_hat']"
   ]
  },
  {
   "cell_type": "code",
   "execution_count": 22,
   "metadata": {},
   "outputs": [],
   "source": [
    "def draw_plot(X,y, yhat):\n",
    "    ### Plot the data\n",
    "    # create a figure\n",
    "    fig = plt.figure(figsize=(15,7))\n",
    "    # get the axis of the figure\n",
    "    ax = plt.gca()\n",
    "    \n",
    "    # plot a scatter plot with house data\n",
    "    ax.scatter(X,y, c='b')\n",
    "    ax.plot(X, yhat, color='r')\n",
    "    \n",
    "    plt.show()"
   ]
  },
  {
   "cell_type": "code",
   "execution_count": 23,
   "metadata": {},
   "outputs": [
    {
     "data": {
      "image/png": "[encoded data removed]",
      "text/plain": [
       "<Figure size 1080x504 with 1 Axes>"
      ]
     },
     "metadata": {
      "needs_background": "light"
     },
     "output_type": "display_data"
    }
   ],
   "source": [
    "draw_plot(X, Y, yhat)"
   ]
  },
  {
   "cell_type": "markdown",
   "metadata": {
    "colab_type": "text",
    "id": "8uRWVPNuXd38"
   },
   "source": [
    "#### 2.5 Find Residuals\n",
    "\n",
    "Find difference between actual value and predicted value. Use absolute value."
   ]
  },
  {
   "cell_type": "code",
   "execution_count": 25,
   "metadata": {
    "colab": {},
    "colab_type": "code",
    "id": "PBzfNQsGXd39"
   },
   "outputs": [
    {
     "data": {
      "text/plain": [
       "103452.16956891476"
      ]
     },
     "execution_count": 25,
     "metadata": {},
     "output_type": "execute_result"
    }
   ],
   "source": [
    "# ANSWER\n",
    "res = abs(house1['price'] - house1['y_hat']).mean()\n",
    "res"
   ]
  },
  {
   "cell_type": "code",
   "execution_count": null,
   "metadata": {},
   "outputs": [],
   "source": [
    "# shorter way to find the residuals\n",
    "abs(house1.price - house1.y_hat).mean()"
   ]
  },
  {
   "cell_type": "code",
   "execution_count": 118,
   "metadata": {},
   "outputs": [
    {
     "data": {
      "text/plain": [
       "0     -174922.263959\n",
       "1     -165932.263959\n",
       "2     -165264.263959\n",
       "3     -164837.263959\n",
       "4     -152244.263959\n",
       "           ...      \n",
       "980     -1719.263959\n",
       "981      -144.263959\n",
       "982       855.736041\n",
       "983      1156.736041\n",
       "984      1593.736041\n",
       "Length: 985, dtype: float64"
      ]
     },
     "execution_count": 118,
     "metadata": {},
     "output_type": "execute_result"
    }
   ],
   "source": [
    "house1.price - house1.y_hat"
   ]
  },
  {
   "cell_type": "markdown",
   "metadata": {
    "colab_type": "text",
    "id": "5P61MoAsXd4B"
   },
   "source": [
    "#### 2.6  Predict Using Linear Regression\n",
    "\n",
    "[Simple Linear Regression](https://en.wikipedia.org/wiki/Simple_linear_regression#Fitting_the_regression_line)\n",
    "\n",
    "### $$\\hat{y} = \\beta_0 + \\beta_1 x$$\n",
    "\n",
    "> ### $$ \\beta_1 = \\frac{\\sum_{i=1}^n (y_i - \\bar{y} ) (x_i - \\bar{x} )}{\\sum_{i=1}^n (x_i - \\bar{x})^2} $$\n",
    "\n",
    "and\n",
    "\n",
    "> ### $$ \\beta_0 = \\bar{y} - \\beta_1\\bar{x} $$\n",
    "\n",
    "Given variables:\n",
    "- $\\bar{y}$ : the sample mean of observed values $Y$\n",
    "- $\\bar{x}$ : the sample mean of observed values $X$"
   ]
  },
  {
   "cell_type": "code",
   "execution_count": 119,
   "metadata": {},
   "outputs": [
    {
     "data": {
      "text/plain": [
       "(985, 5)"
      ]
     },
     "execution_count": 119,
     "metadata": {},
     "output_type": "execute_result"
    }
   ],
   "source": [
    "house1.shape"
   ]
  },
  {
   "cell_type": "code",
   "execution_count": 120,
   "metadata": {},
   "outputs": [
    {
     "data": {
      "text/html": [
       "<div>\n",
       "<style scoped>\n",
       "    .dataframe tbody tr th:only-of-type {\n",
       "        vertical-align: middle;\n",
       "    }\n",
       "\n",
       "    .dataframe tbody tr th {\n",
       "        vertical-align: top;\n",
       "    }\n",
       "\n",
       "    .dataframe thead th {\n",
       "        text-align: right;\n",
       "    }\n",
       "</style>\n",
       "<table border=\"1\" class=\"dataframe\">\n",
       "  <thead>\n",
       "    <tr style=\"text-align: right;\">\n",
       "      <th></th>\n",
       "      <th>beds</th>\n",
       "      <th>baths</th>\n",
       "      <th>sq__ft</th>\n",
       "      <th>price</th>\n",
       "      <th>y_hat</th>\n",
       "    </tr>\n",
       "  </thead>\n",
       "  <tbody>\n",
       "    <tr>\n",
       "      <th>0</th>\n",
       "      <td>2</td>\n",
       "      <td>1</td>\n",
       "      <td>836</td>\n",
       "      <td>59222</td>\n",
       "      <td>234144.263959</td>\n",
       "    </tr>\n",
       "    <tr>\n",
       "      <th>1</th>\n",
       "      <td>3</td>\n",
       "      <td>1</td>\n",
       "      <td>1167</td>\n",
       "      <td>68212</td>\n",
       "      <td>234144.263959</td>\n",
       "    </tr>\n",
       "    <tr>\n",
       "      <th>2</th>\n",
       "      <td>2</td>\n",
       "      <td>1</td>\n",
       "      <td>796</td>\n",
       "      <td>68880</td>\n",
       "      <td>234144.263959</td>\n",
       "    </tr>\n",
       "    <tr>\n",
       "      <th>3</th>\n",
       "      <td>2</td>\n",
       "      <td>1</td>\n",
       "      <td>852</td>\n",
       "      <td>69307</td>\n",
       "      <td>234144.263959</td>\n",
       "    </tr>\n",
       "    <tr>\n",
       "      <th>4</th>\n",
       "      <td>2</td>\n",
       "      <td>1</td>\n",
       "      <td>797</td>\n",
       "      <td>81900</td>\n",
       "      <td>234144.263959</td>\n",
       "    </tr>\n",
       "  </tbody>\n",
       "</table>\n",
       "</div>"
      ],
      "text/plain": [
       "   beds  baths  sq__ft  price          y_hat\n",
       "0     2      1     836  59222  234144.263959\n",
       "1     3      1    1167  68212  234144.263959\n",
       "2     2      1     796  68880  234144.263959\n",
       "3     2      1     852  69307  234144.263959\n",
       "4     2      1     797  81900  234144.263959"
      ]
     },
     "execution_count": 120,
     "metadata": {},
     "output_type": "execute_result"
    }
   ],
   "source": [
    "house1.head()"
   ]
  },
  {
   "cell_type": "code",
   "execution_count": 26,
   "metadata": {},
   "outputs": [],
   "source": [
    "X = house1['sq__ft'].values.reshape(-1,1)\n",
    "Y = house1['price'].values.reshape(-1,1)"
   ]
  },
  {
   "cell_type": "code",
   "execution_count": 27,
   "metadata": {},
   "outputs": [],
   "source": [
    "from sklearn.model_selection import train_test_split\n",
    "X_train, X_test, y_train, y_test = train_test_split(X, Y, test_size=0.8, random_state=10)"
   ]
  },
  {
   "cell_type": "code",
   "execution_count": 124,
   "metadata": {},
   "outputs": [
    {
     "data": {
      "text/plain": [
       "LinearRegression()"
      ]
     },
     "execution_count": 124,
     "metadata": {},
     "output_type": "execute_result"
    }
   ],
   "source": [
    "regressor = LinearRegression()\n",
    "regressor.fit(X_train, y_train) # formula beta1, beta0"
   ]
  },
  {
   "cell_type": "code",
   "execution_count": 209,
   "metadata": {},
   "outputs": [
    {
     "name": "stdout",
     "output_type": "stream",
     "text": [
      "<function beta_0 at 0x00000248A58BC670>\n"
     ]
    }
   ],
   "source": [
    "print(beta_0)"
   ]
  },
  {
   "cell_type": "code",
   "execution_count": 46,
   "metadata": {},
   "outputs": [
    {
     "name": "stdout",
     "output_type": "stream",
     "text": [
      "[[71.49906722]]\n"
     ]
    }
   ],
   "source": [
    "print(regressor.coef_)"
   ]
  },
  {
   "cell_type": "code",
   "execution_count": 29,
   "metadata": {},
   "outputs": [
    {
     "ename": "NameError",
     "evalue": "name 'regressor' is not defined",
     "output_type": "error",
     "traceback": [
      "\u001b[1;31m---------------------------------------------------------------------------\u001b[0m",
      "\u001b[1;31mNameError\u001b[0m                                 Traceback (most recent call last)",
      "\u001b[1;32m<ipython-input-29-f8761d0bf188>\u001b[0m in \u001b[0;36m<module>\u001b[1;34m\u001b[0m\n\u001b[1;32m----> 1\u001b[1;33m \u001b[0my_pred\u001b[0m \u001b[1;33m=\u001b[0m \u001b[0mregressor\u001b[0m\u001b[1;33m.\u001b[0m\u001b[0mpredict\u001b[0m\u001b[1;33m(\u001b[0m\u001b[0mX_test\u001b[0m\u001b[1;33m)\u001b[0m \u001b[1;31m# y_hat = beta_0 + beat_1*X\u001b[0m\u001b[1;33m\u001b[0m\u001b[1;33m\u001b[0m\u001b[0m\n\u001b[0m",
      "\u001b[1;31mNameError\u001b[0m: name 'regressor' is not defined"
     ]
    }
   ],
   "source": [
    "y_pred = regressor.predict(X_test) # y_hat = beta_0 + beat_1*X"
   ]
  },
  {
   "cell_type": "code",
   "execution_count": 126,
   "metadata": {},
   "outputs": [
    {
     "data": {
      "text/plain": [
       "array([[234311.57581521],\n",
       "       [241818.97787309],\n",
       "       [133426.39197083],\n",
       "       [185048.71850212],\n",
       "       [185048.71850212],\n",
       "       [303522.67288209],\n",
       "       [206998.932138  ],\n",
       "       [133426.39197083],\n",
       "       [234955.06742017],\n",
       "       [228377.15323613],\n",
       "       [221298.74558156],\n",
       "       [262124.71296296],\n",
       "       [205711.94892807],\n",
       "       [249755.37433427],\n",
       "       [384817.11230878],\n",
       "       [301163.2036639 ],\n",
       "       [229449.6392444 ],\n",
       "       [218295.78475842],\n",
       "       [252901.33329185],\n",
       "       [209072.40508731],\n",
       "       [133426.39197083],\n",
       "       [133426.39197083],\n",
       "       [272063.08330624],\n",
       "       [216365.30994353],\n",
       "       [208571.91161679],\n",
       "       [230665.1233871 ],\n",
       "       [345063.63093566],\n",
       "       [133426.39197083],\n",
       "       [133426.39197083],\n",
       "       [133426.39197083],\n",
       "       [133426.39197083],\n",
       "       [280285.47603629],\n",
       "       [232238.1028659 ],\n",
       "       [133426.39197083],\n",
       "       [191340.63641729],\n",
       "       [223658.21479975],\n",
       "       [249540.87713261],\n",
       "       [218009.78848954],\n",
       "       [233811.08234469],\n",
       "       [133426.39197083],\n",
       "       [298303.24097519],\n",
       "       [264269.68497949],\n",
       "       [196917.56366028],\n",
       "       [226089.18308516],\n",
       "       [133426.39197083],\n",
       "       [222085.23532096],\n",
       "       [264126.68684506],\n",
       "       [234240.076748  ],\n",
       "       [133426.39197083],\n",
       "       [218367.28382563],\n",
       "       [204210.4685165 ],\n",
       "       [213433.8481876 ],\n",
       "       [231737.60939537],\n",
       "       [223801.21293419],\n",
       "       [245465.4303012 ],\n",
       "       [233024.59260529],\n",
       "       [253258.82862794],\n",
       "       [237243.03757114],\n",
       "       [225588.68961464],\n",
       "       [302664.68407548],\n",
       "       [266343.15792881],\n",
       "       [239030.51425159],\n",
       "       [197847.05153411],\n",
       "       [251757.34821637],\n",
       "       [242748.46574692],\n",
       "       [249540.87713261],\n",
       "       [237958.02824332],\n",
       "       [133426.39197083],\n",
       "       [219153.77356503],\n",
       "       [272134.58237345],\n",
       "       [189124.16533353],\n",
       "       [235527.05995792],\n",
       "       [270347.10569301],\n",
       "       [292297.31932889],\n",
       "       [204925.45918868],\n",
       "       [221513.24278322],\n",
       "       [133426.39197083],\n",
       "       [248253.89392269],\n",
       "       [291725.32679114],\n",
       "       [217723.79222067],\n",
       "       [133426.39197083],\n",
       "       [213505.34725482],\n",
       "       [247467.4041833 ],\n",
       "       [207713.92281017],\n",
       "       [250899.35940975],\n",
       "       [216865.80341406],\n",
       "       [272063.08330624],\n",
       "       [212647.35844821],\n",
       "       [202565.98997049],\n",
       "       [198562.04220629],\n",
       "       [245465.4303012 ],\n",
       "       [287506.88182529],\n",
       "       [133426.39197083],\n",
       "       [225588.68961464],\n",
       "       [271848.58610458],\n",
       "       [212933.35471708],\n",
       "       [250541.86407366],\n",
       "       [224158.70827028],\n",
       "       [238029.52731054],\n",
       "       [277568.51148201],\n",
       "       [247109.90884721],\n",
       "       [401261.89776889],\n",
       "       [133426.39197083],\n",
       "       [246895.41164555],\n",
       "       [207999.91907905],\n",
       "       [288507.86876634],\n",
       "       [245679.92750285],\n",
       "       [211503.37337272],\n",
       "       [262911.20270235],\n",
       "       [253330.32769516],\n",
       "       [288007.37529582],\n",
       "       [227590.66349674],\n",
       "       [133426.39197083],\n",
       "       [133426.39197083],\n",
       "       [231594.61126093],\n",
       "       [218367.28382563],\n",
       "       [209501.39949062],\n",
       "       [222800.22599314],\n",
       "       [224158.70827028],\n",
       "       [193771.60470269],\n",
       "       [228448.65230335],\n",
       "       [133426.39197083],\n",
       "       [228377.15323613],\n",
       "       [221727.73998487],\n",
       "       [133426.39197083],\n",
       "       [219368.27076668],\n",
       "       [281286.46297734],\n",
       "       [224945.19800968],\n",
       "       [256261.78945109],\n",
       "       [260408.73534973],\n",
       "       [225302.69334576],\n",
       "       [241532.98160422],\n",
       "       [226732.67469012],\n",
       "       [185048.71850212],\n",
       "       [360292.93225306],\n",
       "       [133426.39197083],\n",
       "       [213362.34912038],\n",
       "       [248182.39485548],\n",
       "       [376308.72330986],\n",
       "       [303022.17941156],\n",
       "       [215221.32486805],\n",
       "       [240889.48999926],\n",
       "       [351927.54138857],\n",
       "       [273064.07024729],\n",
       "       [209072.40508731],\n",
       "       [239817.00399099],\n",
       "       [133426.39197083],\n",
       "       [133426.39197083],\n",
       "       [133426.39197083],\n",
       "       [236957.04130227],\n",
       "       [208500.41254957],\n",
       "       [212361.36217933],\n",
       "       [244607.44149458],\n",
       "       [280213.97696907],\n",
       "       [133426.39197083],\n",
       "       [227805.16069839],\n",
       "       [133426.39197083],\n",
       "       [133426.39197083],\n",
       "       [225231.19427855],\n",
       "       [230164.62991658],\n",
       "       [239173.51238603],\n",
       "       [226518.17748847],\n",
       "       [236599.54596618],\n",
       "       [283073.93965779],\n",
       "       [200063.52261786],\n",
       "       [207713.92281017],\n",
       "       [328261.35013946],\n",
       "       [133426.39197083],\n",
       "       [253973.81930012],\n",
       "       [267558.64207151],\n",
       "       [214005.84072534],\n",
       "       [232810.09540364],\n",
       "       [205926.44612973],\n",
       "       [236385.04876453],\n",
       "       [133426.39197083],\n",
       "       [250541.86407366],\n",
       "       [227090.17002621],\n",
       "       [215793.31740579],\n",
       "       [264841.67751723],\n",
       "       [212361.36217933],\n",
       "       [216508.30807797],\n",
       "       [219511.26890112],\n",
       "       [133426.39197083],\n",
       "       [133426.39197083],\n",
       "       [234812.06928574],\n",
       "       [133426.39197083],\n",
       "       [299947.7195212 ],\n",
       "       [207213.42933965],\n",
       "       [288293.37156469],\n",
       "       [210645.38456611],\n",
       "       [133426.39197083],\n",
       "       [133426.39197083],\n",
       "       [215793.31740579],\n",
       "       [133426.39197083],\n",
       "       [133426.39197083],\n",
       "       [315749.01337634],\n",
       "       [190268.15040902],\n",
       "       [195702.07951758],\n",
       "       [133426.39197083],\n",
       "       [319824.46020776],\n",
       "       [201779.50023109],\n",
       "       [256476.28665275],\n",
       "       [211574.87243994],\n",
       "       [199491.53008012],\n",
       "       [218438.78289285],\n",
       "       [282501.94712004],\n",
       "       [133426.39197083],\n",
       "       [133426.39197083],\n",
       "       [133426.39197083],\n",
       "       [247109.90884721],\n",
       "       [187765.68305639],\n",
       "       [133426.39197083],\n",
       "       [210645.38456611],\n",
       "       [133426.39197083],\n",
       "       [133426.39197083],\n",
       "       [204496.46478537],\n",
       "       [332837.29044141],\n",
       "       [302092.69153773],\n",
       "       [222442.73065705],\n",
       "       [256690.7838544 ],\n",
       "       [366584.85016823],\n",
       "       [249755.37433427],\n",
       "       [267987.63647482],\n",
       "       [191340.63641729],\n",
       "       [133426.39197083],\n",
       "       [223586.71573254],\n",
       "       [311030.07493996],\n",
       "       [227805.16069839],\n",
       "       [291296.33238784],\n",
       "       [228234.1551017 ],\n",
       "       [133426.39197083],\n",
       "       [217223.29875015],\n",
       "       [309099.60012508],\n",
       "       [264198.18591227],\n",
       "       [318751.97419949],\n",
       "       [208571.91161679],\n",
       "       [227805.16069839],\n",
       "       [209715.89669227],\n",
       "       [224373.20547193],\n",
       "       [217580.79408624],\n",
       "       [332694.29230697],\n",
       "       [133426.39197083],\n",
       "       [347351.60108663],\n",
       "       [259836.74281198],\n",
       "       [336912.73727282],\n",
       "       [253258.82862794],\n",
       "       [275066.04412939],\n",
       "       [216794.30434684],\n",
       "       [193485.60843382],\n",
       "       [242104.97414196],\n",
       "       [243534.95548632],\n",
       "       [187479.68678752],\n",
       "       [311745.06561214],\n",
       "       [309457.09546117],\n",
       "       [312388.5572171 ],\n",
       "       [229235.14204275],\n",
       "       [213791.34352369],\n",
       "       [190625.64574511],\n",
       "       [259979.74094642],\n",
       "       [199491.53008012],\n",
       "       [231165.61685763],\n",
       "       [207713.92281017],\n",
       "       [269274.61968474],\n",
       "       [133426.39197083],\n",
       "       [238673.0189155 ],\n",
       "       [133426.39197083],\n",
       "       [352928.52832962],\n",
       "       [260408.73534973],\n",
       "       [239102.01331881],\n",
       "       [335339.75779403],\n",
       "       [293226.80720272],\n",
       "       [252829.83422464],\n",
       "       [220083.26143886],\n",
       "       [133426.39197083],\n",
       "       [268559.62901256],\n",
       "       [220369.25770773],\n",
       "       [236456.54783175],\n",
       "       [133426.39197083],\n",
       "       [257834.76892989],\n",
       "       [224158.70827028],\n",
       "       [287864.37716138],\n",
       "       [234240.076748  ],\n",
       "       [283574.43312831],\n",
       "       [133426.39197083],\n",
       "       [133426.39197083],\n",
       "       [234812.06928574],\n",
       "       [221513.24278322],\n",
       "       [276710.5226754 ],\n",
       "       [242104.97414196],\n",
       "       [247467.4041833 ],\n",
       "       [273707.56185225],\n",
       "       [246537.91630947],\n",
       "       [133426.39197083],\n",
       "       [206212.4423986 ],\n",
       "       [286148.39954815],\n",
       "       [133426.39197083],\n",
       "       [288078.87436303],\n",
       "       [171964.38920125],\n",
       "       [133426.39197083],\n",
       "       [242247.97227639],\n",
       "       [194987.0888454 ],\n",
       "       [391681.0227617 ],\n",
       "       [241389.98346978],\n",
       "       [133426.39197083],\n",
       "       [207713.92281017],\n",
       "       [200135.02168508],\n",
       "       [327260.36319842],\n",
       "       [214863.82953196],\n",
       "       [178113.30898198],\n",
       "       [190625.64574511],\n",
       "       [202923.48530658],\n",
       "       [252043.34448524],\n",
       "       [235670.05809235],\n",
       "       [217509.29501902],\n",
       "       [202923.48530658],\n",
       "       [202065.49649996],\n",
       "       [233596.58514303],\n",
       "       [217580.79408624],\n",
       "       [301234.70273112],\n",
       "       [133426.39197083],\n",
       "       [267201.14673542],\n",
       "       [210645.38456611],\n",
       "       [257548.77266101],\n",
       "       [232095.10473146],\n",
       "       [271348.09263406],\n",
       "       [234669.0711513 ],\n",
       "       [272349.07957511],\n",
       "       [133426.39197083],\n",
       "       [213219.35098595],\n",
       "       [133426.39197083],\n",
       "       [230021.63178214],\n",
       "       [220297.75864052],\n",
       "       [133426.39197083],\n",
       "       [219225.27263225],\n",
       "       [201850.99929831],\n",
       "       [361651.4145302 ],\n",
       "       [230522.12525267],\n",
       "       [133426.39197083],\n",
       "       [234240.076748  ],\n",
       "       [133426.39197083],\n",
       "       [249826.87340149],\n",
       "       [287935.8762286 ],\n",
       "       [133426.39197083],\n",
       "       [225803.18681629],\n",
       "       [213362.34912038],\n",
       "       [214720.83139752],\n",
       "       [189195.66440075],\n",
       "       [133426.39197083],\n",
       "       [207785.42187739],\n",
       "       [133426.39197083],\n",
       "       [212003.86684324],\n",
       "       [273207.06838172],\n",
       "       [230379.12711823],\n",
       "       [224444.70453915],\n",
       "       [133426.39197083],\n",
       "       [195487.58231592],\n",
       "       [204925.45918868],\n",
       "       [294585.28947986],\n",
       "       [256404.78758553],\n",
       "       [133426.39197083],\n",
       "       [267272.64580264],\n",
       "       [211646.37150716],\n",
       "       [236242.0506301 ],\n",
       "       [296444.26522752],\n",
       "       [210788.38270054],\n",
       "       [133426.39197083],\n",
       "       [133426.39197083],\n",
       "       [236099.05249566],\n",
       "       [265199.17285332],\n",
       "       [214863.82953196],\n",
       "       [197847.05153411],\n",
       "       [400904.4024328 ],\n",
       "       [133426.39197083],\n",
       "       [224945.19800968],\n",
       "       [222728.72692592],\n",
       "       [247538.90325051],\n",
       "       [133426.39197083],\n",
       "       [233596.58514303],\n",
       "       [237100.03943671],\n",
       "       [253759.32209847],\n",
       "       [133426.39197083],\n",
       "       [263268.69803844],\n",
       "       [232095.10473146],\n",
       "       [212361.36217933],\n",
       "       [227519.16442952],\n",
       "       [223944.21106863],\n",
       "       [364296.88001726],\n",
       "       [198204.5468702 ],\n",
       "       [332908.78950863],\n",
       "       [133426.39197083],\n",
       "       [357504.46863156],\n",
       "       [230665.1233871 ],\n",
       "       [253902.3202329 ],\n",
       "       [190911.64201398],\n",
       "       [270776.10009632],\n",
       "       [297516.75123579],\n",
       "       [288507.86876634],\n",
       "       [256905.28105605],\n",
       "       [133426.39197083],\n",
       "       [205711.94892807],\n",
       "       [366513.35110101],\n",
       "       [234240.076748  ],\n",
       "       [213505.34725482],\n",
       "       [384245.11977104],\n",
       "       [133426.39197083],\n",
       "       [235455.5608907 ],\n",
       "       [244893.43776345],\n",
       "       [278283.50215419],\n",
       "       [212075.36591046],\n",
       "       [275924.032936  ],\n",
       "       [228448.65230335],\n",
       "       [228448.65230335],\n",
       "       [220655.2539766 ],\n",
       "       [242390.97041083],\n",
       "       [215221.32486805],\n",
       "       [288722.365968  ],\n",
       "       [200349.51888674],\n",
       "       [209215.40322175],\n",
       "       [256118.79131666],\n",
       "       [275781.03480156],\n",
       "       [133426.39197083],\n",
       "       [213147.85191873],\n",
       "       [236814.04316784],\n",
       "       [198419.04407185],\n",
       "       [357504.46863156],\n",
       "       [229306.64110996],\n",
       "       [211288.87617107],\n",
       "       [312746.05255319],\n",
       "       [323613.9107703 ],\n",
       "       [273064.07024729],\n",
       "       [204067.47038206],\n",
       "       [226518.17748847],\n",
       "       [288579.36783356],\n",
       "       [311745.06561214],\n",
       "       [238244.02451219],\n",
       "       [133426.39197083],\n",
       "       [133426.39197083],\n",
       "       [193056.61403052],\n",
       "       [292011.32306002],\n",
       "       [133426.39197083],\n",
       "       [418850.66830448],\n",
       "       [133426.39197083],\n",
       "       [222657.2278587 ],\n",
       "       [241818.97787309],\n",
       "       [239459.5086549 ],\n",
       "       [133426.39197083],\n",
       "       [233525.08607582],\n",
       "       [228091.15696726],\n",
       "       [230951.11965597],\n",
       "       [237529.03384002],\n",
       "       [133426.39197083],\n",
       "       [235527.05995792],\n",
       "       [133426.39197083],\n",
       "       [215793.31740579],\n",
       "       [245965.92377172],\n",
       "       [133426.39197083],\n",
       "       [133426.39197083],\n",
       "       [228448.65230335],\n",
       "       [201207.50769335],\n",
       "       [133426.39197083],\n",
       "       [353357.52273293],\n",
       "       [280428.47417072],\n",
       "       [217938.28942233],\n",
       "       [210645.38456611],\n",
       "       [237600.53290723],\n",
       "       [296301.26709309],\n",
       "       [213147.85191873],\n",
       "       [213505.34725482],\n",
       "       [270490.10382744],\n",
       "       [133426.39197083],\n",
       "       [133426.39197083],\n",
       "       [258621.25866928],\n",
       "       [239602.50678933],\n",
       "       [287792.87809416],\n",
       "       [220369.25770773],\n",
       "       [319752.96114054],\n",
       "       [261266.72415634],\n",
       "       [245393.93123398],\n",
       "       [264269.68497949],\n",
       "       [197775.55246689],\n",
       "       [291582.32865671],\n",
       "       [133426.39197083],\n",
       "       [227733.66163117],\n",
       "       [255761.29598057],\n",
       "       [133426.39197083],\n",
       "       [185120.21756933],\n",
       "       [348567.08522933],\n",
       "       [133426.39197083],\n",
       "       [217008.80154849],\n",
       "       [190268.15040902],\n",
       "       [256047.29224944],\n",
       "       [133426.39197083],\n",
       "       [303022.17941156],\n",
       "       [133426.39197083],\n",
       "       [252758.33515742],\n",
       "       [133426.39197083],\n",
       "       [259693.74467755],\n",
       "       [133426.39197083],\n",
       "       [268702.627147  ],\n",
       "       [311030.07493996],\n",
       "       [379383.18320023],\n",
       "       [201350.50582779],\n",
       "       [296015.27082422],\n",
       "       [133426.39197083],\n",
       "       [213505.34725482],\n",
       "       [215221.32486805],\n",
       "       [350569.05911143],\n",
       "       [319681.46207332],\n",
       "       [300305.21485729],\n",
       "       [291582.32865671],\n",
       "       [298517.73817684],\n",
       "       [168031.94050427],\n",
       "       [133426.39197083],\n",
       "       [241604.48067143],\n",
       "       [231451.6131265 ],\n",
       "       [133426.39197083],\n",
       "       [285433.40887597],\n",
       "       [359649.4406481 ],\n",
       "       [210645.38456611],\n",
       "       [218367.28382563],\n",
       "       [238887.51611716],\n",
       "       [190268.15040902],\n",
       "       [243606.45455353],\n",
       "       [133426.39197083],\n",
       "       [303737.17008374],\n",
       "       [220583.75490939],\n",
       "       [236957.04130227],\n",
       "       [224659.2017408 ],\n",
       "       [207713.92281017],\n",
       "       [214220.337927  ],\n",
       "       [391895.51996335],\n",
       "       [217938.28942233],\n",
       "       [186764.69611534],\n",
       "       [265771.16539107],\n",
       "       [328189.85107225],\n",
       "       [194343.59724044],\n",
       "       [262124.71296296],\n",
       "       [246537.91630947],\n",
       "       [249326.37993096],\n",
       "       [302664.68407548],\n",
       "       [216293.81087632],\n",
       "       [133426.39197083],\n",
       "       [205211.45545755],\n",
       "       [246251.92004059],\n",
       "       [278569.49842306],\n",
       "       [237600.53290723],\n",
       "       [273636.06278503],\n",
       "       [133426.39197083],\n",
       "       [368014.83151259],\n",
       "       [225445.6914802 ],\n",
       "       [290652.84078288],\n",
       "       [204210.4685165 ],\n",
       "       [133426.39197083],\n",
       "       [211932.36777603],\n",
       "       [202208.4946344 ],\n",
       "       [409627.28863338],\n",
       "       [549693.96131314],\n",
       "       [266200.15979437],\n",
       "       [232953.09353807],\n",
       "       [244106.94802406],\n",
       "       [206498.43866747],\n",
       "       [205425.9526592 ],\n",
       "       [133426.39197083],\n",
       "       [133426.39197083],\n",
       "       [193485.60843382],\n",
       "       [328189.85107225],\n",
       "       [133426.39197083],\n",
       "       [265270.67192054],\n",
       "       [202279.99370162],\n",
       "       [211288.87617107],\n",
       "       [267558.64207151],\n",
       "       [230236.1289838 ],\n",
       "       [211288.87617107],\n",
       "       [133426.39197083],\n",
       "       [211217.37710385],\n",
       "       [211503.37337272],\n",
       "       [284217.92473327],\n",
       "       [133426.39197083],\n",
       "       [239030.51425159],\n",
       "       [244607.44149458],\n",
       "       [215364.32300248],\n",
       "       [219368.27076668],\n",
       "       [270347.10569301],\n",
       "       [217437.7959518 ],\n",
       "       [133426.39197083],\n",
       "       [199491.53008012],\n",
       "       [226375.17935403],\n",
       "       [133426.39197083],\n",
       "       [373448.76062114],\n",
       "       [246823.91257834],\n",
       "       [198061.54873576],\n",
       "       [133426.39197083],\n",
       "       [133426.39197083],\n",
       "       [262053.21389574],\n",
       "       [270847.59916353],\n",
       "       [237028.54036949],\n",
       "       [259121.75213981],\n",
       "       [325544.38558519],\n",
       "       [238387.02264663],\n",
       "       [375736.73077212],\n",
       "       [133426.39197083],\n",
       "       [328189.85107225],\n",
       "       [257834.76892989],\n",
       "       [252972.83235907],\n",
       "       [256047.29224944],\n",
       "       [133426.39197083],\n",
       "       [193342.61029939],\n",
       "       [133426.39197083],\n",
       "       [336912.73727282],\n",
       "       [284217.92473327],\n",
       "       [193914.60283713],\n",
       "       [234669.0711513 ],\n",
       "       [247896.3985866 ],\n",
       "       [203781.47411319],\n",
       "       [291653.82772393],\n",
       "       [220440.75677495],\n",
       "       [133426.39197083],\n",
       "       [202065.49649996],\n",
       "       [230808.12152154],\n",
       "       [260408.73534973],\n",
       "       [239030.51425159],\n",
       "       [219725.76610277],\n",
       "       [133426.39197083],\n",
       "       [340487.69063372],\n",
       "       [226518.17748847],\n",
       "       [214863.82953196],\n",
       "       [338986.21022214],\n",
       "       [239173.51238603],\n",
       "       [247538.90325051],\n",
       "       [240174.49932708],\n",
       "       [213505.34725482],\n",
       "       [222943.22412758],\n",
       "       [308384.6094529 ],\n",
       "       [215793.31740579],\n",
       "       [190339.64947624],\n",
       "       [232953.09353807],\n",
       "       [133426.39197083],\n",
       "       [133426.39197083],\n",
       "       [225946.18495073],\n",
       "       [251113.85661141],\n",
       "       [133426.39197083],\n",
       "       [133426.39197083],\n",
       "       [242605.46761248],\n",
       "       [205783.44799529],\n",
       "       [225231.19427855],\n",
       "       [133426.39197083],\n",
       "       [210144.89109558],\n",
       "       [213290.85005317],\n",
       "       [190268.15040902],\n",
       "       [133426.39197083],\n",
       "       [206283.94146582],\n",
       "       [133426.39197083],\n",
       "       [298374.7400424 ],\n",
       "       [202351.49276884],\n",
       "       [207785.42187739],\n",
       "       [223515.21666532],\n",
       "       [268345.13181091],\n",
       "       [254331.31463621],\n",
       "       [236957.04130227],\n",
       "       [223801.21293419],\n",
       "       [227876.65976561],\n",
       "       [229020.64484109],\n",
       "       [254617.31090508],\n",
       "       [205640.44986086],\n",
       "       [251614.35008193],\n",
       "       [192913.61589608],\n",
       "       [311745.06561214],\n",
       "       [291081.83518618],\n",
       "       [133426.39197083],\n",
       "       [283288.43685944],\n",
       "       [311530.56841049],\n",
       "       [267201.14673542],\n",
       "       [210788.38270054],\n",
       "       [231380.11405928],\n",
       "       [297516.75123579],\n",
       "       [230379.12711823],\n",
       "       [133426.39197083],\n",
       "       [395827.96866033],\n",
       "       [242891.46388135],\n",
       "       [213934.34165813],\n",
       "       [190339.64947624],\n",
       "       [223014.72319479],\n",
       "       [317536.49005679],\n",
       "       [216436.80901075],\n",
       "       [202065.49649996],\n",
       "       [216222.3118091 ],\n",
       "       [223944.21106863],\n",
       "       [225731.68774907],\n",
       "       [213648.34538926],\n",
       "       [212289.86311212],\n",
       "       [133426.39197083],\n",
       "       [133426.39197083],\n",
       "       [213505.34725482],\n",
       "       [378882.6897297 ],\n",
       "       [269560.61595361],\n",
       "       [213719.84445647],\n",
       "       [133426.39197083],\n",
       "       [211574.87243994],\n",
       "       [237243.03757114],\n",
       "       [133426.39197083],\n",
       "       [204782.46105424],\n",
       "       [133426.39197083],\n",
       "       [276567.52454096],\n",
       "       [193199.61216495],\n",
       "       [262124.71296296],\n",
       "       [232166.60379868],\n",
       "       [289651.85384183],\n",
       "       [133426.39197083],\n",
       "       [249469.3780654 ],\n",
       "       [133426.39197083],\n",
       "       [317965.48446009],\n",
       "       [199920.52448343],\n",
       "       [133426.39197083],\n",
       "       [255832.79504779],\n",
       "       [404264.85859204],\n",
       "       [224945.19800968],\n",
       "       [255904.294115  ],\n",
       "       [201922.49836553],\n",
       "       [210216.3901628 ],\n",
       "       [133426.39197083],\n",
       "       [208929.40695288],\n",
       "       [234025.57954634],\n",
       "       [333623.7801808 ],\n",
       "       [265771.16539107],\n",
       "       [280428.47417072],\n",
       "       [133426.39197083],\n",
       "       [269203.12061752],\n",
       "       [193199.61216495],\n",
       "       [215364.32300248],\n",
       "       [233954.08047912],\n",
       "       [237958.02824332],\n",
       "       [275137.5431966 ],\n",
       "       [243749.45268797],\n",
       "       [323041.91823256],\n",
       "       [196631.56739141],\n",
       "       [133426.39197083],\n",
       "       [198061.54873576],\n",
       "       [229092.14390831],\n",
       "       [410914.2718433 ],\n",
       "       [226375.17935403],\n",
       "       [133426.39197083],\n",
       "       [230522.12525267],\n",
       "       [286577.39395146],\n",
       "       [175467.84349492],\n",
       "       [266200.15979437],\n",
       "       [248468.39112435],\n",
       "       [220011.76237164],\n",
       "       [218724.77916172],\n",
       "       [248968.88459487],\n",
       "       [133426.39197083],\n",
       "       [246394.91817503],\n",
       "       [177040.82297372],\n",
       "       [236099.05249566],\n",
       "       [301878.19433608],\n",
       "       [217366.29688458],\n",
       "       [219654.26703555],\n",
       "       [257763.26986267],\n",
       "       [339129.20835658],\n",
       "       [221441.743716  ],\n",
       "       [133426.39197083],\n",
       "       [133426.39197083],\n",
       "       [261767.21762687],\n",
       "       [282501.94712004],\n",
       "       [390751.53488786],\n",
       "       [407839.81195293],\n",
       "       [230236.1289838 ],\n",
       "       [261981.71482852],\n",
       "       [190268.15040902],\n",
       "       [231809.10846259],\n",
       "       [212790.35658264],\n",
       "       [250613.36314088],\n",
       "       [133426.39197083],\n",
       "       [232095.10473146],\n",
       "       [379383.18320023],\n",
       "       [223014.72319479],\n",
       "       [203137.98250823],\n",
       "       [205854.94706251],\n",
       "       [278212.00308697],\n",
       "       [133426.39197083],\n",
       "       [199062.53567681],\n",
       "       [284360.92286771],\n",
       "       [133426.39197083],\n",
       "       [246251.92004059],\n",
       "       [230522.12525267],\n",
       "       [223872.71200141],\n",
       "       [245965.92377172],\n",
       "       [216079.31367466],\n",
       "       [217080.30061571]])"
      ]
     },
     "execution_count": 126,
     "metadata": {},
     "output_type": "execute_result"
    }
   ],
   "source": [
    "y_pred"
   ]
  },
  {
   "cell_type": "code",
   "execution_count": 127,
   "metadata": {},
   "outputs": [
    {
     "data": {
      "text/plain": [
       "[<matplotlib.lines.Line2D at 0x248a5528fa0>]"
      ]
     },
     "execution_count": 127,
     "metadata": {},
     "output_type": "execute_result"
    },
    {
     "data": {
      "image/png": "[encoded data removed]",
      "text/plain": [
       "<Figure size 432x288 with 1 Axes>"
      ]
     },
     "metadata": {},
     "output_type": "display_data"
    }
   ],
   "source": [
    "plt.scatter(X_test, y_test)\n",
    "plt.plot(X_test, y_pred, c='r')"
   ]
  },
  {
   "cell_type": "markdown",
   "metadata": {
    "colab_type": "text",
    "id": "drP_xuAKXd4C"
   },
   "source": [
    "##### 2.7 Define X, Y\n",
    "\n",
    "- X = Predictor Variable \n",
    "- Y = Target Variable"
   ]
  },
  {
   "cell_type": "code",
   "execution_count": 30,
   "metadata": {
    "colab": {},
    "colab_type": "code",
    "id": "yPWPQp3VXd4D"
   },
   "outputs": [],
   "source": [
    "# ANSWER\n",
    "X = house1['sq__ft']\n",
    "Y = house1['price']"
   ]
  },
  {
   "cell_type": "markdown",
   "metadata": {
    "colab_type": "text",
    "id": "JkV3m-EqXd4F"
   },
   "source": [
    "##### 2.7.A Calculate beta_1\n",
    "\n",
    " ### $$ \\beta_1 = \\frac{\\sum_{i=1}^n (y_i - \\bar{y} ) (x_i - \\bar{x} )}{\\sum_{i=1}^n (x_i - \\bar{x})^2} $$"
   ]
  },
  {
   "cell_type": "code",
   "execution_count": 31,
   "metadata": {},
   "outputs": [
    {
     "data": {
      "text/plain": [
       "54.158639688530755"
      ]
     },
     "execution_count": 31,
     "metadata": {},
     "output_type": "execute_result"
    }
   ],
   "source": [
    "# Beta1 = slope\n",
    "def calculate_beta_1(X, Y):\n",
    "    Xbar = X.mean()\n",
    "    Ybar = Y.mean()\n",
    "    \n",
    "    n = np.sum((Y - Ybar) * (X - Xbar)) \n",
    "    d = np.sum(np.square(X - Xbar)) \n",
    "    \n",
    "    beta_1 = n/d\n",
    "    \n",
    "    return beta_1\n",
    "\n",
    "beta_1 = calculate_beta_1(X, Y)\n",
    "beta_1"
   ]
  },
  {
   "cell_type": "markdown",
   "metadata": {
    "colab_type": "text",
    "id": "MoA9ez44Xd4I"
   },
   "source": [
    "##### 2.7.B Calculate beta_0"
   ]
  },
  {
   "cell_type": "markdown",
   "metadata": {
    "colab_type": "text",
    "id": "V7fug5lMXd4K"
   },
   "source": [
    "### $$ \\beta_0 = \\bar{y} - \\beta_1\\bar{x} $$"
   ]
  },
  {
   "cell_type": "code",
   "execution_count": 32,
   "metadata": {},
   "outputs": [],
   "source": [
    "# ANSWER Beta 0 = intercept\n",
    "def calculate_beta_0(X, Y):\n",
    "    \n",
    "    x_bar = X.mean()\n",
    "    y_bar = Y.mean()\n",
    "    \n",
    "    beta_0 = y_bar - calculate_beta_1(X, Y) * x_bar\n",
    "    \n",
    "    return beta_0"
   ]
  },
  {
   "cell_type": "code",
   "execution_count": 33,
   "metadata": {},
   "outputs": [
    {
     "data": {
      "text/plain": [
       "162930.16140699777"
      ]
     },
     "execution_count": 33,
     "metadata": {},
     "output_type": "execute_result"
    }
   ],
   "source": [
    "beta_0 = calculate_beta_0(X, Y)\n",
    "beta_0"
   ]
  },
  {
   "cell_type": "code",
   "execution_count": null,
   "metadata": {},
   "outputs": [],
   "source": []
  },
  {
   "cell_type": "markdown",
   "metadata": {
    "colab_type": "text",
    "id": "Z9EUGv1KXd4N"
   },
   "source": [
    "##### 2.7.C Find Yhat (Predicted Value Using Beta 0 and Beta 1)"
   ]
  },
  {
   "cell_type": "markdown",
   "metadata": {
    "colab_type": "text",
    "id": "gSRcDL57Xd4O"
   },
   "source": [
    "### $$\\hat{y} = \\beta_0 + \\beta_1 x$$"
   ]
  },
  {
   "cell_type": "code",
   "execution_count": 39,
   "metadata": {
    "colab": {},
    "colab_type": "code",
    "id": "lGkoNedwXd4P"
   },
   "outputs": [],
   "source": [
    "# ANSWER: yhat = predicted value\n",
    "def calculate_yhat(X, beta_0, beta_1):\n",
    "    return beta_0 + beta_1 * X"
   ]
  },
  {
   "cell_type": "code",
   "execution_count": 40,
   "metadata": {},
   "outputs": [
    {
     "data": {
      "text/plain": [
       "0      208206.784187\n",
       "1      226133.293924\n",
       "2      206040.438599\n",
       "3      209073.322422\n",
       "4      206094.597239\n",
       "           ...      \n",
       "980    286411.859897\n",
       "981    242922.472227\n",
       "982    228787.067268\n",
       "983    254187.469282\n",
       "984    236694.228663\n",
       "Name: sq__ft, Length: 985, dtype: float64"
      ]
     },
     "execution_count": 40,
     "metadata": {},
     "output_type": "execute_result"
    }
   ],
   "source": [
    "yhat = calculate_yhat(X, beta_0, beta_1)\n",
    "yhat"
   ]
  },
  {
   "cell_type": "code",
   "execution_count": 41,
   "metadata": {},
   "outputs": [],
   "source": [
    "# For house 500 sq__ft\n",
    "new_house = 500"
   ]
  },
  {
   "cell_type": "code",
   "execution_count": 42,
   "metadata": {},
   "outputs": [
    {
     "data": {
      "text/plain": [
       "190009.48125126315"
      ]
     },
     "execution_count": 42,
     "metadata": {},
     "output_type": "execute_result"
    }
   ],
   "source": [
    "calculate_yhat(500, beta_0, beta_1)"
   ]
  },
  {
   "cell_type": "markdown",
   "metadata": {
    "colab_type": "text",
    "id": "h1D-rddfXd4R"
   },
   "source": [
    "##### 2.7.D Find Residuals"
   ]
  },
  {
   "cell_type": "markdown",
   "metadata": {
    "colab_type": "text",
    "id": "2cha8XAQXd4S"
   },
   "source": [
    "### $$ \\text{residual}_i = y_i - \\hat{y}_i$$"
   ]
  },
  {
   "cell_type": "code",
   "execution_count": 43,
   "metadata": {
    "colab": {},
    "colab_type": "code",
    "id": "dLZgRjbGXd4S"
   },
   "outputs": [],
   "source": [
    "# ANSWER\n",
    "def calculate_residuals(y, yhat):\n",
    "    res = y - yhat\n",
    "    return res"
   ]
  },
  {
   "cell_type": "code",
   "execution_count": 44,
   "metadata": {},
   "outputs": [
    {
     "data": {
      "text/plain": [
       "0      148984.784187\n",
       "1      157921.293924\n",
       "2      137160.438599\n",
       "3      139766.322422\n",
       "4      124194.597239\n",
       "           ...      \n",
       "980     53986.859897\n",
       "981      8922.472227\n",
       "982      6212.932732\n",
       "983     18886.469282\n",
       "984       956.228663\n",
       "Length: 985, dtype: float64"
      ]
     },
     "execution_count": 44,
     "metadata": {},
     "output_type": "execute_result"
    }
   ],
   "source": [
    "res = calculate_residuals(y, yhat)\n",
    "abs(res)"
   ]
  },
  {
   "cell_type": "code",
   "execution_count": 45,
   "metadata": {},
   "outputs": [
    {
     "data": {
      "image/png": "[encoded data removed]",
      "text/plain": [
       "<Figure size 1080x504 with 1 Axes>"
      ]
     },
     "metadata": {
      "needs_background": "light"
     },
     "output_type": "display_data"
    }
   ],
   "source": [
    "draw_plot(X,Y,yhat)"
   ]
  },
  {
   "cell_type": "markdown",
   "metadata": {
    "colab_type": "text",
    "id": "bpXEda_uXd4U"
   },
   "source": [
    "##### 2.7.E Find R-Square\n",
    "\n",
    "The coefficient $R^2$ is defined as $$ R^2 = 1 - \\frac{SS_{res}}{SS_{tot}} $$, where $$ SS_{res} $$ is the residual sum of squares $$ SS_{res} = \\sum_{i=1}^n \\left(y_i - \\hat{y}_i\\right)^2 $$ and $$ SS_{res} $$ is the total sum of squares $$ SS_{tot} = \\sum_{i=1}^n \\left(y_i - \\bar{y}\\right)^2 $$\n",
    "\n",
    "The best possible score is 1.0 and it can be negative (because the model can be arbitrarily worse).\n",
    "\n",
    "**Write a function to calculate R- Square value.**"
   ]
  },
  {
   "cell_type": "markdown",
   "metadata": {
    "colab_type": "text",
    "id": "1RamI9LTXd4V"
   },
   "source": [
    "The total sum of squares:\n",
    "\n",
    "### $$ SS_{tot} = \\sum_{i=1}^n \\left(y_i - \\bar{y}\\right)^2 $$\n",
    "\n",
    "The residual sum of squares:\n",
    "\n",
    "### $$ SS_{res} = \\sum_{i=1}^n \\left(y_i - \\hat{y}_i\\right)^2 $$\n",
    "\n",
    "$R^2$:\n",
    "\n",
    "### $$ R^2 = 1 - \\frac{SS_{res}}{SS_{tot}} $$"
   ]
  },
  {
   "cell_type": "code",
   "execution_count": 46,
   "metadata": {
    "colab": {},
    "colab_type": "code",
    "id": "vmxloC2RXd4W"
   },
   "outputs": [],
   "source": [
    "# ANSWER: the total sum of squares formula SStot\n",
    "def calculate_total_sum_of_square(Y):\n",
    "    ybar = np.mean(Y)\n",
    "    SStot = np.square(Y - ybar)\n",
    "    SStot = np.sum(SStot)\n",
    "    return SStot"
   ]
  },
  {
   "cell_type": "code",
   "execution_count": 47,
   "metadata": {},
   "outputs": [],
   "source": [
    "# the residual sum of squares formula\n",
    "def calculate_residuals_sum_of_square(Y, yhat):\n",
    "    SSres = np.square(Y - yhat)\n",
    "    SSres = np.sum(SSres)\n",
    "    return SSres"
   ]
  },
  {
   "cell_type": "code",
   "execution_count": 48,
   "metadata": {},
   "outputs": [],
   "source": [
    "# formula R2\n",
    "def calculate_r_square(Y,yhat):\n",
    "    SStot = calculate_total_sum_of_square(Y)\n",
    "    SSres = calculate_residuals_sum_of_square(Y, yhat)\n",
    "    Rsquare = 1 - (SSres/SStot)\n",
    "    return Rsquare"
   ]
  },
  {
   "cell_type": "code",
   "execution_count": 49,
   "metadata": {},
   "outputs": [
    {
     "data": {
      "text/plain": [
       "0.0"
      ]
     },
     "execution_count": 49,
     "metadata": {},
     "output_type": "execute_result"
    }
   ],
   "source": [
    "calculate_r_square(Y, np.mean(Y))"
   ]
  },
  {
   "cell_type": "code",
   "execution_count": 50,
   "metadata": {},
   "outputs": [
    {
     "data": {
      "text/plain": [
       "0.11148717682951459"
      ]
     },
     "execution_count": 50,
     "metadata": {},
     "output_type": "execute_result"
    }
   ],
   "source": [
    "calculate_r_square(Y, calculate_yhat(X, beta_0, beta_1))"
   ]
  },
  {
   "cell_type": "markdown",
   "metadata": {
    "colab_type": "text",
    "id": "7xV-CEKcXd4a"
   },
   "source": [
    "##### 2.7.F [BONUS] Draw Plot of Predicted Line"
   ]
  },
  {
   "cell_type": "code",
   "execution_count": null,
   "metadata": {
    "colab": {},
    "colab_type": "code",
    "id": "P4JKmHWSXd4a"
   },
   "outputs": [],
   "source": [
    "# ANSWER"
   ]
  },
  {
   "cell_type": "code",
   "execution_count": 51,
   "metadata": {},
   "outputs": [
    {
     "data": {
      "image/png": "[encoded data removed]",
      "text/plain": [
       "<Figure size 1080x504 with 1 Axes>"
      ]
     },
     "metadata": {
      "needs_background": "light"
     },
     "output_type": "display_data"
    }
   ],
   "source": [
    "draw_plot(X, Y, yhat)"
   ]
  },
  {
   "cell_type": "markdown",
   "metadata": {
    "colab_type": "text",
    "id": "oE45Z1qaXd4f"
   },
   "source": [
    "##### 2.7.G [BONUS] Draw Plot of Predicted Line With Residuals"
   ]
  },
  {
   "cell_type": "markdown",
   "metadata": {
    "colab_type": "text",
    "id": "NTjW6xxFXd4i"
   },
   "source": [
    "### 3. Predict House Price\n",
    "\n",
    "Let's assume we have information of following house:\n",
    "\n",
    "- street:\t1140 EDMONTON DR\n",
    "- city:\tSACRAMENTO\n",
    "- zip:\t95833\n",
    "- state:\tCA\n",
    "- beds:\t3\n",
    "- baths:\t2\n",
    "- sq__ft:\t1204\n",
    "- type:\tResidential\n",
    "\n",
    "**Predict the price of this house.**"
   ]
  },
  {
   "cell_type": "code",
   "execution_count": 61,
   "metadata": {
    "colab": {},
    "colab_type": "code",
    "id": "mz5Lx5jGXd4j"
   },
   "outputs": [
    {
     "data": {
      "text/plain": [
       "1204"
      ]
     },
     "execution_count": 61,
     "metadata": {},
     "output_type": "execute_result"
    }
   ],
   "source": [
    "# ANSWER\n",
    "X_pred = 1204\n",
    "X_pred"
   ]
  },
  {
   "cell_type": "code",
   "execution_count": 62,
   "metadata": {},
   "outputs": [
    {
     "data": {
      "text/plain": [
       "162930.16140699777"
      ]
     },
     "execution_count": 62,
     "metadata": {},
     "output_type": "execute_result"
    }
   ],
   "source": [
    "beta_0"
   ]
  },
  {
   "cell_type": "code",
   "execution_count": 63,
   "metadata": {},
   "outputs": [
    {
     "data": {
      "text/plain": [
       "54.158639688530755"
      ]
     },
     "execution_count": 63,
     "metadata": {},
     "output_type": "execute_result"
    }
   ],
   "source": [
    "beta_1"
   ]
  },
  {
   "cell_type": "code",
   "execution_count": 65,
   "metadata": {},
   "outputs": [
    {
     "data": {
      "text/plain": [
       "228137.1635919888"
      ]
     },
     "execution_count": 65,
     "metadata": {},
     "output_type": "execute_result"
    }
   ],
   "source": [
    "Ypred = beta_1 * X_pred + beta_0\n",
    "Ypred"
   ]
  },
  {
   "cell_type": "code",
   "execution_count": 66,
   "metadata": {},
   "outputs": [],
   "source": [
    "# 3 bedrooms, 2 baths, 1201 sq__ft\n",
    "\n",
    "yhat = beta_0 + beta_1 * 3 + beta_1 * 2 * 1204"
   ]
  },
  {
   "cell_type": "markdown",
   "metadata": {
    "colab_type": "text",
    "id": "W0FUjKlcl-NJ"
   },
   "source": [
    "\n",
    "\n",
    "---\n",
    "\n",
    "\n",
    "\n",
    "---\n",
    "\n",
    "\n",
    "\n",
    "> > > > > > > > > © 2019 Institute of Data\n",
    "\n",
    "\n",
    "---\n",
    "\n",
    "\n",
    "\n",
    "---\n",
    "\n",
    "\n",
    "\n"
   ]
  }
 ],
 "metadata": {
  "colab": {
   "collapsed_sections": [],
   "name": "IOD_Lab 4.1.1.ipynb",
   "provenance": []
  },
  "kernelspec": {
   "display_name": "Python 3",
   "language": "python",
   "name": "python3"
  },
  "language_info": {
   "codemirror_mode": {
    "name": "ipython",
    "version": 3
   },
   "file_extension": ".py",
   "mimetype": "text/x-python",
   "name": "python",
   "nbconvert_exporter": "python",
   "pygments_lexer": "ipython3",
   "version": "3.8.5"
  }
 },
 "nbformat": 4,
 "nbformat_minor": 1
}
