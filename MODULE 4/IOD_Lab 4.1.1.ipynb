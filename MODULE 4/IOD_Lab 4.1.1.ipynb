{
 "cells": [
  {
   "cell_type": "markdown",
   "metadata": {
    "colab_type": "text",
    "id": "jZSSKjAWXd3j"
   },
   "source": [
    "<div>\n",
    "<img src=https://www.institutedata.com/wp-content/uploads/2019/10/iod_h_tp_primary_c.svg width=\"300\">\n",
    "</div>"
   ]
  },
  {
   "cell_type": "markdown",
   "metadata": {
    "colab_type": "text",
    "id": "2Ms9riXMXd3k"
   },
   "source": [
    "# Lab 4.1.1 Linear Regression"
   ]
  },
  {
   "cell_type": "markdown",
   "metadata": {
    "colab_type": "text",
    "id": "twocr7v8Xd3l"
   },
   "source": [
    "## Prediction of House Price Using Linear Regression"
   ]
  },
  {
   "cell_type": "markdown",
   "metadata": {
    "colab_type": "text",
    "id": "0j3ZiTCPXd3m"
   },
   "source": [
    "### Data\n",
    "\n",
    "The Sacramento real estate transactions file is a list of 985 real estate transactions in the Sacramento area reported over a five-day period, as reported by the Sacramento Bee."
   ]
  },
  {
   "cell_type": "markdown",
   "metadata": {},
   "source": [
    "# Importing packages and displaying version numbers"
   ]
  },
  {
   "cell_type": "code",
   "execution_count": 2,
   "metadata": {
    "colab": {},
    "colab_type": "code",
    "id": "hejYh49cXd3n"
   },
   "outputs": [],
   "source": [
    "import pandas as pd\n",
    "import numpy as np\n",
    "import pandas as pd\n",
    "import matplotlib\n",
    "import matplotlib.pyplot as plt\n",
    "import matplotlib.pylab as pylab\n",
    "import seaborn as sns\n",
    "\n",
    "import math\n",
    "import statistics\n",
    "\n",
    "from scipy import stats\n",
    "\n",
    "from sklearn import datasets\n",
    "from sklearn.linear_model import LinearRegression\n",
    "from sklearn.metrics import accuracy_score\n",
    "\n",
    "%matplotlib inline"
   ]
  },
  {
   "cell_type": "code",
   "execution_count": 3,
   "metadata": {},
   "outputs": [
    {
     "name": "stdout",
     "output_type": "stream",
     "text": [
      "Numpy:  1.19.2\n",
      "Pandas:  1.1.3\n",
      "Seaborn: 0.11.0\n",
      "Matplotlib: 3.3.2\n"
     ]
    }
   ],
   "source": [
    "# As a good practice, displaying the library version numbers for future reference:\n",
    "print('Numpy: ', np.__version__)\n",
    "print('Pandas: ', pd.__version__)\n",
    "print('Seaborn:', sns.__version__)\n",
    "print('Matplotlib:' , matplotlib.__version__)"
   ]
  },
  {
   "cell_type": "markdown",
   "metadata": {
    "colab_type": "text",
    "id": "BlumKNPDXd3q"
   },
   "source": [
    "# 1. Explore Data"
   ]
  },
  {
   "cell_type": "markdown",
   "metadata": {
    "colab_type": "text",
    "id": "h1FUHCAnXd3r"
   },
   "source": [
    "Perform EDA on this dataset. Use what you have learned so far. Be creative. List all your findings."
   ]
  },
  {
   "cell_type": "code",
   "execution_count": 4,
   "metadata": {},
   "outputs": [],
   "source": [
    "# Read CSV\n",
    "house_csv = \"C:/Users/Monica/Desktop/IoD-Folders/MODULE 4/Labs/Sacramento_realestate_transactions.csv\"\n",
    "\n",
    "house = pd.read_csv(\"C:/Users/Monica/Desktop/IoD-Folders/MODULE 4/Labs/Sacramento_realestate_transactions.csv\")"
   ]
  },
  {
   "cell_type": "code",
   "execution_count": 5,
   "metadata": {},
   "outputs": [
    {
     "data": {
      "text/plain": [
       "(985, 12)"
      ]
     },
     "execution_count": 5,
     "metadata": {},
     "output_type": "execute_result"
    }
   ],
   "source": [
    "house.shape"
   ]
  },
  {
   "cell_type": "code",
   "execution_count": 6,
   "metadata": {
    "colab": {},
    "colab_type": "code",
    "id": "C8BX-oTKXd3s"
   },
   "outputs": [
    {
     "data": {
      "text/html": [
       "<div>\n",
       "<style scoped>\n",
       "    .dataframe tbody tr th:only-of-type {\n",
       "        vertical-align: middle;\n",
       "    }\n",
       "\n",
       "    .dataframe tbody tr th {\n",
       "        vertical-align: top;\n",
       "    }\n",
       "\n",
       "    .dataframe thead th {\n",
       "        text-align: right;\n",
       "    }\n",
       "</style>\n",
       "<table border=\"1\" class=\"dataframe\">\n",
       "  <thead>\n",
       "    <tr style=\"text-align: right;\">\n",
       "      <th></th>\n",
       "      <th>street</th>\n",
       "      <th>city</th>\n",
       "      <th>zip</th>\n",
       "      <th>state</th>\n",
       "      <th>beds</th>\n",
       "      <th>baths</th>\n",
       "      <th>sq__ft</th>\n",
       "      <th>type</th>\n",
       "      <th>sale_date</th>\n",
       "      <th>price</th>\n",
       "      <th>latitude</th>\n",
       "      <th>longitude</th>\n",
       "    </tr>\n",
       "  </thead>\n",
       "  <tbody>\n",
       "    <tr>\n",
       "      <th>0</th>\n",
       "      <td>3526 HIGH ST</td>\n",
       "      <td>SACRAMENTO</td>\n",
       "      <td>95838</td>\n",
       "      <td>CA</td>\n",
       "      <td>2</td>\n",
       "      <td>1</td>\n",
       "      <td>836</td>\n",
       "      <td>Residential</td>\n",
       "      <td>Wed May 21 00:00:00 EDT 2008</td>\n",
       "      <td>59222</td>\n",
       "      <td>38.631913</td>\n",
       "      <td>-121.434879</td>\n",
       "    </tr>\n",
       "    <tr>\n",
       "      <th>1</th>\n",
       "      <td>51 OMAHA CT</td>\n",
       "      <td>SACRAMENTO</td>\n",
       "      <td>95823</td>\n",
       "      <td>CA</td>\n",
       "      <td>3</td>\n",
       "      <td>1</td>\n",
       "      <td>1167</td>\n",
       "      <td>Residential</td>\n",
       "      <td>Wed May 21 00:00:00 EDT 2008</td>\n",
       "      <td>68212</td>\n",
       "      <td>38.478902</td>\n",
       "      <td>-121.431028</td>\n",
       "    </tr>\n",
       "    <tr>\n",
       "      <th>2</th>\n",
       "      <td>2796 BRANCH ST</td>\n",
       "      <td>SACRAMENTO</td>\n",
       "      <td>95815</td>\n",
       "      <td>CA</td>\n",
       "      <td>2</td>\n",
       "      <td>1</td>\n",
       "      <td>796</td>\n",
       "      <td>Residential</td>\n",
       "      <td>Wed May 21 00:00:00 EDT 2008</td>\n",
       "      <td>68880</td>\n",
       "      <td>38.618305</td>\n",
       "      <td>-121.443839</td>\n",
       "    </tr>\n",
       "    <tr>\n",
       "      <th>3</th>\n",
       "      <td>2805 JANETTE WAY</td>\n",
       "      <td>SACRAMENTO</td>\n",
       "      <td>95815</td>\n",
       "      <td>CA</td>\n",
       "      <td>2</td>\n",
       "      <td>1</td>\n",
       "      <td>852</td>\n",
       "      <td>Residential</td>\n",
       "      <td>Wed May 21 00:00:00 EDT 2008</td>\n",
       "      <td>69307</td>\n",
       "      <td>38.616835</td>\n",
       "      <td>-121.439146</td>\n",
       "    </tr>\n",
       "    <tr>\n",
       "      <th>4</th>\n",
       "      <td>6001 MCMAHON DR</td>\n",
       "      <td>SACRAMENTO</td>\n",
       "      <td>95824</td>\n",
       "      <td>CA</td>\n",
       "      <td>2</td>\n",
       "      <td>1</td>\n",
       "      <td>797</td>\n",
       "      <td>Residential</td>\n",
       "      <td>Wed May 21 00:00:00 EDT 2008</td>\n",
       "      <td>81900</td>\n",
       "      <td>38.519470</td>\n",
       "      <td>-121.435768</td>\n",
       "    </tr>\n",
       "  </tbody>\n",
       "</table>\n",
       "</div>"
      ],
      "text/plain": [
       "             street        city    zip state  beds  baths  sq__ft  \\\n",
       "0      3526 HIGH ST  SACRAMENTO  95838    CA     2      1     836   \n",
       "1       51 OMAHA CT  SACRAMENTO  95823    CA     3      1    1167   \n",
       "2    2796 BRANCH ST  SACRAMENTO  95815    CA     2      1     796   \n",
       "3  2805 JANETTE WAY  SACRAMENTO  95815    CA     2      1     852   \n",
       "4   6001 MCMAHON DR  SACRAMENTO  95824    CA     2      1     797   \n",
       "\n",
       "          type                     sale_date  price   latitude   longitude  \n",
       "0  Residential  Wed May 21 00:00:00 EDT 2008  59222  38.631913 -121.434879  \n",
       "1  Residential  Wed May 21 00:00:00 EDT 2008  68212  38.478902 -121.431028  \n",
       "2  Residential  Wed May 21 00:00:00 EDT 2008  68880  38.618305 -121.443839  \n",
       "3  Residential  Wed May 21 00:00:00 EDT 2008  69307  38.616835 -121.439146  \n",
       "4  Residential  Wed May 21 00:00:00 EDT 2008  81900  38.519470 -121.435768  "
      ]
     },
     "execution_count": 6,
     "metadata": {},
     "output_type": "execute_result"
    }
   ],
   "source": [
    "house.head()"
   ]
  },
  {
   "cell_type": "code",
   "execution_count": 7,
   "metadata": {},
   "outputs": [
    {
     "data": {
      "text/html": [
       "<div>\n",
       "<style scoped>\n",
       "    .dataframe tbody tr th:only-of-type {\n",
       "        vertical-align: middle;\n",
       "    }\n",
       "\n",
       "    .dataframe tbody tr th {\n",
       "        vertical-align: top;\n",
       "    }\n",
       "\n",
       "    .dataframe thead th {\n",
       "        text-align: right;\n",
       "    }\n",
       "</style>\n",
       "<table border=\"1\" class=\"dataframe\">\n",
       "  <thead>\n",
       "    <tr style=\"text-align: right;\">\n",
       "      <th></th>\n",
       "      <th>street</th>\n",
       "      <th>city</th>\n",
       "      <th>zip</th>\n",
       "      <th>state</th>\n",
       "      <th>beds</th>\n",
       "      <th>baths</th>\n",
       "      <th>sq__ft</th>\n",
       "      <th>type</th>\n",
       "      <th>sale_date</th>\n",
       "      <th>price</th>\n",
       "      <th>latitude</th>\n",
       "      <th>longitude</th>\n",
       "    </tr>\n",
       "  </thead>\n",
       "  <tbody>\n",
       "    <tr>\n",
       "      <th>980</th>\n",
       "      <td>9169 GARLINGTON CT</td>\n",
       "      <td>SACRAMENTO</td>\n",
       "      <td>95829</td>\n",
       "      <td>CA</td>\n",
       "      <td>4</td>\n",
       "      <td>3</td>\n",
       "      <td>2280</td>\n",
       "      <td>Residential</td>\n",
       "      <td>Thu May 15 00:00:00 EDT 2008</td>\n",
       "      <td>232425</td>\n",
       "      <td>38.457679</td>\n",
       "      <td>-121.359620</td>\n",
       "    </tr>\n",
       "    <tr>\n",
       "      <th>981</th>\n",
       "      <td>6932 RUSKUT WAY</td>\n",
       "      <td>SACRAMENTO</td>\n",
       "      <td>95823</td>\n",
       "      <td>CA</td>\n",
       "      <td>3</td>\n",
       "      <td>2</td>\n",
       "      <td>1477</td>\n",
       "      <td>Residential</td>\n",
       "      <td>Thu May 15 00:00:00 EDT 2008</td>\n",
       "      <td>234000</td>\n",
       "      <td>38.499893</td>\n",
       "      <td>-121.458890</td>\n",
       "    </tr>\n",
       "    <tr>\n",
       "      <th>982</th>\n",
       "      <td>7933 DAFFODIL WAY</td>\n",
       "      <td>CITRUS HEIGHTS</td>\n",
       "      <td>95610</td>\n",
       "      <td>CA</td>\n",
       "      <td>3</td>\n",
       "      <td>2</td>\n",
       "      <td>1216</td>\n",
       "      <td>Residential</td>\n",
       "      <td>Thu May 15 00:00:00 EDT 2008</td>\n",
       "      <td>235000</td>\n",
       "      <td>38.708824</td>\n",
       "      <td>-121.256803</td>\n",
       "    </tr>\n",
       "    <tr>\n",
       "      <th>983</th>\n",
       "      <td>8304 RED FOX WAY</td>\n",
       "      <td>ELK GROVE</td>\n",
       "      <td>95758</td>\n",
       "      <td>CA</td>\n",
       "      <td>4</td>\n",
       "      <td>2</td>\n",
       "      <td>1685</td>\n",
       "      <td>Residential</td>\n",
       "      <td>Thu May 15 00:00:00 EDT 2008</td>\n",
       "      <td>235301</td>\n",
       "      <td>38.417000</td>\n",
       "      <td>-121.397424</td>\n",
       "    </tr>\n",
       "    <tr>\n",
       "      <th>984</th>\n",
       "      <td>3882 YELLOWSTONE LN</td>\n",
       "      <td>EL DORADO HILLS</td>\n",
       "      <td>95762</td>\n",
       "      <td>CA</td>\n",
       "      <td>3</td>\n",
       "      <td>2</td>\n",
       "      <td>1362</td>\n",
       "      <td>Residential</td>\n",
       "      <td>Thu May 15 00:00:00 EDT 2008</td>\n",
       "      <td>235738</td>\n",
       "      <td>38.655245</td>\n",
       "      <td>-121.075915</td>\n",
       "    </tr>\n",
       "  </tbody>\n",
       "</table>\n",
       "</div>"
      ],
      "text/plain": [
       "                  street             city    zip state  beds  baths  sq__ft  \\\n",
       "980   9169 GARLINGTON CT       SACRAMENTO  95829    CA     4      3    2280   \n",
       "981      6932 RUSKUT WAY       SACRAMENTO  95823    CA     3      2    1477   \n",
       "982    7933 DAFFODIL WAY   CITRUS HEIGHTS  95610    CA     3      2    1216   \n",
       "983     8304 RED FOX WAY        ELK GROVE  95758    CA     4      2    1685   \n",
       "984  3882 YELLOWSTONE LN  EL DORADO HILLS  95762    CA     3      2    1362   \n",
       "\n",
       "            type                     sale_date   price   latitude   longitude  \n",
       "980  Residential  Thu May 15 00:00:00 EDT 2008  232425  38.457679 -121.359620  \n",
       "981  Residential  Thu May 15 00:00:00 EDT 2008  234000  38.499893 -121.458890  \n",
       "982  Residential  Thu May 15 00:00:00 EDT 2008  235000  38.708824 -121.256803  \n",
       "983  Residential  Thu May 15 00:00:00 EDT 2008  235301  38.417000 -121.397424  \n",
       "984  Residential  Thu May 15 00:00:00 EDT 2008  235738  38.655245 -121.075915  "
      ]
     },
     "execution_count": 7,
     "metadata": {},
     "output_type": "execute_result"
    }
   ],
   "source": [
    "house.tail()"
   ]
  },
  {
   "cell_type": "code",
   "execution_count": 8,
   "metadata": {},
   "outputs": [
    {
     "data": {
      "text/plain": [
       "street        object\n",
       "city          object\n",
       "zip            int64\n",
       "state         object\n",
       "beds           int64\n",
       "baths          int64\n",
       "sq__ft         int64\n",
       "type          object\n",
       "sale_date     object\n",
       "price          int64\n",
       "latitude     float64\n",
       "longitude    float64\n",
       "dtype: object"
      ]
     },
     "execution_count": 8,
     "metadata": {},
     "output_type": "execute_result"
    }
   ],
   "source": [
    "house.dtypes"
   ]
  },
  {
   "cell_type": "code",
   "execution_count": 9,
   "metadata": {},
   "outputs": [
    {
     "data": {
      "text/plain": [
       "RangeIndex(start=0, stop=985, step=1)"
      ]
     },
     "execution_count": 9,
     "metadata": {},
     "output_type": "execute_result"
    }
   ],
   "source": [
    "# To know is there is a (row) index for this DataFrame using .index\n",
    "house.index"
   ]
  },
  {
   "cell_type": "code",
   "execution_count": 10,
   "metadata": {},
   "outputs": [
    {
     "name": "stdout",
     "output_type": "stream",
     "text": [
      "<class 'pandas.core.frame.DataFrame'>\n",
      "RangeIndex: 985 entries, 0 to 984\n",
      "Data columns (total 12 columns):\n",
      " #   Column     Non-Null Count  Dtype  \n",
      "---  ------     --------------  -----  \n",
      " 0   street     985 non-null    object \n",
      " 1   city       985 non-null    object \n",
      " 2   zip        985 non-null    int64  \n",
      " 3   state      985 non-null    object \n",
      " 4   beds       985 non-null    int64  \n",
      " 5   baths      985 non-null    int64  \n",
      " 6   sq__ft     985 non-null    int64  \n",
      " 7   type       985 non-null    object \n",
      " 8   sale_date  985 non-null    object \n",
      " 9   price      985 non-null    int64  \n",
      " 10  latitude   985 non-null    float64\n",
      " 11  longitude  985 non-null    float64\n",
      "dtypes: float64(2), int64(5), object(5)\n",
      "memory usage: 92.5+ KB\n"
     ]
    }
   ],
   "source": [
    "# To get a concise summary and quick overview of the dataframe before doing EDA using info() function\n",
    "house.info()"
   ]
  },
  {
   "cell_type": "code",
   "execution_count": 11,
   "metadata": {},
   "outputs": [],
   "source": [
    "# Zip is categorical value, should be string\n",
    "house['zip'] = house['zip'].astype(str)"
   ]
  },
  {
   "cell_type": "code",
   "execution_count": 12,
   "metadata": {},
   "outputs": [
    {
     "data": {
      "text/html": [
       "<div>\n",
       "<style scoped>\n",
       "    .dataframe tbody tr th:only-of-type {\n",
       "        vertical-align: middle;\n",
       "    }\n",
       "\n",
       "    .dataframe tbody tr th {\n",
       "        vertical-align: top;\n",
       "    }\n",
       "\n",
       "    .dataframe thead th {\n",
       "        text-align: right;\n",
       "    }\n",
       "</style>\n",
       "<table border=\"1\" class=\"dataframe\">\n",
       "  <thead>\n",
       "    <tr style=\"text-align: right;\">\n",
       "      <th></th>\n",
       "      <th>count</th>\n",
       "      <th>mean</th>\n",
       "      <th>std</th>\n",
       "      <th>min</th>\n",
       "      <th>25%</th>\n",
       "      <th>50%</th>\n",
       "      <th>75%</th>\n",
       "      <th>max</th>\n",
       "    </tr>\n",
       "  </thead>\n",
       "  <tbody>\n",
       "    <tr>\n",
       "      <th>beds</th>\n",
       "      <td>985.0</td>\n",
       "      <td>2.911675</td>\n",
       "      <td>1.307932</td>\n",
       "      <td>0.000000</td>\n",
       "      <td>2.000000</td>\n",
       "      <td>3.000000</td>\n",
       "      <td>4.000000</td>\n",
       "      <td>8.000000</td>\n",
       "    </tr>\n",
       "    <tr>\n",
       "      <th>baths</th>\n",
       "      <td>985.0</td>\n",
       "      <td>1.776650</td>\n",
       "      <td>0.895371</td>\n",
       "      <td>0.000000</td>\n",
       "      <td>1.000000</td>\n",
       "      <td>2.000000</td>\n",
       "      <td>2.000000</td>\n",
       "      <td>5.000000</td>\n",
       "    </tr>\n",
       "    <tr>\n",
       "      <th>sq__ft</th>\n",
       "      <td>985.0</td>\n",
       "      <td>1314.916751</td>\n",
       "      <td>853.048243</td>\n",
       "      <td>0.000000</td>\n",
       "      <td>952.000000</td>\n",
       "      <td>1304.000000</td>\n",
       "      <td>1718.000000</td>\n",
       "      <td>5822.000000</td>\n",
       "    </tr>\n",
       "    <tr>\n",
       "      <th>price</th>\n",
       "      <td>985.0</td>\n",
       "      <td>234144.263959</td>\n",
       "      <td>138365.839085</td>\n",
       "      <td>1551.000000</td>\n",
       "      <td>145000.000000</td>\n",
       "      <td>213750.000000</td>\n",
       "      <td>300000.000000</td>\n",
       "      <td>884790.000000</td>\n",
       "    </tr>\n",
       "    <tr>\n",
       "      <th>latitude</th>\n",
       "      <td>985.0</td>\n",
       "      <td>38.607732</td>\n",
       "      <td>0.145433</td>\n",
       "      <td>38.241514</td>\n",
       "      <td>38.482717</td>\n",
       "      <td>38.626582</td>\n",
       "      <td>38.695589</td>\n",
       "      <td>39.020808</td>\n",
       "    </tr>\n",
       "    <tr>\n",
       "      <th>longitude</th>\n",
       "      <td>985.0</td>\n",
       "      <td>-121.355982</td>\n",
       "      <td>0.138278</td>\n",
       "      <td>-121.551704</td>\n",
       "      <td>-121.446127</td>\n",
       "      <td>-121.376220</td>\n",
       "      <td>-121.295778</td>\n",
       "      <td>-120.597599</td>\n",
       "    </tr>\n",
       "  </tbody>\n",
       "</table>\n",
       "</div>"
      ],
      "text/plain": [
       "           count           mean            std          min            25%  \\\n",
       "beds       985.0       2.911675       1.307932     0.000000       2.000000   \n",
       "baths      985.0       1.776650       0.895371     0.000000       1.000000   \n",
       "sq__ft     985.0    1314.916751     853.048243     0.000000     952.000000   \n",
       "price      985.0  234144.263959  138365.839085  1551.000000  145000.000000   \n",
       "latitude   985.0      38.607732       0.145433    38.241514      38.482717   \n",
       "longitude  985.0    -121.355982       0.138278  -121.551704    -121.446127   \n",
       "\n",
       "                     50%            75%            max  \n",
       "beds            3.000000       4.000000       8.000000  \n",
       "baths           2.000000       2.000000       5.000000  \n",
       "sq__ft       1304.000000    1718.000000    5822.000000  \n",
       "price      213750.000000  300000.000000  884790.000000  \n",
       "latitude       38.626582      38.695589      39.020808  \n",
       "longitude    -121.376220    -121.295778    -120.597599  "
      ]
     },
     "execution_count": 12,
     "metadata": {},
     "output_type": "execute_result"
    }
   ],
   "source": [
    "# Describe data\n",
    "house.describe().T"
   ]
  },
  {
   "cell_type": "code",
   "execution_count": 13,
   "metadata": {},
   "outputs": [
    {
     "data": {
      "text/html": [
       "<div>\n",
       "<style scoped>\n",
       "    .dataframe tbody tr th:only-of-type {\n",
       "        vertical-align: middle;\n",
       "    }\n",
       "\n",
       "    .dataframe tbody tr th {\n",
       "        vertical-align: top;\n",
       "    }\n",
       "\n",
       "    .dataframe thead th {\n",
       "        text-align: right;\n",
       "    }\n",
       "</style>\n",
       "<table border=\"1\" class=\"dataframe\">\n",
       "  <thead>\n",
       "    <tr style=\"text-align: right;\">\n",
       "      <th></th>\n",
       "      <th>street</th>\n",
       "      <th>city</th>\n",
       "      <th>zip</th>\n",
       "      <th>state</th>\n",
       "      <th>beds</th>\n",
       "      <th>baths</th>\n",
       "      <th>sq__ft</th>\n",
       "      <th>type</th>\n",
       "      <th>sale_date</th>\n",
       "      <th>price</th>\n",
       "      <th>latitude</th>\n",
       "      <th>longitude</th>\n",
       "    </tr>\n",
       "  </thead>\n",
       "  <tbody>\n",
       "    <tr>\n",
       "      <th>73</th>\n",
       "      <td>17 SERASPI CT</td>\n",
       "      <td>SACRAMENTO</td>\n",
       "      <td>95834</td>\n",
       "      <td>CA</td>\n",
       "      <td>0</td>\n",
       "      <td>0</td>\n",
       "      <td>0</td>\n",
       "      <td>Residential</td>\n",
       "      <td>Wed May 21 00:00:00 EDT 2008</td>\n",
       "      <td>206000</td>\n",
       "      <td>38.631481</td>\n",
       "      <td>-121.501880</td>\n",
       "    </tr>\n",
       "    <tr>\n",
       "      <th>89</th>\n",
       "      <td>2866 KARITSA AVE</td>\n",
       "      <td>SACRAMENTO</td>\n",
       "      <td>95833</td>\n",
       "      <td>CA</td>\n",
       "      <td>0</td>\n",
       "      <td>0</td>\n",
       "      <td>0</td>\n",
       "      <td>Residential</td>\n",
       "      <td>Wed May 21 00:00:00 EDT 2008</td>\n",
       "      <td>244500</td>\n",
       "      <td>38.626671</td>\n",
       "      <td>-121.525970</td>\n",
       "    </tr>\n",
       "    <tr>\n",
       "      <th>100</th>\n",
       "      <td>12209 CONSERVANCY WAY</td>\n",
       "      <td>RANCHO CORDOVA</td>\n",
       "      <td>95742</td>\n",
       "      <td>CA</td>\n",
       "      <td>0</td>\n",
       "      <td>0</td>\n",
       "      <td>0</td>\n",
       "      <td>Residential</td>\n",
       "      <td>Wed May 21 00:00:00 EDT 2008</td>\n",
       "      <td>263500</td>\n",
       "      <td>38.553867</td>\n",
       "      <td>-121.219141</td>\n",
       "    </tr>\n",
       "    <tr>\n",
       "      <th>121</th>\n",
       "      <td>5337 DUSTY ROSE WAY</td>\n",
       "      <td>RANCHO CORDOVA</td>\n",
       "      <td>95742</td>\n",
       "      <td>CA</td>\n",
       "      <td>0</td>\n",
       "      <td>0</td>\n",
       "      <td>0</td>\n",
       "      <td>Residential</td>\n",
       "      <td>Wed May 21 00:00:00 EDT 2008</td>\n",
       "      <td>320000</td>\n",
       "      <td>38.528575</td>\n",
       "      <td>-121.228600</td>\n",
       "    </tr>\n",
       "    <tr>\n",
       "      <th>126</th>\n",
       "      <td>2115 SMOKESTACK WAY</td>\n",
       "      <td>SACRAMENTO</td>\n",
       "      <td>95833</td>\n",
       "      <td>CA</td>\n",
       "      <td>0</td>\n",
       "      <td>0</td>\n",
       "      <td>0</td>\n",
       "      <td>Residential</td>\n",
       "      <td>Wed May 21 00:00:00 EDT 2008</td>\n",
       "      <td>339500</td>\n",
       "      <td>38.602416</td>\n",
       "      <td>-121.542965</td>\n",
       "    </tr>\n",
       "    <tr>\n",
       "      <th>...</th>\n",
       "      <td>...</td>\n",
       "      <td>...</td>\n",
       "      <td>...</td>\n",
       "      <td>...</td>\n",
       "      <td>...</td>\n",
       "      <td>...</td>\n",
       "      <td>...</td>\n",
       "      <td>...</td>\n",
       "      <td>...</td>\n",
       "      <td>...</td>\n",
       "      <td>...</td>\n",
       "      <td>...</td>\n",
       "    </tr>\n",
       "    <tr>\n",
       "      <th>901</th>\n",
       "      <td>1530 TOPANGA LN Unit 204</td>\n",
       "      <td>LINCOLN</td>\n",
       "      <td>95648</td>\n",
       "      <td>CA</td>\n",
       "      <td>0</td>\n",
       "      <td>0</td>\n",
       "      <td>0</td>\n",
       "      <td>Condo</td>\n",
       "      <td>Thu May 15 00:00:00 EDT 2008</td>\n",
       "      <td>138000</td>\n",
       "      <td>38.884150</td>\n",
       "      <td>-121.270277</td>\n",
       "    </tr>\n",
       "    <tr>\n",
       "      <th>917</th>\n",
       "      <td>501 POPLAR AVE</td>\n",
       "      <td>WEST SACRAMENTO</td>\n",
       "      <td>95691</td>\n",
       "      <td>CA</td>\n",
       "      <td>0</td>\n",
       "      <td>0</td>\n",
       "      <td>0</td>\n",
       "      <td>Residential</td>\n",
       "      <td>Thu May 15 00:00:00 EDT 2008</td>\n",
       "      <td>165000</td>\n",
       "      <td>38.584526</td>\n",
       "      <td>-121.534609</td>\n",
       "    </tr>\n",
       "    <tr>\n",
       "      <th>934</th>\n",
       "      <td>1550 TOPANGA LN Unit 207</td>\n",
       "      <td>LINCOLN</td>\n",
       "      <td>95648</td>\n",
       "      <td>CA</td>\n",
       "      <td>0</td>\n",
       "      <td>0</td>\n",
       "      <td>0</td>\n",
       "      <td>Condo</td>\n",
       "      <td>Thu May 15 00:00:00 EDT 2008</td>\n",
       "      <td>188000</td>\n",
       "      <td>38.884170</td>\n",
       "      <td>-121.270222</td>\n",
       "    </tr>\n",
       "    <tr>\n",
       "      <th>947</th>\n",
       "      <td>1525 PENNSYLVANIA AVE</td>\n",
       "      <td>WEST SACRAMENTO</td>\n",
       "      <td>95691</td>\n",
       "      <td>CA</td>\n",
       "      <td>0</td>\n",
       "      <td>0</td>\n",
       "      <td>0</td>\n",
       "      <td>Residential</td>\n",
       "      <td>Thu May 15 00:00:00 EDT 2008</td>\n",
       "      <td>200100</td>\n",
       "      <td>38.569943</td>\n",
       "      <td>-121.527539</td>\n",
       "    </tr>\n",
       "    <tr>\n",
       "      <th>970</th>\n",
       "      <td>3557 SODA WAY</td>\n",
       "      <td>SACRAMENTO</td>\n",
       "      <td>95834</td>\n",
       "      <td>CA</td>\n",
       "      <td>0</td>\n",
       "      <td>0</td>\n",
       "      <td>0</td>\n",
       "      <td>Residential</td>\n",
       "      <td>Thu May 15 00:00:00 EDT 2008</td>\n",
       "      <td>224000</td>\n",
       "      <td>38.631026</td>\n",
       "      <td>-121.501879</td>\n",
       "    </tr>\n",
       "  </tbody>\n",
       "</table>\n",
       "<p>108 rows × 12 columns</p>\n",
       "</div>"
      ],
      "text/plain": [
       "                       street             city    zip state  beds  baths  \\\n",
       "73              17 SERASPI CT       SACRAMENTO  95834    CA     0      0   \n",
       "89           2866 KARITSA AVE       SACRAMENTO  95833    CA     0      0   \n",
       "100     12209 CONSERVANCY WAY   RANCHO CORDOVA  95742    CA     0      0   \n",
       "121       5337 DUSTY ROSE WAY   RANCHO CORDOVA  95742    CA     0      0   \n",
       "126       2115 SMOKESTACK WAY       SACRAMENTO  95833    CA     0      0   \n",
       "..                        ...              ...    ...   ...   ...    ...   \n",
       "901  1530 TOPANGA LN Unit 204          LINCOLN  95648    CA     0      0   \n",
       "917            501 POPLAR AVE  WEST SACRAMENTO  95691    CA     0      0   \n",
       "934  1550 TOPANGA LN Unit 207          LINCOLN  95648    CA     0      0   \n",
       "947     1525 PENNSYLVANIA AVE  WEST SACRAMENTO  95691    CA     0      0   \n",
       "970             3557 SODA WAY       SACRAMENTO  95834    CA     0      0   \n",
       "\n",
       "     sq__ft         type                     sale_date   price   latitude  \\\n",
       "73        0  Residential  Wed May 21 00:00:00 EDT 2008  206000  38.631481   \n",
       "89        0  Residential  Wed May 21 00:00:00 EDT 2008  244500  38.626671   \n",
       "100       0  Residential  Wed May 21 00:00:00 EDT 2008  263500  38.553867   \n",
       "121       0  Residential  Wed May 21 00:00:00 EDT 2008  320000  38.528575   \n",
       "126       0  Residential  Wed May 21 00:00:00 EDT 2008  339500  38.602416   \n",
       "..      ...          ...                           ...     ...        ...   \n",
       "901       0        Condo  Thu May 15 00:00:00 EDT 2008  138000  38.884150   \n",
       "917       0  Residential  Thu May 15 00:00:00 EDT 2008  165000  38.584526   \n",
       "934       0        Condo  Thu May 15 00:00:00 EDT 2008  188000  38.884170   \n",
       "947       0  Residential  Thu May 15 00:00:00 EDT 2008  200100  38.569943   \n",
       "970       0  Residential  Thu May 15 00:00:00 EDT 2008  224000  38.631026   \n",
       "\n",
       "      longitude  \n",
       "73  -121.501880  \n",
       "89  -121.525970  \n",
       "100 -121.219141  \n",
       "121 -121.228600  \n",
       "126 -121.542965  \n",
       "..          ...  \n",
       "901 -121.270277  \n",
       "917 -121.534609  \n",
       "934 -121.270222  \n",
       "947 -121.527539  \n",
       "970 -121.501879  \n",
       "\n",
       "[108 rows x 12 columns]"
      ]
     },
     "execution_count": 13,
     "metadata": {},
     "output_type": "execute_result"
    }
   ],
   "source": [
    "# Got min values 0 for beds, baths, sq__ft which cannot be correct\n",
    "house[house['beds'] == 0]"
   ]
  },
  {
   "cell_type": "code",
   "execution_count": 8,
   "metadata": {},
   "outputs": [],
   "source": [
    "# filtering the dataframe using pd.DataFrame.loc to remove zeros from columns beds, baths and sq__ft that do not make any sense:\n",
    "house1 = house.loc[house['beds'] * house['baths'] * house['sq__ft'] != 0]"
   ]
  },
  {
   "cell_type": "code",
   "execution_count": 10,
   "metadata": {},
   "outputs": [
    {
     "data": {
      "text/plain": [
       "array([2, 3, 2, 2, 2, 3, 3, 3, 2, 3, 3, 3, 1, 3, 2, 2, 2, 2, 2, 3, 3, 4,\n",
       "       4, 3, 3, 3, 3, 3, 4, 3, 2, 3, 3, 3, 2, 3, 3, 4, 4, 1, 2, 3, 3, 2,\n",
       "       4, 4, 4, 4, 4, 3, 3, 4, 3, 4, 3, 3, 4, 3, 3, 4, 3, 3, 4, 3, 3, 3,\n",
       "       3, 3, 4, 3, 4, 3, 3, 3, 4, 4, 2, 5, 4, 3, 3, 4, 4, 4, 3, 3, 3, 3,\n",
       "       3, 5, 3, 4, 2, 3, 4, 5, 3, 3, 3, 3, 3, 4, 3, 2, 4, 8, 4, 4, 3, 2,\n",
       "       4, 5, 3, 2, 5, 4, 5, 5, 4, 2, 3, 4, 3, 4, 3, 4, 4, 4, 3, 5, 5, 4,\n",
       "       4, 3, 4, 3, 4, 3, 5, 5, 5, 4, 4, 5, 4, 3, 2, 4, 2, 2, 2, 3, 4, 3,\n",
       "       2, 3, 2, 2, 1, 3, 1, 3, 3, 3, 2, 3, 3, 3, 3, 3, 3, 3, 2, 3, 3, 3,\n",
       "       3, 2, 3, 2, 4, 3, 4, 3, 3, 3, 4, 2, 3, 2, 2, 2, 3, 2, 3, 3, 3, 3,\n",
       "       3, 3, 2, 3, 4, 4, 3, 4, 3, 3, 3, 3, 4, 4, 2, 2, 4, 3, 3, 3, 4, 3,\n",
       "       4, 4, 3, 2, 3, 3, 3, 3, 3, 4, 2, 3, 4, 3, 3, 5, 3, 4, 3, 4, 4, 4,\n",
       "       3, 4, 4, 4, 3, 4, 3, 3, 3, 3, 3, 4, 3, 4, 3, 4, 2, 3, 3, 2, 4, 3,\n",
       "       4, 4, 4, 3, 4, 4, 5, 5, 3, 4, 4, 5, 4, 2, 4, 3, 4, 4, 5, 2, 4, 4,\n",
       "       5, 4, 4, 5, 5, 4, 2, 1, 3, 2, 2, 2, 2, 2, 2, 2, 3, 2, 3, 3, 2, 2,\n",
       "       3, 2, 4, 1, 2, 4, 3, 3, 4, 3, 2, 2, 2, 3, 3, 4, 2, 2, 3, 2, 3, 3,\n",
       "       3, 2, 4, 4, 2, 2, 4, 3, 2, 2, 3, 3, 3, 3, 4, 3, 5, 3, 3, 3, 3, 4,\n",
       "       3, 3, 2, 2, 3, 2, 3, 4, 4, 3, 3, 4, 3, 3, 3, 3, 3, 4, 2, 3, 3, 3,\n",
       "       3, 3, 3, 3, 3, 2, 4, 4, 4, 3, 4, 2, 4, 4, 3, 3, 3, 2, 4, 3, 3, 4,\n",
       "       3, 4, 3, 2, 4, 3, 2, 3, 3, 2, 4, 5, 3, 3, 4, 4, 4, 5, 4, 3, 4, 4,\n",
       "       4, 3, 3, 4, 3, 4, 2, 4, 4, 4, 4, 3, 3, 4, 3, 4, 4, 3, 3, 3, 2, 4,\n",
       "       3, 5, 4, 4, 3, 4, 4, 4, 3, 3, 5, 5, 5, 4, 3, 4, 3, 4, 4, 4, 4, 3,\n",
       "       3, 2, 3, 3, 5, 3, 4, 4, 4, 2, 3, 4, 4, 5, 3, 4, 3, 3, 3, 4, 5, 4,\n",
       "       4, 5, 3, 5, 5, 3, 2, 2, 2, 2, 2, 2, 2, 2, 2, 2, 3, 2, 2, 4, 2, 4,\n",
       "       2, 1, 3, 3, 3, 3, 3, 4, 3, 4, 3, 4, 3, 2, 4, 3, 3, 3, 3, 2, 3, 3,\n",
       "       4, 3, 3, 3, 4, 6, 3, 3, 4, 3, 4, 3, 3, 5, 4, 3, 3, 3, 3, 3, 3, 3,\n",
       "       3, 3, 4, 3, 3, 3, 3, 3, 3, 4, 3, 4, 3, 3, 3, 3, 4, 2, 3, 3, 3, 4,\n",
       "       4, 3, 3, 3, 3, 3, 4, 3, 2, 3, 4, 4, 3, 3, 1, 4, 3, 4, 3, 4, 2, 2,\n",
       "       4, 3, 2, 4, 3, 5, 3, 4, 4, 3, 3, 5, 3, 4, 3, 4, 4, 3, 2, 3, 4, 3,\n",
       "       4, 3, 3, 4, 3, 3, 4, 3, 3, 3, 4, 3, 3, 3, 3, 3, 5, 3, 4, 5, 3, 4,\n",
       "       3, 3, 4, 3, 4, 4, 4, 4, 4, 2, 2, 3, 6, 3, 5, 3, 3, 3, 4, 4, 5, 4,\n",
       "       4, 5, 3, 3, 4, 4, 3, 4, 4, 4, 3, 3, 4, 5, 5, 3, 3, 3, 3, 4, 4, 3,\n",
       "       3, 3, 3, 5, 4, 2, 3, 4, 3, 5, 5, 4, 4, 4, 3, 3, 2, 4, 5, 4, 5, 4,\n",
       "       3, 4, 1, 2, 2, 2, 2, 4, 3, 2, 2, 3, 3, 3, 3, 1, 3, 3, 3, 3, 3, 3,\n",
       "       4, 3, 2, 4, 3, 3, 3, 3, 4, 2, 3, 3, 3, 3, 3, 2, 3, 4, 2, 3, 3, 3,\n",
       "       3, 3, 4, 3, 2, 4, 3, 3, 3, 4, 3, 3, 2, 3, 2, 3, 3, 4, 4, 3, 3, 3,\n",
       "       3, 4, 4, 3, 3, 3, 3, 3, 3, 3, 3, 4, 4, 2, 3, 2, 2, 3, 3, 3, 4, 3,\n",
       "       3, 3, 3, 3, 3, 3, 4, 4, 4, 3, 3, 3, 3, 3, 4, 4, 3, 4, 3, 3, 4, 3],\n",
       "      dtype=int64)"
      ]
     },
     "execution_count": 10,
     "metadata": {},
     "output_type": "execute_result"
    }
   ],
   "source": [
    "house1['beds'].values"
   ]
  },
  {
   "cell_type": "code",
   "execution_count": 11,
   "metadata": {},
   "outputs": [
    {
     "data": {
      "text/plain": [
       "array([1, 1, 1, 1, 1, 1, 2, 1, 2, 2, 2, 2, 1, 1, 2, 2, 1, 1, 1, 2, 2, 2,\n",
       "       2, 2, 2, 2, 1, 2, 2, 2, 2, 2, 2, 2, 2, 2, 2, 2, 2, 1, 2, 2, 2, 2,\n",
       "       2, 1, 2, 1, 2, 2, 2, 2, 2, 2, 2, 2, 2, 2, 1, 3, 2, 2, 2, 1, 2, 2,\n",
       "       2, 2, 4, 2, 2, 2, 1, 2, 2, 2, 2, 3, 2, 2, 2, 2, 2, 3, 2, 2, 2, 2,\n",
       "       1, 3, 2, 2, 2, 2, 2, 3, 2, 1, 2, 2, 1, 3, 2, 2, 3, 4, 2, 2, 2, 1,\n",
       "       4, 3, 2, 2, 3, 2, 3, 4, 3, 1, 3, 3, 2, 2, 3, 2, 3, 3, 2, 3, 3, 2,\n",
       "       2, 3, 3, 2, 3, 3, 3, 3, 3, 3, 3, 4, 2, 3, 1, 2, 1, 1, 1, 1, 2, 1,\n",
       "       1, 1, 1, 1, 1, 1, 1, 1, 1, 1, 2, 1, 1, 2, 1, 2, 2, 1, 1, 2, 2, 1,\n",
       "       2, 2, 2, 1, 2, 2, 2, 1, 2, 2, 2, 2, 2, 1, 2, 1, 2, 1, 2, 2, 2, 2,\n",
       "       2, 2, 2, 2, 2, 2, 2, 2, 2, 1, 2, 2, 2, 3, 1, 1, 2, 2, 1, 2, 2, 2,\n",
       "       2, 2, 1, 2, 2, 2, 2, 1, 2, 3, 1, 2, 2, 2, 2, 4, 2, 2, 2, 2, 3, 3,\n",
       "       2, 3, 2, 3, 2, 2, 2, 2, 2, 2, 1, 3, 2, 2, 2, 2, 2, 2, 2, 1, 3, 1,\n",
       "       2, 2, 3, 2, 2, 2, 3, 4, 2, 2, 3, 4, 2, 1, 2, 1, 3, 4, 3, 2, 3, 3,\n",
       "       3, 2, 3, 5, 2, 4, 1, 1, 1, 1, 1, 1, 1, 1, 1, 1, 1, 1, 1, 1, 1, 2,\n",
       "       1, 1, 2, 1, 1, 2, 1, 1, 2, 1, 1, 2, 2, 1, 2, 4, 1, 2, 2, 2, 1, 2,\n",
       "       2, 1, 2, 2, 1, 1, 2, 2, 1, 2, 2, 2, 2, 2, 2, 2, 2, 2, 2, 2, 2, 2,\n",
       "       2, 2, 1, 2, 2, 2, 2, 2, 2, 1, 2, 2, 2, 2, 2, 2, 2, 2, 2, 1, 2, 2,\n",
       "       2, 1, 2, 1, 2, 1, 2, 3, 2, 1, 2, 2, 2, 3, 1, 2, 2, 1, 3, 2, 1, 2,\n",
       "       2, 2, 2, 1, 3, 2, 2, 1, 2, 2, 3, 4, 2, 2, 2, 3, 2, 3, 2, 2, 3, 2,\n",
       "       2, 1, 2, 2, 2, 2, 2, 3, 2, 2, 2, 1, 2, 3, 2, 3, 2, 3, 2, 2, 2, 2,\n",
       "       2, 3, 2, 2, 2, 2, 3, 2, 2, 2, 3, 3, 3, 2, 3, 2, 2, 2, 2, 2, 2, 2,\n",
       "       1, 2, 2, 1, 3, 2, 3, 2, 3, 3, 2, 2, 4, 3, 2, 4, 3, 2, 2, 2, 2, 3,\n",
       "       3, 3, 2, 3, 3, 2, 1, 1, 1, 1, 1, 2, 1, 1, 1, 1, 2, 1, 1, 2, 1, 2,\n",
       "       1, 1, 2, 2, 2, 2, 2, 2, 2, 2, 2, 2, 2, 2, 3, 2, 2, 1, 1, 2, 2, 2,\n",
       "       2, 2, 2, 2, 2, 4, 2, 2, 2, 2, 2, 2, 2, 2, 2, 2, 1, 1, 2, 2, 1, 2,\n",
       "       2, 2, 2, 2, 2, 2, 2, 2, 2, 2, 2, 2, 2, 2, 2, 1, 2, 1, 2, 2, 2, 2,\n",
       "       3, 1, 1, 2, 1, 1, 2, 2, 1, 2, 2, 2, 2, 2, 1, 2, 2, 1, 2, 2, 1, 1,\n",
       "       2, 2, 2, 2, 2, 2, 2, 2, 3, 2, 2, 3, 2, 2, 2, 3, 2, 2, 2, 2, 2, 2,\n",
       "       2, 2, 2, 3, 2, 2, 2, 2, 1, 2, 2, 2, 2, 2, 2, 2, 3, 2, 3, 3, 2, 2,\n",
       "       2, 2, 3, 2, 2, 2, 2, 2, 2, 1, 2, 2, 3, 2, 3, 2, 2, 2, 3, 2, 3, 2,\n",
       "       3, 3, 2, 2, 3, 2, 2, 3, 2, 3, 3, 2, 2, 3, 3, 2, 2, 2, 2, 2, 3, 1,\n",
       "       2, 2, 2, 3, 2, 1, 2, 3, 1, 3, 3, 3, 2, 3, 2, 1, 1, 3, 4, 3, 3, 3,\n",
       "       4, 2, 1, 1, 1, 1, 1, 2, 2, 1, 2, 1, 2, 2, 1, 1, 1, 1, 1, 2, 2, 1,\n",
       "       2, 2, 2, 2, 2, 1, 2, 2, 2, 1, 2, 1, 2, 1, 2, 1, 1, 2, 1, 2, 2, 2,\n",
       "       2, 2, 2, 2, 1, 2, 1, 2, 2, 2, 2, 1, 2, 2, 2, 2, 2, 2, 2, 1, 2, 1,\n",
       "       1, 3, 2, 2, 2, 2, 1, 2, 2, 2, 2, 2, 3, 2, 2, 2, 1, 2, 1, 2, 2, 2,\n",
       "       2, 2, 1, 2, 2, 2, 2, 2, 2, 1, 1, 1, 2, 2, 2, 2, 2, 3, 2, 2, 2, 2],\n",
       "      dtype=int64)"
      ]
     },
     "execution_count": 11,
     "metadata": {},
     "output_type": "execute_result"
    }
   ],
   "source": [
    "house1['baths'].values"
   ]
  },
  {
   "cell_type": "code",
   "execution_count": 9,
   "metadata": {},
   "outputs": [
    {
     "data": {
      "text/plain": [
       "array([ 836, 1167,  796,  852,  797, 1122, 1104, 1177,  941, 1146,  909,\n",
       "       1289,  871, 1020, 1022, 1134,  844,  795,  588, 1356, 1118, 1329,\n",
       "       1240, 1601,  901, 1088,  963, 1119, 1380, 1248, 1039, 1152, 1380,\n",
       "       1116, 1039, 1418, 1082, 1472, 1146,  760, 1304, 1207, 1056, 1043,\n",
       "       1587, 1120, 1580, 1955, 1656, 1477, 1188, 1590, 1463, 1714, 1185,\n",
       "       1406, 1943, 1172, 1152, 1851, 1215, 1130, 1603, 1479, 1420, 1280,\n",
       "       1586, 1362, 2162, 1266, 1715, 1820,  936,    0, 1511, 1590, 1596,\n",
       "       1341, 2136, 1616, 1478, 1287, 1277, 1448, 2235, 2093, 1193, 2163,\n",
       "       1269,    0,  958, 2508, 1305, 1591, 1326, 1843, 1921, 2790, 1541,\n",
       "       1018,    0, 1672, 1380,  975, 2372, 1446, 1284, 3009, 3612, 2056,\n",
       "       1993, 1857, 1126, 2213, 2494, 1843, 1520, 2800, 2309, 2367, 3516,\n",
       "          0, 1914, 1690, 2725, 2354,    0, 2185, 1801, 1961, 3134, 1915,\n",
       "          0,    0, 2734, 2110, 3164, 3599, 2054, 1830, 1627, 3440, 2846,\n",
       "       2359, 2052, 3433, 3615,    0, 2687, 2724, 3440, 3508, 2462,    0,\n",
       "          0,    0, 2325,    0,  795, 1099,  840,  800,  746, 1067, 1316,\n",
       "       1337,  868,  924,  610,    0, 1220,  722, 1643,  722, 1080, 1039,\n",
       "       1051,  967, 1098, 1050, 1110,  888, 1120, 1080,  957,  952, 1211,\n",
       "       1264, 1080, 1266,  994, 1202,    0,  722, 1448, 1188, 1183, 1320,\n",
       "       1117, 1364, 1310, 1006, 1104,  810, 1123,  904, 1156, 1321, 1392,\n",
       "       1439, 1159, 1671, 1740, 1265, 1007, 1716, 1685, 1829, 1555, 1120,\n",
       "       1137, 1174, 1393,    0,    0, 1289, 1799,    0, 1953,  723,    0,\n",
       "        948, 1578, 1317,    0, 1360,    0, 1522, 1751, 1465, 1605, 1475,\n",
       "       1216, 1315, 1567, 1776, 2187, 1291,    0,    0, 1503, 2491, 1269,\n",
       "          0, 1176, 1456, 1498, 1574, 2085, 2170, 1595, 1567,    0, 1253,\n",
       "       1768,    0, 2030, 1531,    0, 1653, 2056, 2494, 1450, 2169, 1440,\n",
       "       1527, 1401, 1411,    0,    0, 1284, 2307, 1329, 1910, 1981,    0,\n",
       "          0,    0, 2205, 1449, 1258, 2575,  539, 2208, 1108, 1595, 2159,\n",
       "       2295, 1838, 1900, 1718, 3389,    0, 3260, 2016, 2607, 2724, 3746,\n",
       "          0, 3192,    0,    0,    0, 1247, 2581, 2068,    0, 3992, 3397,\n",
       "       3881,    0, 1598, 1929, 3070,    0,    0,    0,    0, 3984, 2222,\n",
       "       3838,    0, 2846, 2484, 1624,  840,  484,  970,  623,  932,  796,\n",
       "        834,  834,  924,  795, 1250,  984, 1013, 1012,  795,  918, 1082,\n",
       "        964, 1404,  625,  888, 1120, 1331, 1014, 1448,  966,  779,  836,\n",
       "       1100, 1174, 1207, 1995,  804,  958, 1366,  901,  696, 1080, 1104,\n",
       "        972, 1390, 1354,  795,  780, 1587, 1209, 1139, 1690, 1245, 1416,\n",
       "       1300, 1120, 1590, 1407, 1516,    0, 1646, 1676, 1370, 1370, 1351,\n",
       "       1152, 1452,  990, 1162, 1182, 1112, 1100, 1280, 1280, 1039, 1159,\n",
       "       1917, 1520, 1204, 1120, 1436, 1451, 1638, 1000, 1152, 1154, 1353,\n",
       "       1329, 1356, 1505, 1009, 1144,  930, 1766, 1940, 1776, 1258, 1872,\n",
       "       1112, 1856, 1939,  998, 1758, 2142,  950, 1739, 1516,  988, 1555,\n",
       "       1212, 1871, 1302,  756, 2026, 1375, 1250, 1058, 1187, 1324, 1936,\n",
       "       2382, 1427, 1678, 1798, 2652, 1816, 3076, 1844, 1306, 2447, 1176,\n",
       "       1182, 1160, 1424, 1574, 1830, 1724, 1255,    0, 2175, 1904, 1808,\n",
       "       2711, 1713, 1457, 2724,    0, 1468, 2550, 1928, 1922, 1343, 1510,\n",
       "        960, 1559, 1624, 2992, 2109, 1524, 1248, 1876,    0, 1851,    0,\n",
       "       2218, 1394, 1410, 3468, 2346, 2347, 1659, 2442,    0, 2155,    0,\n",
       "       1810, 2789, 1606,    0, 2166,    0, 1871, 1800, 1683,    0,    0,\n",
       "       1596,    0, 1179,    0, 1639, 3281, 1697,    0, 2085,    0, 1744,\n",
       "          0, 1939,    0, 1788, 1691, 2002, 4303, 4246, 2274,    0, 3056,\n",
       "       2503,    0,    0, 1905, 1320,    0,    0, 3037, 3741, 2660, 3357,\n",
       "       2896, 2025, 3788, 3670,    0,    0,    0,    0,    0,    0,    0,\n",
       "          0,    0,    0,    0,    0,    0,    0,    0,    0,    0,    0,\n",
       "          0,    0,    0,    0,    0,    0,    0,    0,    0,    0,    0,\n",
       "          0,    0,    0,    0,    0,    0,    0,    0,    0,    0,    0,\n",
       "          0,    0,    0,    0,    0,    0,    0,    0,    0, 1166,    0,\n",
       "        838,  904, 1032,  904, 1080,  990,  900,  861,  906, 1011, 1089,\n",
       "        832,  800, 1292,  810, 1064,  911,  846, 1320, 1410, 1115, 1169,\n",
       "       1164, 1341, 1219, 1127, 1272, 1253, 1120, 1118, 1890, 1260, 1400,\n",
       "       1264, 1060, 1132, 1466, 1092, 1628,  960, 1075, 1428, 1358, 2475,\n",
       "       1410, 1711, 1483, 1140, 1549, 1410, 1240, 1712, 1580, 1669, 1029,\n",
       "       1103, 2161, 1650, 1320, 1200, 1170, 1199, 1695, 1157, 1410, 1174,\n",
       "       1593, 1093, 1770, 1436, 1124, 1139, 1638, 1328, 1273, 1082, 1578,\n",
       "        796, 1386, 1452, 1513,    0, 1578, 1736,    0, 1473, 1150, 1127,\n",
       "       1144,  972, 2306, 1479, 1040, 1430, 1800, 1953, 1120, 1232,  984,\n",
       "          0, 2329, 1351,    0, 1376, 1300, 1566, 1115, 1032, 1419, 1261,\n",
       "       1637, 1776, 1338,    0, 2254, 1441, 1991, 2126, 1094, 1462, 2258,\n",
       "       1074, 2111, 1686, 1915, 2367, 1962, 1406, 1789, 1876, 1235, 2504,\n",
       "          0, 1676, 1367, 1899, 1636, 1828,    0, 1438, 1451, 1520, 1506,\n",
       "       2605, 1196, 1621, 1811, 1540,    0,    0,    0,    0,    0, 1543,\n",
       "       2494, 1650, 2214, 2280, 1443, 1582, 1857, 1735, 2096, 1720, 2160,\n",
       "       1382,    0, 1721, 1328,    0, 1982, 1144, 1623, 1457, 2555, 1577,\n",
       "       2592, 1401,    0, 1502, 1327, 1800, 2169, 2457,    0, 2004, 2212,\n",
       "       3134, 1360,    0, 1276, 2962, 1888,    0,    0, 1548,    0, 2109,\n",
       "       2484, 2258, 2212, 1616, 2372, 2606,    0, 2877, 2960,    0, 2172,\n",
       "       2100, 1795,    0, 2295, 2577,    0, 1727, 1485, 1655,    0,    0,\n",
       "       2049,    0, 2875,    0, 2199,    0, 1304, 2334, 2278, 1493,    0,\n",
       "          0,    0, 2787, 2824, 3261, 2053, 2379,    0,    0,    0,    0,\n",
       "          0,    0, 3173,    0, 1348,    0, 1252, 3229, 3863,    0,    0,\n",
       "       2356,    0, 3579,    0,    0,    0, 4400,    0, 5822, 1512,  611,\n",
       "        876,  933,  864, 1011, 1158, 1092,  956, 1139, 1058, 1040, 1354,\n",
       "       1051,  682, 1161, 1004, 1229, 1249, 1161, 1010,    0, 1462, 1269,\n",
       "       1188, 1570, 1093,  962, 1089, 1127, 1309,  970, 1144, 1000,    0,\n",
       "       1206, 1285, 1543,  884, 1019, 1392,  924, 1217, 1670, 1302, 1488,\n",
       "       1373, 1381, 1265,  881,    0, 1608, 1344, 1202, 1104,    0, 1859,\n",
       "       1232, 1638, 1177, 1582,  904, 1340, 1204, 1477, 1497,  960,    0,\n",
       "       1428, 1039, 1529, 1892, 1887, 1294, 1638, 1677, 1073, 1231, 1175,\n",
       "       1416,    0, 1358, 1609, 1968, 1089, 1296, 1189,  795, 1371, 1310,\n",
       "       1262, 1740, 1517, 1450, 1416,  888, 1882, 1302, 1418,    0, 1319,\n",
       "       1770, 1627,    0, 1040,  960,    0, 1456, 1450, 1358, 1329, 1715,\n",
       "       1262, 2280, 1477, 1216, 1685, 1362], dtype=int64)"
      ]
     },
     "execution_count": 9,
     "metadata": {},
     "output_type": "execute_result"
    }
   ],
   "source": [
    "house1['sq__ft'].values"
   ]
  },
  {
   "cell_type": "code",
   "execution_count": 12,
   "metadata": {},
   "outputs": [
    {
     "data": {
      "text/plain": [
       "(814, 12)"
      ]
     },
     "execution_count": 12,
     "metadata": {},
     "output_type": "execute_result"
    }
   ],
   "source": [
    "# number of records after dropping zero values that did not make any sense\n",
    "house1.shape"
   ]
  },
  {
   "cell_type": "code",
   "execution_count": 14,
   "metadata": {},
   "outputs": [
    {
     "data": {
      "text/html": [
       "<div>\n",
       "<style scoped>\n",
       "    .dataframe tbody tr th:only-of-type {\n",
       "        vertical-align: middle;\n",
       "    }\n",
       "\n",
       "    .dataframe tbody tr th {\n",
       "        vertical-align: top;\n",
       "    }\n",
       "\n",
       "    .dataframe thead th {\n",
       "        text-align: right;\n",
       "    }\n",
       "</style>\n",
       "<table border=\"1\" class=\"dataframe\">\n",
       "  <thead>\n",
       "    <tr style=\"text-align: right;\">\n",
       "      <th></th>\n",
       "      <th>street</th>\n",
       "      <th>city</th>\n",
       "      <th>zip</th>\n",
       "      <th>state</th>\n",
       "      <th>beds</th>\n",
       "      <th>baths</th>\n",
       "      <th>sq__ft</th>\n",
       "      <th>type</th>\n",
       "      <th>sale_date</th>\n",
       "      <th>price</th>\n",
       "      <th>latitude</th>\n",
       "      <th>longitude</th>\n",
       "    </tr>\n",
       "  </thead>\n",
       "  <tbody>\n",
       "    <tr>\n",
       "      <th>0</th>\n",
       "      <td>False</td>\n",
       "      <td>False</td>\n",
       "      <td>False</td>\n",
       "      <td>False</td>\n",
       "      <td>False</td>\n",
       "      <td>False</td>\n",
       "      <td>False</td>\n",
       "      <td>False</td>\n",
       "      <td>False</td>\n",
       "      <td>False</td>\n",
       "      <td>False</td>\n",
       "      <td>False</td>\n",
       "    </tr>\n",
       "    <tr>\n",
       "      <th>1</th>\n",
       "      <td>False</td>\n",
       "      <td>False</td>\n",
       "      <td>False</td>\n",
       "      <td>False</td>\n",
       "      <td>False</td>\n",
       "      <td>False</td>\n",
       "      <td>False</td>\n",
       "      <td>False</td>\n",
       "      <td>False</td>\n",
       "      <td>False</td>\n",
       "      <td>False</td>\n",
       "      <td>False</td>\n",
       "    </tr>\n",
       "    <tr>\n",
       "      <th>2</th>\n",
       "      <td>False</td>\n",
       "      <td>False</td>\n",
       "      <td>False</td>\n",
       "      <td>False</td>\n",
       "      <td>False</td>\n",
       "      <td>False</td>\n",
       "      <td>False</td>\n",
       "      <td>False</td>\n",
       "      <td>False</td>\n",
       "      <td>False</td>\n",
       "      <td>False</td>\n",
       "      <td>False</td>\n",
       "    </tr>\n",
       "    <tr>\n",
       "      <th>3</th>\n",
       "      <td>False</td>\n",
       "      <td>False</td>\n",
       "      <td>False</td>\n",
       "      <td>False</td>\n",
       "      <td>False</td>\n",
       "      <td>False</td>\n",
       "      <td>False</td>\n",
       "      <td>False</td>\n",
       "      <td>False</td>\n",
       "      <td>False</td>\n",
       "      <td>False</td>\n",
       "      <td>False</td>\n",
       "    </tr>\n",
       "    <tr>\n",
       "      <th>4</th>\n",
       "      <td>False</td>\n",
       "      <td>False</td>\n",
       "      <td>False</td>\n",
       "      <td>False</td>\n",
       "      <td>False</td>\n",
       "      <td>False</td>\n",
       "      <td>False</td>\n",
       "      <td>False</td>\n",
       "      <td>False</td>\n",
       "      <td>False</td>\n",
       "      <td>False</td>\n",
       "      <td>False</td>\n",
       "    </tr>\n",
       "    <tr>\n",
       "      <th>...</th>\n",
       "      <td>...</td>\n",
       "      <td>...</td>\n",
       "      <td>...</td>\n",
       "      <td>...</td>\n",
       "      <td>...</td>\n",
       "      <td>...</td>\n",
       "      <td>...</td>\n",
       "      <td>...</td>\n",
       "      <td>...</td>\n",
       "      <td>...</td>\n",
       "      <td>...</td>\n",
       "      <td>...</td>\n",
       "    </tr>\n",
       "    <tr>\n",
       "      <th>980</th>\n",
       "      <td>False</td>\n",
       "      <td>False</td>\n",
       "      <td>False</td>\n",
       "      <td>False</td>\n",
       "      <td>False</td>\n",
       "      <td>False</td>\n",
       "      <td>False</td>\n",
       "      <td>False</td>\n",
       "      <td>False</td>\n",
       "      <td>False</td>\n",
       "      <td>False</td>\n",
       "      <td>False</td>\n",
       "    </tr>\n",
       "    <tr>\n",
       "      <th>981</th>\n",
       "      <td>False</td>\n",
       "      <td>False</td>\n",
       "      <td>False</td>\n",
       "      <td>False</td>\n",
       "      <td>False</td>\n",
       "      <td>False</td>\n",
       "      <td>False</td>\n",
       "      <td>False</td>\n",
       "      <td>False</td>\n",
       "      <td>False</td>\n",
       "      <td>False</td>\n",
       "      <td>False</td>\n",
       "    </tr>\n",
       "    <tr>\n",
       "      <th>982</th>\n",
       "      <td>False</td>\n",
       "      <td>False</td>\n",
       "      <td>False</td>\n",
       "      <td>False</td>\n",
       "      <td>False</td>\n",
       "      <td>False</td>\n",
       "      <td>False</td>\n",
       "      <td>False</td>\n",
       "      <td>False</td>\n",
       "      <td>False</td>\n",
       "      <td>False</td>\n",
       "      <td>False</td>\n",
       "    </tr>\n",
       "    <tr>\n",
       "      <th>983</th>\n",
       "      <td>False</td>\n",
       "      <td>False</td>\n",
       "      <td>False</td>\n",
       "      <td>False</td>\n",
       "      <td>False</td>\n",
       "      <td>False</td>\n",
       "      <td>False</td>\n",
       "      <td>False</td>\n",
       "      <td>False</td>\n",
       "      <td>False</td>\n",
       "      <td>False</td>\n",
       "      <td>False</td>\n",
       "    </tr>\n",
       "    <tr>\n",
       "      <th>984</th>\n",
       "      <td>False</td>\n",
       "      <td>False</td>\n",
       "      <td>False</td>\n",
       "      <td>False</td>\n",
       "      <td>False</td>\n",
       "      <td>False</td>\n",
       "      <td>False</td>\n",
       "      <td>False</td>\n",
       "      <td>False</td>\n",
       "      <td>False</td>\n",
       "      <td>False</td>\n",
       "      <td>False</td>\n",
       "    </tr>\n",
       "  </tbody>\n",
       "</table>\n",
       "<p>814 rows × 12 columns</p>\n",
       "</div>"
      ],
      "text/plain": [
       "     street   city    zip  state   beds  baths  sq__ft   type  sale_date  \\\n",
       "0     False  False  False  False  False  False   False  False      False   \n",
       "1     False  False  False  False  False  False   False  False      False   \n",
       "2     False  False  False  False  False  False   False  False      False   \n",
       "3     False  False  False  False  False  False   False  False      False   \n",
       "4     False  False  False  False  False  False   False  False      False   \n",
       "..      ...    ...    ...    ...    ...    ...     ...    ...        ...   \n",
       "980   False  False  False  False  False  False   False  False      False   \n",
       "981   False  False  False  False  False  False   False  False      False   \n",
       "982   False  False  False  False  False  False   False  False      False   \n",
       "983   False  False  False  False  False  False   False  False      False   \n",
       "984   False  False  False  False  False  False   False  False      False   \n",
       "\n",
       "     price  latitude  longitude  \n",
       "0    False     False      False  \n",
       "1    False     False      False  \n",
       "2    False     False      False  \n",
       "3    False     False      False  \n",
       "4    False     False      False  \n",
       "..     ...       ...        ...  \n",
       "980  False     False      False  \n",
       "981  False     False      False  \n",
       "982  False     False      False  \n",
       "983  False     False      False  \n",
       "984  False     False      False  \n",
       "\n",
       "[814 rows x 12 columns]"
      ]
     },
     "execution_count": 14,
     "metadata": {},
     "output_type": "execute_result"
    }
   ],
   "source": [
    "# Detecting if the dataset has missing values using isnull() function\n",
    "house1.isnull()"
   ]
  },
  {
   "cell_type": "code",
   "execution_count": 16,
   "metadata": {},
   "outputs": [
    {
     "data": {
      "text/plain": [
       "street       0\n",
       "city         0\n",
       "zip          0\n",
       "state        0\n",
       "beds         0\n",
       "baths        0\n",
       "sq__ft       0\n",
       "type         0\n",
       "sale_date    0\n",
       "price        0\n",
       "latitude     0\n",
       "longitude    0\n",
       "dtype: int64"
      ]
     },
     "execution_count": 16,
     "metadata": {},
     "output_type": "execute_result"
    }
   ],
   "source": [
    "# If there are missing values, they can be count using isnull() in combination with .sum() function\n",
    "# It is clear that there are not missing values for any of the 12 variables.\n",
    "house1.isnull().sum()"
   ]
  },
  {
   "cell_type": "code",
   "execution_count": 21,
   "metadata": {},
   "outputs": [
    {
     "data": {
      "text/plain": [
       "SACRAMENTO         424\n",
       "ELK GROVE          107\n",
       "CITRUS HEIGHTS      35\n",
       "ANTELOPE            33\n",
       "ROSEVILLE           28\n",
       "NORTH HIGHLANDS     21\n",
       "RANCHO CORDOVA      21\n",
       "CARMICHAEL          20\n",
       "GALT                20\n",
       "FOLSOM              15\n",
       "RIO LINDA           12\n",
       "ORANGEVALE          11\n",
       "FAIR OAKS            9\n",
       "ROCKLIN              8\n",
       "LINCOLN              6\n",
       "PLACERVILLE          5\n",
       "ELVERTA              4\n",
       "WILTON               4\n",
       "EL DORADO HILLS      3\n",
       "GOLD RIVER           3\n",
       "AUBURN               3\n",
       "GRANITE BAY          3\n",
       "POLLOCK PINES        3\n",
       "LOOMIS               2\n",
       "RANCHO MURIETA       2\n",
       "EL DORADO            2\n",
       "SLOUGHHOUSE          1\n",
       "CAMERON PARK         1\n",
       "MEADOW VISTA         1\n",
       "COOL                 1\n",
       "WALNUT GROVE         1\n",
       "GREENWOOD            1\n",
       "DIAMOND SPRINGS      1\n",
       "WEST SACRAMENTO      1\n",
       "PENRYN               1\n",
       "MATHER               1\n",
       "Name: city, dtype: int64"
      ]
     },
     "execution_count": 21,
     "metadata": {},
     "output_type": "execute_result"
    }
   ],
   "source": [
    "# If there are categorical variables in the dataset, it is good to know how many possible values there are in each column. \n",
    "# In this case the variable quality could be also understood as an ordinal variable, what is the range of the wine quality dataset?\n",
    "house1['city'].value_counts()"
   ]
  },
  {
   "cell_type": "code",
   "execution_count": 17,
   "metadata": {
    "scrolled": true
   },
   "outputs": [
    {
     "data": {
      "text/plain": [
       "Residential     759\n",
       "Condo            42\n",
       "Multi-Family     13\n",
       "Name: type, dtype: int64"
      ]
     },
     "execution_count": 17,
     "metadata": {},
     "output_type": "execute_result"
    }
   ],
   "source": [
    "house1['type'].value_counts()"
   ]
  },
  {
   "cell_type": "code",
   "execution_count": 18,
   "metadata": {},
   "outputs": [],
   "source": [
    "# To check minimun and maximum value of all columns defining a function\n",
    "def check_min_max(df):\n",
    "    # Check min, max of each column\n",
    "    print(df.describe().T[['min', 'max']])"
   ]
  },
  {
   "cell_type": "code",
   "execution_count": 19,
   "metadata": {},
   "outputs": [
    {
     "name": "stdout",
     "output_type": "stream",
     "text": [
      "                    min            max\n",
      "zip        95603.000000   95864.000000\n",
      "beds           1.000000       8.000000\n",
      "baths          1.000000       5.000000\n",
      "sq__ft       484.000000    5822.000000\n",
      "price       2000.000000  884790.000000\n",
      "latitude      38.241514      39.008159\n",
      "longitude   -121.550527    -120.597599\n"
     ]
    }
   ],
   "source": [
    "check_min_max(house1)"
   ]
  },
  {
   "cell_type": "code",
   "execution_count": 20,
   "metadata": {},
   "outputs": [],
   "source": [
    "# Loading the dataset using pd.read_csv\n",
    "house1= pd.read_csv(\"C:/Users/Monica/Desktop/IoD-Folders/MODULE 4/Labs/Sacramento_realestate_transactions.csv\")"
   ]
  },
  {
   "cell_type": "code",
   "execution_count": 26,
   "metadata": {},
   "outputs": [
    {
     "data": {
      "text/plain": [
       "<Figure size 1080x504 with 0 Axes>"
      ]
     },
     "metadata": {},
     "output_type": "display_data"
    },
    {
     "data": {
      "image/png": "[encoded data removed]",
      "text/plain": [
       "<Figure size 360x360 with 1 Axes>"
      ]
     },
     "metadata": {
      "needs_background": "light"
     },
     "output_type": "display_data"
    }
   ],
   "source": [
    "# Plotting univariate histograms for the most representative features\n",
    "plt.figure(figsize=(15,7))\n",
    "ax = sns.displot(house, x='beds', discrete=True, kde=True)"
   ]
  },
  {
   "cell_type": "code",
   "execution_count": 21,
   "metadata": {},
   "outputs": [
    {
     "data": {
      "text/plain": [
       "<seaborn.axisgrid.FacetGrid at 0x16d9b365d00>"
      ]
     },
     "execution_count": 21,
     "metadata": {},
     "output_type": "execute_result"
    },
    {
     "data": {
      "text/plain": [
       "<Figure size 1080x504 with 0 Axes>"
      ]
     },
     "metadata": {},
     "output_type": "display_data"
    },
    {
     "data": {
      "image/png": "[encoded data removed]",
      "text/plain": [
       "<Figure size 360x360 with 1 Axes>"
      ]
     },
     "metadata": {
      "needs_background": "light"
     },
     "output_type": "display_data"
    }
   ],
   "source": [
    "plt.figure(figsize=(15,7))\n",
    "sns.displot(house1, x='baths', discrete=True, kde=True)"
   ]
  },
  {
   "cell_type": "code",
   "execution_count": 22,
   "metadata": {},
   "outputs": [
    {
     "data": {
      "text/plain": [
       "<seaborn.axisgrid.FacetGrid at 0x16d9b385bb0>"
      ]
     },
     "execution_count": 22,
     "metadata": {},
     "output_type": "execute_result"
    },
    {
     "data": {
      "text/plain": [
       "<Figure size 1080x504 with 0 Axes>"
      ]
     },
     "metadata": {},
     "output_type": "display_data"
    },
    {
     "data": {
      "image/png": "[encoded data removed]",
      "text/plain": [
       "<Figure size 360x360 with 1 Axes>"
      ]
     },
     "metadata": {
      "needs_background": "light"
     },
     "output_type": "display_data"
    }
   ],
   "source": [
    "plt.figure(figsize=(15,7))\n",
    "sns.displot(house1, x='sq__ft', kde=True)"
   ]
  },
  {
   "cell_type": "code",
   "execution_count": 23,
   "metadata": {},
   "outputs": [
    {
     "data": {
      "text/plain": [
       "<seaborn.axisgrid.FacetGrid at 0x16d9b653d30>"
      ]
     },
     "execution_count": 23,
     "metadata": {},
     "output_type": "execute_result"
    },
    {
     "data": {
      "text/plain": [
       "<Figure size 1080x504 with 0 Axes>"
      ]
     },
     "metadata": {},
     "output_type": "display_data"
    },
    {
     "data": {
      "image/png": "[encoded data removed]",
      "text/plain": [
       "<Figure size 360x360 with 1 Axes>"
      ]
     },
     "metadata": {
      "needs_background": "light"
     },
     "output_type": "display_data"
    }
   ],
   "source": [
    "plt.figure(figsize=(15,7))\n",
    "sns.displot(house1, x='price', kde=True)"
   ]
  },
  {
   "cell_type": "code",
   "execution_count": 24,
   "metadata": {},
   "outputs": [
    {
     "data": {
      "image/png": "[encoded data removed]",
      "text/plain": [
       "<Figure size 576x288 with 1 Axes>"
      ]
     },
     "metadata": {
      "needs_background": "light"
     },
     "output_type": "display_data"
    }
   ],
   "source": [
    "# Plotting to know how continuous variables are distributed against price\n",
    "fig = plt.figure(figsize = (8,4))\n",
    "ax = sns.barplot(x = 'beds', y = 'price', data = house1)"
   ]
  },
  {
   "cell_type": "code",
   "execution_count": 25,
   "metadata": {},
   "outputs": [
    {
     "data": {
      "image/png": "[encoded data removed]",
      "text/plain": [
       "<Figure size 576x288 with 1 Axes>"
      ]
     },
     "metadata": {
      "needs_background": "light"
     },
     "output_type": "display_data"
    }
   ],
   "source": [
    "fig = plt.figure(figsize = (8,4))\n",
    "ax = sns.barplot(x = 'baths', y = 'price', data = house1)"
   ]
  },
  {
   "cell_type": "code",
   "execution_count": 26,
   "metadata": {},
   "outputs": [
    {
     "data": {
      "image/png": "[encoded data removed]",
      "text/plain": [
       "<Figure size 576x288 with 1 Axes>"
      ]
     },
     "metadata": {
      "needs_background": "light"
     },
     "output_type": "display_data"
    }
   ],
   "source": [
    "fig = plt.figure(figsize = (8,4))\n",
    "ax = sns.barplot(x = 'sq__ft', y = 'price', data = house1)"
   ]
  },
  {
   "cell_type": "code",
   "execution_count": 9,
   "metadata": {},
   "outputs": [
    {
     "data": {
      "text/html": [
       "<div>\n",
       "<style scoped>\n",
       "    .dataframe tbody tr th:only-of-type {\n",
       "        vertical-align: middle;\n",
       "    }\n",
       "\n",
       "    .dataframe tbody tr th {\n",
       "        vertical-align: top;\n",
       "    }\n",
       "\n",
       "    .dataframe thead th {\n",
       "        text-align: right;\n",
       "    }\n",
       "</style>\n",
       "<table border=\"1\" class=\"dataframe\">\n",
       "  <thead>\n",
       "    <tr style=\"text-align: right;\">\n",
       "      <th></th>\n",
       "      <th>beds</th>\n",
       "      <th>baths</th>\n",
       "      <th>sq__ft</th>\n",
       "      <th>price</th>\n",
       "    </tr>\n",
       "  </thead>\n",
       "  <tbody>\n",
       "    <tr>\n",
       "      <th>0</th>\n",
       "      <td>2</td>\n",
       "      <td>1</td>\n",
       "      <td>836</td>\n",
       "      <td>59222</td>\n",
       "    </tr>\n",
       "    <tr>\n",
       "      <th>1</th>\n",
       "      <td>3</td>\n",
       "      <td>1</td>\n",
       "      <td>1167</td>\n",
       "      <td>68212</td>\n",
       "    </tr>\n",
       "    <tr>\n",
       "      <th>2</th>\n",
       "      <td>2</td>\n",
       "      <td>1</td>\n",
       "      <td>796</td>\n",
       "      <td>68880</td>\n",
       "    </tr>\n",
       "    <tr>\n",
       "      <th>3</th>\n",
       "      <td>2</td>\n",
       "      <td>1</td>\n",
       "      <td>852</td>\n",
       "      <td>69307</td>\n",
       "    </tr>\n",
       "    <tr>\n",
       "      <th>4</th>\n",
       "      <td>2</td>\n",
       "      <td>1</td>\n",
       "      <td>797</td>\n",
       "      <td>81900</td>\n",
       "    </tr>\n",
       "    <tr>\n",
       "      <th>...</th>\n",
       "      <td>...</td>\n",
       "      <td>...</td>\n",
       "      <td>...</td>\n",
       "      <td>...</td>\n",
       "    </tr>\n",
       "    <tr>\n",
       "      <th>980</th>\n",
       "      <td>4</td>\n",
       "      <td>3</td>\n",
       "      <td>2280</td>\n",
       "      <td>232425</td>\n",
       "    </tr>\n",
       "    <tr>\n",
       "      <th>981</th>\n",
       "      <td>3</td>\n",
       "      <td>2</td>\n",
       "      <td>1477</td>\n",
       "      <td>234000</td>\n",
       "    </tr>\n",
       "    <tr>\n",
       "      <th>982</th>\n",
       "      <td>3</td>\n",
       "      <td>2</td>\n",
       "      <td>1216</td>\n",
       "      <td>235000</td>\n",
       "    </tr>\n",
       "    <tr>\n",
       "      <th>983</th>\n",
       "      <td>4</td>\n",
       "      <td>2</td>\n",
       "      <td>1685</td>\n",
       "      <td>235301</td>\n",
       "    </tr>\n",
       "    <tr>\n",
       "      <th>984</th>\n",
       "      <td>3</td>\n",
       "      <td>2</td>\n",
       "      <td>1362</td>\n",
       "      <td>235738</td>\n",
       "    </tr>\n",
       "  </tbody>\n",
       "</table>\n",
       "<p>814 rows × 4 columns</p>\n",
       "</div>"
      ],
      "text/plain": [
       "     beds  baths  sq__ft   price\n",
       "0       2      1     836   59222\n",
       "1       3      1    1167   68212\n",
       "2       2      1     796   68880\n",
       "3       2      1     852   69307\n",
       "4       2      1     797   81900\n",
       "..    ...    ...     ...     ...\n",
       "980     4      3    2280  232425\n",
       "981     3      2    1477  234000\n",
       "982     3      2    1216  235000\n",
       "983     4      2    1685  235301\n",
       "984     3      2    1362  235738\n",
       "\n",
       "[814 rows x 4 columns]"
      ]
     },
     "execution_count": 9,
     "metadata": {},
     "output_type": "execute_result"
    }
   ],
   "source": [
    "house2 = house1[['beds', 'baths', 'sq__ft', 'price']]\n",
    "house2"
   ]
  },
  {
   "cell_type": "code",
   "execution_count": 28,
   "metadata": {},
   "outputs": [
    {
     "data": {
      "image/png": "[encoded data removed]",
      "text/plain": [
       "<Figure size 792x648 with 2 Axes>"
      ]
     },
     "metadata": {
      "needs_background": "light"
     },
     "output_type": "display_data"
    }
   ],
   "source": [
    "# Scattering plots of pair of variables with high Pearson's correlation\n",
    "corr = house2.corr()\n",
    "plt.figure(figsize=(11,9))\n",
    "dropSelf = np.zeros_like(corr)\n",
    "dropSelf[np.triu_indices_from(dropSelf)] = True\n",
    "\n",
    "sns.heatmap(corr, cmap=sns.diverging_palette(220, 10, as_cmap=True), annot=True, fmt=\".2f\", mask=dropSelf, annot_kws={\"size\":14})\n",
    "\n",
    "sns.set(font_scale=0.6)\n",
    "\n",
    "#Apply xticks\n",
    "plt.xticks(range(len(corr.columns)), corr.columns, fontsize=18);\n",
    "#Apply yticks\n",
    "plt.yticks(range(len(corr.columns)), corr.columns, fontsize=18)\n",
    "#show plot\n",
    "plt.show()"
   ]
  },
  {
   "cell_type": "code",
   "execution_count": 38,
   "metadata": {},
   "outputs": [],
   "source": [
    "import warnings\n",
    "warnings.simplefilter(action='ignore', category=FutureWarning)\n",
    "\n",
    "import pandas"
   ]
  },
  {
   "cell_type": "code",
   "execution_count": 39,
   "metadata": {},
   "outputs": [
    {
     "data": {
      "text/plain": [
       "<AxesSubplot:xlabel='beds', ylabel='price'>"
      ]
     },
     "execution_count": 39,
     "metadata": {},
     "output_type": "execute_result"
    },
    {
     "data": {
      "image/png": "[encoded data removed]",
      "text/plain": [
       "<Figure size 432x288 with 1 Axes>"
      ]
     },
     "metadata": {
      "needs_background": "light"
     },
     "output_type": "display_data"
    }
   ],
   "source": [
    "sns.boxplot('beds', 'price', data = house2)"
   ]
  },
  {
   "cell_type": "code",
   "execution_count": 40,
   "metadata": {},
   "outputs": [
    {
     "data": {
      "text/plain": [
       "<AxesSubplot:xlabel='baths', ylabel='price'>"
      ]
     },
     "execution_count": 40,
     "metadata": {},
     "output_type": "execute_result"
    },
    {
     "data": {
      "image/png": "[encoded data removed]",
      "text/plain": [
       "<Figure size 432x288 with 1 Axes>"
      ]
     },
     "metadata": {
      "needs_background": "light"
     },
     "output_type": "display_data"
    }
   ],
   "source": [
    "sns.boxplot('baths', 'price', data = house2)"
   ]
  },
  {
   "cell_type": "code",
   "execution_count": 45,
   "metadata": {},
   "outputs": [
    {
     "data": {
      "text/plain": [
       "(array([     0., 100000., 200000., 300000., 400000., 500000., 600000.,\n",
       "        700000., 800000., 900000.]),\n",
       " [Text(0.0, 0, '0'),\n",
       "  Text(100000.0, 0, '100000'),\n",
       "  Text(200000.0, 0, '200000'),\n",
       "  Text(300000.0, 0, '300000'),\n",
       "  Text(400000.0, 0, '400000'),\n",
       "  Text(500000.0, 0, '500000'),\n",
       "  Text(600000.0, 0, '600000'),\n",
       "  Text(700000.0, 0, '700000'),\n",
       "  Text(800000.0, 0, '800000'),\n",
       "  Text(900000.0, 0, '900000')])"
      ]
     },
     "execution_count": 45,
     "metadata": {},
     "output_type": "execute_result"
    },
    {
     "data": {
      "image/png": "[encoded data removed]",
      "text/plain": [
       "<Figure size 360x360 with 1 Axes>"
      ]
     },
     "metadata": {
      "needs_background": "light"
     },
     "output_type": "display_data"
    }
   ],
   "source": [
    "#Scatter plot using seaborn and lmplot(). fit_reg = False\n",
    "sns.lmplot(x='price', y= 'beds', data= house2, fit_reg = True)\n",
    "plt.xticks(rotation=90, fontsize=\"10\")"
   ]
  },
  {
   "cell_type": "code",
   "execution_count": 76,
   "metadata": {},
   "outputs": [
    {
     "data": {
      "text/plain": [
       "(array([     0., 100000., 200000., 300000., 400000., 500000., 600000.,\n",
       "        700000., 800000., 900000.]),\n",
       " [Text(0.0, 0, '0'),\n",
       "  Text(100000.0, 0, '100000'),\n",
       "  Text(200000.0, 0, '200000'),\n",
       "  Text(300000.0, 0, '300000'),\n",
       "  Text(400000.0, 0, '400000'),\n",
       "  Text(500000.0, 0, '500000'),\n",
       "  Text(600000.0, 0, '600000'),\n",
       "  Text(700000.0, 0, '700000'),\n",
       "  Text(800000.0, 0, '800000'),\n",
       "  Text(900000.0, 0, '900000')])"
      ]
     },
     "execution_count": 76,
     "metadata": {},
     "output_type": "execute_result"
    },
    {
     "data": {
      "image/png": "[encoded data removed]",
      "text/plain": [
       "<Figure size 360x360 with 1 Axes>"
      ]
     },
     "metadata": {
      "needs_background": "light"
     },
     "output_type": "display_data"
    }
   ],
   "source": [
    "#Scatter plot using seaborn and lmplot(). fit_reg = False\n",
    "sns.lmplot(x='price', y= 'baths', data= house2, fit_reg = True)\n",
    "plt.xticks(rotation=90, fontsize=\"10\")"
   ]
  },
  {
   "cell_type": "code",
   "execution_count": 44,
   "metadata": {},
   "outputs": [
    {
     "data": {
      "text/plain": [
       "(array([     0., 100000., 200000., 300000., 400000., 500000., 600000.,\n",
       "        700000., 800000., 900000.]),\n",
       " [Text(0.0, 0, '0'),\n",
       "  Text(100000.0, 0, '100000'),\n",
       "  Text(200000.0, 0, '200000'),\n",
       "  Text(300000.0, 0, '300000'),\n",
       "  Text(400000.0, 0, '400000'),\n",
       "  Text(500000.0, 0, '500000'),\n",
       "  Text(600000.0, 0, '600000'),\n",
       "  Text(700000.0, 0, '700000'),\n",
       "  Text(800000.0, 0, '800000'),\n",
       "  Text(900000.0, 0, '900000')])"
      ]
     },
     "execution_count": 44,
     "metadata": {},
     "output_type": "execute_result"
    },
    {
     "data": {
      "image/png": "[encoded data removed]",
      "text/plain": [
       "<Figure size 360x360 with 1 Axes>"
      ]
     },
     "metadata": {
      "needs_background": "light"
     },
     "output_type": "display_data"
    }
   ],
   "source": [
    "#Scatter plot using seaborn and lmplot(). fit_reg = False\n",
    "sns.lmplot(x='price', y= 'sq__ft', data= house2, fit_reg = True)\n",
    "plt.xticks(rotation=90, fontsize=\"10\")"
   ]
  },
  {
   "cell_type": "markdown",
   "metadata": {
    "colab_type": "text",
    "id": "sIztKXN7Xd3u"
   },
   "source": [
    "### 2. Predict Price"
   ]
  },
  {
   "cell_type": "markdown",
   "metadata": {
    "colab_type": "text",
    "id": "hzXJOP2_Xd3v"
   },
   "source": [
    "We are going to predict `price` from available information."
   ]
  },
  {
   "cell_type": "markdown",
   "metadata": {
    "colab_type": "text",
    "id": "1CMJdXc3Xd3w"
   },
   "source": [
    "#### 2.1 What is the Target Variable? Why?"
   ]
  },
  {
   "cell_type": "code",
   "execution_count": 103,
   "metadata": {
    "colab": {},
    "colab_type": "code",
    "id": "56yN89q2Xd3w"
   },
   "outputs": [],
   "source": [
    "# ANSWER\n",
    "## Price is the target variable. Based on other predictor variables we can predict house price (response)"
   ]
  },
  {
   "cell_type": "markdown",
   "metadata": {
    "colab_type": "text",
    "id": "7qy-ZmGEXd3z"
   },
   "source": [
    "#### 2.2 List all possible variables which might be Predictor variable."
   ]
  },
  {
   "cell_type": "code",
   "execution_count": 104,
   "metadata": {
    "colab": {},
    "colab_type": "code",
    "id": "nfAq28P_Xd30"
   },
   "outputs": [],
   "source": [
    "# ANSWER\n",
    "\n",
    "## beds\n",
    "## baths\n",
    "## sq__ft\n",
    "## Type"
   ]
  },
  {
   "cell_type": "code",
   "execution_count": 116,
   "metadata": {},
   "outputs": [],
   "source": [
    "# Target variable\n",
    "Y = house2['price']"
   ]
  },
  {
   "cell_type": "code",
   "execution_count": 117,
   "metadata": {},
   "outputs": [],
   "source": [
    "# Predictor variable\n",
    "X = house2['beds']"
   ]
  },
  {
   "cell_type": "code",
   "execution_count": 118,
   "metadata": {},
   "outputs": [],
   "source": [
    "def draw_scatter_plot (X,Y):\n",
    "    ### Plot the data\n",
    "    # Create a figure\n",
    "    fig = plt.figure(figsize =(15,7))\n",
    "    # get the axis of the figure\n",
    "    ax = plt.gca()\n",
    "    \n",
    "    # plot a scatter plot with house data\n",
    "    ax.scatter(X, Y, c='b')\n",
    "    plt.show();"
   ]
  },
  {
   "cell_type": "code",
   "execution_count": 11,
   "metadata": {},
   "outputs": [
    {
     "data": {
      "image/png": "[encoded data removed]",
      "text/plain": [
       "<Figure size 1080x504 with 1 Axes>"
      ]
     },
     "metadata": {
      "needs_background": "light"
     },
     "output_type": "display_data"
    }
   ],
   "source": [
    "# beds\n",
    "draw_scatter_plot(house2['beds'], house2['price'])"
   ]
  },
  {
   "cell_type": "code",
   "execution_count": 12,
   "metadata": {},
   "outputs": [
    {
     "data": {
      "image/png": "[encoded data removed]",
      "text/plain": [
       "<Figure size 1080x504 with 1 Axes>"
      ]
     },
     "metadata": {
      "needs_background": "light"
     },
     "output_type": "display_data"
    }
   ],
   "source": [
    "# sq__ft\n",
    "draw_scatter_plot(house2['sq__ft'], house2['price'])"
   ]
  },
  {
   "cell_type": "markdown",
   "metadata": {
    "colab_type": "text",
    "id": "yFZkIpXhXd32"
   },
   "source": [
    "#### 2.3 Find correlation between variables\n",
    "\n",
    "Find correlation between variables. Which is the best predictor? Why? State your reason."
   ]
  },
  {
   "cell_type": "code",
   "execution_count": 39,
   "metadata": {
    "colab": {},
    "colab_type": "code",
    "id": "Nc8FHVnjXd32"
   },
   "outputs": [
    {
     "data": {
      "text/html": [
       "<div>\n",
       "<style scoped>\n",
       "    .dataframe tbody tr th:only-of-type {\n",
       "        vertical-align: middle;\n",
       "    }\n",
       "\n",
       "    .dataframe tbody tr th {\n",
       "        vertical-align: top;\n",
       "    }\n",
       "\n",
       "    .dataframe thead th {\n",
       "        text-align: right;\n",
       "    }\n",
       "</style>\n",
       "<table border=\"1\" class=\"dataframe\">\n",
       "  <thead>\n",
       "    <tr style=\"text-align: right;\">\n",
       "      <th></th>\n",
       "      <th>beds</th>\n",
       "      <th>baths</th>\n",
       "      <th>sq__ft</th>\n",
       "      <th>price</th>\n",
       "    </tr>\n",
       "  </thead>\n",
       "  <tbody>\n",
       "    <tr>\n",
       "      <th>beds</th>\n",
       "      <td>1.000000</td>\n",
       "      <td>0.839650</td>\n",
       "      <td>0.684041</td>\n",
       "      <td>0.342024</td>\n",
       "    </tr>\n",
       "    <tr>\n",
       "      <th>baths</th>\n",
       "      <td>0.839650</td>\n",
       "      <td>1.000000</td>\n",
       "      <td>0.665690</td>\n",
       "      <td>0.416208</td>\n",
       "    </tr>\n",
       "    <tr>\n",
       "      <th>sq__ft</th>\n",
       "      <td>0.684041</td>\n",
       "      <td>0.665690</td>\n",
       "      <td>1.000000</td>\n",
       "      <td>0.333897</td>\n",
       "    </tr>\n",
       "    <tr>\n",
       "      <th>price</th>\n",
       "      <td>0.342024</td>\n",
       "      <td>0.416208</td>\n",
       "      <td>0.333897</td>\n",
       "      <td>1.000000</td>\n",
       "    </tr>\n",
       "  </tbody>\n",
       "</table>\n",
       "</div>"
      ],
      "text/plain": [
       "            beds     baths    sq__ft     price\n",
       "beds    1.000000  0.839650  0.684041  0.342024\n",
       "baths   0.839650  1.000000  0.665690  0.416208\n",
       "sq__ft  0.684041  0.665690  1.000000  0.333897\n",
       "price   0.342024  0.416208  0.333897  1.000000"
      ]
     },
     "execution_count": 39,
     "metadata": {},
     "output_type": "execute_result"
    }
   ],
   "source": [
    "# ANSWER\n",
    "house2.corr()"
   ]
  },
  {
   "cell_type": "code",
   "execution_count": 110,
   "metadata": {},
   "outputs": [],
   "source": [
    "### sq__ft is the best predictor\n",
    "### sq__ft got strong relationship with beds (+0.68) and baths (+0.66)"
   ]
  },
  {
   "cell_type": "code",
   "execution_count": 127,
   "metadata": {},
   "outputs": [
    {
     "data": {
      "text/html": [
       "<div>\n",
       "<style scoped>\n",
       "    .dataframe tbody tr th:only-of-type {\n",
       "        vertical-align: middle;\n",
       "    }\n",
       "\n",
       "    .dataframe tbody tr th {\n",
       "        vertical-align: top;\n",
       "    }\n",
       "\n",
       "    .dataframe thead th {\n",
       "        text-align: right;\n",
       "    }\n",
       "</style>\n",
       "<table border=\"1\" class=\"dataframe\">\n",
       "  <thead>\n",
       "    <tr style=\"text-align: right;\">\n",
       "      <th></th>\n",
       "      <th>beds</th>\n",
       "      <th>baths</th>\n",
       "      <th>sq__ft</th>\n",
       "      <th>price</th>\n",
       "      <th>y_hat</th>\n",
       "      <th>yhat</th>\n",
       "    </tr>\n",
       "  </thead>\n",
       "  <tbody>\n",
       "    <tr>\n",
       "      <th>0</th>\n",
       "      <td>2</td>\n",
       "      <td>1</td>\n",
       "      <td>836</td>\n",
       "      <td>59222</td>\n",
       "      <td>229448.369779</td>\n",
       "      <td>229448.369779</td>\n",
       "    </tr>\n",
       "    <tr>\n",
       "      <th>1</th>\n",
       "      <td>3</td>\n",
       "      <td>1</td>\n",
       "      <td>1167</td>\n",
       "      <td>68212</td>\n",
       "      <td>229448.369779</td>\n",
       "      <td>229448.369779</td>\n",
       "    </tr>\n",
       "    <tr>\n",
       "      <th>2</th>\n",
       "      <td>2</td>\n",
       "      <td>1</td>\n",
       "      <td>796</td>\n",
       "      <td>68880</td>\n",
       "      <td>229448.369779</td>\n",
       "      <td>229448.369779</td>\n",
       "    </tr>\n",
       "    <tr>\n",
       "      <th>3</th>\n",
       "      <td>2</td>\n",
       "      <td>1</td>\n",
       "      <td>852</td>\n",
       "      <td>69307</td>\n",
       "      <td>229448.369779</td>\n",
       "      <td>229448.369779</td>\n",
       "    </tr>\n",
       "    <tr>\n",
       "      <th>4</th>\n",
       "      <td>2</td>\n",
       "      <td>1</td>\n",
       "      <td>797</td>\n",
       "      <td>81900</td>\n",
       "      <td>229448.369779</td>\n",
       "      <td>229448.369779</td>\n",
       "    </tr>\n",
       "  </tbody>\n",
       "</table>\n",
       "</div>"
      ],
      "text/plain": [
       "   beds  baths  sq__ft  price          y_hat           yhat\n",
       "0     2      1     836  59222  229448.369779  229448.369779\n",
       "1     3      1    1167  68212  229448.369779  229448.369779\n",
       "2     2      1     796  68880  229448.369779  229448.369779\n",
       "3     2      1     852  69307  229448.369779  229448.369779\n",
       "4     2      1     797  81900  229448.369779  229448.369779"
      ]
     },
     "execution_count": 127,
     "metadata": {},
     "output_type": "execute_result"
    }
   ],
   "source": [
    "house2.head()"
   ]
  },
  {
   "cell_type": "markdown",
   "metadata": {
    "colab_type": "text",
    "id": "1vop_P66Xd35"
   },
   "source": [
    "#### 2.4 What is the simplest way to predict price\n",
    "\n",
    "So we have information for 985 houses. What is the easiest way to predict price of a house?"
   ]
  },
  {
   "cell_type": "code",
   "execution_count": 56,
   "metadata": {},
   "outputs": [
    {
     "data": {
      "text/plain": [
       "229448.3697788698"
      ]
     },
     "execution_count": 56,
     "metadata": {},
     "output_type": "execute_result"
    }
   ],
   "source": [
    "house2.price.mean()"
   ]
  },
  {
   "cell_type": "code",
   "execution_count": 123,
   "metadata": {},
   "outputs": [
    {
     "name": "stderr",
     "output_type": "stream",
     "text": [
      "<ipython-input-123-bcde82edaa81>:4: SettingWithCopyWarning: \n",
      "A value is trying to be set on a copy of a slice from a DataFrame.\n",
      "Try using .loc[row_indexer,col_indexer] = value instead\n",
      "\n",
      "See the caveats in the documentation: https://pandas.pydata.org/pandas-docs/stable/user_guide/indexing.html#returning-a-view-versus-a-copy\n",
      "  house2['yhat'] = house2['price'].mean()\n"
     ]
    }
   ],
   "source": [
    "# ANSWER:  y hat is the predicted value of y (the dependent variable) in a regression equation. \n",
    "# It can also be considered to be the average value of the response variable.\n",
    "## Mean of Price\n",
    "house2['yhat'] = house2['price'].mean()"
   ]
  },
  {
   "cell_type": "code",
   "execution_count": 124,
   "metadata": {},
   "outputs": [],
   "source": [
    "X = house2['sq__ft']\n",
    "Y = house2['price']\n",
    "yhat = house2['yhat']"
   ]
  },
  {
   "cell_type": "code",
   "execution_count": 125,
   "metadata": {},
   "outputs": [],
   "source": [
    "def draw_plot(X,y, yhat):\n",
    "    ### Plot the data\n",
    "    # create a figure\n",
    "    fig = plt.figure(figsize=(15,7))\n",
    "    # get the axis of the figure\n",
    "    ax = plt.gca()\n",
    "    \n",
    "    # plot a scatter plot with house data\n",
    "    ax.scatter(X,y, c='b')\n",
    "    ax.plot(X, yhat, color='r')\n",
    "    \n",
    "    plt.show()"
   ]
  },
  {
   "cell_type": "code",
   "execution_count": 126,
   "metadata": {},
   "outputs": [
    {
     "data": {
      "image/png": "[encoded data removed]",
      "text/plain": [
       "<Figure size 1080x504 with 1 Axes>"
      ]
     },
     "metadata": {
      "needs_background": "light"
     },
     "output_type": "display_data"
    }
   ],
   "source": [
    "draw_plot(X, Y, yhat)"
   ]
  },
  {
   "cell_type": "markdown",
   "metadata": {
    "colab_type": "text",
    "id": "8uRWVPNuXd38"
   },
   "source": [
    "#### 2.5 Find Residuals\n",
    "\n",
    "Find difference between actual value and predicted value. Use absolute value."
   ]
  },
  {
   "cell_type": "code",
   "execution_count": 65,
   "metadata": {
    "colab": {},
    "colab_type": "code",
    "id": "PBzfNQsGXd39"
   },
   "outputs": [
    {
     "data": {
      "text/plain": [
       "88232.20396742529"
      ]
     },
     "execution_count": 65,
     "metadata": {},
     "output_type": "execute_result"
    }
   ],
   "source": [
    "# ANSWER\n",
    "res = abs(house2['price'] - house2['yhat']).mean()\n",
    "res"
   ]
  },
  {
   "cell_type": "code",
   "execution_count": 66,
   "metadata": {},
   "outputs": [
    {
     "data": {
      "text/plain": [
       "88232.20396742529"
      ]
     },
     "execution_count": 66,
     "metadata": {},
     "output_type": "execute_result"
    }
   ],
   "source": [
    "# shorter way to find the residuals\n",
    "abs(house2.price - house2.yhat).mean()"
   ]
  },
  {
   "cell_type": "code",
   "execution_count": 67,
   "metadata": {},
   "outputs": [
    {
     "data": {
      "text/plain": [
       "0     -170226.369779\n",
       "1     -161236.369779\n",
       "2     -160568.369779\n",
       "3     -160141.369779\n",
       "4     -147548.369779\n",
       "           ...      \n",
       "980      2976.630221\n",
       "981      4551.630221\n",
       "982      5551.630221\n",
       "983      5852.630221\n",
       "984      6289.630221\n",
       "Length: 814, dtype: float64"
      ]
     },
     "execution_count": 67,
     "metadata": {},
     "output_type": "execute_result"
    }
   ],
   "source": [
    "house2.price - house2.yhat"
   ]
  },
  {
   "cell_type": "markdown",
   "metadata": {
    "colab_type": "text",
    "id": "5P61MoAsXd4B"
   },
   "source": [
    "#### 2.6  Predict Using Linear Regression\n",
    "\n",
    "[Simple Linear Regression](https://en.wikipedia.org/wiki/Simple_linear_regression#Fitting_the_regression_line)\n",
    "\n",
    "### $$\\hat{y} = \\beta_0 + \\beta_1 x$$\n",
    "\n",
    "> ### $$ \\beta_1 = \\frac{\\sum_{i=1}^n (y_i - \\bar{y} ) (x_i - \\bar{x} )}{\\sum_{i=1}^n (x_i - \\bar{x})^2} $$\n",
    "\n",
    "and\n",
    "\n",
    "> ### $$ \\beta_0 = \\bar{y} - \\beta_1\\bar{x} $$\n",
    "\n",
    "Given variables:\n",
    "- $\\bar{y}$ : the sample mean of observed values $Y$\n",
    "- $\\bar{x}$ : the sample mean of observed values $X$"
   ]
  },
  {
   "cell_type": "code",
   "execution_count": 15,
   "metadata": {},
   "outputs": [
    {
     "data": {
      "text/plain": [
       "(814, 4)"
      ]
     },
     "execution_count": 15,
     "metadata": {},
     "output_type": "execute_result"
    }
   ],
   "source": [
    "house2.shape"
   ]
  },
  {
   "cell_type": "code",
   "execution_count": 114,
   "metadata": {},
   "outputs": [
    {
     "data": {
      "text/html": [
       "<div>\n",
       "<style scoped>\n",
       "    .dataframe tbody tr th:only-of-type {\n",
       "        vertical-align: middle;\n",
       "    }\n",
       "\n",
       "    .dataframe tbody tr th {\n",
       "        vertical-align: top;\n",
       "    }\n",
       "\n",
       "    .dataframe thead th {\n",
       "        text-align: right;\n",
       "    }\n",
       "</style>\n",
       "<table border=\"1\" class=\"dataframe\">\n",
       "  <thead>\n",
       "    <tr style=\"text-align: right;\">\n",
       "      <th></th>\n",
       "      <th>beds</th>\n",
       "      <th>baths</th>\n",
       "      <th>sq__ft</th>\n",
       "      <th>price</th>\n",
       "      <th>y_hat</th>\n",
       "      <th>yhat</th>\n",
       "    </tr>\n",
       "  </thead>\n",
       "  <tbody>\n",
       "    <tr>\n",
       "      <th>0</th>\n",
       "      <td>2</td>\n",
       "      <td>1</td>\n",
       "      <td>836</td>\n",
       "      <td>59222</td>\n",
       "      <td>229448.369779</td>\n",
       "      <td>229448.369779</td>\n",
       "    </tr>\n",
       "    <tr>\n",
       "      <th>1</th>\n",
       "      <td>3</td>\n",
       "      <td>1</td>\n",
       "      <td>1167</td>\n",
       "      <td>68212</td>\n",
       "      <td>229448.369779</td>\n",
       "      <td>229448.369779</td>\n",
       "    </tr>\n",
       "    <tr>\n",
       "      <th>2</th>\n",
       "      <td>2</td>\n",
       "      <td>1</td>\n",
       "      <td>796</td>\n",
       "      <td>68880</td>\n",
       "      <td>229448.369779</td>\n",
       "      <td>229448.369779</td>\n",
       "    </tr>\n",
       "    <tr>\n",
       "      <th>3</th>\n",
       "      <td>2</td>\n",
       "      <td>1</td>\n",
       "      <td>852</td>\n",
       "      <td>69307</td>\n",
       "      <td>229448.369779</td>\n",
       "      <td>229448.369779</td>\n",
       "    </tr>\n",
       "    <tr>\n",
       "      <th>4</th>\n",
       "      <td>2</td>\n",
       "      <td>1</td>\n",
       "      <td>797</td>\n",
       "      <td>81900</td>\n",
       "      <td>229448.369779</td>\n",
       "      <td>229448.369779</td>\n",
       "    </tr>\n",
       "  </tbody>\n",
       "</table>\n",
       "</div>"
      ],
      "text/plain": [
       "   beds  baths  sq__ft  price          y_hat           yhat\n",
       "0     2      1     836  59222  229448.369779  229448.369779\n",
       "1     3      1    1167  68212  229448.369779  229448.369779\n",
       "2     2      1     796  68880  229448.369779  229448.369779\n",
       "3     2      1     852  69307  229448.369779  229448.369779\n",
       "4     2      1     797  81900  229448.369779  229448.369779"
      ]
     },
     "execution_count": 114,
     "metadata": {},
     "output_type": "execute_result"
    }
   ],
   "source": [
    "house2.head()"
   ]
  },
  {
   "cell_type": "code",
   "execution_count": 113,
   "metadata": {},
   "outputs": [],
   "source": [
    "X = house2['sq__ft'].values.reshape(-1,1)\n",
    "Y = house2['price'].values.reshape(-1,1)"
   ]
  },
  {
   "cell_type": "code",
   "execution_count": 18,
   "metadata": {},
   "outputs": [],
   "source": [
    "from sklearn.model_selection import train_test_split\n",
    "X_train, X_test, y_train, y_test = train_test_split(X, Y, test_size=0.8, random_state=10)"
   ]
  },
  {
   "cell_type": "code",
   "execution_count": 112,
   "metadata": {},
   "outputs": [
    {
     "data": {
      "text/plain": [
       "LinearRegression()"
      ]
     },
     "execution_count": 112,
     "metadata": {},
     "output_type": "execute_result"
    }
   ],
   "source": [
    "regressor = LinearRegression()\n",
    "regressor.fit(X_train, y_train) # formula beta1, beta0"
   ]
  },
  {
   "cell_type": "code",
   "execution_count": 111,
   "metadata": {},
   "outputs": [
    {
     "name": "stdout",
     "output_type": "stream",
     "text": [
      "[[138.78927069]] [14564.49544997]\n"
     ]
    }
   ],
   "source": [
    "linreg = LinearRegression()\n",
    "linreg.fit(X_train, y_train)\n",
    "\n",
    "print(linreg.coef_, linreg.intercept_)"
   ]
  },
  {
   "cell_type": "code",
   "execution_count": 109,
   "metadata": {},
   "outputs": [],
   "source": [
    "y_pred = regressor.predict(X_test) # yhat = beta_0 + beat_1*X"
   ]
  },
  {
   "cell_type": "code",
   "execution_count": 110,
   "metadata": {},
   "outputs": [
    {
     "data": {
      "text/plain": [
       "array([[540298.25284053],\n",
       "       [212755.57400164],\n",
       "       [222470.82295025],\n",
       "       [126983.80471247],\n",
       "       [176947.94216247],\n",
       "       [159321.70478427],\n",
       "       [179446.14903497],\n",
       "       [209008.26369289],\n",
       "       [387491.26580595],\n",
       "       [185552.87694552],\n",
       "       [182083.14517816],\n",
       "       [568611.2640622 ],\n",
       "       [210257.36712914],\n",
       "       [243566.7920958 ],\n",
       "       [169869.68935705],\n",
       "       [202068.80015816],\n",
       "       [265911.86467761],\n",
       "       [246481.36678039],\n",
       "       [151965.87343747],\n",
       "       [314488.10942067],\n",
       "       [142805.78157163],\n",
       "       [148079.77385802],\n",
       "       [160432.01894983],\n",
       "       [255363.88010483],\n",
       "       [122681.33732094],\n",
       "       [340302.91376983],\n",
       "       [299637.65745636],\n",
       "       [ 81738.50246608],\n",
       "       [217613.19847594],\n",
       "       [170008.47862775],\n",
       "       [170980.00352261],\n",
       "       [285619.94111622],\n",
       "       [176392.78507969],\n",
       "       [175004.89237275],\n",
       "       [227050.86888316],\n",
       "       [275765.90289692],\n",
       "       [198599.0683908 ],\n",
       "       [229549.07575566],\n",
       "       [314626.89869136],\n",
       "       [214559.83452066],\n",
       "       [197211.17568386],\n",
       "       [355569.73354622],\n",
       "       [167787.85029664],\n",
       "       [319762.10170705],\n",
       "       [180140.09538844],\n",
       "       [211506.47056539],\n",
       "       [341274.43866469],\n",
       "       [170008.47862775],\n",
       "       [167232.69321386],\n",
       "       [303940.12484789],\n",
       "       [163485.38290511],\n",
       "       [249118.36292358],\n",
       "       [298943.71110289],\n",
       "       [259943.92603775],\n",
       "       [211090.1027533 ],\n",
       "       [467017.51791386],\n",
       "       [197905.12203733],\n",
       "       [206232.478279  ],\n",
       "       [321011.2051433 ],\n",
       "       [214837.41306205],\n",
       "       [241762.53157678],\n",
       "       [262858.50072233],\n",
       "       [155019.23739275],\n",
       "       [176809.15289177],\n",
       "       [204289.42848928],\n",
       "       [253282.04104441],\n",
       "       [274933.16727275],\n",
       "       [278819.26685219],\n",
       "       [255502.66937553],\n",
       "       [158766.5477015 ],\n",
       "       [195823.28297691],\n",
       "       [268410.07155011],\n",
       "       [337804.70689733],\n",
       "       [382633.64133164],\n",
       "       [ 89371.91235427],\n",
       "       [185552.87694552],\n",
       "       [235933.38220761],\n",
       "       [209840.99931705],\n",
       "       [131980.21845747],\n",
       "       [195268.12589414],\n",
       "       [295751.55787692],\n",
       "       [330171.29700914],\n",
       "       [148357.35239941],\n",
       "       [222332.03367955],\n",
       "       [239958.27105775],\n",
       "       [154602.86958066],\n",
       "       [211645.25983608],\n",
       "       [185136.50913344],\n",
       "       [190688.07996122],\n",
       "       [286730.25528178],\n",
       "       [147385.82750455],\n",
       "       [188051.08381802],\n",
       "       [276598.63852108],\n",
       "       [134062.05751788],\n",
       "       [265773.07540692],\n",
       "       [235933.38220761],\n",
       "       [172645.47477094],\n",
       "       [199015.43620289],\n",
       "       [206371.26754969],\n",
       "       [207759.16025664],\n",
       "       [229410.28648497],\n",
       "       [432181.41096956],\n",
       "       [248146.83802872],\n",
       "       [331004.03263331],\n",
       "       [250089.88781844],\n",
       "       [101030.21109261],\n",
       "       [200680.90745122],\n",
       "       [253420.83031511],\n",
       "       [247175.31313386],\n",
       "       [307271.06734455],\n",
       "       [228716.3401315 ],\n",
       "       [255919.03718761],\n",
       "       [295612.76860622],\n",
       "       [174449.73528997],\n",
       "       [256612.98354108],\n",
       "       [157795.02280664],\n",
       "       [122820.12659163],\n",
       "       [175421.26018483],\n",
       "       [137809.36782663],\n",
       "       [199015.43620289],\n",
       "       [533775.15711789],\n",
       "       [344744.17043206],\n",
       "       [182638.30226094],\n",
       "       [278125.32049872],\n",
       "       [491028.061744  ],\n",
       "       [149467.66656497],\n",
       "       [169730.90008636],\n",
       "       [281178.684454  ],\n",
       "       [243566.7920958 ],\n",
       "       [177225.52070386],\n",
       "       [413861.22723789],\n",
       "       [625237.28650553],\n",
       "       [274933.16727275],\n",
       "       [161681.12238608],\n",
       "       [119489.18409497],\n",
       "       [501437.25704609],\n",
       "       [201097.2752633 ],\n",
       "       [200125.75036844],\n",
       "       [168620.5859208 ],\n",
       "       [309630.48494636],\n",
       "       [343078.69918372],\n",
       "       [440647.55648192],\n",
       "       [198321.48984941],\n",
       "       [170563.63571052],\n",
       "       [226079.3439883 ],\n",
       "       [274378.01018997],\n",
       "       [154880.44812205],\n",
       "       [166399.95758969],\n",
       "       [181111.6202833 ],\n",
       "       [247314.10240455],\n",
       "       [120044.34117775],\n",
       "       [190271.71214914],\n",
       "       [214282.25597928],\n",
       "       [170424.84643983],\n",
       "       [511291.29526539],\n",
       "       [149884.03437705],\n",
       "       [225801.76544691],\n",
       "       [193186.28683372],\n",
       "       [135449.95022483],\n",
       "       [305050.43901344],\n",
       "       [149190.08802358],\n",
       "       [195268.12589414],\n",
       "       [327395.51159525],\n",
       "       [183887.40569719],\n",
       "       [272157.38185886],\n",
       "       [314349.32014997],\n",
       "       [291449.09048539],\n",
       "       [147802.19531664],\n",
       "       [211367.68129469],\n",
       "       [152521.03052025],\n",
       "       [257584.50843594],\n",
       "       [232463.65044025],\n",
       "       [343078.69918372],\n",
       "       [158766.5477015 ],\n",
       "       [280345.94882983],\n",
       "       [146691.88115108],\n",
       "       [158766.5477015 ],\n",
       "       [260221.50457914],\n",
       "       [254253.56593928],\n",
       "       [238847.95689219],\n",
       "       [268548.8608208 ],\n",
       "       [190688.07996122],\n",
       "       [160432.01894983],\n",
       "       [183332.24861441],\n",
       "       [187634.71600594],\n",
       "       [199015.43620289],\n",
       "       [151965.87343747],\n",
       "       [157378.65499455],\n",
       "       [316431.15921039],\n",
       "       [183332.24861441],\n",
       "       [140029.99615775],\n",
       "       [164456.90779997],\n",
       "       [240374.63886983],\n",
       "       [550707.44814261],\n",
       "       [372779.60311233],\n",
       "       [151133.1378133 ],\n",
       "       [201652.43234608],\n",
       "       [186663.19111108],\n",
       "       [164456.90779997],\n",
       "       [190688.07996122],\n",
       "       [197072.38641316],\n",
       "       [197627.54349594],\n",
       "       [211367.68129469],\n",
       "       [299915.23599775],\n",
       "       [392765.25809233],\n",
       "       [224136.29419858],\n",
       "       [169314.53227427],\n",
       "       [277153.79560386],\n",
       "       [177919.46705733],\n",
       "       [462715.05052234],\n",
       "       [183748.6164265 ],\n",
       "       [114770.34889136],\n",
       "       [371946.86748817],\n",
       "       [176531.57435039],\n",
       "       [219001.09118289],\n",
       "       [197766.33276664],\n",
       "       [224552.66201066],\n",
       "       [215253.78087414],\n",
       "       [292420.61538025],\n",
       "       [130314.74720913],\n",
       "       [131147.4828333 ],\n",
       "       [202068.80015816],\n",
       "       [155296.81593414],\n",
       "       [233573.9646058 ],\n",
       "       [333085.87169372],\n",
       "       [124901.96565205],\n",
       "       [416498.22338108],\n",
       "       [169453.32154497],\n",
       "       [280345.94882983],\n",
       "       [151133.1378133 ],\n",
       "       [183193.45934372],\n",
       "       [141973.04594747],\n",
       "       [264385.18269997],\n",
       "       [276459.84925039],\n",
       "       [187773.50527664],\n",
       "       [822595.62943304],\n",
       "       [172784.26404164],\n",
       "       [217474.40920525],\n",
       "       [252310.51614955],\n",
       "       [175698.83872622],\n",
       "       [167787.85029664],\n",
       "       [192769.91902164],\n",
       "       [425658.31524692],\n",
       "       [284232.04840928],\n",
       "       [307271.06734455],\n",
       "       [345160.53824414],\n",
       "       [169730.90008636],\n",
       "       [237321.27491455],\n",
       "       [131702.63991608],\n",
       "       [392626.46882164],\n",
       "       [491999.58663886],\n",
       "       [164456.90779997],\n",
       "       [207759.16025664],\n",
       "       [161403.54384469],\n",
       "       [196378.44005969],\n",
       "       [285897.51965761],\n",
       "       [282288.99861955],\n",
       "       [191243.237044  ],\n",
       "       [283815.68059719],\n",
       "       [189161.39798358],\n",
       "       [200264.53963914],\n",
       "       [234129.12168858],\n",
       "       [170008.47862775],\n",
       "       [101307.789634  ],\n",
       "       [204705.79630136],\n",
       "       [213865.88816719],\n",
       "       [174727.31383136],\n",
       "       [283676.8913265 ],\n",
       "       [142805.78157163],\n",
       "       [335028.92148344],\n",
       "       [139613.62834566],\n",
       "       [401647.77141678],\n",
       "       [192214.76193886],\n",
       "       [214143.46670858],\n",
       "       [200680.90745122],\n",
       "       [182777.09153164],\n",
       "       [457579.84750664],\n",
       "       [294363.66516997],\n",
       "       [233435.17533511],\n",
       "       [441480.29210608],\n",
       "       [248424.41657011],\n",
       "       [406505.39589108],\n",
       "       [190271.71214914],\n",
       "       [144054.88500788],\n",
       "       [155851.97301691],\n",
       "       [208036.73879803],\n",
       "       [286869.04455247],\n",
       "       [248424.41657011],\n",
       "       [228438.76159011],\n",
       "       [376388.12415039],\n",
       "       [232047.28262816],\n",
       "       [188745.0301715 ],\n",
       "       [130314.74720913],\n",
       "       [162652.64728094],\n",
       "       [237460.06418525],\n",
       "       [147802.19531664],\n",
       "       [228716.3401315 ],\n",
       "       [173339.42112441],\n",
       "       [321705.15149678],\n",
       "       [155158.02666344],\n",
       "       [199015.43620289],\n",
       "       [164456.90779997],\n",
       "       [154741.65885136],\n",
       "       [144471.25281997],\n",
       "       [143638.5171958 ],\n",
       "       [170008.47862775],\n",
       "       [515871.34119831],\n",
       "       [177780.67778664],\n",
       "       [213865.88816719],\n",
       "       [165706.01123622],\n",
       "       [235378.22512483],\n",
       "       [173339.42112441],\n",
       "       [223164.76930372],\n",
       "       [189161.39798358],\n",
       "       [153353.76614441],\n",
       "       [ 99364.73984427],\n",
       "       [164456.90779997],\n",
       "       [341552.01720608],\n",
       "       [321566.36222608],\n",
       "       [340164.12449914],\n",
       "       [495885.68621831],\n",
       "       [429821.99336775],\n",
       "       [383743.9554972 ],\n",
       "       [147524.61677525],\n",
       "       [190132.92287844],\n",
       "       [181666.77736608],\n",
       "       [220388.98388983],\n",
       "       [130037.16866775],\n",
       "       [320594.83733122],\n",
       "       [240374.63886983],\n",
       "       [553205.65501511],\n",
       "       [177780.67778664],\n",
       "       [315737.21285692],\n",
       "       [170841.21425191],\n",
       "       [224413.87273997],\n",
       "       [292698.19392164],\n",
       "       [155990.76228761],\n",
       "       [232047.28262816],\n",
       "       [372224.44602956],\n",
       "       [143916.09573719],\n",
       "       [194990.54735275],\n",
       "       [327950.66867803],\n",
       "       [188051.08381802],\n",
       "       [210257.36712914],\n",
       "       [360288.56874983],\n",
       "       [291171.511944  ],\n",
       "       [334751.34294206],\n",
       "       [252588.09469094],\n",
       "       [178613.4134108 ],\n",
       "       [392626.46882164],\n",
       "       [206926.42463247],\n",
       "       [216780.46285178],\n",
       "       [202485.16797025],\n",
       "       [392626.46882164],\n",
       "       [334612.55367136],\n",
       "       [241901.32084747],\n",
       "       [173339.42112441],\n",
       "       [175560.04945552],\n",
       "       [154880.44812205],\n",
       "       [321843.94076747],\n",
       "       [280207.15955914],\n",
       "       [171673.94987608],\n",
       "       [135033.58241275],\n",
       "       [125040.75492275],\n",
       "       [147524.61677525],\n",
       "       [124901.96565205],\n",
       "       [290893.93340261],\n",
       "       [341968.38501817],\n",
       "       [179446.14903497],\n",
       "       [252171.72687886],\n",
       "       [403174.45339442],\n",
       "       [202762.74651164],\n",
       "       [223581.1371158 ],\n",
       "       [263691.2363465 ],\n",
       "       [212616.78473094],\n",
       "       [296306.71495969],\n",
       "       [360704.93656192],\n",
       "       [226773.29034178],\n",
       "       [246620.15605108],\n",
       "       [197349.96495455],\n",
       "       [142805.78157163],\n",
       "       [160293.22967914],\n",
       "       [208869.47442219],\n",
       "       [137254.21074386],\n",
       "       [324758.51545206],\n",
       "       [469932.09259845],\n",
       "       [189716.55506636],\n",
       "       [322399.09785025],\n",
       "       [171396.37133469],\n",
       "       [124901.96565205],\n",
       "       [204844.58557205],\n",
       "       [157795.02280664],\n",
       "       [219556.24826566],\n",
       "       [226495.71180039],\n",
       "       [271463.43550539],\n",
       "       [187912.29454733],\n",
       "       [132812.95408163],\n",
       "       [219833.82680705],\n",
       "       [264107.60415858],\n",
       "       [276876.21706247],\n",
       "       [311851.11327747],\n",
       "       [148773.7202115 ],\n",
       "       [234129.12168858],\n",
       "       [376110.545609  ],\n",
       "       [516287.70901039],\n",
       "       [249118.36292358],\n",
       "       [158766.5477015 ],\n",
       "       [264246.39342928],\n",
       "       [185969.24475761],\n",
       "       [193463.86537511],\n",
       "       [216086.5164983 ],\n",
       "       [333085.87169372],\n",
       "       [134478.42532997],\n",
       "       [206093.6890083 ],\n",
       "       [453693.7479272 ],\n",
       "       [301580.70724608],\n",
       "       [148634.9309408 ],\n",
       "       [140723.94251122],\n",
       "       [191798.39412677],\n",
       "       [270491.91061053],\n",
       "       [241623.74230608],\n",
       "       [390822.20830261],\n",
       "       [181389.19882469],\n",
       "       [124901.96565205],\n",
       "       [153353.76614441],\n",
       "       [272296.17112955],\n",
       "       [210257.36712914],\n",
       "       [197766.33276664],\n",
       "       [281317.47372469],\n",
       "       [220666.56243122],\n",
       "       [158905.33697219],\n",
       "       [436067.510549  ],\n",
       "       [197766.33276664],\n",
       "       [360704.93656192],\n",
       "       [164734.48634136],\n",
       "       [156407.13009969],\n",
       "       [233573.9646058 ],\n",
       "       [246342.57750969],\n",
       "       [139613.62834566],\n",
       "       [114770.34889136],\n",
       "       [215808.93795691],\n",
       "       [148218.56312872],\n",
       "       [169314.53227427],\n",
       "       [188328.66235941],\n",
       "       [169592.11081566],\n",
       "       [603863.73881859],\n",
       "       [206093.6890083 ],\n",
       "       [181944.35590747],\n",
       "       [149190.08802358],\n",
       "       [165567.22196552],\n",
       "       [264385.18269997],\n",
       "       [187773.50527664],\n",
       "       [258556.0333308 ],\n",
       "       [165706.01123622],\n",
       "       [204150.63921858],\n",
       "       [278958.05612289],\n",
       "       [219556.24826566],\n",
       "       [343772.64553719],\n",
       "       [230936.96846261],\n",
       "       [173616.9996658 ],\n",
       "       [234823.06804205],\n",
       "       [272573.74967094],\n",
       "       [214421.04524997],\n",
       "       [200542.11818052],\n",
       "       [480480.07717122],\n",
       "       [244260.73844928],\n",
       "       [185414.08767483],\n",
       "       [223025.98003303],\n",
       "       [170008.47862775],\n",
       "       [316014.7913983 ],\n",
       "       [137809.36782663],\n",
       "       [242595.26720094],\n",
       "       [218862.30191219],\n",
       "       [234684.27877136],\n",
       "       [170008.47862775],\n",
       "       [175282.47091414],\n",
       "       [454942.85136345],\n",
       "       [318096.63045872],\n",
       "       [216086.5164983 ],\n",
       "       [514067.08067928],\n",
       "       [409558.75984636],\n",
       "       [368477.13572081],\n",
       "       [131147.4828333 ],\n",
       "       [239541.90324566],\n",
       "       [361954.03999817],\n",
       "       [124901.96565205],\n",
       "       [205122.16411344],\n",
       "       [189994.13360775],\n",
       "       [193741.4439165 ],\n",
       "       [140029.99615775],\n",
       "       [125595.91200552],\n",
       "       [114909.13816205],\n",
       "       [236072.1714783 ],\n",
       "       [343772.64553719],\n",
       "       [252588.09469094],\n",
       "       [322954.25493303],\n",
       "       [299498.86818567],\n",
       "       [147802.19531664],\n",
       "       [236072.1714783 ],\n",
       "       [207481.58171525],\n",
       "       [261054.2402033 ],\n",
       "       [523921.11889859],\n",
       "       [376249.33487969],\n",
       "       [167093.90394316],\n",
       "       [177641.88851594],\n",
       "       [236766.11783178],\n",
       "       [166261.168319  ],\n",
       "       [225524.18690553],\n",
       "       [158905.33697219],\n",
       "       [109218.77806358],\n",
       "       [191659.60485608],\n",
       "       [164734.48634136],\n",
       "       [158766.5477015 ],\n",
       "       [203595.4821358 ],\n",
       "       [209702.21004636],\n",
       "       [219556.24826566],\n",
       "       [181666.77736608],\n",
       "       [221082.9302433 ],\n",
       "       [175698.83872622],\n",
       "       [413583.6486965 ],\n",
       "       [219833.82680705],\n",
       "       [188467.45163011],\n",
       "       [194435.39026997],\n",
       "       [217890.77701733],\n",
       "       [136143.8965783 ],\n",
       "       [274239.22091928],\n",
       "       [174449.73528997],\n",
       "       [125040.75492275],\n",
       "       [207897.94952733],\n",
       "       [438704.5066922 ],\n",
       "       [177503.09924525],\n",
       "       [146414.30260969],\n",
       "       [162236.27946886],\n",
       "       [534469.10347136],\n",
       "       [247175.31313386],\n",
       "       [299915.23599775],\n",
       "       [215947.72722761],\n",
       "       [256057.8264583 ],\n",
       "       [124901.96565205],\n",
       "       [331004.03263331],\n",
       "       [486031.647999  ],\n",
       "       [174449.73528997],\n",
       "       [147802.19531664],\n",
       "       [194157.81172858],\n",
       "       [203040.32505302],\n",
       "       [192214.76193886],\n",
       "       [154186.50176858],\n",
       "       [177503.09924525],\n",
       "       [166955.11467247],\n",
       "       [241901.32084747],\n",
       "       [165706.01123622],\n",
       "       [253004.46250303],\n",
       "       [360704.93656192],\n",
       "       [547237.71637525],\n",
       "       [195268.12589414],\n",
       "       [210396.15639983],\n",
       "       [176115.2065383 ],\n",
       "       [164734.48634136],\n",
       "       [151688.29489608],\n",
       "       [125040.75492275],\n",
       "       [202762.74651164],\n",
       "       [209424.63150497],\n",
       "       [175143.68164344],\n",
       "       [269659.17498636],\n",
       "       [270353.12133983],\n",
       "       [233573.9646058 ],\n",
       "       [239958.27105775],\n",
       "       [153908.92322719],\n",
       "       [126983.80471247],\n",
       "       [315598.42358622],\n",
       "       [170286.05716914],\n",
       "       [198876.64693219],\n",
       "       [213033.15254303],\n",
       "       [337249.54981456],\n",
       "       [262719.71145164],\n",
       "       [230381.81137983],\n",
       "       [202485.16797025],\n",
       "       [173339.42112441],\n",
       "       [274239.22091928],\n",
       "       [215531.35941553],\n",
       "       [218307.14482941],\n",
       "       [268271.28227942],\n",
       "       [358067.94041872],\n",
       "       [175421.26018483],\n",
       "       [196239.650789  ],\n",
       "       [190132.92287844],\n",
       "       [394014.36152858],\n",
       "       [172645.47477094],\n",
       "       [449530.06980636],\n",
       "       [467156.30718456],\n",
       "       [199293.01474427],\n",
       "       [253837.19812719],\n",
       "       [149467.66656497],\n",
       "       [249812.30927705],\n",
       "       [179307.35976427],\n",
       "       [611774.72724817],\n",
       "       [215947.72722761],\n",
       "       [327950.66867803],\n",
       "       [195545.70443552],\n",
       "       [161125.9653033 ],\n",
       "       [153076.18760302],\n",
       "       [502547.57121164],\n",
       "       [140029.99615775],\n",
       "       [484921.33383345],\n",
       "       [126151.0690883 ],\n",
       "       [362092.82926886],\n",
       "       [130592.32575052],\n",
       "       [173616.9996658 ],\n",
       "       [209702.21004636],\n",
       "       [289644.82996636],\n",
       "       [183471.03788511],\n",
       "       [313655.3737965 ],\n",
       "       [189577.76579566],\n",
       "       [167787.85029664],\n",
       "       [130592.32575052],\n",
       "       [168898.16446219],\n",
       "       [235655.80366622],\n",
       "       [203040.32505302],\n",
       "       [282150.20934886],\n",
       "       [ 96172.5866183 ],\n",
       "       [272296.17112955],\n",
       "       [237876.43199733],\n",
       "       [196378.44005969],\n",
       "       [314765.68796205],\n",
       "       [369171.08207428],\n",
       "       [193880.23318719],\n",
       "       [233851.54314719],\n",
       "       [137809.36782663],\n",
       "       [166122.3790483 ],\n",
       "       [219278.66972428],\n",
       "       [200958.48599261],\n",
       "       [179584.93830566],\n",
       "       [158905.33697219],\n",
       "       [241901.32084747],\n",
       "       [425380.73670553],\n",
       "       [215670.14868622],\n",
       "       [299360.07891497],\n",
       "       [167787.85029664],\n",
       "       [223442.34784511],\n",
       "       [353487.89448581],\n",
       "       [114770.34889136],\n",
       "       [215531.35941553],\n",
       "       [189438.97652497],\n",
       "       [206093.6890083 ],\n",
       "       [118101.29138802],\n",
       "       [168343.00737941],\n",
       "       [192769.91902164],\n",
       "       [243011.63501303],\n",
       "       [180972.83101261],\n",
       "       [186663.19111108],\n",
       "       [204705.79630136],\n",
       "       [191104.4477733 ]])"
      ]
     },
     "execution_count": 110,
     "metadata": {},
     "output_type": "execute_result"
    }
   ],
   "source": [
    "y_pred"
   ]
  },
  {
   "cell_type": "code",
   "execution_count": 107,
   "metadata": {},
   "outputs": [
    {
     "data": {
      "text/plain": [
       "[<matplotlib.lines.Line2D at 0x2110f1d6040>]"
      ]
     },
     "execution_count": 107,
     "metadata": {},
     "output_type": "execute_result"
    },
    {
     "data": {
      "image/png": "[encoded data removed]",
      "text/plain": [
       "<Figure size 432x288 with 1 Axes>"
      ]
     },
     "metadata": {
      "needs_background": "light"
     },
     "output_type": "display_data"
    }
   ],
   "source": [
    "plt.scatter(X_test, y_test)\n",
    "plt.plot(X_test, y_pred, c='r')"
   ]
  },
  {
   "cell_type": "markdown",
   "metadata": {
    "colab_type": "text",
    "id": "drP_xuAKXd4C"
   },
   "source": [
    "##### 2.7 Define X, Y\n",
    "\n",
    "- X = Predictor Variable \n",
    "- Y = Target Variable"
   ]
  },
  {
   "cell_type": "code",
   "execution_count": 53,
   "metadata": {
    "colab": {},
    "colab_type": "code",
    "id": "yPWPQp3VXd4D"
   },
   "outputs": [],
   "source": [
    "# ANSWER\n",
    "X = house2['sq__ft']\n",
    "Y = house2['price']"
   ]
  },
  {
   "cell_type": "markdown",
   "metadata": {
    "colab_type": "text",
    "id": "JkV3m-EqXd4F"
   },
   "source": [
    "##### 2.7.A Calculate beta_1\n",
    "\n",
    " ### $$ \\beta_1 = \\frac{\\sum_{i=1}^n (y_i - \\bar{y} ) (x_i - \\bar{x} )}{\\sum_{i=1}^n (x_i - \\bar{x})^2} $$"
   ]
  },
  {
   "cell_type": "code",
   "execution_count": 85,
   "metadata": {},
   "outputs": [
    {
     "data": {
      "text/plain": [
       "62151.29631356065"
      ]
     },
     "execution_count": 85,
     "metadata": {},
     "output_type": "execute_result"
    }
   ],
   "source": [
    "# Beta1 = slope\n",
    "def calculate_beta_1(X, Y):\n",
    "    Xbar = X.mean()\n",
    "    Ybar = Y.mean()\n",
    "    \n",
    "    n = np.sum((Y - Ybar) * (X - Xbar)) \n",
    "    d = np.sum(np.square(X - Xbar)) \n",
    "    \n",
    "    beta_1 = n/d\n",
    "    \n",
    "    return beta_1\n",
    "\n",
    "beta_1 = calculate_beta_1(X, Y)\n",
    "beta_1"
   ]
  },
  {
   "cell_type": "markdown",
   "metadata": {
    "colab_type": "text",
    "id": "MoA9ez44Xd4I"
   },
   "source": [
    "##### 2.7.B Calculate beta_0"
   ]
  },
  {
   "cell_type": "markdown",
   "metadata": {
    "colab_type": "text",
    "id": "V7fug5lMXd4K"
   },
   "source": [
    "### $$ \\beta_0 = \\bar{y} - \\beta_1\\bar{x} $$"
   ]
  },
  {
   "cell_type": "code",
   "execution_count": 86,
   "metadata": {},
   "outputs": [],
   "source": [
    "# ANSWER Beta 0 = intercept\n",
    "def calculate_beta_0(X, Y):\n",
    "    \n",
    "    x_bar = X.mean()\n",
    "    y_bar = Y.mean()\n",
    "    \n",
    "    beta_0 = y_bar - calculate_beta_1(X, Y) * x_bar\n",
    "    \n",
    "    return beta_0"
   ]
  },
  {
   "cell_type": "code",
   "execution_count": 87,
   "metadata": {},
   "outputs": [
    {
     "data": {
      "text/plain": [
       "27800.245007231366"
      ]
     },
     "execution_count": 87,
     "metadata": {},
     "output_type": "execute_result"
    }
   ],
   "source": [
    "beta_0 = calculate_beta_0(X, Y)\n",
    "beta_0"
   ]
  },
  {
   "cell_type": "markdown",
   "metadata": {
    "colab_type": "text",
    "id": "Z9EUGv1KXd4N"
   },
   "source": [
    "##### 2.7.C Find Yhat (Predicted Value Using Beta 0 and Beta 1)"
   ]
  },
  {
   "cell_type": "markdown",
   "metadata": {
    "colab_type": "text",
    "id": "gSRcDL57Xd4O"
   },
   "source": [
    "### $$\\hat{y} = \\beta_0 + \\beta_1 x$$"
   ]
  },
  {
   "cell_type": "code",
   "execution_count": 89,
   "metadata": {
    "colab": {},
    "colab_type": "code",
    "id": "lGkoNedwXd4P"
   },
   "outputs": [],
   "source": [
    "# ANSWER: yhat = predicted value\n",
    "def calculate_yhat(X, beta_0, beta_1):\n",
    "    return beta_0 + beta_1 * X"
   ]
  },
  {
   "cell_type": "code",
   "execution_count": 90,
   "metadata": {},
   "outputs": [
    {
     "data": {
      "text/plain": [
       "0      152102.837634\n",
       "1      214254.133948\n",
       "2      152102.837634\n",
       "3      152102.837634\n",
       "4      152102.837634\n",
       "           ...      \n",
       "980    276405.430261\n",
       "981    214254.133948\n",
       "982    214254.133948\n",
       "983    276405.430261\n",
       "984    214254.133948\n",
       "Name: beds, Length: 814, dtype: float64"
      ]
     },
     "execution_count": 90,
     "metadata": {},
     "output_type": "execute_result"
    }
   ],
   "source": [
    "yhat = calculate_yhat(X, beta_0, beta_1)\n",
    "yhat"
   ]
  },
  {
   "cell_type": "code",
   "execution_count": 91,
   "metadata": {},
   "outputs": [],
   "source": [
    "# For house 500 sq__ft\n",
    "new_house = 500"
   ]
  },
  {
   "cell_type": "code",
   "execution_count": 92,
   "metadata": {},
   "outputs": [
    {
     "data": {
      "text/plain": [
       "31103448.401787557"
      ]
     },
     "execution_count": 92,
     "metadata": {},
     "output_type": "execute_result"
    }
   ],
   "source": [
    "calculate_yhat(500, beta_0, beta_1)"
   ]
  },
  {
   "cell_type": "markdown",
   "metadata": {
    "colab_type": "text",
    "id": "h1D-rddfXd4R"
   },
   "source": [
    "##### 2.7.D Find Residuals"
   ]
  },
  {
   "cell_type": "markdown",
   "metadata": {
    "colab_type": "text",
    "id": "2cha8XAQXd4S"
   },
   "source": [
    "### $$ \\text{residual}_i = y_i - \\hat{y}_i$$"
   ]
  },
  {
   "cell_type": "code",
   "execution_count": 93,
   "metadata": {
    "colab": {},
    "colab_type": "code",
    "id": "dLZgRjbGXd4S"
   },
   "outputs": [],
   "source": [
    "# ANSWER\n",
    "def calculate_residuals(y, yhat):\n",
    "    res = y - yhat\n",
    "    return res"
   ]
  },
  {
   "cell_type": "code",
   "execution_count": 44,
   "metadata": {},
   "outputs": [
    {
     "data": {
      "text/plain": [
       "0      148984.784187\n",
       "1      157921.293924\n",
       "2      137160.438599\n",
       "3      139766.322422\n",
       "4      124194.597239\n",
       "           ...      \n",
       "980     53986.859897\n",
       "981      8922.472227\n",
       "982      6212.932732\n",
       "983     18886.469282\n",
       "984       956.228663\n",
       "Length: 985, dtype: float64"
      ]
     },
     "execution_count": 44,
     "metadata": {},
     "output_type": "execute_result"
    }
   ],
   "source": [
    "res = calculate_residuals(y, yhat)\n",
    "abs(res)"
   ]
  },
  {
   "cell_type": "code",
   "execution_count": 94,
   "metadata": {},
   "outputs": [
    {
     "data": {
      "image/png": "[encoded data removed]",
      "text/plain": [
       "<Figure size 1080x504 with 1 Axes>"
      ]
     },
     "metadata": {
      "needs_background": "light"
     },
     "output_type": "display_data"
    }
   ],
   "source": [
    "draw_plot(X,Y,yhat)"
   ]
  },
  {
   "cell_type": "markdown",
   "metadata": {
    "colab_type": "text",
    "id": "bpXEda_uXd4U"
   },
   "source": [
    "##### 2.7.E Find R-Square\n",
    "\n",
    "The coefficient $R^2$ is defined as $$ R^2 = 1 - \\frac{SS_{res}}{SS_{tot}} $$, where $$ SS_{res} $$ is the residual sum of squares $$ SS_{res} = \\sum_{i=1}^n \\left(y_i - \\hat{y}_i\\right)^2 $$ and $$ SS_{res} $$ is the total sum of squares $$ SS_{tot} = \\sum_{i=1}^n \\left(y_i - \\bar{y}\\right)^2 $$\n",
    "\n",
    "The best possible score is 1.0 and it can be negative (because the model can be arbitrarily worse).\n",
    "\n",
    "**Write a function to calculate R- Square value.**"
   ]
  },
  {
   "cell_type": "markdown",
   "metadata": {
    "colab_type": "text",
    "id": "1RamI9LTXd4V"
   },
   "source": [
    "The total sum of squares:\n",
    "\n",
    "### $$ SS_{tot} = \\sum_{i=1}^n \\left(y_i - \\bar{y}\\right)^2 $$\n",
    "\n",
    "The residual sum of squares:\n",
    "\n",
    "### $$ SS_{res} = \\sum_{i=1}^n \\left(y_i - \\hat{y}_i\\right)^2 $$\n",
    "\n",
    "$R^2$:\n",
    "\n",
    "### $$ R^2 = 1 - \\frac{SS_{res}}{SS_{tot}} $$"
   ]
  },
  {
   "cell_type": "code",
   "execution_count": 95,
   "metadata": {
    "colab": {},
    "colab_type": "code",
    "id": "vmxloC2RXd4W"
   },
   "outputs": [],
   "source": [
    "# ANSWER: the total sum of squares formula SStot\n",
    "def calculate_total_sum_of_square(Y):\n",
    "    ybar = np.mean(Y)\n",
    "    SStot = np.square(Y - ybar)\n",
    "    SStot = np.sum(SStot)\n",
    "    return SStot"
   ]
  },
  {
   "cell_type": "code",
   "execution_count": 96,
   "metadata": {},
   "outputs": [],
   "source": [
    "# the residual sum of squares formula\n",
    "def calculate_residuals_sum_of_square(Y, yhat):\n",
    "    SSres = np.square(Y - yhat)\n",
    "    SSres = np.sum(SSres)\n",
    "    return SSres"
   ]
  },
  {
   "cell_type": "code",
   "execution_count": 97,
   "metadata": {},
   "outputs": [],
   "source": [
    "# formula R2\n",
    "def calculate_r_square(Y,yhat):\n",
    "    SStot = calculate_total_sum_of_square(Y)\n",
    "    SSres = calculate_residuals_sum_of_square(Y, yhat)\n",
    "    Rsquare = 1 - (SSres/SStot)\n",
    "    return Rsquare"
   ]
  },
  {
   "cell_type": "code",
   "execution_count": 98,
   "metadata": {},
   "outputs": [
    {
     "data": {
      "text/plain": [
       "0.0"
      ]
     },
     "execution_count": 98,
     "metadata": {},
     "output_type": "execute_result"
    }
   ],
   "source": [
    "calculate_r_square(Y, np.mean(Y))"
   ]
  },
  {
   "cell_type": "code",
   "execution_count": 99,
   "metadata": {},
   "outputs": [
    {
     "data": {
      "text/plain": [
       "0.19535316145505388"
      ]
     },
     "execution_count": 99,
     "metadata": {},
     "output_type": "execute_result"
    }
   ],
   "source": [
    "calculate_r_square(Y, calculate_yhat(X, beta_0, beta_1))"
   ]
  },
  {
   "cell_type": "markdown",
   "metadata": {
    "colab_type": "text",
    "id": "7xV-CEKcXd4a"
   },
   "source": [
    "##### 2.7.F [BONUS] Draw Plot of Predicted Line"
   ]
  },
  {
   "cell_type": "code",
   "execution_count": 100,
   "metadata": {
    "colab": {},
    "colab_type": "code",
    "id": "P4JKmHWSXd4a"
   },
   "outputs": [],
   "source": [
    "# ANSWER"
   ]
  },
  {
   "cell_type": "code",
   "execution_count": 101,
   "metadata": {},
   "outputs": [
    {
     "data": {
      "image/png": "[encoded data removed]",
      "text/plain": [
       "<Figure size 1080x504 with 1 Axes>"
      ]
     },
     "metadata": {
      "needs_background": "light"
     },
     "output_type": "display_data"
    }
   ],
   "source": [
    "draw_plot(X, Y, yhat)"
   ]
  },
  {
   "cell_type": "markdown",
   "metadata": {
    "colab_type": "text",
    "id": "oE45Z1qaXd4f"
   },
   "source": [
    "##### 2.7.G [BONUS] Draw Plot of Predicted Line With Residuals"
   ]
  },
  {
   "cell_type": "markdown",
   "metadata": {
    "colab_type": "text",
    "id": "NTjW6xxFXd4i"
   },
   "source": [
    "### 3. Predict House Price\n",
    "\n",
    "Let's assume we have information of following house:\n",
    "\n",
    "- street:\t1140 EDMONTON DR\n",
    "- city:\tSACRAMENTO\n",
    "- zip:\t95833\n",
    "- state:\tCA\n",
    "- beds:\t3\n",
    "- baths:\t2\n",
    "- sq__ft:\t1204\n",
    "- type:\tResidential\n",
    "\n",
    "**Predict the price of this house.**"
   ]
  },
  {
   "cell_type": "code",
   "execution_count": 102,
   "metadata": {
    "colab": {},
    "colab_type": "code",
    "id": "mz5Lx5jGXd4j"
   },
   "outputs": [
    {
     "data": {
      "text/plain": [
       "1204"
      ]
     },
     "execution_count": 102,
     "metadata": {},
     "output_type": "execute_result"
    }
   ],
   "source": [
    "# ANSWER\n",
    "X_pred = 1204\n",
    "X_pred"
   ]
  },
  {
   "cell_type": "code",
   "execution_count": 103,
   "metadata": {},
   "outputs": [
    {
     "data": {
      "text/plain": [
       "27800.245007231366"
      ]
     },
     "execution_count": 103,
     "metadata": {},
     "output_type": "execute_result"
    }
   ],
   "source": [
    "beta_0"
   ]
  },
  {
   "cell_type": "code",
   "execution_count": 104,
   "metadata": {},
   "outputs": [
    {
     "data": {
      "text/plain": [
       "62151.29631356065"
      ]
     },
     "execution_count": 104,
     "metadata": {},
     "output_type": "execute_result"
    }
   ],
   "source": [
    "beta_1"
   ]
  },
  {
   "cell_type": "code",
   "execution_count": 105,
   "metadata": {},
   "outputs": [
    {
     "data": {
      "text/plain": [
       "74857961.00653425"
      ]
     },
     "execution_count": 105,
     "metadata": {},
     "output_type": "execute_result"
    }
   ],
   "source": [
    "Ypred = beta_1 * X_pred + beta_0\n",
    "Ypred"
   ]
  },
  {
   "cell_type": "code",
   "execution_count": 106,
   "metadata": {},
   "outputs": [],
   "source": [
    "# 3 bedrooms, 2 baths, 1201 sq__ft\n",
    "\n",
    "yhat = beta_0 + beta_1 * 3 + beta_1 * 2 * 1204"
   ]
  },
  {
   "cell_type": "markdown",
   "metadata": {
    "colab_type": "text",
    "id": "W0FUjKlcl-NJ"
   },
   "source": [
    "\n",
    "\n",
    "---\n",
    "\n",
    "\n",
    "\n",
    "---\n",
    "\n",
    "\n",
    "\n",
    "> > > > > > > > > © 2019 Institute of Data\n",
    "\n",
    "\n",
    "---\n",
    "\n",
    "\n",
    "\n",
    "---\n",
    "\n",
    "\n",
    "\n"
   ]
  }
 ],
 "metadata": {
  "colab": {
   "collapsed_sections": [],
   "name": "IOD_Lab 4.1.1.ipynb",
   "provenance": []
  },
  "kernelspec": {
   "display_name": "Python 3",
   "language": "python",
   "name": "python3"
  },
  "language_info": {
   "codemirror_mode": {
    "name": "ipython",
    "version": 3
   },
   "file_extension": ".py",
   "mimetype": "text/x-python",
   "name": "python",
   "nbconvert_exporter": "python",
   "pygments_lexer": "ipython3",
   "version": "3.8.5"
  }
 },
 "nbformat": 4,
 "nbformat_minor": 1
}
