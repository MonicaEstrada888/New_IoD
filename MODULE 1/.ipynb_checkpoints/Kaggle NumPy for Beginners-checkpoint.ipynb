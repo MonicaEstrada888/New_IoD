{
 "cells": [
  {
   "cell_type": "markdown",
   "metadata": {},
   "source": [
    "# 0. Introduction"
   ]
  },
  {
   "cell_type": "code",
   "execution_count": null,
   "metadata": {},
   "outputs": [],
   "source": [
    "# NumPy for Beginners presents basic knowledge and coding used in NumPy package for scientific computing. It shows how to create and print arrays; how to generate and print data structures based on existing arrays; how to access and print the data in the NumPy array using index; and some examples of mathemnatical functions in NumPy and how to return them.\n"
   ]
  },
  {
   "cell_type": "code",
   "execution_count": 2,
   "metadata": {},
   "outputs": [],
   "source": [
    "#Import packages for linear algebra and data processing\n",
    "import numpy as np \n",
    "import pandas as pd"
   ]
  },
  {
   "cell_type": "markdown",
   "metadata": {},
   "source": [
    "## 1. ndarray"
   ]
  },
  {
   "cell_type": "code",
   "execution_count": 4,
   "metadata": {},
   "outputs": [
    {
     "name": "stdout",
     "output_type": "stream",
     "text": [
      "a=\n",
      "[1 2 3]\n",
      "a' s ndim 1\n",
      "a's shape (3,)\n",
      "a's size 3\n",
      "a's dtype int32\n",
      "a's itemsize 4\n"
     ]
    }
   ],
   "source": [
    "#Creating arrays with different ranks numbers and lenghts\n",
    "a = np.array([1,2,3])\n",
    "b = np.array([(1,2,3,4), (5,6,7,8)])\n",
    "print('a=')\n",
    "print(a)\n",
    "\n",
    "#format to print a variable in the form of a function in the format\n",
    "print(\"a' s ndim {}\".format(a.ndim)) \n",
    "\n",
    "# f strings\n",
    "print(\"a's shape {}\".format(a.shape)) \n",
    "print(\"a's size {}\".format(a.size))\n",
    "print(\"a's dtype {}\".format(a.dtype))\n",
    "print(\"a's itemsize {}\".format(a.itemsize))\n"
   ]
  },
  {
   "cell_type": "code",
   "execution_count": 8,
   "metadata": {},
   "outputs": [
    {
     "name": "stdout",
     "output_type": "stream",
     "text": [
      "first name Monica, last name Estrada\n",
      "first name Monica, last name Estrada\n"
     ]
    }
   ],
   "source": [
    "#Creating arrays with strings\n",
    "a = 'Monica'\n",
    "b = 'Estrada'\n",
    "\n",
    "print('first name {}, last name {}'. format (a,b))\n",
    "\n",
    "print(F'first name {a}, last name {b}')"
   ]
  },
  {
   "cell_type": "code",
   "execution_count": 16,
   "metadata": {},
   "outputs": [
    {
     "name": "stdout",
     "output_type": "stream",
     "text": [
      "b=\n",
      "[[1 2 3]\n",
      " [4 5 6]]\n",
      "b' s ndim 2\n",
      "b's shape (2, 3)\n",
      "b's size 6\n",
      "b's dtype int32\n",
      "b's itemsize 4\n"
     ]
    }
   ],
   "source": [
    "#To get different information from the array such as dimension, shape, size, type and item size\n",
    "print('b=')\n",
    "print(b)\n",
    "print(\"b' s ndim {}\".format(b.ndim))\n",
    "print(\"b's shape {}\".format(b.shape))\n",
    "print(\"b's size {}\".format(b.size))\n",
    "print(\"b's dtype {}\".format(b.dtype))\n",
    "print(\"b's itemsize {}\".format(b.itemsize))"
   ]
  },
  {
   "cell_type": "markdown",
   "metadata": {},
   "source": [
    "# 2. Create a specific array"
   ]
  },
  {
   "cell_type": "code",
   "execution_count": 5,
   "metadata": {
    "scrolled": true
   },
   "outputs": [
    {
     "name": "stdout",
     "output_type": "stream",
     "text": [
      "np.zeros((2,3)=\n",
      "[[0. 0. 0.]\n",
      " [0. 0. 0.]]\n",
      "\n",
      "np.ones((2,3)=\n",
      "[[1. 1. 1.]\n",
      " [1. 1. 1.]]\n",
      "\n",
      "np.empty((2,3)=\n",
      "[[1. 1. 1.]\n",
      " [1. 1. 1.]]\n",
      "\n",
      "np.arange(1, 2, 0.3)=\n",
      "[1.  1.3 1.6 1.9]\n",
      "\n",
      "np.linspace(1,2,7)==\n",
      "[1.         1.16666667 1.33333333 1.5        1.66666667 1.83333333\n",
      " 2.        ]\n",
      "\n",
      "np.random.random((2,3))=\n",
      "[[0.57133923 0.08789632 0.0851033 ]\n",
      " [0.85290125 0.74243002 0.84400771]]\n",
      "\n"
     ]
    }
   ],
   "source": [
    "#Creating specific arrays\n",
    "a = np.zeros((2,3))\n",
    "print('np.zeros((2,3)=\\n{}\\n'.format(a))\n",
    "\n",
    "b= np.ones((2,3))\n",
    "print('np.ones((2,3)=\\n{}\\n'.format(b))\n",
    "\n",
    "# takes the latest function\n",
    "c= np.empty ((2,3))\n",
    "print('np.empty((2,3)=\\n{}\\n'.format(c)) \n",
    "\n",
    "d= np.arange(1, 2, 0.3)\n",
    "print('np.arange(1, 2, 0.3)=\\n{}\\n'.format(d))\n",
    "\n",
    "e= np.linspace(1, 2, 7)\n",
    "print('np.linspace(1,2,7)==\\n{}\\n'. format(e))\n",
    "\n",
    "# brackets to recognise tuples. Shift+Tab to see documentation\n",
    "f= np.random.random((2,3)) \n",
    "print('np.random.random((2,3))=\\n{}\\n'.format(f))"
   ]
  },
  {
   "cell_type": "markdown",
   "metadata": {},
   "source": [
    "# 3. Shape and operation"
   ]
  },
  {
   "cell_type": "code",
   "execution_count": 23,
   "metadata": {},
   "outputs": [
    {
     "name": "stdout",
     "output_type": "stream",
     "text": [
      "zero_line = =\n",
      "[[0. 0. 0.]]\n",
      "\n",
      "one_column = =\n",
      "[[1.]\n",
      " [1.]\n",
      " [1.]]\n",
      "\n",
      "a =\n",
      "[[1 2 3]\n",
      " [4 5 6]]\n",
      "\n",
      "b=\n",
      "[11 12 13 14 15 16 17 18 19]\n",
      "\n"
     ]
    }
   ],
   "source": [
    "zero_line = np.zeros((1,3))\n",
    "one_column = np.ones((3,1))\n",
    "print(\"zero_line = =\\n{}\\n\". format(zero_line))\n",
    "print(\"one_column = =\\n{}\\n\". format(one_column))\n",
    "\n",
    "a = np.array([(1,2,3), (4,5,6)])\n",
    "b= np.arange(11, 20)\n",
    "print(\"a =\\n{}\\n\". format(a))\n",
    "print(\"b=\\n{}\\n\". format(b))\n"
   ]
  },
  {
   "cell_type": "code",
   "execution_count": 24,
   "metadata": {},
   "outputs": [
    {
     "name": "stdout",
     "output_type": "stream",
     "text": [
      "b.reshape(3, -1)=\n",
      "[[11 12 13]\n",
      " [14 15 16]\n",
      " [17 18 19]]\n",
      "\n"
     ]
    }
   ],
   "source": [
    "#one image is imported and then reshaped\n",
    "b = b.reshape(3, -1)\n",
    "print(\"b.reshape(3, -1)=\\n{}\\n\". format (b))"
   ]
  },
  {
   "cell_type": "code",
   "execution_count": 25,
   "metadata": {},
   "outputs": [
    {
     "data": {
      "text/plain": [
       "array([[11, 12, 13],\n",
       "       [14, 15, 16],\n",
       "       [17, 18, 19]])"
      ]
     },
     "execution_count": 25,
     "metadata": {},
     "output_type": "execute_result"
    }
   ],
   "source": [
    "b.reshape(3, -1) #uniform distributions, -1 to tell to split everthing evenly. The new shape should be compatible with the original shape. If an integer, then the result will be a 1-D array of that length. One shape dimension can be -1. In this case, the value is inferred from the length of the array and remaining dimensions.\n",
    "from google\n"
   ]
  },
  {
   "cell_type": "code",
   "execution_count": 27,
   "metadata": {},
   "outputs": [
    {
     "name": "stdout",
     "output_type": "stream",
     "text": [
      "c = np.vstack((a,b, zero_line))=\n",
      "[[ 1.  2.  3.]\n",
      " [ 4.  5.  6.]\n",
      " [11. 12. 13.]\n",
      " [14. 15. 16.]\n",
      " [17. 18. 19.]\n",
      " [ 0.  0.  0.]]\n",
      "\n"
     ]
    }
   ],
   "source": [
    "c = np.vstack((a,b, zero_line))\n",
    "print(\"c = np.vstack((a,b, zero_line))=\\n{}\\n\". format(c))"
   ]
  },
  {
   "cell_type": "code",
   "execution_count": 28,
   "metadata": {},
   "outputs": [
    {
     "name": "stdout",
     "output_type": "stream",
     "text": [
      "a.reshape(3,2)=\n",
      "[[1 2]\n",
      " [3 4]\n",
      " [5 6]]\n",
      "\n",
      "d = np.hstack((a,b, one_column))=\n",
      "[[ 1.  2. 11. 12. 13.  1.]\n",
      " [ 3.  4. 14. 15. 16.  1.]\n",
      " [ 5.  6. 17. 18. 19.  1.]]\n",
      "\n"
     ]
    }
   ],
   "source": [
    "a = a.reshape(3,2)\n",
    "print(\"a.reshape(3,2)=\\n{}\\n\". format(a))\n",
    "\n",
    "d = np.hstack((a, b, one_column))\n",
    "print(\"d = np.hstack((a,b, one_column))=\\n{}\\n\". format(d))"
   ]
  },
  {
   "cell_type": "code",
   "execution_count": 29,
   "metadata": {},
   "outputs": [
    {
     "name": "stdout",
     "output_type": "stream",
     "text": [
      "e = np.hsplit(d, 3)=\n",
      "[array([[1., 2.],\n",
      "       [3., 4.],\n",
      "       [5., 6.]]), array([[11., 12.],\n",
      "       [14., 15.],\n",
      "       [17., 18.]]), array([[13.,  1.],\n",
      "       [16.,  1.],\n",
      "       [19.,  1.]])]\n",
      "\n",
      "e[1]=\n",
      "[[11. 12.]\n",
      " [14. 15.]\n",
      " [17. 18.]]\n",
      "\n"
     ]
    }
   ],
   "source": [
    "e = np.hsplit(d, 3) #Split a into 3\n",
    "print(\"e = np.hsplit(d, 3)=\\n{}\\n\". format(e))\n",
    "print(\"e[1]=\\n{}\\n\". format(e[1]))"
   ]
  },
  {
   "cell_type": "code",
   "execution_count": 30,
   "metadata": {},
   "outputs": [
    {
     "name": "stdout",
     "output_type": "stream",
     "text": [
      "f = np.hsplit(d, (1,3))=\n",
      "[array([[1.],\n",
      "       [3.],\n",
      "       [5.]]), array([[ 2., 11.],\n",
      "       [ 4., 14.],\n",
      "       [ 6., 17.]]), array([[12., 13.,  1.],\n",
      "       [15., 16.,  1.],\n",
      "       [18., 19.,  1.]])]\n",
      "\n"
     ]
    }
   ],
   "source": [
    "f = np.hsplit(d, (1, 3)) ## Split a after the 1st and the 3rd column\n",
    "print(\"f = np.hsplit(d, (1,3))=\\n{}\\n\". format(f))"
   ]
  },
  {
   "cell_type": "code",
   "execution_count": 31,
   "metadata": {},
   "outputs": [
    {
     "name": "stdout",
     "output_type": "stream",
     "text": [
      "np.hsplit(d, 2)=\n",
      "[array([[ 1.,  2., 11., 12., 13.,  1.]]), array([[ 3.,  4., 14., 15., 16.,  1.]]), array([[ 5.,  6., 17., 18., 19.,  1.]])]\n",
      "\n"
     ]
    }
   ],
   "source": [
    "g = np.vsplit(d, 3)\n",
    "print(\"np.hsplit(d, 2)=\\n{}\\n\". format(g))"
   ]
  },
  {
   "cell_type": "markdown",
   "metadata": {},
   "source": [
    "# 4. Index"
   ]
  },
  {
   "cell_type": "code",
   "execution_count": 17,
   "metadata": {},
   "outputs": [
    {
     "name": "stdout",
     "output_type": "stream",
     "text": [
      "base_data\n",
      "=[100 101 102 103 104 105 106 107 108 109 110 111 112 113 114 115 116 117\n",
      " 118 119 120 121 122 123 124 125 126 127 128 129 130 131 132 133 134 135\n",
      " 136 137 138 139 140 141 142 143 144 145 146 147 148 149 150 151 152 153\n",
      " 154 155 156 157 158 159 160 161 162 163 164 165 166 167 168 169 170 171\n",
      " 172 173 174 175 176 177 178 179 180 181 182 183 184 185 186 187 188 189\n",
      " 190 191 192 193 194 195 196 197 198 199]\n",
      "\n",
      "base_data[10] = 110\n",
      "\n"
     ]
    }
   ],
   "source": [
    "base_data = np.arange(100, 200)\n",
    "print(\"base_data\\n={}\\n\" . format(base_data))\n",
    "\n",
    "print(\"base_data[10] = {}\\n\" .format(base_data[10]))"
   ]
  },
  {
   "cell_type": "code",
   "execution_count": 19,
   "metadata": {},
   "outputs": [
    {
     "name": "stdout",
     "output_type": "stream",
     "text": [
      "base_data[every_five] = \n",
      "[100 105 110 115 120 125 130 135 140 145 150 155 160 165 170 175 180 185\n",
      " 190 195]\n",
      "\n"
     ]
    }
   ],
   "source": [
    "every_five = np.arange(0, 100, 5)\n",
    "print(\"base_data[every_five] = \\n{}\\n\" . format(base_data[every_five]))"
   ]
  },
  {
   "cell_type": "code",
   "execution_count": 20,
   "metadata": {},
   "outputs": [
    {
     "name": "stdout",
     "output_type": "stream",
     "text": [
      "a = \n",
      "[[ 1  2]\n",
      " [10 20]]\n",
      "\n",
      "base_data[a] = \n",
      "[[101 102]\n",
      " [110 120]]\n",
      "\n"
     ]
    }
   ],
   "source": [
    "a = np.array([(1, 2), (10, 20)])\n",
    "print(\"a = \\n{}\\n\" .format(a))\n",
    "print(\"base_data[a] = \\n{}\\n\" .format(base_data[a]))"
   ]
  },
  {
   "cell_type": "code",
   "execution_count": 21,
   "metadata": {},
   "outputs": [
    {
     "name": "stdout",
     "output_type": "stream",
     "text": [
      "base_data2 = np.reshape(base_data, (10, -1)) = \n",
      "[[100 101 102 103 104 105 106 107 108 109]\n",
      " [110 111 112 113 114 115 116 117 118 119]\n",
      " [120 121 122 123 124 125 126 127 128 129]\n",
      " [130 131 132 133 134 135 136 137 138 139]\n",
      " [140 141 142 143 144 145 146 147 148 149]\n",
      " [150 151 152 153 154 155 156 157 158 159]\n",
      " [160 161 162 163 164 165 166 167 168 169]\n",
      " [170 171 172 173 174 175 176 177 178 179]\n",
      " [180 181 182 183 184 185 186 187 188 189]\n",
      " [190 191 192 193 194 195 196 197 198 199]]\n",
      "\n"
     ]
    }
   ],
   "source": [
    "base_data2 = base_data.reshape(10, -1)\n",
    "print(\"base_data2 = np.reshape(base_data, (10, -1)) = \\n{}\\n\" . format(base_data2)) #location to find the last number -1 from the right hand size"
   ]
  },
  {
   "cell_type": "code",
   "execution_count": 22,
   "metadata": {},
   "outputs": [
    {
     "name": "stdout",
     "output_type": "stream",
     "text": [
      "base_data2[2] = \n",
      "[120 121 122 123 124 125 126 127 128 129]\n",
      "\n",
      "base_data2[2, 3] = \n",
      "123\n",
      "\n",
      "base_data2[-1, -1] = \n",
      "199\n",
      "\n"
     ]
    }
   ],
   "source": [
    "print(\"base_data2[2] = \\n{}\\n\" .format(base_data2[2]))\n",
    "print(\"base_data2[2, 3] = \\n{}\\n\" .format(base_data2[2, 3]))\n",
    "print(\"base_data2[-1, -1] = \\n{}\\n\" .format(base_data2[-1, -1]))"
   ]
  },
  {
   "cell_type": "code",
   "execution_count": 25,
   "metadata": {},
   "outputs": [
    {
     "name": "stdout",
     "output_type": "stream",
     "text": [
      "base_data2[2, :]] = \n",
      "[120 121 122 123 124 125 126 127 128 129]\n",
      "\n",
      "base_data2[:, 3]] = \n",
      "[103 113 123 133 143 153 163 173 183 193]\n",
      "\n",
      "base_data2[2:5, 2:4]] = \n",
      "[[122 123]\n",
      " [132 133]\n",
      " [142 143]]\n",
      "\n"
     ]
    }
   ],
   "source": [
    "print(\"base_data2[2, :]] = \\n{}\\n\" .format(base_data2[2, :]))\n",
    "print(\"base_data2[:, 3]] = \\n{}\\n\" .format(base_data2[:, 3]))\n",
    "print(\"base_data2[2:5, 2:4]] = \\n{}\\n\" .format(base_data2[2:5, 2:4]))"
   ]
  },
  {
   "cell_type": "markdown",
   "metadata": {},
   "source": [
    "# 5. Mathematics"
   ]
  },
  {
   "cell_type": "code",
   "execution_count": 26,
   "metadata": {},
   "outputs": [
    {
     "name": "stdout",
     "output_type": "stream",
     "text": [
      "base_data = \n",
      "[[  2.86230384 -36.44600837  43.70555592  45.21298849  21.72529469]\n",
      " [-36.303505    41.19404217  33.85263916  30.92445044 -45.6004518 ]\n",
      " [-31.26332218 -21.22004971 -18.39631128  36.5066396   25.9879469 ]\n",
      " [-20.95698592   4.33584927  32.27974532 -40.17909507  16.62760456]\n",
      " [ 11.46056599 -43.75211741  12.92387697  -8.8331133   -4.18825898]]\n",
      "\n",
      "np.amin(base_data) = -45.60045179525822\n",
      "np.amax(base_data) = 45.21298848840017\n",
      "np.average(base_data) = 2.098411372123001\n",
      "np.sum(base_data) = 52.46028430307502\n",
      "np.sin(base_data) = \n",
      "[[ 0.27567209  0.94995864 -0.27322233  0.94271965  0.26273325]\n",
      " [ 0.98469353 -0.34603122  0.64794245 -0.47192778 -0.9988788 ]\n",
      " [ 0.15201273 -0.69692371  0.43788487 -0.92928496  0.75470587]\n",
      " [-0.85943457 -0.92994257  0.76032855 -0.61438749 -0.79538426]\n",
      " [-0.89382529  0.22815253  0.34993934 -0.55774348  0.86575967]]\n"
     ]
    }
   ],
   "source": [
    "base_data = (np.random.random((5, 5)) - 0.5) * 100\n",
    "print(\"base_data = \\n{}\\n\" .format(base_data))\n",
    "\n",
    "print(\"np.amin(base_data) = {}\" .format(np.amin(base_data)))\n",
    "print(\"np.amax(base_data) = {}\" .format(np.amax(base_data)))\n",
    "print(\"np.average(base_data) = {}\" .format(np.average(base_data)))\n",
    "print(\"np.sum(base_data) = {}\" .format(np.sum(base_data)))\n",
    "print(\"np.sin(base_data) = \\n{}\" . format(np.sin(base_data)))"
   ]
  },
  {
   "cell_type": "code",
   "execution_count": 27,
   "metadata": {},
   "outputs": [
    {
     "name": "stdout",
     "output_type": "stream",
     "text": [
      "Multiplies:  [  1   4   9  16  25  36  49  64  81 100 121 144 169 196 225 256 289 324\n",
      " 361]\n",
      "Substracts:  [0 0 0 0 0 0 0 0 0 0 0 0 0 0 0 0 0 0 0]\n",
      "Add:  [ 2  4  6  8 10 12 14 16 18 20 22 24 26 28 30 32 34 36 38]\n",
      "Divide:  [1. 1. 1. 1. 1. 1. 1. 1. 1. 1. 1. 1. 1. 1. 1. 1. 1. 1. 1.]\n",
      "Add +50:  [51 52 53 54 55 56 57 58 59 60 61 62 63 64 65 66 67 68 69]\n"
     ]
    }
   ],
   "source": [
    "arr = np.arange(1,20)\n",
    "arr = arr * arr       #Multiplies each element by itself\n",
    "print(\"Multiplies: \" ,arr)\n",
    "\n",
    "arr = arr - arr       #Substracts each element from itself\n",
    "print(\"Substracts: \" ,arr)\n",
    "\n",
    "arr = np.arange(1, 20)\n",
    "arr = arr + arr        #Adds each element to itself\n",
    "print(\"Add: \" ,arr)\n",
    "\n",
    "arr = arr / arr        #Divides each element by itself\n",
    "print(\"Divide: \" , arr)\n",
    "\n",
    "arr = np.arange(1,20)\n",
    "arr = arr + 50\n",
    "print(\"Add +50: \" ,arr)\n"
   ]
  },
  {
   "cell_type": "code",
   "execution_count": 28,
   "metadata": {},
   "outputs": [
    {
     "name": "stdout",
     "output_type": "stream",
     "text": [
      "Sqrt:  [7.14142843 7.21110255 7.28010989 7.34846923 7.41619849 7.48331477\n",
      " 7.54983444 7.61577311 7.68114575 7.74596669 7.81024968 7.87400787\n",
      " 7.93725393 8.         8.06225775 8.1240384  8.18535277 8.24621125\n",
      " 8.30662386]\n",
      "Exp:  [1.40934908e+22 3.83100800e+22 1.04137594e+23 2.83075330e+23\n",
      " 7.69478527e+23 2.09165950e+24 5.68572000e+24 1.54553894e+25\n",
      " 4.20121040e+25 1.14200739e+26 3.10429794e+26 8.43835667e+26\n",
      " 2.29378316e+27 6.23514908e+27 1.69488924e+28 4.60718663e+28\n",
      " 1.25236317e+29 3.40427605e+29 9.25378173e+29]\n",
      "Sin:  [ 0.67022918  0.98662759  0.39592515 -0.55878905 -0.99975517 -0.521551\n",
      "  0.43616476  0.99287265  0.63673801 -0.30481062 -0.96611777 -0.7391807\n",
      "  0.1673557   0.92002604  0.82682868 -0.02655115 -0.85551998 -0.89792768\n",
      " -0.11478481]\n",
      "Cos:  [ 0.7421542  -0.16299078 -0.91828279 -0.82930983  0.02212676  0.85322011\n",
      "  0.89986683  0.11918014 -0.77108022 -0.95241298 -0.25810164  0.67350716\n",
      "  0.98589658  0.39185723 -0.56245385 -0.99964746 -0.5177698   0.44014302\n",
      "  0.99339038]\n",
      "Log:  [3.93182563 3.95124372 3.97029191 3.98898405 4.00733319 4.02535169\n",
      " 4.04305127 4.06044301 4.07753744 4.09434456 4.11087386 4.12713439\n",
      " 4.14313473 4.15888308 4.17438727 4.18965474 4.20469262 4.21950771\n",
      " 4.2341065 ]\n",
      "Sum:  1140\n",
      "Std:  5.477225575051661\n"
     ]
    }
   ],
   "source": [
    "print(\"Sqrt: \" ,np.sqrt(arr))      #Returns the square root of each element\n",
    "print(\"Exp: \" ,np.exp(arr))        #Returns the exponentials of each element\n",
    "print(\"Sin: \" ,np.sin(arr))        #Returns the sin of each element\n",
    "print(\"Cos: \" ,np.cos(arr))        #Returns the cosine of each element\n",
    "print(\"Log: \" ,np.log(arr))        #Returns the logarithm of each element\n",
    "print(\"Sum: \" ,np.sum(arr))        #Returns the sum total of elements in the array\n",
    "print(\"Std: \" ,np.std(arr))        #Returns the standard deviation of in the array"
   ]
  },
  {
   "cell_type": "markdown",
   "metadata": {},
   "source": [
    "# 6. Matrix"
   ]
  },
  {
   "cell_type": "code",
   "execution_count": 30,
   "metadata": {},
   "outputs": [
    {
     "name": "stdout",
     "output_type": "stream",
     "text": [
      "base_data = \n",
      "[[ 34.  13. -32.  21. -30.]\n",
      " [ 14.  26. -32.  28. -43.]\n",
      " [ 29.  16.  -2.  27. -39.]\n",
      " [-31.  49. -40. -15. -41.]\n",
      " [  6.  -8.   4. -42. -21.]]\n",
      "\n",
      "base_data.T = \n",
      "[[ 34.  14.  29. -31.   6.]\n",
      " [ 13.  26.  16.  49.  -8.]\n",
      " [-32. -32.  -2. -40.   4.]\n",
      " [ 21.  28.  27. -15. -42.]\n",
      " [-30. -43. -39. -41. -21.]]\n",
      "\n",
      "base_data.transpose() = \n",
      "[[ 34.  14.  29. -31.   6.]\n",
      " [ 13.  26.  16.  49.  -8.]\n",
      " [-32. -32.  -2. -40.   4.]\n",
      " [ 21.  28.  27. -15. -42.]\n",
      " [-30. -43. -39. -41. -21.]]\n",
      "\n",
      "matrix_one = \n",
      "[[1. 1. 1. 1. 1.]\n",
      " [1. 1. 1. 1. 1.]\n",
      " [1. 1. 1. 1. 1.]\n",
      " [1. 1. 1. 1. 1.]\n",
      " [1. 1. 1. 1. 1.]]\n",
      "\n",
      "minus_one = \n",
      "[[-1. -1. -1. -1. -1.]\n",
      " [-1. -1. -1. -1. -1.]\n",
      " [-1. -1. -1. -1. -1.]\n",
      " [-1. -1. -1. -1. -1.]\n",
      " [-1. -1. -1. -1. -1.]]\n",
      "\n",
      "np.dot(base_data, minus_one) = \n",
      "[[ -6.  -6.  -6.  -6.  -6.]\n",
      " [  7.   7.   7.   7.   7.]\n",
      " [-31. -31. -31. -31. -31.]\n",
      " [ 78.  78.  78.  78.  78.]\n",
      " [ 61.  61.  61.  61.  61.]]\n",
      "\n"
     ]
    }
   ],
   "source": [
    "base_data = np.floor((np.random.random((5, 5)) - 0.5) * 100)\n",
    "print(\"base_data = \\n{}\\n\" .format(base_data))\n",
    "\n",
    "print(\"base_data.T = \\n{}\\n\" .format(base_data.transpose()))\n",
    "print(\"base_data.transpose() = \\n{}\\n\" .format(base_data.transpose()))\n",
    "\n",
    "matrix_one = np.ones((5, 5))\n",
    "print(\"matrix_one = \\n{}\\n\" .format(matrix_one))\n",
    "\n",
    "minus_one = np.dot(matrix_one, -1)\n",
    "print(\"minus_one = \\n{}\\n\" .format(minus_one))\n",
    "\n",
    "print(\"np.dot(base_data, minus_one) = \\n{}\\n\" .format(np.dot(base_data, minus_one))) #I think np.dot does matrix multiplication. check this out?? https://www.tutorialspoint.com/numpy/numpy_dot.htm\n"
   ]
  },
  {
   "cell_type": "code",
   "execution_count": 8,
   "metadata": {},
   "outputs": [
    {
     "data": {
      "text/plain": [
       "array([100, 101, 102, 103, 104, 105, 106, 107, 108, 109, 110, 111, 112,\n",
       "       113, 114, 115, 116, 117, 118, 119, 120, 121, 122, 123, 124, 125,\n",
       "       126, 127, 128, 129, 130, 131, 132, 133, 134, 135, 136, 137, 138,\n",
       "       139, 140, 141, 142, 143, 144, 145, 146, 147, 148, 149, 150, 151,\n",
       "       152, 153, 154, 155, 156, 157, 158, 159, 160, 161, 162, 163, 164,\n",
       "       165, 166, 167, 168, 169, 170, 171, 172, 173, 174, 175, 176, 177,\n",
       "       178, 179, 180, 181, 182, 183, 184, 185, 186, 187, 188, 189, 190,\n",
       "       191, 192, 193, 194, 195, 196, 197, 198, 199])"
      ]
     },
     "execution_count": 8,
     "metadata": {},
     "output_type": "execute_result"
    }
   ],
   "source": [
    "# products of a matrix, product\n",
    "base_data = np.arange(100, 200)\n",
    "base_data"
   ]
  },
  {
   "cell_type": "code",
   "execution_count": null,
   "metadata": {},
   "outputs": [],
   "source": []
  }
 ],
 "metadata": {
  "kernelspec": {
   "display_name": "Python 3",
   "language": "python",
   "name": "python3"
  },
  "language_info": {
   "codemirror_mode": {
    "name": "ipython",
    "version": 3
   },
   "file_extension": ".py",
   "mimetype": "text/x-python",
   "name": "python",
   "nbconvert_exporter": "python",
   "pygments_lexer": "ipython3",
   "version": "3.8.5"
  }
 },
 "nbformat": 4,
 "nbformat_minor": 4
}
