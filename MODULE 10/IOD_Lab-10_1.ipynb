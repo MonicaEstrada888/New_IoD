{
 "cells": [
  {
   "cell_type": "markdown",
   "metadata": {
    "colab_type": "text",
    "id": "gn3SG1yo1KdV"
   },
   "source": [
    "<div>\n",
    "<img src=https://www.institutedata.com/wp-content/uploads/2019/10/iod_h_tp_primary_c.svg width=\"300\">\n",
    "</div>"
   ]
  },
  {
   "cell_type": "markdown",
   "metadata": {
    "colab_type": "text",
    "id": "g-SD7a9X1KdY"
   },
   "source": [
    "# Lab 10.1: NN with Keras\n",
    "INSTRUCTIONS:\n",
    "- Read the guides and hints, then create the necessary analysis and code to find an answer and conclusion for the task below.\n",
    "- **NOTE**: This is a Regression problem. Consider the appropriate:\n",
    "    - Activation function\n",
    "    - Loss/Cost Function\n",
    "    - Metrics"
   ]
  },
  {
   "cell_type": "markdown",
   "metadata": {
    "colab_type": "text",
    "id": "ENgfRnvL1Kdc"
   },
   "source": [
    "### Import libraries"
   ]
  },
  {
   "cell_type": "code",
   "execution_count": 16,
   "metadata": {
    "colab": {},
    "colab_type": "code",
    "id": "Z9H465X-1Kde"
   },
   "outputs": [
    {
     "name": "stdout",
     "output_type": "stream",
     "text": [
      "Keras version: 2.4.0\n",
      "Tensorflow version: 2.4.1\n",
      "Sklearn version: 0.24.1\n"
     ]
    }
   ],
   "source": [
    "# insert code here\n",
    "from numpy import loadtxt\n",
    "\n",
    "%matplotlib inline\n",
    "import matplotlib.pyplot as plt\n",
    "\n",
    "import tensorflow as tf\n",
    "from tensorflow import keras\n",
    "\n",
    "# Checking keras and tensorflow versions\n",
    "print(\"Keras version:\", keras.__version__)\n",
    "print(\"Tensorflow version:\", tf.__version__)\n",
    "\n",
    "# Import keras\n",
    "from keras.models import Sequential\n",
    "from keras.layers import Dense\n",
    "\n",
    "# Importing sklearn and Checking sklearn version\n",
    "import sklearn\n",
    "print (\"Sklearn version:\", sklearn.__version__)\n",
    "from sklearn.model_selection import train_test_split\n",
    "from sklearn.metrics import r2_score\n",
    "\n",
    "from keras.utils import to_categorical\n",
    "\n",
    "import numpy as np\n",
    "import urllib"
   ]
  },
  {
   "cell_type": "markdown",
   "metadata": {
    "colab_type": "text",
    "id": "5FHh910J1Kdm"
   },
   "source": [
    "### Load data\n",
    "Load the Diabetes dataset from **SciKit-Learn**."
   ]
  },
  {
   "cell_type": "code",
   "execution_count": 3,
   "metadata": {},
   "outputs": [],
   "source": [
    "# insert code here\n",
    "from sklearn.datasets import load_diabetes"
   ]
  },
  {
   "cell_type": "code",
   "execution_count": 4,
   "metadata": {},
   "outputs": [
    {
     "data": {
      "text/plain": [
       "<function sklearn.datasets._base.load_diabetes(*, return_X_y=False, as_frame=False)>"
      ]
     },
     "execution_count": 4,
     "metadata": {},
     "output_type": "execute_result"
    }
   ],
   "source": [
    "load_diabetes"
   ]
  },
  {
   "cell_type": "code",
   "execution_count": 5,
   "metadata": {},
   "outputs": [],
   "source": [
    "#Load the dataset\n",
    "diabetes = load_diabetes()"
   ]
  },
  {
   "cell_type": "code",
   "execution_count": 35,
   "metadata": {},
   "outputs": [
    {
     "name": "stdout",
     "output_type": "stream",
     "text": [
      ".. _diabetes_dataset:\n",
      "\n",
      "Diabetes dataset\n",
      "----------------\n",
      "\n",
      "Ten baseline variables, age, sex, body mass index, average blood\n",
      "pressure, and six blood serum measurements were obtained for each of n =\n",
      "442 diabetes patients, as well as the response of interest, a\n",
      "quantitative measure of disease progression one year after baseline.\n",
      "\n",
      "**Data Set Characteristics:**\n",
      "\n",
      "  :Number of Instances: 442\n",
      "\n",
      "  :Number of Attributes: First 10 columns are numeric predictive values\n",
      "\n",
      "  :Target: Column 11 is a quantitative measure of disease progression one year after baseline\n",
      "\n",
      "  :Attribute Information:\n",
      "      - age     age in years\n",
      "      - sex\n",
      "      - bmi     body mass index\n",
      "      - bp      average blood pressure\n",
      "      - s1      tc, T-Cells (a type of white blood cells)\n",
      "      - s2      ldl, low-density lipoproteins\n",
      "      - s3      hdl, high-density lipoproteins\n",
      "      - s4      tch, thyroid stimulating hormone\n",
      "      - s5      ltg, lamotrigine\n",
      "      - s6      glu, blood sugar level\n",
      "\n",
      "Note: Each of these 10 feature variables have been mean centered and scaled by the standard deviation times `n_samples` (i.e. the sum of squares of each column totals 1).\n",
      "\n",
      "Source URL:\n",
      "https://www4.stat.ncsu.edu/~boos/var.select/diabetes.html\n",
      "\n",
      "For more information see:\n",
      "Bradley Efron, Trevor Hastie, Iain Johnstone and Robert Tibshirani (2004) \"Least Angle Regression,\" Annals of Statistics (with discussion), 407-499.\n",
      "(https://web.stanford.edu/~hastie/Papers/LARS/LeastAngle_2002.pdf)\n"
     ]
    }
   ],
   "source": [
    "# To know more about the dataset\n",
    "print(diabetes.DESCR)"
   ]
  },
  {
   "cell_type": "markdown",
   "metadata": {
    "colab_type": "text",
    "id": "xR_yLpR01Kdr"
   },
   "source": [
    "### Prepare input data"
   ]
  },
  {
   "cell_type": "code",
   "execution_count": 6,
   "metadata": {
    "colab": {},
    "colab_type": "code",
    "id": "Sp2mf2bB1Kds"
   },
   "outputs": [
    {
     "name": "stdout",
     "output_type": "stream",
     "text": [
      "X is a <class 'numpy.ndarray'>\n",
      "X has 442 rows and 10 columns\n",
      "First 8 values in y:  [151.  75. 141. 206. 135.  97. 138.  63.]\n"
     ]
    }
   ],
   "source": [
    "# Input (X)\n",
    "X = diabetes.data\n",
    "\n",
    "# X data shape\n",
    "print(\"X is a\", type(X))\n",
    "\n",
    "# Rows and columns shape\n",
    "print(\"X has {} rows and {} columns\".format(X.shape[0], X.shape[1]))\n",
    "\n",
    "# X columns as n_cols\n",
    "n_cols = X.shape[1]\n",
    "\n",
    "# output (y)\n",
    "y = diabetes.target\n",
    "\n",
    "print(\"First 8 values in y: \", y[:8])"
   ]
  },
  {
   "cell_type": "code",
   "execution_count": 8,
   "metadata": {},
   "outputs": [
    {
     "data": {
      "text/plain": [
       "(442, 10)"
      ]
     },
     "execution_count": 8,
     "metadata": {},
     "output_type": "execute_result"
    }
   ],
   "source": [
    "X.shape"
   ]
  },
  {
   "cell_type": "code",
   "execution_count": 9,
   "metadata": {},
   "outputs": [
    {
     "data": {
      "text/plain": [
       "10"
      ]
     },
     "execution_count": 9,
     "metadata": {},
     "output_type": "execute_result"
    }
   ],
   "source": [
    "# Rechecking the number of columns\n",
    "n_cols"
   ]
  },
  {
   "cell_type": "code",
   "execution_count": 48,
   "metadata": {},
   "outputs": [
    {
     "data": {
      "text/plain": [
       "array([ 0.03807591,  0.05068012,  0.06169621,  0.02187235, -0.0442235 ,\n",
       "       -0.03482076, -0.04340085, -0.00259226,  0.01990842, -0.01764613])"
      ]
     },
     "execution_count": 48,
     "metadata": {},
     "output_type": "execute_result"
    }
   ],
   "source": [
    "# Checking the first row of input columns\n",
    "X[0]"
   ]
  },
  {
   "cell_type": "code",
   "execution_count": 10,
   "metadata": {},
   "outputs": [
    {
     "data": {
      "text/plain": [
       "442"
      ]
     },
     "execution_count": 10,
     "metadata": {},
     "output_type": "execute_result"
    }
   ],
   "source": [
    "# Checking number of observations in output variable\n",
    "len(y)"
   ]
  },
  {
   "cell_type": "code",
   "execution_count": 19,
   "metadata": {
    "scrolled": true
   },
   "outputs": [
    {
     "data": {
      "text/plain": [
       "array([151.,  75., 141., 206., 135.,  97., 138.,  63., 110., 310., 101.,\n",
       "        69., 179., 185., 118., 171., 166., 144.,  97., 168.,  68.,  49.,\n",
       "        68., 245., 184., 202., 137.,  85., 131., 283., 129.,  59., 341.,\n",
       "        87.,  65., 102., 265., 276., 252.,  90., 100.,  55.,  61.,  92.,\n",
       "       259.,  53., 190., 142.,  75., 142., 155., 225.,  59., 104., 182.,\n",
       "       128.,  52.,  37., 170., 170.,  61., 144.,  52., 128.,  71., 163.,\n",
       "       150.,  97., 160., 178.,  48., 270., 202., 111.,  85.,  42., 170.,\n",
       "       200., 252., 113., 143.,  51.,  52., 210.,  65., 141.,  55., 134.,\n",
       "        42., 111.,  98., 164.,  48.,  96.,  90., 162., 150., 279.,  92.,\n",
       "        83., 128., 102., 302., 198.,  95.,  53., 134., 144., 232.,  81.,\n",
       "       104.,  59., 246., 297., 258., 229., 275., 281., 179., 200., 200.,\n",
       "       173., 180.,  84., 121., 161.,  99., 109., 115., 268., 274., 158.,\n",
       "       107.,  83., 103., 272.,  85., 280., 336., 281., 118., 317., 235.,\n",
       "        60., 174., 259., 178., 128.,  96., 126., 288.,  88., 292.,  71.,\n",
       "       197., 186.,  25.,  84.,  96., 195.,  53., 217., 172., 131., 214.,\n",
       "        59.,  70., 220., 268., 152.,  47.,  74., 295., 101., 151., 127.,\n",
       "       237., 225.,  81., 151., 107.,  64., 138., 185., 265., 101., 137.,\n",
       "       143., 141.,  79., 292., 178.,  91., 116.,  86., 122.,  72., 129.,\n",
       "       142.,  90., 158.,  39., 196., 222., 277.,  99., 196., 202., 155.,\n",
       "        77., 191.,  70.,  73.,  49.,  65., 263., 248., 296., 214., 185.,\n",
       "        78.,  93., 252., 150.,  77., 208.,  77., 108., 160.,  53., 220.,\n",
       "       154., 259.,  90., 246., 124.,  67.,  72., 257., 262., 275., 177.,\n",
       "        71.,  47., 187., 125.,  78.,  51., 258., 215., 303., 243.,  91.,\n",
       "       150., 310., 153., 346.,  63.,  89.,  50.,  39., 103., 308., 116.,\n",
       "       145.,  74.,  45., 115., 264.,  87., 202., 127., 182., 241.,  66.,\n",
       "        94., 283.,  64., 102., 200., 265.,  94., 230., 181., 156., 233.,\n",
       "        60., 219.,  80.,  68., 332., 248.,  84., 200.,  55.,  85.,  89.,\n",
       "        31., 129.,  83., 275.,  65., 198., 236., 253., 124.,  44., 172.,\n",
       "       114., 142., 109., 180., 144., 163., 147.,  97., 220., 190., 109.,\n",
       "       191., 122., 230., 242., 248., 249., 192., 131., 237.,  78., 135.,\n",
       "       244., 199., 270., 164.,  72.,  96., 306.,  91., 214.,  95., 216.,\n",
       "       263., 178., 113., 200., 139., 139.,  88., 148.,  88., 243.,  71.,\n",
       "        77., 109., 272.,  60.,  54., 221.,  90., 311., 281., 182., 321.,\n",
       "        58., 262., 206., 233., 242., 123., 167.,  63., 197.,  71., 168.,\n",
       "       140., 217., 121., 235., 245.,  40.,  52., 104., 132.,  88.,  69.,\n",
       "       219.,  72., 201., 110.,  51., 277.,  63., 118.,  69., 273., 258.,\n",
       "        43., 198., 242., 232., 175.,  93., 168., 275., 293., 281.,  72.,\n",
       "       140., 189., 181., 209., 136., 261., 113., 131., 174., 257.,  55.,\n",
       "        84.,  42., 146., 212., 233.,  91., 111., 152., 120.,  67., 310.,\n",
       "        94., 183.,  66., 173.,  72.,  49.,  64.,  48., 178., 104., 132.,\n",
       "       220.,  57.])"
      ]
     },
     "execution_count": 19,
     "metadata": {},
     "output_type": "execute_result"
    }
   ],
   "source": [
    "y"
   ]
  },
  {
   "cell_type": "markdown",
   "metadata": {
    "colab_type": "text",
    "id": "j1Vsh6cm1Kdv"
   },
   "source": [
    "### Split the data (training/test)"
   ]
  },
  {
   "cell_type": "code",
   "execution_count": 43,
   "metadata": {
    "colab": {},
    "colab_type": "code",
    "id": "O341llJz1Kdw"
   },
   "outputs": [],
   "source": [
    "# Split data\n",
    "X_train, X_test, y_train, y_test = train_test_split(\n",
    "    X, y, \n",
    "    test_size=0.25, \n",
    "    random_state=42)"
   ]
  },
  {
   "cell_type": "markdown",
   "metadata": {
    "colab_type": "text",
    "id": "o4dJViJD1Kd0"
   },
   "source": [
    "### Create the model's architecture"
   ]
  },
  {
   "cell_type": "code",
   "execution_count": 44,
   "metadata": {
    "colab": {},
    "colab_type": "code",
    "id": "Tkgf_BLl1Kd1"
   },
   "outputs": [],
   "source": [
    "# insert code here\n",
    "# define the keras model\n",
    "model = Sequential()\n",
    "\n",
    "# The first line of code define the input or visible layer (dense layer) and the first hidden layer\n",
    "model.add(Dense(15, activation='relu', input_shape = (n_cols, )))\n",
    "\n",
    "# The second hidden layer has 5 nodes and uses the relu activation function.\n",
    "model.add(Dense(5, activation='relu'))\n",
    "\n",
    "# The output layer has one node and uses the linear activation function.\n",
    "model.add(Dense(1, activation='linear')) # comprising value in probabilities, not used for regression (for regression use linear), used for classification. If target is binary, the output layer can be sigmoid (yes or no)"
   ]
  },
  {
   "cell_type": "code",
   "execution_count": 45,
   "metadata": {},
   "outputs": [
    {
     "name": "stdout",
     "output_type": "stream",
     "text": [
      "Model: \"sequential_1\"\n",
      "_________________________________________________________________\n",
      "Layer (type)                 Output Shape              Param #   \n",
      "=================================================================\n",
      "dense_3 (Dense)              (None, 15)                165       \n",
      "_________________________________________________________________\n",
      "dense_4 (Dense)              (None, 5)                 80        \n",
      "_________________________________________________________________\n",
      "dense_5 (Dense)              (None, 1)                 6         \n",
      "=================================================================\n",
      "Total params: 251\n",
      "Trainable params: 251\n",
      "Non-trainable params: 0\n",
      "_________________________________________________________________\n"
     ]
    }
   ],
   "source": [
    "model.summary()"
   ]
  },
  {
   "cell_type": "markdown",
   "metadata": {
    "colab_type": "text",
    "id": "5hQTS42V1Kd4"
   },
   "source": [
    "### Compile the model"
   ]
  },
  {
   "cell_type": "code",
   "execution_count": 46,
   "metadata": {
    "colab": {},
    "colab_type": "code",
    "id": "BvLsoanF1Kd5"
   },
   "outputs": [],
   "source": [
    "# insert code here. Mean Squarred Error (MSE) is the default loss and also the metrics to evaluate performance used for regression problems\n",
    "model.compile(loss='mse', optimizer='adam', metrics=['mse'])"
   ]
  },
  {
   "cell_type": "markdown",
   "metadata": {
    "colab_type": "text",
    "id": "6KPQbnEj1Kd7"
   },
   "source": [
    "### Fit the training data"
   ]
  },
  {
   "cell_type": "code",
   "execution_count": 47,
   "metadata": {},
   "outputs": [],
   "source": [
    "# Fit the model\n",
    "history = model.fit(\n",
    "    X_train, \n",
    "    y_train, \n",
    "    validation_split = 0.25,\n",
    "    epochs=100, \n",
    "    batch_size=10,\n",
    "    verbose=0)"
   ]
  },
  {
   "cell_type": "markdown",
   "metadata": {
    "colab_type": "text",
    "id": "CR-kCu3c1Kd-"
   },
   "source": [
    "### Create predictions"
   ]
  },
  {
   "cell_type": "code",
   "execution_count": 48,
   "metadata": {
    "colab": {},
    "colab_type": "code",
    "id": "wkywKqPg1Kd-"
   },
   "outputs": [],
   "source": [
    "# insert code here\n",
    "predictions = model.predict_classes(X_test)"
   ]
  },
  {
   "cell_type": "markdown",
   "metadata": {
    "colab_type": "text",
    "id": "-unEmrGo1KeA"
   },
   "source": [
    "### Evaluate the model"
   ]
  },
  {
   "cell_type": "code",
   "execution_count": 49,
   "metadata": {
    "colab": {},
    "colab_type": "code",
    "id": "QCIVpVrG1KeB"
   },
   "outputs": [
    {
     "name": "stdout",
     "output_type": "stream",
     "text": [
      "4/4 [==============================] - 0s 2ms/step - loss: 3105.4805 - mse: 3105.4805\n",
      "\n",
      "Test loss: 3105.48\n"
     ]
    }
   ],
   "source": [
    "# insert code here\n",
    "score = model.evaluate(X_test, y_test)\n",
    "print('\\nTest loss: %.2f' % score[0])"
   ]
  },
  {
   "cell_type": "code",
   "execution_count": 50,
   "metadata": {},
   "outputs": [
    {
     "data": {
      "text/plain": [
       "[3105.48046875, 3105.48046875]"
      ]
     },
     "execution_count": 50,
     "metadata": {},
     "output_type": "execute_result"
    }
   ],
   "source": [
    "# score\n",
    "score"
   ]
  },
  {
   "cell_type": "code",
   "execution_count": 51,
   "metadata": {},
   "outputs": [
    {
     "data": {
      "text/plain": [
       "55.7268379575766"
      ]
     },
     "execution_count": 51,
     "metadata": {},
     "output_type": "execute_result"
    }
   ],
   "source": [
    "# Find RMSE\n",
    "score[0] ** (1/2)"
   ]
  },
  {
   "cell_type": "code",
   "execution_count": 52,
   "metadata": {},
   "outputs": [
    {
     "data": {
      "text/plain": [
       "152.13348416289594"
      ]
     },
     "execution_count": 52,
     "metadata": {},
     "output_type": "execute_result"
    }
   ],
   "source": [
    "y.mean()"
   ]
  },
  {
   "cell_type": "code",
   "execution_count": 53,
   "metadata": {},
   "outputs": [
    {
     "data": {
      "text/plain": [
       "77.00574586945044"
      ]
     },
     "execution_count": 53,
     "metadata": {},
     "output_type": "execute_result"
    }
   ],
   "source": [
    "y.std()"
   ]
  },
  {
   "cell_type": "code",
   "execution_count": 54,
   "metadata": {},
   "outputs": [
    {
     "data": {
      "text/plain": [
       "25.0"
      ]
     },
     "execution_count": 54,
     "metadata": {},
     "output_type": "execute_result"
    }
   ],
   "source": [
    "y.min()"
   ]
  },
  {
   "cell_type": "code",
   "execution_count": 55,
   "metadata": {},
   "outputs": [
    {
     "data": {
      "text/plain": [
       "346.0"
      ]
     },
     "execution_count": 55,
     "metadata": {},
     "output_type": "execute_result"
    }
   ],
   "source": [
    "y.max()"
   ]
  },
  {
   "cell_type": "markdown",
   "metadata": {
    "colab_type": "text",
    "id": "sSlqjs7e1KeD"
   },
   "source": [
    "### Visualisation of cost"
   ]
  },
  {
   "cell_type": "code",
   "execution_count": 56,
   "metadata": {
    "colab": {},
    "colab_type": "code",
    "id": "1F6hYpNh1KeE",
    "scrolled": true
   },
   "outputs": [
    {
     "data": {
      "text/plain": [
       "{'loss': [31546.123046875,\n",
       "  31516.27734375,\n",
       "  31466.62109375,\n",
       "  31405.7421875,\n",
       "  31328.0390625,\n",
       "  31233.25390625,\n",
       "  31116.09765625,\n",
       "  30977.517578125,\n",
       "  30812.880859375,\n",
       "  30617.876953125,\n",
       "  30394.615234375,\n",
       "  30137.294921875,\n",
       "  29845.943359375,\n",
       "  29519.326171875,\n",
       "  29149.490234375,\n",
       "  28750.708984375,\n",
       "  28301.462890625,\n",
       "  27812.45703125,\n",
       "  27243.77734375,\n",
       "  26579.8984375,\n",
       "  25838.591796875,\n",
       "  25030.994140625,\n",
       "  24148.69140625,\n",
       "  23211.451171875,\n",
       "  22244.365234375,\n",
       "  21208.41796875,\n",
       "  20150.837890625,\n",
       "  19063.30078125,\n",
       "  17983.287109375,\n",
       "  16879.775390625,\n",
       "  15781.8447265625,\n",
       "  14715.158203125,\n",
       "  13648.880859375,\n",
       "  12641.408203125,\n",
       "  11680.4462890625,\n",
       "  10751.0703125,\n",
       "  9920.810546875,\n",
       "  9123.3896484375,\n",
       "  8402.0654296875,\n",
       "  7754.4970703125,\n",
       "  7170.1474609375,\n",
       "  6666.052734375,\n",
       "  6209.8876953125,\n",
       "  5830.08056640625,\n",
       "  5496.9228515625,\n",
       "  5228.19091796875,\n",
       "  5011.51220703125,\n",
       "  4808.10009765625,\n",
       "  4654.56689453125,\n",
       "  4531.38623046875,\n",
       "  4429.4189453125,\n",
       "  4343.5849609375,\n",
       "  4276.4736328125,\n",
       "  4216.2001953125,\n",
       "  4172.4892578125,\n",
       "  4125.580078125,\n",
       "  4089.783935546875,\n",
       "  4058.705078125,\n",
       "  4025.25146484375,\n",
       "  3998.62060546875,\n",
       "  3972.2490234375,\n",
       "  3948.12158203125,\n",
       "  3922.341796875,\n",
       "  3898.873046875,\n",
       "  3876.2509765625,\n",
       "  3854.855224609375,\n",
       "  3835.766357421875,\n",
       "  3812.8193359375,\n",
       "  3793.927001953125,\n",
       "  3772.7431640625,\n",
       "  3753.04345703125,\n",
       "  3735.637451171875,\n",
       "  3717.563720703125,\n",
       "  3697.03369140625,\n",
       "  3681.373046875,\n",
       "  3662.107421875,\n",
       "  3645.169921875,\n",
       "  3628.25341796875,\n",
       "  3613.015869140625,\n",
       "  3599.89404296875,\n",
       "  3583.8271484375,\n",
       "  3563.440185546875,\n",
       "  3549.666748046875,\n",
       "  3533.538330078125,\n",
       "  3520.056396484375,\n",
       "  3508.15673828125,\n",
       "  3492.28662109375,\n",
       "  3478.26123046875,\n",
       "  3465.310546875,\n",
       "  3452.466552734375,\n",
       "  3437.2490234375,\n",
       "  3425.201171875,\n",
       "  3412.3720703125,\n",
       "  3401.1416015625,\n",
       "  3389.2607421875,\n",
       "  3376.811767578125,\n",
       "  3364.98681640625,\n",
       "  3354.031005859375,\n",
       "  3348.784423828125,\n",
       "  3332.789306640625],\n",
       " 'mse': [31546.123046875,\n",
       "  31516.27734375,\n",
       "  31466.62109375,\n",
       "  31405.7421875,\n",
       "  31328.0390625,\n",
       "  31233.25390625,\n",
       "  31116.09765625,\n",
       "  30977.517578125,\n",
       "  30812.880859375,\n",
       "  30617.876953125,\n",
       "  30394.615234375,\n",
       "  30137.294921875,\n",
       "  29845.943359375,\n",
       "  29519.326171875,\n",
       "  29149.490234375,\n",
       "  28750.708984375,\n",
       "  28301.462890625,\n",
       "  27812.45703125,\n",
       "  27243.783203125,\n",
       "  26579.8984375,\n",
       "  25838.591796875,\n",
       "  25030.99609375,\n",
       "  24148.69140625,\n",
       "  23211.451171875,\n",
       "  22244.365234375,\n",
       "  21208.41796875,\n",
       "  20150.837890625,\n",
       "  19063.30078125,\n",
       "  17983.287109375,\n",
       "  16879.775390625,\n",
       "  15781.8447265625,\n",
       "  14715.158203125,\n",
       "  13648.880859375,\n",
       "  12641.408203125,\n",
       "  11680.4462890625,\n",
       "  10751.0703125,\n",
       "  9920.810546875,\n",
       "  9123.3896484375,\n",
       "  8402.0654296875,\n",
       "  7754.49755859375,\n",
       "  7170.1474609375,\n",
       "  6666.052734375,\n",
       "  6209.8876953125,\n",
       "  5830.08056640625,\n",
       "  5496.9228515625,\n",
       "  5228.19091796875,\n",
       "  5011.51220703125,\n",
       "  4808.10009765625,\n",
       "  4654.56689453125,\n",
       "  4531.38623046875,\n",
       "  4429.4189453125,\n",
       "  4343.5849609375,\n",
       "  4276.4736328125,\n",
       "  4216.2001953125,\n",
       "  4172.4892578125,\n",
       "  4125.580078125,\n",
       "  4089.783935546875,\n",
       "  4058.705078125,\n",
       "  4025.25146484375,\n",
       "  3998.62060546875,\n",
       "  3972.2490234375,\n",
       "  3948.12158203125,\n",
       "  3922.341796875,\n",
       "  3898.873046875,\n",
       "  3876.2509765625,\n",
       "  3854.855224609375,\n",
       "  3835.766357421875,\n",
       "  3812.819580078125,\n",
       "  3793.927001953125,\n",
       "  3772.7431640625,\n",
       "  3753.04345703125,\n",
       "  3735.637451171875,\n",
       "  3717.563720703125,\n",
       "  3697.03369140625,\n",
       "  3681.373046875,\n",
       "  3662.107421875,\n",
       "  3645.169921875,\n",
       "  3628.25341796875,\n",
       "  3613.015869140625,\n",
       "  3599.89404296875,\n",
       "  3583.8271484375,\n",
       "  3563.440185546875,\n",
       "  3549.666748046875,\n",
       "  3533.538330078125,\n",
       "  3520.056396484375,\n",
       "  3508.15673828125,\n",
       "  3492.28662109375,\n",
       "  3478.26123046875,\n",
       "  3465.310546875,\n",
       "  3452.466552734375,\n",
       "  3437.2490234375,\n",
       "  3425.201171875,\n",
       "  3412.3720703125,\n",
       "  3401.1416015625,\n",
       "  3389.2607421875,\n",
       "  3376.811767578125,\n",
       "  3364.98681640625,\n",
       "  3354.031005859375,\n",
       "  3348.784423828125,\n",
       "  3332.789306640625],\n",
       " 'val_loss': [24807.94921875,\n",
       "  24768.884765625,\n",
       "  24721.494140625,\n",
       "  24661.33203125,\n",
       "  24587.515625,\n",
       "  24497.54296875,\n",
       "  24390.0625,\n",
       "  24260.904296875,\n",
       "  24108.826171875,\n",
       "  23935.044921875,\n",
       "  23731.3984375,\n",
       "  23499.970703125,\n",
       "  23239.0234375,\n",
       "  22946.052734375,\n",
       "  22627.669921875,\n",
       "  22269.033203125,\n",
       "  21884.29296875,\n",
       "  21445.62109375,\n",
       "  20927.58984375,\n",
       "  20342.154296875,\n",
       "  19696.90625,\n",
       "  18994.826171875,\n",
       "  18252.361328125,\n",
       "  17472.0234375,\n",
       "  16628.7109375,\n",
       "  15784.2021484375,\n",
       "  14927.81640625,\n",
       "  14064.7841796875,\n",
       "  13169.7255859375,\n",
       "  12299.4130859375,\n",
       "  11457.2255859375,\n",
       "  10623.779296875,\n",
       "  9846.22265625,\n",
       "  9087.9443359375,\n",
       "  8359.2548828125,\n",
       "  7722.5234375,\n",
       "  7111.35009765625,\n",
       "  6586.1552734375,\n",
       "  6126.140625,\n",
       "  5721.32958984375,\n",
       "  5373.826171875,\n",
       "  5067.333984375,\n",
       "  4830.18505859375,\n",
       "  4633.51123046875,\n",
       "  4489.0341796875,\n",
       "  4372.57470703125,\n",
       "  4280.18896484375,\n",
       "  4224.02734375,\n",
       "  4185.607421875,\n",
       "  4159.40478515625,\n",
       "  4142.50390625,\n",
       "  4133.884765625,\n",
       "  4132.43505859375,\n",
       "  4128.53369140625,\n",
       "  4131.21923828125,\n",
       "  4124.26123046875,\n",
       "  4119.60302734375,\n",
       "  4125.80615234375,\n",
       "  4116.57958984375,\n",
       "  4111.0107421875,\n",
       "  4101.2431640625,\n",
       "  4098.81884765625,\n",
       "  4089.791748046875,\n",
       "  4072.787353515625,\n",
       "  4062.438232421875,\n",
       "  4055.237548828125,\n",
       "  4048.6005859375,\n",
       "  4026.641845703125,\n",
       "  4016.544921875,\n",
       "  4008.471435546875,\n",
       "  3993.90576171875,\n",
       "  3980.298583984375,\n",
       "  3976.6201171875,\n",
       "  3960.199462890625,\n",
       "  3942.6708984375,\n",
       "  3943.14306640625,\n",
       "  3934.274169921875,\n",
       "  3919.871337890625,\n",
       "  3904.6513671875,\n",
       "  3890.627197265625,\n",
       "  3889.82373046875,\n",
       "  3876.30419921875,\n",
       "  3872.028564453125,\n",
       "  3862.203369140625,\n",
       "  3850.595947265625,\n",
       "  3832.472900390625,\n",
       "  3834.396728515625,\n",
       "  3830.639404296875,\n",
       "  3817.2568359375,\n",
       "  3817.396728515625,\n",
       "  3803.8701171875,\n",
       "  3788.713134765625,\n",
       "  3781.015380859375,\n",
       "  3774.928466796875,\n",
       "  3770.246337890625,\n",
       "  3763.4658203125,\n",
       "  3754.98193359375,\n",
       "  3748.4443359375,\n",
       "  3756.715087890625,\n",
       "  3735.53662109375],\n",
       " 'val_mse': [24807.947265625,\n",
       "  24768.884765625,\n",
       "  24721.494140625,\n",
       "  24661.33203125,\n",
       "  24587.515625,\n",
       "  24497.54296875,\n",
       "  24390.0625,\n",
       "  24260.904296875,\n",
       "  24108.826171875,\n",
       "  23935.04296875,\n",
       "  23731.3984375,\n",
       "  23499.970703125,\n",
       "  23239.0234375,\n",
       "  22946.052734375,\n",
       "  22627.669921875,\n",
       "  22269.033203125,\n",
       "  21884.29296875,\n",
       "  21445.62109375,\n",
       "  20927.58984375,\n",
       "  20342.154296875,\n",
       "  19696.90625,\n",
       "  18994.826171875,\n",
       "  18252.361328125,\n",
       "  17472.0234375,\n",
       "  16628.7109375,\n",
       "  15784.2021484375,\n",
       "  14927.81640625,\n",
       "  14064.7841796875,\n",
       "  13169.7255859375,\n",
       "  12299.4130859375,\n",
       "  11457.2255859375,\n",
       "  10623.779296875,\n",
       "  9846.22265625,\n",
       "  9087.9443359375,\n",
       "  8359.2548828125,\n",
       "  7722.5234375,\n",
       "  7111.35009765625,\n",
       "  6586.1552734375,\n",
       "  6126.140625,\n",
       "  5721.32958984375,\n",
       "  5373.826171875,\n",
       "  5067.333984375,\n",
       "  4830.18505859375,\n",
       "  4633.51123046875,\n",
       "  4489.0341796875,\n",
       "  4372.57470703125,\n",
       "  4280.18896484375,\n",
       "  4224.02734375,\n",
       "  4185.607421875,\n",
       "  4159.40478515625,\n",
       "  4142.50390625,\n",
       "  4133.884765625,\n",
       "  4132.43505859375,\n",
       "  4128.53369140625,\n",
       "  4131.21923828125,\n",
       "  4124.26123046875,\n",
       "  4119.60302734375,\n",
       "  4125.80615234375,\n",
       "  4116.57958984375,\n",
       "  4111.0107421875,\n",
       "  4101.2431640625,\n",
       "  4098.81884765625,\n",
       "  4089.791748046875,\n",
       "  4072.78759765625,\n",
       "  4062.438232421875,\n",
       "  4055.237548828125,\n",
       "  4048.6005859375,\n",
       "  4026.641845703125,\n",
       "  4016.544921875,\n",
       "  4008.471435546875,\n",
       "  3993.90576171875,\n",
       "  3980.298828125,\n",
       "  3976.6201171875,\n",
       "  3960.199462890625,\n",
       "  3942.6708984375,\n",
       "  3943.14306640625,\n",
       "  3934.274169921875,\n",
       "  3919.871337890625,\n",
       "  3904.65087890625,\n",
       "  3890.627197265625,\n",
       "  3889.82373046875,\n",
       "  3876.30419921875,\n",
       "  3872.028564453125,\n",
       "  3862.203369140625,\n",
       "  3850.595947265625,\n",
       "  3832.472900390625,\n",
       "  3834.396728515625,\n",
       "  3830.639404296875,\n",
       "  3817.2568359375,\n",
       "  3817.396728515625,\n",
       "  3803.869384765625,\n",
       "  3788.713134765625,\n",
       "  3781.015380859375,\n",
       "  3774.928466796875,\n",
       "  3770.246337890625,\n",
       "  3763.4658203125,\n",
       "  3754.98193359375,\n",
       "  3748.4443359375,\n",
       "  3756.715087890625,\n",
       "  3735.53662109375]}"
      ]
     },
     "execution_count": 56,
     "metadata": {},
     "output_type": "execute_result"
    }
   ],
   "source": [
    "# insert code here\n",
    "history.history"
   ]
  },
  {
   "cell_type": "code",
   "execution_count": 57,
   "metadata": {},
   "outputs": [
    {
     "data": {
      "text/plain": [
       "[24807.947265625,\n",
       " 24768.884765625,\n",
       " 24721.494140625,\n",
       " 24661.33203125,\n",
       " 24587.515625,\n",
       " 24497.54296875,\n",
       " 24390.0625,\n",
       " 24260.904296875,\n",
       " 24108.826171875,\n",
       " 23935.04296875,\n",
       " 23731.3984375,\n",
       " 23499.970703125,\n",
       " 23239.0234375,\n",
       " 22946.052734375,\n",
       " 22627.669921875,\n",
       " 22269.033203125,\n",
       " 21884.29296875,\n",
       " 21445.62109375,\n",
       " 20927.58984375,\n",
       " 20342.154296875,\n",
       " 19696.90625,\n",
       " 18994.826171875,\n",
       " 18252.361328125,\n",
       " 17472.0234375,\n",
       " 16628.7109375,\n",
       " 15784.2021484375,\n",
       " 14927.81640625,\n",
       " 14064.7841796875,\n",
       " 13169.7255859375,\n",
       " 12299.4130859375,\n",
       " 11457.2255859375,\n",
       " 10623.779296875,\n",
       " 9846.22265625,\n",
       " 9087.9443359375,\n",
       " 8359.2548828125,\n",
       " 7722.5234375,\n",
       " 7111.35009765625,\n",
       " 6586.1552734375,\n",
       " 6126.140625,\n",
       " 5721.32958984375,\n",
       " 5373.826171875,\n",
       " 5067.333984375,\n",
       " 4830.18505859375,\n",
       " 4633.51123046875,\n",
       " 4489.0341796875,\n",
       " 4372.57470703125,\n",
       " 4280.18896484375,\n",
       " 4224.02734375,\n",
       " 4185.607421875,\n",
       " 4159.40478515625,\n",
       " 4142.50390625,\n",
       " 4133.884765625,\n",
       " 4132.43505859375,\n",
       " 4128.53369140625,\n",
       " 4131.21923828125,\n",
       " 4124.26123046875,\n",
       " 4119.60302734375,\n",
       " 4125.80615234375,\n",
       " 4116.57958984375,\n",
       " 4111.0107421875,\n",
       " 4101.2431640625,\n",
       " 4098.81884765625,\n",
       " 4089.791748046875,\n",
       " 4072.78759765625,\n",
       " 4062.438232421875,\n",
       " 4055.237548828125,\n",
       " 4048.6005859375,\n",
       " 4026.641845703125,\n",
       " 4016.544921875,\n",
       " 4008.471435546875,\n",
       " 3993.90576171875,\n",
       " 3980.298828125,\n",
       " 3976.6201171875,\n",
       " 3960.199462890625,\n",
       " 3942.6708984375,\n",
       " 3943.14306640625,\n",
       " 3934.274169921875,\n",
       " 3919.871337890625,\n",
       " 3904.65087890625,\n",
       " 3890.627197265625,\n",
       " 3889.82373046875,\n",
       " 3876.30419921875,\n",
       " 3872.028564453125,\n",
       " 3862.203369140625,\n",
       " 3850.595947265625,\n",
       " 3832.472900390625,\n",
       " 3834.396728515625,\n",
       " 3830.639404296875,\n",
       " 3817.2568359375,\n",
       " 3817.396728515625,\n",
       " 3803.869384765625,\n",
       " 3788.713134765625,\n",
       " 3781.015380859375,\n",
       " 3774.928466796875,\n",
       " 3770.246337890625,\n",
       " 3763.4658203125,\n",
       " 3754.98193359375,\n",
       " 3748.4443359375,\n",
       " 3756.715087890625,\n",
       " 3735.53662109375]"
      ]
     },
     "execution_count": 57,
     "metadata": {},
     "output_type": "execute_result"
    }
   ],
   "source": [
    "history.history['val_mse']"
   ]
  },
  {
   "cell_type": "code",
   "execution_count": 58,
   "metadata": {},
   "outputs": [
    {
     "data": {
      "image/png": "[encoded data removed]",
      "text/plain": [
       "<Figure size 1296x432 with 2 Axes>"
      ]
     },
     "metadata": {
      "needs_background": "light"
     },
     "output_type": "display_data"
    }
   ],
   "source": [
    "fig, ax = plt.subplots(1, 2, figsize = (18, 6))\n",
    "fig.subplots_adjust(left = 0.02, right = 0.98, wspace = 0.2)\n",
    "\n",
    "plt.rcParams.update({'font.size': 12})\n",
    "\n",
    "# Plot training & validation accuracy values\n",
    "ax[0].plot(history.history['mse'], label = 'Training')\n",
    "ax[0].plot(history.history['val_mse'], label = 'Validation')\n",
    "ax[0].set_title('Model MSE')\n",
    "ax[0].set_ylabel('MSE')\n",
    "ax[0].set_xlabel('Epoch')\n",
    "ax[0].legend()\n",
    "\n",
    "# Plot training and validation loss values \n",
    "ax[1].plot(history.history['loss'], label = 'Training')\n",
    "ax[1].plot(history.history['val_loss'], label = 'Validation')\n",
    "ax[1].set_title('Model loss')\n",
    "ax[1].set_ylabel('Loss')\n",
    "ax[1].set_xlabel('Epoch')\n",
    "ax[1].legend()\n",
    "\n",
    "plt.show()"
   ]
  },
  {
   "cell_type": "markdown",
   "metadata": {
    "colab_type": "text",
    "id": "vQLzMZTM1KeG"
   },
   "source": [
    "### Visualisation of residuals"
   ]
  },
  {
   "cell_type": "code",
   "execution_count": 59,
   "metadata": {
    "colab": {},
    "colab_type": "code",
    "id": "opIulVSw1KeH"
   },
   "outputs": [],
   "source": [
    "# Calculate R2 and adjsuted R2\n",
    "r2 = r2_score(y_test, predictions)\n",
    "n, p = X.shape # sample size, number of explanatory variables\n",
    "adjusted_r2 = 1 - (1 - r2) * ((n - 1) / (n - p - 1))"
   ]
  },
  {
   "cell_type": "code",
   "execution_count": 60,
   "metadata": {},
   "outputs": [
    {
     "data": {
      "image/png": "[encoded data removed]",
      "text/plain": [
       "<Figure size 864x432 with 1 Axes>"
      ]
     },
     "metadata": {
      "needs_background": "light"
     },
     "output_type": "display_data"
    }
   ],
   "source": [
    "difference = predictions.flatten() - y_test\n",
    "d_mean = difference.mean()\n",
    "d_std = difference.std()\n",
    "n_pred = len(predictions)\n",
    "plt.figure(figsize = (12,6))\n",
    "plt.scatter(range(n_pred), difference, s = 15)\n",
    "plt.hlines(d_mean + d_std, 0, n_pred, 'r', lw=1, label = '$\\pm \\: std$')\n",
    "plt.hlines(d_mean, 0, n_pred, label= '$mean$')\n",
    "plt.hlines(d_mean - d_std, 0, n_pred, 'r', lw=1)\n",
    "\n",
    "plt.xlabel('Prediction')\n",
    "plt.ylabel('$\\hat y - y$')\n",
    "plt.legend(loc='lower right')\n",
    "\n",
    "plt.text(0, difference.max() * 0.95,\n",
    "        '$R^2: %.2f, \\: Adjusted \\: R^2: %.2f$' % (r2, adjusted_r2), fontsize=12)\n",
    "\n",
    "plt.show()"
   ]
  },
  {
   "cell_type": "markdown",
   "metadata": {
    "colab_type": "text",
    "id": "RERADKgNFq9T"
   },
   "source": [
    "\n",
    "\n",
    "---\n",
    "\n",
    "\n",
    "\n",
    "---\n",
    "\n",
    "\n",
    "\n",
    "> > > > > > > > > © 2021 Institute of Data\n",
    "\n",
    "\n",
    "---\n",
    "\n",
    "\n",
    "\n",
    "---\n",
    "\n",
    "\n",
    "\n"
   ]
  }
 ],
 "metadata": {
  "colab": {
   "collapsed_sections": [],
   "name": "DSIA Lab-10_1.ipynb",
   "provenance": []
  },
  "kernelspec": {
   "display_name": "Python 3",
   "language": "python",
   "name": "python3"
  },
  "language_info": {
   "codemirror_mode": {
    "name": "ipython",
    "version": 3
   },
   "file_extension": ".py",
   "mimetype": "text/x-python",
   "name": "python",
   "nbconvert_exporter": "python",
   "pygments_lexer": "ipython3",
   "version": "3.8.8"
  }
 },
 "nbformat": 4,
 "nbformat_minor": 1
}
